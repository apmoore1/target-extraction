{
  "nbformat": 4,
  "nbformat_minor": 0,
  "metadata": {
    "colab": {
      "name": "Anonymise.ipynb",
      "provenance": [],
      "collapsed_sections": [],
      "include_colab_link": true
    },
    "kernelspec": {
      "name": "python3",
      "display_name": "Python 3"
    }
  },
  "cells": [
    {
      "cell_type": "markdown",
      "metadata": {
        "id": "view-in-github",
        "colab_type": "text"
      },
      "source": [
        "<a href=\"https://colab.research.google.com/github/apmoore1/target-extraction/blob/master/tutorials/Anonymise.ipynb\" target=\"_parent\"><img src=\"https://colab.research.google.com/assets/colab-badge.svg\" alt=\"Open In Colab\"/></a>"
      ]
    },
    {
      "cell_type": "code",
      "metadata": {
        "id": "ITinXps7BPuN",
        "colab_type": "code",
        "colab": {}
      },
      "source": [
        "%%capture\n",
        "!pip install -U git+git://github.com/apmoore1/target-extraction.git@master#egg=target-extraction"
      ],
      "execution_count": 0,
      "outputs": []
    },
    {
      "cell_type": "markdown",
      "metadata": {
        "id": "KI4viEN-B7ZR",
        "colab_type": "text"
      },
      "source": [
        "# How to use the anonymise functionaility within TargetTextCollection and why\n",
        "\n",
        "The \"why\" is due to some of he Aspect/Target Based Sentiment Analysis (ABSA) datasets coming from sources that require you to sign a license. These datasets are free to use but do not allow you to redistribute the data such as the [SemEval 2014 task 4 datasets](http://metashare.ilsp.gr:8080/repository/browse/semeval-2014-absa-train-data-v20-annotation-guidelines/683b709298b811e3a0e2842b2b6a04d7c7a19307f18a4940beef6a6143f937f0/). Therefore to allow everyone to share results the anonymised functionaility was added to the TargetTextCollection.\n",
        "\n",
        "To explain the functionaility we are going to use the [Election Twitter dataset](https://figshare.com/articles/EACL_2017_-_Multi-target_UK_election_Twitter_sentiment_corpus/4479563/1) specifically the test set as it is the smallest split:"
      ]
    },
    {
      "cell_type": "code",
      "metadata": {
        "id": "m67Z-8ffBhi_",
        "colab_type": "code",
        "colab": {
          "base_uri": "https://localhost:8080/",
          "height": 156
        },
        "outputId": "31390514-ac39-4977-ec68-00cfeb4983a9"
      },
      "source": [
        "from target_extraction.dataset_parsers import wang_2017_election_twitter_test\n",
        "test_dataset = wang_2017_election_twitter_test()\n",
        "next(test_dataset.dict_iterator())"
      ],
      "execution_count": 2,
      "outputs": [
        {
          "output_type": "execute_result",
          "data": {
            "text/plain": [
              "{'categories': None,\n",
              " 'category_sentiments': None,\n",
              " 'spans': [Span(start=25, end=33), Span(start=73, end=83)],\n",
              " 'target_sentiments': ['neutral', 'neutral'],\n",
              " 'targets': ['economic', 'Budget2015'],\n",
              " 'text': \"Don't you kinda wish all economic news was delivered like this? #GE2015 #Budget2015 http://t.co/4fssrNqnyj\",\n",
              " 'text_id': '78336255642988544'}"
            ]
          },
          "metadata": {
            "tags": []
          },
          "execution_count": 2
        }
      ]
    },
    {
      "cell_type": "markdown",
      "metadata": {
        "id": "8Stv6zuOEs2H",
        "colab_type": "text"
      },
      "source": [
        "Above we can see one sentence with two targets example.\n",
        "\n",
        "In this notebook we are going to show how to:\n",
        "1. Anonymise a dataset\n",
        "2. de-anonymise a dataset\n",
        "\n",
        "## Anonymise a dataset\n",
        "\n",
        "Before anonymising the dataset we are going to add some metadata to explain what the dataset is. As we can see below currently we have no metadata only an empty name field:"
      ]
    },
    {
      "cell_type": "code",
      "metadata": {
        "id": "bOUkkg6VB0Mx",
        "colab_type": "code",
        "colab": {
          "base_uri": "https://localhost:8080/",
          "height": 34
        },
        "outputId": "4c265273-3527-4175-e7ec-e1f6e412ff26"
      },
      "source": [
        "test_dataset.metadata"
      ],
      "execution_count": 4,
      "outputs": [
        {
          "output_type": "execute_result",
          "data": {
            "text/plain": [
              "{'name': ''}"
            ]
          },
          "metadata": {
            "tags": []
          },
          "execution_count": 4
        }
      ]
    },
    {
      "cell_type": "markdown",
      "metadata": {
        "id": "nDyeVhH_FU7H",
        "colab_type": "text"
      },
      "source": [
        "Lets add a name to the metadata and the split of the dataset"
      ]
    },
    {
      "cell_type": "code",
      "metadata": {
        "id": "yCT_yKGtFRkb",
        "colab_type": "code",
        "colab": {
          "base_uri": "https://localhost:8080/",
          "height": 51
        },
        "outputId": "c08dba0a-d020-4e17-eac6-59607f8aad6b"
      },
      "source": [
        "test_dataset.name = 'Election'\n",
        "test_dataset.metadata['split'] = 'Test'\n",
        "print(f'Name attribute {test_dataset.name}')\n",
        "print(f'Metadata: {test_dataset.metadata}')"
      ],
      "execution_count": 5,
      "outputs": [
        {
          "output_type": "stream",
          "text": [
            "Name attribute Election\n",
            "Metadata: {'name': 'Election', 'split': 'Test'}\n"
          ],
          "name": "stdout"
        }
      ]
    },
    {
      "cell_type": "markdown",
      "metadata": {
        "id": "CocBRrUkGACt",
        "colab_type": "text"
      },
      "source": [
        "As we can see the `metadata` stores all of the meta information about the dataset including the name attribute.\n",
        "\n",
        "Now that we know some more about the TargetTextCollection we can move on to anonymising the dataset like so:"
      ]
    },
    {
      "cell_type": "code",
      "metadata": {
        "id": "RC4-_j6sXPcd",
        "colab_type": "code",
        "colab": {
          "base_uri": "https://localhost:8080/",
          "height": 119
        },
        "outputId": "70536d50-359a-4e58-cc5e-b6e63fc8bfeb"
      },
      "source": [
        "test_dataset.anonymised = True\n",
        "next(test_dataset.dict_iterator())"
      ],
      "execution_count": 6,
      "outputs": [
        {
          "output_type": "execute_result",
          "data": {
            "text/plain": [
              "{'categories': None,\n",
              " 'category_sentiments': None,\n",
              " 'spans': [Span(start=25, end=33), Span(start=73, end=83)],\n",
              " 'target_sentiments': ['neutral', 'neutral'],\n",
              " 'targets': ['economic', 'Budget2015'],\n",
              " 'text_id': '78336255642988544'}"
            ]
          },
          "metadata": {
            "tags": []
          },
          "execution_count": 6
        }
      ]
    },
    {
      "cell_type": "markdown",
      "metadata": {
        "id": "zzYVaG5lXR0s",
        "colab_type": "text"
      },
      "source": [
        "We can see now that the dataset has been anonymised as a sample from the dataset which is the same as the one before no longer has any text. However all of the other parts of the data are still there allowing you to perform some analysis on the dataset e.g. Number of targets.\n",
        "\n",
        "Furthermore the dataset's anonymised attribute is now `True`, and has also been added to the `metadata`:"
      ]
    },
    {
      "cell_type": "code",
      "metadata": {
        "id": "Y9_T4qKgXaUd",
        "colab_type": "code",
        "colab": {
          "base_uri": "https://localhost:8080/",
          "height": 51
        },
        "outputId": "e6a32dad-b6d8-43ca-dd75-e1d34c9d74ae"
      },
      "source": [
        "print(f'Anonymised {test_dataset.anonymised}')\n",
        "print(f'Metadata: {test_dataset.metadata}')"
      ],
      "execution_count": 7,
      "outputs": [
        {
          "output_type": "stream",
          "text": [
            "Anonymised True\n",
            "Metadata: {'name': 'Election', 'split': 'Test', 'anonymised': True}\n"
          ],
          "name": "stdout"
        }
      ]
    },
    {
      "cell_type": "markdown",
      "metadata": {
        "id": "d_eV4W23XmmO",
        "colab_type": "text"
      },
      "source": [
        "### Exporting and Importing\n",
        "Once the dataset has been anonymised you may want to export it so that the dataset can be shared with others. This is useful if you want to share results that are sotred within the TargetTextCollection.\n",
        "\n",
        "From this anonymised state we can export to JSON String and back:"
      ]
    },
    {
      "cell_type": "code",
      "metadata": {
        "id": "wRw8vzPzXkQ4",
        "colab_type": "code",
        "colab": {
          "base_uri": "https://localhost:8080/",
          "height": 105
        },
        "outputId": "bf11a50f-fe00-4656-b08f-8461fd64e029"
      },
      "source": [
        "from target_extraction.data_types import TargetTextCollection\n",
        "export_json = test_dataset.to_json()\n",
        "print(f'Exported JSON string: {export_json[:100]}')\n",
        "json_loaded_dataset = TargetTextCollection.from_json(export_json)\n",
        "print(f'Example from the loaded JSON:\\n{next(json_loaded_dataset.dict_iterator())}')\n",
        "print(f'Metadata from the loaded JSON: {json_loaded_dataset.metadata}')"
      ],
      "execution_count": 16,
      "outputs": [
        {
          "output_type": "stream",
          "text": [
            "Exported JSON string: {\"text_id\": \"78336255642988544\", \"targets\": [\"economic\", \"Budget2015\"], \"spans\": [[25, 33], [73, 83]\n",
            "Example from the loaded JSON:\n",
            "{'text_id': '78336255642988544', 'targets': ['economic', 'Budget2015'], 'spans': [Span(start=25, end=33), Span(start=73, end=83)], 'target_sentiments': ['neutral', 'neutral'], 'categories': None, 'category_sentiments': None}\n",
            "Metadata from the loaded JSON: {'name': 'Election', 'split': 'Test', 'anonymised': True}\n"
          ],
          "name": "stdout"
        }
      ]
    },
    {
      "cell_type": "markdown",
      "metadata": {
        "id": "RcquJ5BSYFR6",
        "colab_type": "text"
      },
      "source": [
        "We can also export to a JSON file and back:"
      ]
    },
    {
      "cell_type": "code",
      "metadata": {
        "id": "1vDRsk9dXkTP",
        "colab_type": "code",
        "colab": {
          "base_uri": "https://localhost:8080/",
          "height": 88
        },
        "outputId": "02be7a8e-c186-4513-f47b-3d5569fe9755"
      },
      "source": [
        "import tempfile\n",
        "from pathlib import Path\n",
        "with tempfile.NamedTemporaryFile(mode='w+') as temp_file:\n",
        "  # File path to save the data to\n",
        "  temp_fp = Path(temp_file.name)\n",
        "  test_dataset.to_json_file(temp_fp, include_metadata=True)\n",
        "  json_loaded_dataset = TargetTextCollection.load_json(temp_fp)\n",
        "print(f'Example from the loaded JSON:\\n{next(json_loaded_dataset.dict_iterator())}')\n",
        "print(f'Metadata from the loaded JSON: {json_loaded_dataset.metadata}')"
      ],
      "execution_count": 19,
      "outputs": [
        {
          "output_type": "stream",
          "text": [
            "Example from the loaded JSON:\n",
            "{'text_id': '78336255642988544', 'targets': ['economic', 'Budget2015'], 'spans': [Span(start=25, end=33), Span(start=73, end=83)], 'target_sentiments': ['neutral', 'neutral'], 'categories': None, 'category_sentiments': None}\n",
            "Metadata from the loaded JSON: {'name': 'Election', 'split': 'Test', 'anonymised': True}\n"
          ],
          "name": "stdout"
        }
      ]
    },
    {
      "cell_type": "markdown",
      "metadata": {
        "id": "AcwJvMV5IKIL",
        "colab_type": "text"
      },
      "source": [
        "When loading these datasets whether from JSON String or File the `metadata`, `name`, and `anonymised` can be overidden:"
      ]
    },
    {
      "cell_type": "code",
      "metadata": {
        "id": "kVQr0BWXZlCh",
        "colab_type": "code",
        "colab": {
          "base_uri": "https://localhost:8080/",
          "height": 139
        },
        "outputId": "ae41f98a-a0ae-4371-8ae1-17cb4f2f9850"
      },
      "source": [
        "export_json = test_dataset.to_json()\n",
        "new_name = 'Twitter Election'\n",
        "new_metadata = {'language': 'English', 'split': 'Validation'}\n",
        "json_loaded_dataset = TargetTextCollection.from_json(export_json, name=new_name, \n",
        "                                                     metadata=new_metadata)\n",
        "print(f'Name from loaded JSON: {json_loaded_dataset.name}')\n",
        "print(f'Metadata from loaded JSON: {json_loaded_dataset.metadata}')\n",
        "\n",
        "print('\\nOriginal dataset still has the original Name and Metadata')\n",
        "print(f'Name: {test_dataset.name}')\n",
        "print(f'Metadata: {test_dataset.metadata}')"
      ],
      "execution_count": 23,
      "outputs": [
        {
          "output_type": "stream",
          "text": [
            "Name from loaded JSON: Twitter Election\n",
            "Metadata from loaded JSON: {'language': 'English', 'split': 'Validation', 'anonymised': True, 'name': 'Twitter Election'}\n",
            "\n",
            "Original dataset still has the original Name and Metadata\n",
            "Name: Election\n",
            "Metadata: {'name': 'Election', 'split': 'Test', 'anonymised': True}\n"
          ],
          "name": "stdout"
        }
      ]
    },
    {
      "cell_type": "markdown",
      "metadata": {
        "id": "_OzUgfNBalwx",
        "colab_type": "text"
      },
      "source": [
        "If you do override the `anonymised` value when loading it will also anonymise your data:"
      ]
    },
    {
      "cell_type": "code",
      "metadata": {
        "id": "QRshGRjkatPY",
        "colab_type": "code",
        "colab": {
          "base_uri": "https://localhost:8080/",
          "height": 156
        },
        "outputId": "88cc30cb-37ac-47ce-ad77-3944b1d8d82e"
      },
      "source": [
        "not_anonymised_election = wang_2017_election_twitter_test()\n",
        "print(f'Is anonymised {not_anonymised_election.anonymised}')\n",
        "data_example = next(not_anonymised_election.dict_iterator())\n",
        "print(f'Data example from original {data_example}')\n",
        "\n",
        "print('\\nExport the data')\n",
        "election_json = not_anonymised_election.to_json()\n",
        "print('Anonymise the data when we load the data')\n",
        "anonymised_election = TargetTextCollection.from_json(election_json, anonymised=True)\n",
        "print(f'Is anonymised {anonymised_election.anonymised}')\n",
        "data_example = next(anonymised_election.dict_iterator())\n",
        "print(f'Data example from anonymised {data_example}')"
      ],
      "execution_count": 25,
      "outputs": [
        {
          "output_type": "stream",
          "text": [
            "Is anonymised False\n",
            "Data example from original {'text': \"Don't you kinda wish all economic news was delivered like this? #GE2015 #Budget2015 http://t.co/4fssrNqnyj\", 'text_id': '78336255642988544', 'targets': ['economic', 'Budget2015'], 'spans': [Span(start=25, end=33), Span(start=73, end=83)], 'target_sentiments': ['neutral', 'neutral'], 'categories': None, 'category_sentiments': None}\n",
            "\n",
            "Export the data\n",
            "Anonymise the data when we load the data\n",
            "Is anonymised True\n",
            "Data example from anonymised {'text_id': '78336255642988544', 'targets': ['economic', 'Budget2015'], 'spans': [Span(start=25, end=33), Span(start=73, end=83)], 'target_sentiments': ['neutral', 'neutral'], 'categories': None, 'category_sentiments': None}\n"
          ],
          "name": "stdout"
        }
      ]
    },
    {
      "cell_type": "markdown",
      "metadata": {
        "id": "yoAA6d7jbnMd",
        "colab_type": "text"
      },
      "source": [
        "## De-Anonymised data\n",
        "\n",
        "If you have someone elses anonymised data but want to get the `text` back to perform some more analyses the `de_anonymise` function is required. \n",
        "\n",
        "The `de_anonymise` function assumes that you have the `text` mapped to a unique key that matches the unique key within the anonymised data.\n",
        "\n",
        "For example the `unique key` for each TargetText/sample in each TargetTextCollection is defined by the `text_id` in each: "
      ]
    },
    {
      "cell_type": "code",
      "metadata": {
        "id": "4rqf8yAqasbL",
        "colab_type": "code",
        "colab": {
          "base_uri": "https://localhost:8080/",
          "height": 105
        },
        "outputId": "a632a44a-1c39-4f89-83ee-599cc6634931"
      },
      "source": [
        "test_dataset_keys = list(test_dataset.keys())[:5]\n",
        "print('Example unique keys from the anonymised Election dataset\\n'\n",
        "      f'{test_dataset_keys}')\n",
        "example_sample = test_dataset[test_dataset_keys[0]]\n",
        "print('Example TargetText/sample from the Election dataset\\n'\n",
        "      f'{example_sample}')"
      ],
      "execution_count": 29,
      "outputs": [
        {
          "output_type": "stream",
          "text": [
            "Example unique keys from the anonymised Election dataset\n",
            "['78336255642988544', '81213828119175169', '81236070488113152', '78191643813232640', '65025637522354178']\n",
            "Example TargetText/sample from the Election dataset\n",
            "TargetText({'text_id': '78336255642988544', 'targets': ['economic', 'Budget2015'], 'spans': [Span(start=25, end=33), Span(start=73, end=83)], 'target_sentiments': ['neutral', 'neutral'], 'categories': None, 'category_sentiments': None})\n"
          ],
          "name": "stdout"
        }
      ]
    },
    {
      "cell_type": "markdown",
      "metadata": {
        "id": "6Ls9PA-3eqSV",
        "colab_type": "text"
      },
      "source": [
        "As we can see from above the TargetTextCollection keys are all the unique `text_id` from all of the samples/TargetTexts.\n",
        "\n",
        "Therefore to de-anonymise this collection we need a dictionary of:\n",
        "``` python\n",
        "{'text_id': 'text'}\n",
        "```\n",
        "E.g.:\n",
        "``` python\n",
        "{'78336255642988544': \"Don't you kinda wish all economic news was delivered like this? #GE2015 #Budget2015 http://t.co/4fssrNqnyj\"}\n",
        "```\n",
        "\n",
        "Therefore we can easily do this for known datasets if we have the anonymised and non-anonymised version like so:"
      ]
    },
    {
      "cell_type": "code",
      "metadata": {
        "id": "I8Z3_VRwfMZ4",
        "colab_type": "code",
        "colab": {
          "base_uri": "https://localhost:8080/",
          "height": 156
        },
        "outputId": "4f6aa1df-2a40-4b85-f588-dfb5844ccfff"
      },
      "source": [
        "anonymised_test_dataset = wang_2017_election_twitter_test()\n",
        "anonymised_test_dataset.anonymised = True\n",
        "assert anonymised_test_dataset.anonymised\n",
        "non_anonymised_test_dataset = wang_2017_election_twitter_test()\n",
        "assert not non_anonymised_test_dataset.anonymised\n",
        "\n",
        "anonymised_test_dataset.de_anonymise(non_anonymised_test_dataset.dict_iterator())\n",
        "assert not anonymised_test_dataset.anonymised\n",
        "example_sample = anonymised_test_dataset['78336255642988544']\n",
        "for key, value in example_sample.items():\n",
        "  print(f'{key} : {value}')"
      ],
      "execution_count": 33,
      "outputs": [
        {
          "output_type": "stream",
          "text": [
            "text_id : 78336255642988544\n",
            "targets : ['economic', 'Budget2015']\n",
            "spans : [Span(start=25, end=33), Span(start=73, end=83)]\n",
            "target_sentiments : ['neutral', 'neutral']\n",
            "categories : None\n",
            "category_sentiments : None\n",
            "text : Don't you kinda wish all economic news was delivered like this? #GE2015 #Budget2015 http://t.co/4fssrNqnyj\n"
          ],
          "name": "stdout"
        }
      ]
    },
    {
      "cell_type": "markdown",
      "metadata": {
        "id": "icLzIvEfgV5B",
        "colab_type": "text"
      },
      "source": [
        "As we can see from above the anonymised dataset has now been de-anonymised by using an original non-anonymised version of the dataset."
      ]
    }
  ]
}