{
  "nbformat": 4,
  "nbformat_minor": 0,
  "metadata": {
    "colab": {
      "name": "Load and Explore Target Extraction.ipynb",
      "version": "0.3.2",
      "provenance": [],
      "collapsed_sections": [],
      "include_colab_link": true
    },
    "kernelspec": {
      "name": "python3",
      "display_name": "Python 3"
    }
  },
  "cells": [
    {
      "cell_type": "markdown",
      "metadata": {
        "id": "view-in-github",
        "colab_type": "text"
      },
      "source": [
        "<a href=\"https://colab.research.google.com/github/apmoore1/target-extraction/blob/master/tutorials/Load_and_Explore_Target_Extraction.ipynb\" target=\"_parent\"><img src=\"https://colab.research.google.com/assets/colab-badge.svg\" alt=\"Open In Colab\"/></a>"
      ]
    },
    {
      "cell_type": "code",
      "metadata": {
        "id": "q1jKAOJcq40t",
        "colab_type": "code",
        "colab": {}
      },
      "source": [
        "%%capture\n",
        "!pip install git+git://github.com/apmoore1/target-extraction.git@master#egg=target-extraction"
      ],
      "execution_count": 0,
      "outputs": []
    },
    {
      "cell_type": "code",
      "metadata": {
        "id": "rC3dzvwArEDd",
        "colab_type": "code",
        "colab": {}
      },
      "source": [
        "from target_extraction.dataset_parsers import semeval_2014, semeval_2016\n",
        "from target_extraction.dataset_parsers import wang_2017_election_twitter_train\n",
        "from target_extraction.dataset_parsers import wang_2017_election_twitter_test"
      ],
      "execution_count": 0,
      "outputs": []
    },
    {
      "cell_type": "markdown",
      "metadata": {
        "id": "_UIzh7HtrMTW",
        "colab_type": "text"
      },
      "source": [
        "# Loads and explore datasets\n",
        "In this notebook we will show you how to load three of the popular SemEval datasets as well as the election Twitter dataset of [Wang et al. 2017](https://www.aclweb.org/anthology/E17-1046) into the TargetTextCollection object format. Next we will show you the advantage of this easy to use format through serveral built in functions such as:\n",
        "\n",
        "1. Dataset Statistics -- counts of sentences and targets.\n",
        "2. Built in tokenization and POS tagging.\n",
        "3. Import and export to JSON format which is useful if you want to use the data in an [AllenNLP model](https://allennlp.org/)\n",
        "4. Setting the task of Target Extraction into a Sequence Labelling task\n",
        "\n",
        "## Loading datasets\n",
        "First we are going to show you how to load the following popular datasets:\n",
        "1. [SemEval 2014 task 4 Laptop domain (laptop)](http://alt.qcri.org/semeval2014/task4/). Of which the training data can be found [here](http://metashare.ilsp.gr:8080/repository/browse/semeval-2014-absa-train-data-v20-annotation-guidelines/683b709298b811e3a0e2842b2b6a04d7c7a19307f18a4940beef6a6143f937f0/) and the test data [here](http://metashare.ilsp.gr:8080/repository/browse/semeval-2014-absa-test-data-gold-annotations/b98d11cec18211e38229842b2b6a04d77591d40acd7542b7af823a54fb03a155/).\n",
        "2. [SemEval 2014 task 4 Restaurant domain (restaurant_14)](http://alt.qcri.org/semeval2014/task4/). Of which the training and the test data can be found at the same place as the laptop dataset.\n",
        "3. [SemEval 2016 task 5 Restaurant domain (restaurant_16)](http://alt.qcri.org/semeval2016/task5/). Of which the training data can be found [here](http://metashare.ilsp.gr:8080/repository/browse/semeval-2016-absa-restaurant-reviews-english-train-data-subtask-1/cd28e738562f11e59e2c842b2b6a04d703f9dae461bb4816a5d4320019407d23/) and the test data [here](http://metashare.ilsp.gr:8080/repository/browse/semeval-2016-absa-restaurant-reviews-english-test-data-gold-subtask-1/42bd97c6d17511e59dbe842b2b6a04d721d1933085814d9daed8fbcbe54c0615/).\n",
        "4. The election Twiiter dataset of [Wang et al. 2017](https://www.aclweb.org/anthology/E17-1046) (Election Twitter) can be automatically downloaded, so no need to worry about downloading this dataset manually.\n",
        "\n",
        "Assuming you have downloaded these files we will now upload them to this notebook, this will require 6 upload requests which will happen when you run the next cell; 1. The training, 2. test data for the laptop domain, 3. the training data, 4. test data for the restaurant_14, 5. the training data, and 6. test data for the restaurant_16"
      ]
    },
    {
      "cell_type": "code",
      "metadata": {
        "id": "Z8ENkPsdBQv0",
        "colab_type": "code",
        "outputId": "ceee48a7-c321-4ead-9009-0b4f54c5ac1d",
        "colab": {
          "resources": {
            "http://localhost:8080/nbextensions/google.colab/files.js": {
              "data": "Ly8gQ29weXJpZ2h0IDIwMTcgR29vZ2xlIExMQwovLwovLyBMaWNlbnNlZCB1bmRlciB0aGUgQXBhY2hlIExpY2Vuc2UsIFZlcnNpb24gMi4wICh0aGUgIkxpY2Vuc2UiKTsKLy8geW91IG1heSBub3QgdXNlIHRoaXMgZmlsZSBleGNlcHQgaW4gY29tcGxpYW5jZSB3aXRoIHRoZSBMaWNlbnNlLgovLyBZb3UgbWF5IG9idGFpbiBhIGNvcHkgb2YgdGhlIExpY2Vuc2UgYXQKLy8KLy8gICAgICBodHRwOi8vd3d3LmFwYWNoZS5vcmcvbGljZW5zZXMvTElDRU5TRS0yLjAKLy8KLy8gVW5sZXNzIHJlcXVpcmVkIGJ5IGFwcGxpY2FibGUgbGF3IG9yIGFncmVlZCB0byBpbiB3cml0aW5nLCBzb2Z0d2FyZQovLyBkaXN0cmlidXRlZCB1bmRlciB0aGUgTGljZW5zZSBpcyBkaXN0cmlidXRlZCBvbiBhbiAiQVMgSVMiIEJBU0lTLAovLyBXSVRIT1VUIFdBUlJBTlRJRVMgT1IgQ09ORElUSU9OUyBPRiBBTlkgS0lORCwgZWl0aGVyIGV4cHJlc3Mgb3IgaW1wbGllZC4KLy8gU2VlIHRoZSBMaWNlbnNlIGZvciB0aGUgc3BlY2lmaWMgbGFuZ3VhZ2UgZ292ZXJuaW5nIHBlcm1pc3Npb25zIGFuZAovLyBsaW1pdGF0aW9ucyB1bmRlciB0aGUgTGljZW5zZS4KCi8qKgogKiBAZmlsZW92ZXJ2aWV3IEhlbHBlcnMgZm9yIGdvb2dsZS5jb2xhYiBQeXRob24gbW9kdWxlLgogKi8KKGZ1bmN0aW9uKHNjb3BlKSB7CmZ1bmN0aW9uIHNwYW4odGV4dCwgc3R5bGVBdHRyaWJ1dGVzID0ge30pIHsKICBjb25zdCBlbGVtZW50ID0gZG9jdW1lbnQuY3JlYXRlRWxlbWVudCgnc3BhbicpOwogIGVsZW1lbnQudGV4dENvbnRlbnQgPSB0ZXh0OwogIGZvciAoY29uc3Qga2V5IG9mIE9iamVjdC5rZXlzKHN0eWxlQXR0cmlidXRlcykpIHsKICAgIGVsZW1lbnQuc3R5bGVba2V5XSA9IHN0eWxlQXR0cmlidXRlc1trZXldOwogIH0KICByZXR1cm4gZWxlbWVudDsKfQoKLy8gTWF4IG51bWJlciBvZiBieXRlcyB3aGljaCB3aWxsIGJlIHVwbG9hZGVkIGF0IGEgdGltZS4KY29uc3QgTUFYX1BBWUxPQURfU0laRSA9IDEwMCAqIDEwMjQ7Ci8vIE1heCBhbW91bnQgb2YgdGltZSB0byBibG9jayB3YWl0aW5nIGZvciB0aGUgdXNlci4KY29uc3QgRklMRV9DSEFOR0VfVElNRU9VVF9NUyA9IDMwICogMTAwMDsKCmZ1bmN0aW9uIF91cGxvYWRGaWxlcyhpbnB1dElkLCBvdXRwdXRJZCkgewogIGNvbnN0IHN0ZXBzID0gdXBsb2FkRmlsZXNTdGVwKGlucHV0SWQsIG91dHB1dElkKTsKICBjb25zdCBvdXRwdXRFbGVtZW50ID0gZG9jdW1lbnQuZ2V0RWxlbWVudEJ5SWQob3V0cHV0SWQpOwogIC8vIENhY2hlIHN0ZXBzIG9uIHRoZSBvdXRwdXRFbGVtZW50IHRvIG1ha2UgaXQgYXZhaWxhYmxlIGZvciB0aGUgbmV4dCBjYWxsCiAgLy8gdG8gdXBsb2FkRmlsZXNDb250aW51ZSBmcm9tIFB5dGhvbi4KICBvdXRwdXRFbGVtZW50LnN0ZXBzID0gc3RlcHM7CgogIHJldHVybiBfdXBsb2FkRmlsZXNDb250aW51ZShvdXRwdXRJZCk7Cn0KCi8vIFRoaXMgaXMgcm91Z2hseSBhbiBhc3luYyBnZW5lcmF0b3IgKG5vdCBzdXBwb3J0ZWQgaW4gdGhlIGJyb3dzZXIgeWV0KSwKLy8gd2hlcmUgdGhlcmUgYXJlIG11bHRpcGxlIGFzeW5jaHJvbm91cyBzdGVwcyBhbmQgdGhlIFB5dGhvbiBzaWRlIGlzIGdvaW5nCi8vIHRvIHBvbGwgZm9yIGNvbXBsZXRpb24gb2YgZWFjaCBzdGVwLgovLyBUaGlzIHVzZXMgYSBQcm9taXNlIHRvIGJsb2NrIHRoZSBweXRob24gc2lkZSBvbiBjb21wbGV0aW9uIG9mIGVhY2ggc3RlcCwKLy8gdGhlbiBwYXNzZXMgdGhlIHJlc3VsdCBvZiB0aGUgcHJldmlvdXMgc3RlcCBhcyB0aGUgaW5wdXQgdG8gdGhlIG5leHQgc3RlcC4KZnVuY3Rpb24gX3VwbG9hZEZpbGVzQ29udGludWUob3V0cHV0SWQpIHsKICBjb25zdCBvdXRwdXRFbGVtZW50ID0gZG9jdW1lbnQuZ2V0RWxlbWVudEJ5SWQob3V0cHV0SWQpOwogIGNvbnN0IHN0ZXBzID0gb3V0cHV0RWxlbWVudC5zdGVwczsKCiAgY29uc3QgbmV4dCA9IHN0ZXBzLm5leHQob3V0cHV0RWxlbWVudC5sYXN0UHJvbWlzZVZhbHVlKTsKICByZXR1cm4gUHJvbWlzZS5yZXNvbHZlKG5leHQudmFsdWUucHJvbWlzZSkudGhlbigodmFsdWUpID0+IHsKICAgIC8vIENhY2hlIHRoZSBsYXN0IHByb21pc2UgdmFsdWUgdG8gbWFrZSBpdCBhdmFpbGFibGUgdG8gdGhlIG5leHQKICAgIC8vIHN0ZXAgb2YgdGhlIGdlbmVyYXRvci4KICAgIG91dHB1dEVsZW1lbnQubGFzdFByb21pc2VWYWx1ZSA9IHZhbHVlOwogICAgcmV0dXJuIG5leHQudmFsdWUucmVzcG9uc2U7CiAgfSk7Cn0KCi8qKgogKiBHZW5lcmF0b3IgZnVuY3Rpb24gd2hpY2ggaXMgY2FsbGVkIGJldHdlZW4gZWFjaCBhc3luYyBzdGVwIG9mIHRoZSB1cGxvYWQKICogcHJvY2Vzcy4KICogQHBhcmFtIHtzdHJpbmd9IGlucHV0SWQgRWxlbWVudCBJRCBvZiB0aGUgaW5wdXQgZmlsZSBwaWNrZXIgZWxlbWVudC4KICogQHBhcmFtIHtzdHJpbmd9IG91dHB1dElkIEVsZW1lbnQgSUQgb2YgdGhlIG91dHB1dCBkaXNwbGF5LgogKiBAcmV0dXJuIHshSXRlcmFibGU8IU9iamVjdD59IEl0ZXJhYmxlIG9mIG5leHQgc3RlcHMuCiAqLwpmdW5jdGlvbiogdXBsb2FkRmlsZXNTdGVwKGlucHV0SWQsIG91dHB1dElkKSB7CiAgY29uc3QgaW5wdXRFbGVtZW50ID0gZG9jdW1lbnQuZ2V0RWxlbWVudEJ5SWQoaW5wdXRJZCk7CiAgaW5wdXRFbGVtZW50LmRpc2FibGVkID0gZmFsc2U7CgogIGNvbnN0IG91dHB1dEVsZW1lbnQgPSBkb2N1bWVudC5nZXRFbGVtZW50QnlJZChvdXRwdXRJZCk7CiAgb3V0cHV0RWxlbWVudC5pbm5lckhUTUwgPSAnJzsKCiAgY29uc3QgcGlja2VkUHJvbWlzZSA9IG5ldyBQcm9taXNlKChyZXNvbHZlKSA9PiB7CiAgICBpbnB1dEVsZW1lbnQuYWRkRXZlbnRMaXN0ZW5lcignY2hhbmdlJywgKGUpID0+IHsKICAgICAgcmVzb2x2ZShlLnRhcmdldC5maWxlcyk7CiAgICB9KTsKICB9KTsKCiAgY29uc3QgY2FuY2VsID0gZG9jdW1lbnQuY3JlYXRlRWxlbWVudCgnYnV0dG9uJyk7CiAgaW5wdXRFbGVtZW50LnBhcmVudEVsZW1lbnQuYXBwZW5kQ2hpbGQoY2FuY2VsKTsKICBjYW5jZWwudGV4dENvbnRlbnQgPSAnQ2FuY2VsIHVwbG9hZCc7CiAgY29uc3QgY2FuY2VsUHJvbWlzZSA9IG5ldyBQcm9taXNlKChyZXNvbHZlKSA9PiB7CiAgICBjYW5jZWwub25jbGljayA9ICgpID0+IHsKICAgICAgcmVzb2x2ZShudWxsKTsKICAgIH07CiAgfSk7CgogIC8vIENhbmNlbCB1cGxvYWQgaWYgdXNlciBoYXNuJ3QgcGlja2VkIGFueXRoaW5nIGluIHRpbWVvdXQuCiAgY29uc3QgdGltZW91dFByb21pc2UgPSBuZXcgUHJvbWlzZSgocmVzb2x2ZSkgPT4gewogICAgc2V0VGltZW91dCgoKSA9PiB7CiAgICAgIHJlc29sdmUobnVsbCk7CiAgICB9LCBGSUxFX0NIQU5HRV9USU1FT1VUX01TKTsKICB9KTsKCiAgLy8gV2FpdCBmb3IgdGhlIHVzZXIgdG8gcGljayB0aGUgZmlsZXMuCiAgY29uc3QgZmlsZXMgPSB5aWVsZCB7CiAgICBwcm9taXNlOiBQcm9taXNlLnJhY2UoW3BpY2tlZFByb21pc2UsIHRpbWVvdXRQcm9taXNlLCBjYW5jZWxQcm9taXNlXSksCiAgICByZXNwb25zZTogewogICAgICBhY3Rpb246ICdzdGFydGluZycsCiAgICB9CiAgfTsKCiAgaWYgKCFmaWxlcykgewogICAgcmV0dXJuIHsKICAgICAgcmVzcG9uc2U6IHsKICAgICAgICBhY3Rpb246ICdjb21wbGV0ZScsCiAgICAgIH0KICAgIH07CiAgfQoKICBjYW5jZWwucmVtb3ZlKCk7CgogIC8vIERpc2FibGUgdGhlIGlucHV0IGVsZW1lbnQgc2luY2UgZnVydGhlciBwaWNrcyBhcmUgbm90IGFsbG93ZWQuCiAgaW5wdXRFbGVtZW50LmRpc2FibGVkID0gdHJ1ZTsKCiAgZm9yIChjb25zdCBmaWxlIG9mIGZpbGVzKSB7CiAgICBjb25zdCBsaSA9IGRvY3VtZW50LmNyZWF0ZUVsZW1lbnQoJ2xpJyk7CiAgICBsaS5hcHBlbmQoc3BhbihmaWxlLm5hbWUsIHtmb250V2VpZ2h0OiAnYm9sZCd9KSk7CiAgICBsaS5hcHBlbmQoc3BhbigKICAgICAgICBgKCR7ZmlsZS50eXBlIHx8ICduL2EnfSkgLSAke2ZpbGUuc2l6ZX0gYnl0ZXMsIGAgKwogICAgICAgIGBsYXN0IG1vZGlmaWVkOiAkewogICAgICAgICAgICBmaWxlLmxhc3RNb2RpZmllZERhdGUgPyBmaWxlLmxhc3RNb2RpZmllZERhdGUudG9Mb2NhbGVEYXRlU3RyaW5nKCkgOgogICAgICAgICAgICAgICAgICAgICAgICAgICAgICAgICAgICAnbi9hJ30gLSBgKSk7CiAgICBjb25zdCBwZXJjZW50ID0gc3BhbignMCUgZG9uZScpOwogICAgbGkuYXBwZW5kQ2hpbGQocGVyY2VudCk7CgogICAgb3V0cHV0RWxlbWVudC5hcHBlbmRDaGlsZChsaSk7CgogICAgY29uc3QgZmlsZURhdGFQcm9taXNlID0gbmV3IFByb21pc2UoKHJlc29sdmUpID0+IHsKICAgICAgY29uc3QgcmVhZGVyID0gbmV3IEZpbGVSZWFkZXIoKTsKICAgICAgcmVhZGVyLm9ubG9hZCA9IChlKSA9PiB7CiAgICAgICAgcmVzb2x2ZShlLnRhcmdldC5yZXN1bHQpOwogICAgICB9OwogICAgICByZWFkZXIucmVhZEFzQXJyYXlCdWZmZXIoZmlsZSk7CiAgICB9KTsKICAgIC8vIFdhaXQgZm9yIHRoZSBkYXRhIHRvIGJlIHJlYWR5LgogICAgbGV0IGZpbGVEYXRhID0geWllbGQgewogICAgICBwcm9taXNlOiBmaWxlRGF0YVByb21pc2UsCiAgICAgIHJlc3BvbnNlOiB7CiAgICAgICAgYWN0aW9uOiAnY29udGludWUnLAogICAgICB9CiAgICB9OwoKICAgIC8vIFVzZSBhIGNodW5rZWQgc2VuZGluZyB0byBhdm9pZCBtZXNzYWdlIHNpemUgbGltaXRzLiBTZWUgYi82MjExNTY2MC4KICAgIGxldCBwb3NpdGlvbiA9IDA7CiAgICB3aGlsZSAocG9zaXRpb24gPCBmaWxlRGF0YS5ieXRlTGVuZ3RoKSB7CiAgICAgIGNvbnN0IGxlbmd0aCA9IE1hdGgubWluKGZpbGVEYXRhLmJ5dGVMZW5ndGggLSBwb3NpdGlvbiwgTUFYX1BBWUxPQURfU0laRSk7CiAgICAgIGNvbnN0IGNodW5rID0gbmV3IFVpbnQ4QXJyYXkoZmlsZURhdGEsIHBvc2l0aW9uLCBsZW5ndGgpOwogICAgICBwb3NpdGlvbiArPSBsZW5ndGg7CgogICAgICBjb25zdCBiYXNlNjQgPSBidG9hKFN0cmluZy5mcm9tQ2hhckNvZGUuYXBwbHkobnVsbCwgY2h1bmspKTsKICAgICAgeWllbGQgewogICAgICAgIHJlc3BvbnNlOiB7CiAgICAgICAgICBhY3Rpb246ICdhcHBlbmQnLAogICAgICAgICAgZmlsZTogZmlsZS5uYW1lLAogICAgICAgICAgZGF0YTogYmFzZTY0LAogICAgICAgIH0sCiAgICAgIH07CiAgICAgIHBlcmNlbnQudGV4dENvbnRlbnQgPQogICAgICAgICAgYCR7TWF0aC5yb3VuZCgocG9zaXRpb24gLyBmaWxlRGF0YS5ieXRlTGVuZ3RoKSAqIDEwMCl9JSBkb25lYDsKICAgIH0KICB9CgogIC8vIEFsbCBkb25lLgogIHlpZWxkIHsKICAgIHJlc3BvbnNlOiB7CiAgICAgIGFjdGlvbjogJ2NvbXBsZXRlJywKICAgIH0KICB9Owp9CgpzY29wZS5nb29nbGUgPSBzY29wZS5nb29nbGUgfHwge307CnNjb3BlLmdvb2dsZS5jb2xhYiA9IHNjb3BlLmdvb2dsZS5jb2xhYiB8fCB7fTsKc2NvcGUuZ29vZ2xlLmNvbGFiLl9maWxlcyA9IHsKICBfdXBsb2FkRmlsZXMsCiAgX3VwbG9hZEZpbGVzQ29udGludWUsCn07Cn0pKHNlbGYpOwo=",
              "ok": true,
              "headers": [
                [
                  "content-type",
                  "application/javascript"
                ]
              ],
              "status": 200,
              "status_text": ""
            }
          },
          "base_uri": "https://localhost:8080/",
          "height": 461
        }
      },
      "source": [
        "from pathlib import Path\n",
        "from google.colab import files\n",
        "uploaded = {}\n",
        "for i in range(6):\n",
        "  temp_uploaded = files.upload()\n",
        "  uploaded = {**uploaded, **temp_uploaded}\n",
        "semeval_fps = [Path(key).resolve() for key in uploaded.keys()]\n",
        "semeval_fps = {semeval_path.name: semeval_path for semeval_path in semeval_fps}\n",
        "del uploaded\n",
        "# Paths to the files uploaded\n",
        "for file_name, fp in semeval_fps.items():\n",
        "  print(f'SemEval file name: {file_name}. File Path {fp}')"
      ],
      "execution_count": 41,
      "outputs": [
        {
          "output_type": "display_data",
          "data": {
            "text/html": [
              "\n",
              "     <input type=\"file\" id=\"files-4474a663-a5a6-4c9f-9c79-13b640a843fb\" name=\"files[]\" multiple disabled />\n",
              "     <output id=\"result-4474a663-a5a6-4c9f-9c79-13b640a843fb\">\n",
              "      Upload widget is only available when the cell has been executed in the\n",
              "      current browser session. Please rerun this cell to enable.\n",
              "      </output>\n",
              "      <script src=\"/nbextensions/google.colab/files.js\"></script> "
            ],
            "text/plain": [
              "<IPython.core.display.HTML object>"
            ]
          },
          "metadata": {
            "tags": []
          }
        },
        {
          "output_type": "stream",
          "text": [
            "Saving Laptop_Train_v2.xml to Laptop_Train_v2 (1).xml\n"
          ],
          "name": "stdout"
        },
        {
          "output_type": "display_data",
          "data": {
            "text/html": [
              "\n",
              "     <input type=\"file\" id=\"files-9a582286-974c-45b5-8df8-d69de72b7acd\" name=\"files[]\" multiple disabled />\n",
              "     <output id=\"result-9a582286-974c-45b5-8df8-d69de72b7acd\">\n",
              "      Upload widget is only available when the cell has been executed in the\n",
              "      current browser session. Please rerun this cell to enable.\n",
              "      </output>\n",
              "      <script src=\"/nbextensions/google.colab/files.js\"></script> "
            ],
            "text/plain": [
              "<IPython.core.display.HTML object>"
            ]
          },
          "metadata": {
            "tags": []
          }
        },
        {
          "output_type": "stream",
          "text": [
            "Saving Restaurants_Train_v2.xml to Restaurants_Train_v2 (1).xml\n"
          ],
          "name": "stdout"
        },
        {
          "output_type": "display_data",
          "data": {
            "text/html": [
              "\n",
              "     <input type=\"file\" id=\"files-15275bbe-cb51-47da-9e87-08702799e8eb\" name=\"files[]\" multiple disabled />\n",
              "     <output id=\"result-15275bbe-cb51-47da-9e87-08702799e8eb\">\n",
              "      Upload widget is only available when the cell has been executed in the\n",
              "      current browser session. Please rerun this cell to enable.\n",
              "      </output>\n",
              "      <script src=\"/nbextensions/google.colab/files.js\"></script> "
            ],
            "text/plain": [
              "<IPython.core.display.HTML object>"
            ]
          },
          "metadata": {
            "tags": []
          }
        },
        {
          "output_type": "stream",
          "text": [
            "Saving Laptops_Test_Gold.xml to Laptops_Test_Gold (1).xml\n"
          ],
          "name": "stdout"
        },
        {
          "output_type": "display_data",
          "data": {
            "text/html": [
              "\n",
              "     <input type=\"file\" id=\"files-7b89136b-3999-497e-b30a-f4d873d703a4\" name=\"files[]\" multiple disabled />\n",
              "     <output id=\"result-7b89136b-3999-497e-b30a-f4d873d703a4\">\n",
              "      Upload widget is only available when the cell has been executed in the\n",
              "      current browser session. Please rerun this cell to enable.\n",
              "      </output>\n",
              "      <script src=\"/nbextensions/google.colab/files.js\"></script> "
            ],
            "text/plain": [
              "<IPython.core.display.HTML object>"
            ]
          },
          "metadata": {
            "tags": []
          }
        },
        {
          "output_type": "stream",
          "text": [
            "Saving Restaurants_Test_Gold.xml to Restaurants_Test_Gold (1).xml\n"
          ],
          "name": "stdout"
        },
        {
          "output_type": "display_data",
          "data": {
            "text/html": [
              "\n",
              "     <input type=\"file\" id=\"files-b5268b1c-d864-481e-92a9-8577a69c6a93\" name=\"files[]\" multiple disabled />\n",
              "     <output id=\"result-b5268b1c-d864-481e-92a9-8577a69c6a93\">\n",
              "      Upload widget is only available when the cell has been executed in the\n",
              "      current browser session. Please rerun this cell to enable.\n",
              "      </output>\n",
              "      <script src=\"/nbextensions/google.colab/files.js\"></script> "
            ],
            "text/plain": [
              "<IPython.core.display.HTML object>"
            ]
          },
          "metadata": {
            "tags": []
          }
        },
        {
          "output_type": "stream",
          "text": [
            "Saving ABSA16_Restaurants_Train_SB1_v2.xml to ABSA16_Restaurants_Train_SB1_v2 (1).xml\n"
          ],
          "name": "stdout"
        },
        {
          "output_type": "display_data",
          "data": {
            "text/html": [
              "\n",
              "     <input type=\"file\" id=\"files-e635c669-c367-49b4-97dd-dc8a6e597d63\" name=\"files[]\" multiple disabled />\n",
              "     <output id=\"result-e635c669-c367-49b4-97dd-dc8a6e597d63\">\n",
              "      Upload widget is only available when the cell has been executed in the\n",
              "      current browser session. Please rerun this cell to enable.\n",
              "      </output>\n",
              "      <script src=\"/nbextensions/google.colab/files.js\"></script> "
            ],
            "text/plain": [
              "<IPython.core.display.HTML object>"
            ]
          },
          "metadata": {
            "tags": []
          }
        },
        {
          "output_type": "stream",
          "text": [
            "Saving EN_REST_SB1_TEST.xml.gold to EN_REST_SB1_TEST.xml (1).gold\n",
            "SemEval file name: Laptop_Train_v2.xml. File Path /content/Laptop_Train_v2.xml\n",
            "SemEval file name: Restaurants_Train_v2.xml. File Path /content/Restaurants_Train_v2.xml\n",
            "SemEval file name: Laptops_Test_Gold.xml. File Path /content/Laptops_Test_Gold.xml\n",
            "SemEval file name: Restaurants_Test_Gold.xml. File Path /content/Restaurants_Test_Gold.xml\n",
            "SemEval file name: ABSA16_Restaurants_Train_SB1_v2.xml. File Path /content/ABSA16_Restaurants_Train_SB1_v2.xml\n",
            "SemEval file name: EN_REST_SB1_TEST.xml.gold. File Path /content/EN_REST_SB1_TEST.xml.gold\n"
          ],
          "name": "stdout"
        }
      ]
    },
    {
      "cell_type": "markdown",
      "metadata": {
        "id": "VFkzDLebEYEQ",
        "colab_type": "text"
      },
      "source": [
        "We will now load the data into TargetTextCollection format:\n",
        "\n",
        "NOTE: The `conflict` argument states whether or not to include targets or categories that contain the `conflict` sentiment. In this case we **do** want the `conflict` sentiment targets or categories thus the value is `False`"
      ]
    },
    {
      "cell_type": "code",
      "metadata": {
        "id": "FqS-VXMFoQc6",
        "colab_type": "code",
        "colab": {}
      },
      "source": [
        "laptop_train = semeval_2014(semeval_fps['Laptop_Train_v2.xml'], conflict=False)\n",
        "laptop_test = semeval_2014(semeval_fps['Laptops_Test_Gold.xml'], conflict=False)\n",
        "rest_14_train = semeval_2014(semeval_fps['Restaurants_Train_v2.xml'], conflict=False)\n",
        "rest_14_test = semeval_2014(semeval_fps['Restaurants_Test_Gold.xml'], conflict=False)\n",
        "rest_16_train = semeval_2016(semeval_fps['ABSA16_Restaurants_Train_SB1_v2.xml'], conflict=False)\n",
        "rest_16_test = semeval_2016(semeval_fps['EN_REST_SB1_TEST.xml.gold'], conflict=False)"
      ],
      "execution_count": 0,
      "outputs": []
    },
    {
      "cell_type": "markdown",
      "metadata": {
        "id": "AmcfoSfB9BpD",
        "colab_type": "text"
      },
      "source": [
        "As I stated earlier the Election Twitter dataset is automatically downloaded BUT it does require you to create a folder to store this data in which is shown below:"
      ]
    },
    {
      "cell_type": "code",
      "metadata": {
        "id": "YWYLV6q89HXQ",
        "colab_type": "code",
        "colab": {}
      },
      "source": [
        "election_dataset_folder = Path('/tmp', 'election_dataset')\n",
        "election_train = wang_2017_election_twitter_train(election_dataset_folder)\n",
        "election_test = wang_2017_election_twitter_test(election_dataset_folder)"
      ],
      "execution_count": 0,
      "outputs": []
    },
    {
      "cell_type": "markdown",
      "metadata": {
        "id": "Bw6k6CP3k7h6",
        "colab_type": "text"
      },
      "source": [
        "## Dataset Statistics\n",
        "\n",
        "Now that we have loaded these datasets we can perform some dataset statistics on them, such as the number of sentences, number of sentences that contain at least one target in it, and the number of  targets in the dataset, finally the number of unique targets."
      ]
    },
    {
      "cell_type": "code",
      "metadata": {
        "id": "9rgMYncDrH7g",
        "colab_type": "code",
        "colab": {
          "base_uri": "https://localhost:8080/",
          "height": 297
        },
        "outputId": "6dfcec26-3a02-4a09-bf2b-3b905d276457"
      },
      "source": [
        "from collections import defaultdict\n",
        "import pandas as pd\n",
        "\n",
        "name_dataset = [('Laptop Train', laptop_train), ('Laptop Test', laptop_test),\n",
        "                ('Restaurant 14 Train', rest_14_train), \n",
        "                ('Restaurant 14 Test', rest_14_test),\n",
        "                ('Restaurant 16 Train', rest_16_train), \n",
        "                ('Restaurant 16 Test', rest_16_test),\n",
        "                ('Election Twitter Train', election_train),\n",
        "                ('ELection Twitter Test', election_test)]\n",
        "dataset_stats = defaultdict(lambda: {})\n",
        "\n",
        "for name, dataset in name_dataset:\n",
        "  num_sentences = len(dataset)\n",
        "  num_targ_sents = len(dataset.samples_with_targets())\n",
        "  num_targs = dataset.number_targets(incl_none_targets=False)\n",
        "  num_unique_targets = len(dataset.target_count(lower=True))\n",
        "  \n",
        "  dataset_stats[name]['Number Sentences'] = num_sentences\n",
        "  dataset_stats[name]['Number Target Sentences'] = num_targ_sents\n",
        "  dataset_stats[name]['Number Targets'] = num_targs\n",
        "  dataset_stats[name]['Number Uniq Targets'] = num_unique_targets\n",
        "pd.DataFrame(dataset_stats).T  "
      ],
      "execution_count": 45,
      "outputs": [
        {
          "output_type": "execute_result",
          "data": {
            "text/html": [
              "<div>\n",
              "<style scoped>\n",
              "    .dataframe tbody tr th:only-of-type {\n",
              "        vertical-align: middle;\n",
              "    }\n",
              "\n",
              "    .dataframe tbody tr th {\n",
              "        vertical-align: top;\n",
              "    }\n",
              "\n",
              "    .dataframe thead th {\n",
              "        text-align: right;\n",
              "    }\n",
              "</style>\n",
              "<table border=\"1\" class=\"dataframe\">\n",
              "  <thead>\n",
              "    <tr style=\"text-align: right;\">\n",
              "      <th></th>\n",
              "      <th>Number Sentences</th>\n",
              "      <th>Number Target Sentences</th>\n",
              "      <th>Number Targets</th>\n",
              "      <th>Number Uniq Targets</th>\n",
              "    </tr>\n",
              "  </thead>\n",
              "  <tbody>\n",
              "    <tr>\n",
              "      <th>Laptop Train</th>\n",
              "      <td>3045</td>\n",
              "      <td>1462</td>\n",
              "      <td>2313</td>\n",
              "      <td>945</td>\n",
              "    </tr>\n",
              "    <tr>\n",
              "      <th>Laptop Test</th>\n",
              "      <td>800</td>\n",
              "      <td>411</td>\n",
              "      <td>638</td>\n",
              "      <td>389</td>\n",
              "    </tr>\n",
              "    <tr>\n",
              "      <th>Restaurant 14 Train</th>\n",
              "      <td>3041</td>\n",
              "      <td>1978</td>\n",
              "      <td>3602</td>\n",
              "      <td>1195</td>\n",
              "    </tr>\n",
              "    <tr>\n",
              "      <th>Restaurant 14 Test</th>\n",
              "      <td>800</td>\n",
              "      <td>600</td>\n",
              "      <td>1120</td>\n",
              "      <td>520</td>\n",
              "    </tr>\n",
              "    <tr>\n",
              "      <th>Restaurant 16 Train</th>\n",
              "      <td>2000</td>\n",
              "      <td>1708</td>\n",
              "      <td>1883</td>\n",
              "      <td>675</td>\n",
              "    </tr>\n",
              "    <tr>\n",
              "      <th>Restaurant 16 Test</th>\n",
              "      <td>676</td>\n",
              "      <td>587</td>\n",
              "      <td>651</td>\n",
              "      <td>289</td>\n",
              "    </tr>\n",
              "    <tr>\n",
              "      <th>Election Twitter Train</th>\n",
              "      <td>3210</td>\n",
              "      <td>3182</td>\n",
              "      <td>9358</td>\n",
              "      <td>1849</td>\n",
              "    </tr>\n",
              "    <tr>\n",
              "      <th>ELection Twitter Test</th>\n",
              "      <td>867</td>\n",
              "      <td>863</td>\n",
              "      <td>2541</td>\n",
              "      <td>751</td>\n",
              "    </tr>\n",
              "  </tbody>\n",
              "</table>\n",
              "</div>"
            ],
            "text/plain": [
              "                        Number Sentences  ...  Number Uniq Targets\n",
              "Laptop Train                        3045  ...                  945\n",
              "Laptop Test                          800  ...                  389\n",
              "Restaurant 14 Train                 3041  ...                 1195\n",
              "Restaurant 14 Test                   800  ...                  520\n",
              "Restaurant 16 Train                 2000  ...                  675\n",
              "Restaurant 16 Test                   676  ...                  289\n",
              "Election Twitter Train              3210  ...                 1849\n",
              "ELection Twitter Test                867  ...                  751\n",
              "\n",
              "[8 rows x 4 columns]"
            ]
          },
          "metadata": {
            "tags": []
          },
          "execution_count": 45
        }
      ]
    },
    {
      "cell_type": "code",
      "metadata": {
        "id": "bKe2wOa39dxA",
        "colab_type": "code",
        "outputId": "f667a1b1-6d3f-49f1-a376-0e9da6af3742",
        "colab": {
          "base_uri": "https://localhost:8080/",
          "height": 297
        }
      },
      "source": [
        "from collections import defaultdict\n",
        "import pandas as pd\n",
        "\n",
        "name_dataset = [('Laptop Train', laptop_train), ('Laptop Test', laptop_test),\n",
        "                ('Restaurant 14 Train', rest_14_train), \n",
        "                ('Restaurant 14 Test', rest_14_test),\n",
        "                ('Restaurant 16 Train', rest_16_train), \n",
        "                ('Restaurant 16 Test', rest_16_test),\n",
        "                ('Election Twitter Train', election_train),\n",
        "                ('ELection Twitter Test', election_test)]\n",
        "dataset_stats = defaultdict(lambda: {})\n",
        "\n",
        "for name, dataset in name_dataset:\n",
        "  num_sentences = len(dataset)\n",
        "  num_targ_sents = len(dataset.samples_with_targets())\n",
        "  num_targs = dataset.number_targets(incl_none_targets=False)\n",
        "  num_unique_targets = len(dataset.target_count(lower=True))\n",
        "  \n",
        "  dataset_stats[name]['Number Sentences'] = num_sentences\n",
        "  dataset_stats[name]['Number Target Sentences'] = num_targ_sents\n",
        "  dataset_stats[name]['Number Targets'] = num_targs\n",
        "  dataset_stats[name]['Number Uniq Targets'] = num_unique_targets\n",
        "pd.DataFrame(dataset_stats).T  "
      ],
      "execution_count": 46,
      "outputs": [
        {
          "output_type": "execute_result",
          "data": {
            "text/html": [
              "<div>\n",
              "<style scoped>\n",
              "    .dataframe tbody tr th:only-of-type {\n",
              "        vertical-align: middle;\n",
              "    }\n",
              "\n",
              "    .dataframe tbody tr th {\n",
              "        vertical-align: top;\n",
              "    }\n",
              "\n",
              "    .dataframe thead th {\n",
              "        text-align: right;\n",
              "    }\n",
              "</style>\n",
              "<table border=\"1\" class=\"dataframe\">\n",
              "  <thead>\n",
              "    <tr style=\"text-align: right;\">\n",
              "      <th></th>\n",
              "      <th>Number Sentences</th>\n",
              "      <th>Number Target Sentences</th>\n",
              "      <th>Number Targets</th>\n",
              "      <th>Number Uniq Targets</th>\n",
              "    </tr>\n",
              "  </thead>\n",
              "  <tbody>\n",
              "    <tr>\n",
              "      <th>Laptop Train</th>\n",
              "      <td>3045</td>\n",
              "      <td>1462</td>\n",
              "      <td>2313</td>\n",
              "      <td>945</td>\n",
              "    </tr>\n",
              "    <tr>\n",
              "      <th>Laptop Test</th>\n",
              "      <td>800</td>\n",
              "      <td>411</td>\n",
              "      <td>638</td>\n",
              "      <td>389</td>\n",
              "    </tr>\n",
              "    <tr>\n",
              "      <th>Restaurant 14 Train</th>\n",
              "      <td>3041</td>\n",
              "      <td>1978</td>\n",
              "      <td>3602</td>\n",
              "      <td>1195</td>\n",
              "    </tr>\n",
              "    <tr>\n",
              "      <th>Restaurant 14 Test</th>\n",
              "      <td>800</td>\n",
              "      <td>600</td>\n",
              "      <td>1120</td>\n",
              "      <td>520</td>\n",
              "    </tr>\n",
              "    <tr>\n",
              "      <th>Restaurant 16 Train</th>\n",
              "      <td>2000</td>\n",
              "      <td>1708</td>\n",
              "      <td>1883</td>\n",
              "      <td>675</td>\n",
              "    </tr>\n",
              "    <tr>\n",
              "      <th>Restaurant 16 Test</th>\n",
              "      <td>676</td>\n",
              "      <td>587</td>\n",
              "      <td>651</td>\n",
              "      <td>289</td>\n",
              "    </tr>\n",
              "    <tr>\n",
              "      <th>Election Twitter Train</th>\n",
              "      <td>3210</td>\n",
              "      <td>3182</td>\n",
              "      <td>9358</td>\n",
              "      <td>1849</td>\n",
              "    </tr>\n",
              "    <tr>\n",
              "      <th>ELection Twitter Test</th>\n",
              "      <td>867</td>\n",
              "      <td>863</td>\n",
              "      <td>2541</td>\n",
              "      <td>751</td>\n",
              "    </tr>\n",
              "  </tbody>\n",
              "</table>\n",
              "</div>"
            ],
            "text/plain": [
              "                        Number Sentences  ...  Number Uniq Targets\n",
              "Laptop Train                        3045  ...                  945\n",
              "Laptop Test                          800  ...                  389\n",
              "Restaurant 14 Train                 3041  ...                 1195\n",
              "Restaurant 14 Test                   800  ...                  520\n",
              "Restaurant 16 Train                 2000  ...                  675\n",
              "Restaurant 16 Test                   676  ...                  289\n",
              "Election Twitter Train              3210  ...                 1849\n",
              "ELection Twitter Test                867  ...                  751\n",
              "\n",
              "[8 rows x 4 columns]"
            ]
          },
          "metadata": {
            "tags": []
          },
          "execution_count": 46
        }
      ]
    },
    {
      "cell_type": "markdown",
      "metadata": {
        "id": "w8npYR_a5utG",
        "colab_type": "text"
      },
      "source": [
        "These statistics match those of the original SemEval task 4 subtask 1 2014 Laptop/Restaurant dataset [paper](https://www.aclweb.org/anthology/S14-2004), and original SemEval task 5 subtask 1 2016 Restaurant dataset [paper](https://www.aclweb.org/anthology/S16-1002). The statistics for Twitter Election do not match those of the original [paper](https://www.aclweb.org/anthology/E17-1046) but do match those from [Moore et al, 2018 paper](https://www.aclweb.org/anthology/C18-1097) that replicated the experiments and within that paper explains why it does not match the original.\n",
        "\n",
        "However the Restaurant 2016 dataset is reporting the number of (targets, categories) which means that for the target extraction task this is not ideal as we can have duplicate targets with the same spans in the same sentence as each one of those duplicate targets can have a different category. An example of this is shown below:"
      ]
    },
    {
      "cell_type": "code",
      "metadata": {
        "id": "aDJNhXNl47Xw",
        "colab_type": "code",
        "outputId": "8abeb54e-6e47-4aaa-be5c-28305bdf8ead",
        "colab": {
          "base_uri": "https://localhost:8080/",
          "height": 54
        }
      },
      "source": [
        "sample = rest_16_train['1086415:2']\n",
        "sample"
      ],
      "execution_count": 47,
      "outputs": [
        {
          "output_type": "execute_result",
          "data": {
            "text/plain": [
              "TargetText({'text': '$6 and there is much tasty food, all of it fresh and continually refilled.', 'text_id': '1086415:2', 'targets': ['food', 'food', 'food'], 'spans': [Span(start=27, end=31), Span(start=27, end=31), Span(start=27, end=31)], 'target_sentiments': ['positive', 'positive', 'positive'], 'categories': ['FOOD#STYLE_OPTIONS', 'FOOD#QUALITY', 'FOOD#PRICES'], 'category_sentiments': None})"
            ]
          },
          "metadata": {
            "tags": []
          },
          "execution_count": 47
        }
      ]
    },
    {
      "cell_type": "markdown",
      "metadata": {
        "id": "RVXx77-N7WCR",
        "colab_type": "text"
      },
      "source": [
        "As we can see in the example above the target food with the eaxct same span is used three times as each time it has a different category associated to it. To convert the dataset into one that only allows one target with one span use the `one_sample_per_span` function to create a new TargetTextCollection dataset (NOTE: This is only required for the Restaurant 2016 dataset as the previous datasets did not link the target and categories together):\n",
        "\n"
      ]
    },
    {
      "cell_type": "code",
      "metadata": {
        "id": "Ut_BRAFvUYeX",
        "colab_type": "code",
        "outputId": "5400b6ea-7908-4fce-e9b0-0e3f2eacdbb7",
        "colab": {
          "base_uri": "https://localhost:8080/",
          "height": 54
        }
      },
      "source": [
        "rest_target_16_train = rest_16_train.one_sample_per_span(remove_empty=True)\n",
        "rest_target_16_test = rest_16_test.one_sample_per_span(remove_empty=True)\n",
        "\n",
        "sample = rest_target_16_train['1086415:2']\n",
        "sample"
      ],
      "execution_count": 48,
      "outputs": [
        {
          "output_type": "execute_result",
          "data": {
            "text/plain": [
              "TargetText({'text': '$6 and there is much tasty food, all of it fresh and continually refilled.', 'text_id': '1086415:2', 'targets': ['food'], 'spans': [Span(start=27, end=31)], 'target_sentiments': None, 'categories': None, 'category_sentiments': None})"
            ]
          },
          "metadata": {
            "tags": []
          },
          "execution_count": 48
        }
      ]
    },
    {
      "cell_type": "markdown",
      "metadata": {
        "id": "V0A8cFUUUYmn",
        "colab_type": "text"
      },
      "source": [
        "As we can see above the TargetText instance now only has `food` once but we have had to remove all of the category information and sentiment. However this is perfect if we want to just perform the Target Extraction task. \n",
        "\n",
        "NOTE: The `remove_empty=True` argument is required as some of the (target, category) pairs contain targets that are None as in the target does not exist but the category does therefore setting this argument to `True` removes these None targets"
      ]
    },
    {
      "cell_type": "code",
      "metadata": {
        "id": "Wc8hpoCzAE_c",
        "colab_type": "code",
        "outputId": "95ccf999-fc03-45e5-ce5d-6f9ed79f73e9",
        "colab": {
          "base_uri": "https://localhost:8080/",
          "height": 297
        }
      },
      "source": [
        "name_dataset = [('Laptop Train', laptop_train), ('Laptop Test', laptop_test),\n",
        "                ('Restaurant 14 Train', rest_14_train), \n",
        "                ('Restaurant 14 Test', rest_14_test),\n",
        "                ('Restaurant 16 Train', rest_target_16_train), \n",
        "                ('Restaurant 16 Test', rest_target_16_test),\n",
        "                ('Election Twitter Train', election_train),\n",
        "                ('Election Twitter Test', election_test)] \n",
        "dataset_stats = defaultdict(lambda: {})\n",
        "\n",
        "for name, dataset in name_dataset:\n",
        "  num_sentences = len(dataset)\n",
        "  num_targ_sents = len(dataset.samples_with_targets())\n",
        "  num_targs = dataset.number_targets()\n",
        "  \n",
        "  dataset_stats[name]['Number Sentences'] = num_sentences\n",
        "  dataset_stats[name]['Number Target Sentences'] = num_targ_sents\n",
        "  dataset_stats[name]['Number Targets'] = num_targs\n",
        "pd.DataFrame(dataset_stats).T  "
      ],
      "execution_count": 49,
      "outputs": [
        {
          "output_type": "execute_result",
          "data": {
            "text/html": [
              "<div>\n",
              "<style scoped>\n",
              "    .dataframe tbody tr th:only-of-type {\n",
              "        vertical-align: middle;\n",
              "    }\n",
              "\n",
              "    .dataframe tbody tr th {\n",
              "        vertical-align: top;\n",
              "    }\n",
              "\n",
              "    .dataframe thead th {\n",
              "        text-align: right;\n",
              "    }\n",
              "</style>\n",
              "<table border=\"1\" class=\"dataframe\">\n",
              "  <thead>\n",
              "    <tr style=\"text-align: right;\">\n",
              "      <th></th>\n",
              "      <th>Number Sentences</th>\n",
              "      <th>Number Target Sentences</th>\n",
              "      <th>Number Targets</th>\n",
              "    </tr>\n",
              "  </thead>\n",
              "  <tbody>\n",
              "    <tr>\n",
              "      <th>Laptop Train</th>\n",
              "      <td>3045</td>\n",
              "      <td>1462</td>\n",
              "      <td>2313</td>\n",
              "    </tr>\n",
              "    <tr>\n",
              "      <th>Laptop Test</th>\n",
              "      <td>800</td>\n",
              "      <td>411</td>\n",
              "      <td>638</td>\n",
              "    </tr>\n",
              "    <tr>\n",
              "      <th>Restaurant 14 Train</th>\n",
              "      <td>3041</td>\n",
              "      <td>1978</td>\n",
              "      <td>3602</td>\n",
              "    </tr>\n",
              "    <tr>\n",
              "      <th>Restaurant 14 Test</th>\n",
              "      <td>800</td>\n",
              "      <td>600</td>\n",
              "      <td>1120</td>\n",
              "    </tr>\n",
              "    <tr>\n",
              "      <th>Restaurant 16 Train</th>\n",
              "      <td>2000</td>\n",
              "      <td>1235</td>\n",
              "      <td>1745</td>\n",
              "    </tr>\n",
              "    <tr>\n",
              "      <th>Restaurant 16 Test</th>\n",
              "      <td>676</td>\n",
              "      <td>421</td>\n",
              "      <td>613</td>\n",
              "    </tr>\n",
              "    <tr>\n",
              "      <th>Election Twitter Train</th>\n",
              "      <td>3210</td>\n",
              "      <td>3182</td>\n",
              "      <td>9358</td>\n",
              "    </tr>\n",
              "    <tr>\n",
              "      <th>Election Twitter Test</th>\n",
              "      <td>867</td>\n",
              "      <td>863</td>\n",
              "      <td>2541</td>\n",
              "    </tr>\n",
              "  </tbody>\n",
              "</table>\n",
              "</div>"
            ],
            "text/plain": [
              "                        Number Sentences  ...  Number Targets\n",
              "Laptop Train                        3045  ...            2313\n",
              "Laptop Test                          800  ...             638\n",
              "Restaurant 14 Train                 3041  ...            3602\n",
              "Restaurant 14 Test                   800  ...            1120\n",
              "Restaurant 16 Train                 2000  ...            1745\n",
              "Restaurant 16 Test                   676  ...             613\n",
              "Election Twitter Train              3210  ...            9358\n",
              "Election Twitter Test                867  ...            2541\n",
              "\n",
              "[8 rows x 3 columns]"
            ]
          },
          "metadata": {
            "tags": []
          },
          "execution_count": 49
        }
      ]
    },
    {
      "cell_type": "markdown",
      "metadata": {
        "id": "UIRfq7ep-2b8",
        "colab_type": "text"
      },
      "source": [
        "Now that we have re-run the statistics of the dataset we can see that the Restaurant dataset has changed with regards to the Number of targets and target sentences. These statistics are now more in line with previous work ([link](https://www.aclweb.org/anthology/D17-1310) [link](https://www.aclweb.org/anthology/N19-1242)). However there are some reasons why they are not identical only for the Restaurant 2016 dataset, these are artifacts in the original annotation that we found which we share below:\n",
        "\n",
        "### First annotation mistake\n",
        "This is the case where the annotation stats NULL for the target but give a Span value:\n",
        "\n",
        "``` xml\n",
        "<sentence id=\"en_SchoonerOrLater_477965850:10\">\n",
        "  <text>In short, Schooner or Later couldn't have cared less about our being at their establishment.</text>\n",
        "  <Opinions>\n",
        "    <Opinion target=\"NULL\" category=\"SERVICE#GENERAL\" polarity=\"negative\" from=\"10\" to=\"27\"/>\n",
        "  </Opinions>\n",
        "</sentence>\n",
        "```\n",
        "In these cases we change target from `NULL` to `Schooner or Later` and more generally to the text that the span refers to.\n",
        "\n",
        "These mistakes add more targets to the dataset of which in the Restaurant train and test dataset there were 3 (1 of which linked to an exisitng target as in that target now existed twice with difference categories) and 1 mistakes respectively.\n",
        "\n",
        "### Second annotation mistake\n",
        "Annotation stats NULL for the target but the Span value is given but makes no sense:\n",
        "\n",
        "``` xml\n",
        "<sentence id=\"en_MercedesRestaurant_478010600:1\">\n",
        "  <text>– !</text>\n",
        "  <Opinions>\n",
        "    <Opinion target=\"service\" category=\"SERVICE#GENERAL\" polarity=\"positive\" from=\"39\" to=\"46\"/>\n",
        "    <Opinion target=\"NULL\" category=\"FOOD#QUALITY\" polarity=\"positive\" from=\"2\" to=\"21\"/>\n",
        "  </Opinions>\n",
        "</sentence>\n",
        "```\n",
        "As we can see that there is a target which is `NULL` but the spans refers to the following text `rcedes restaurant i` which just makes no sense. Therefore in these cases we leave the target as it does not exist and change the spans to `from = 0` and `to = 0`. In these case they do not affect the overall statistics it just highlights mistakes that have been made. In the Restaurant train and test dataset there were 1 and 4 mistakes respectively.\n",
        "\n",
        "### Furthermore...\n",
        "We found that in the SemEval 2014 Laptop domain dataset there is actually a sample that is in both Train and Test datasets:\n",
        "\n"
      ]
    },
    {
      "cell_type": "code",
      "metadata": {
        "id": "nKC-L-JJJKo9",
        "colab_type": "code",
        "outputId": "ec41f1ac-8265-4668-e50e-c5341c77721c",
        "colab": {
          "base_uri": "https://localhost:8080/",
          "height": 122
        }
      },
      "source": [
        "laptop_train_ids = set(list(laptop_train.keys()))\n",
        "laptop_test_ids = set(list(laptop_test.keys()))\n",
        "id_in_both_train_test = laptop_test_ids.intersection(laptop_train_ids)\n",
        "id_in_both_train_test = list(id_in_both_train_test)[0]\n",
        "print(f'The ID that is in both Laptop train and test {id_in_both_train_test}')\n",
        "print(f'As shown the Sample in the Train:\\n{laptop_train[id_in_both_train_test]}')\n",
        "print(f'As shown the Sample in the Test:\\n{laptop_test[id_in_both_train_test]}')"
      ],
      "execution_count": 50,
      "outputs": [
        {
          "output_type": "stream",
          "text": [
            "The ID that is in both Laptop train and test 227\n",
            "As shown the Sample in the Train:\n",
            "TargetText({'text': 'If you want more information on macs I suggest going to apple.com and heading towards the macbook page for more information on the applications.', 'text_id': '227', 'targets': ['applications'], 'spans': [Span(start=131, end=143)], 'target_sentiments': ['neutral'], 'categories': None, 'category_sentiments': None})\n",
            "As shown the Sample in the Test:\n",
            "TargetText({'text': 'If you want more information on macs I suggest going to apple.com and heading towards the macbook page for more information on the applications.', 'text_id': '227', 'targets': ['applications'], 'spans': [Span(start=131, end=143)], 'target_sentiments': ['neutral'], 'categories': None, 'category_sentiments': None})\n"
          ],
          "name": "stdout"
        }
      ]
    },
    {
      "cell_type": "markdown",
      "metadata": {
        "id": "p54sYntmJK0D",
        "colab_type": "text"
      },
      "source": [
        "## Tokenization\n",
        "\n",
        "The `target_extraction` has a few tokenization options avaliable:\n",
        "1. [Spacy](https://spacy.io/) -- Rule based tokenizer. \n",
        "2. [Stanford](https://stanfordnlp.github.io/stanfordnlp/), related [paper](https://www.aclweb.org/anthology/K18-2016) -- Neural Network based tokenizer.\n",
        "3. [Twokenize](https://github.com/brendano/ark-tweet-nlp) [related paper](https://www.cs.cmu.edu/~ark/TweetNLP/gimpel+etal.acl11.pdf) -- Twitter based tokenizer.\n",
        "4. Whitespace.\n",
        "\n",
        "Both the Spacy and Stanford tokenizers support multiple languages.\n",
        "\n",
        "To use any of the tokenizers we have to call the tokenizers method to get a related tokenizer as shown below:"
      ]
    },
    {
      "cell_type": "code",
      "metadata": {
        "id": "h6uFrcF0F3WD",
        "colab_type": "code",
        "outputId": "acd313ba-2692-43cb-c74d-399d50c9c5e1",
        "colab": {
          "base_uri": "https://localhost:8080/",
          "height": 323
        }
      },
      "source": [
        "from target_extraction import tokenizers\n",
        "\n",
        "example_sentence = \"I've had a great day today. The tokenizer's work well.\"\n",
        "\n",
        "# Get different spacy tokenizers\n",
        "# English is the default language\n",
        "spacy_tok_en = tokenizers.spacy_tokenizer()\n",
        "# German\n",
        "spacy_tok_de = tokenizers.spacy_tokenizer(lang='de')\n",
        "\n",
        "\n",
        "# Get different Stanford tokenizers\n",
        "# English again is the default language and the default treebank is EWT\n",
        "stanford_tok_en = tokenizers.stanford()\n",
        "# Dutch but with a treebank that is not default\n",
        "stanford_tok_nl = tokenizers.stanford(lang='nl', treebank='lassysmall')\n",
        "\n",
        "twitter_tok = tokenizers.ark_twokenize()\n",
        "\n",
        "# Whitespace\n",
        "whitespace_tok = tokenizers.whitespace()\n",
        "\n",
        "print(f'Spacy: {spacy_tok_en(example_sentence)}')\n",
        "print(f'Stanford: {stanford_tok_en(example_sentence)}')\n",
        "print(f'Twokenize {twitter_tok(example_sentence)}')\n",
        "print(f'Whitespace {whitespace_tok(example_sentence)}')\n"
      ],
      "execution_count": 51,
      "outputs": [
        {
          "output_type": "stream",
          "text": [
            "Use device: cpu\n",
            "---\n",
            "Loading: tokenize\n",
            "With settings: \n",
            "{'model_path': '/root/stanfordnlp_resources/en_ewt_models/en_ewt_tokenizer.pt', 'lang': 'en', 'shorthand': 'en_ewt', 'mode': 'predict'}\n",
            "Done loading processors!\n",
            "---\n",
            "Use device: cpu\n",
            "---\n",
            "Loading: tokenize\n",
            "With settings: \n",
            "{'model_path': '/root/stanfordnlp_resources/nl_lassysmall_models/nl_lassysmall_tokenizer.pt', 'lang': 'nl', 'shorthand': 'nl_lassysmall', 'mode': 'predict'}\n",
            "Done loading processors!\n",
            "---\n",
            "Spacy: ['I', \"'ve\", 'had', 'a', 'great', 'day', 'today', '.', 'The', 'tokenizer', \"'s\", 'work', 'well', '.']\n",
            "Stanford: ['I', \"'ve\", 'had', 'a', 'great', 'day', 'today', '.', 'The', 'tokenizer', \"'s\", 'work', 'well', '.']\n",
            "Twokenize [\"I've\", 'had', 'a', 'great', 'day', 'today', '.', 'The', \"tokenizer's\", 'work', 'well', '.']\n",
            "Whitespace [\"I've\", 'had', 'a', 'great', 'day', 'today.', 'The', \"tokenizer's\", 'work', 'well.']\n"
          ],
          "name": "stdout"
        }
      ]
    },
    {
      "cell_type": "markdown",
      "metadata": {
        "id": "debbcG-QJAuN",
        "colab_type": "text"
      },
      "source": [
        "As we can see the Spacy and the Stanford tokenizers are more similar than the whitespacy with regards to handling full stops and hyphons.\n",
        "\n",
        "We can also use these tokenizers to tokenizse the whole of our datasets easily as shown below (in the example below we use the Spacy tokenizer):"
      ]
    },
    {
      "cell_type": "code",
      "metadata": {
        "id": "_Ch0NqWX0Q65",
        "colab_type": "code",
        "outputId": "8cd3ac0a-f902-40b9-be8f-b1e857b26197",
        "colab": {
          "base_uri": "https://localhost:8080/",
          "height": 187
        }
      },
      "source": [
        "# Tokenize each dataset\n",
        "for name, dataset in name_dataset:\n",
        "  print(name)\n",
        "  dataset.tokenize(spacy_tok_en)\n",
        "\n",
        "sample = rest_target_16_train['1086415:2']\n",
        "print(f\"Text: {sample['text']}\\nTokens: {sample['tokenized_text']}\")"
      ],
      "execution_count": 52,
      "outputs": [
        {
          "output_type": "stream",
          "text": [
            "Laptop Train\n",
            "Laptop Test\n",
            "Restaurant 14 Train\n",
            "Restaurant 14 Test\n",
            "Restaurant 16 Train\n",
            "Restaurant 16 Test\n",
            "Election Twitter Train\n",
            "Election Twitter Test\n",
            "Text: $6 and there is much tasty food, all of it fresh and continually refilled.\n",
            "Tokens: ['$', '6', 'and', 'there', 'is', 'much', 'tasty', 'food', ',', 'all', 'of', 'it', 'fresh', 'and', 'continually', 'refilled', '.']\n"
          ],
          "name": "stdout"
        }
      ]
    },
    {
      "cell_type": "markdown",
      "metadata": {
        "id": "kYyrQDX4VAHd",
        "colab_type": "text"
      },
      "source": [
        "We see that within the TargetTextCollection each sample now has a new property (key in the internal disctionary) `tokenized_text` which contains the tokenized text for that sample.\n",
        "\n",
        "## POS Tagging\n",
        "The `target_extraction` has a couple of POS tagging options avaliable:\n",
        "1. [Spacy](https://spacy.io/) -- Neural Network based. \n",
        "2. [Stanford](https://stanfordnlp.github.io/stanfordnlp/), related [paper](https://www.aclweb.org/anthology/K18-2016) -- Neural Network based.\n",
        "\n",
        "Both the Spacy and Stanford POS taggers support multiple languages. They also both support two different types of tag sets:\n",
        "1. [Universal POS tags (coarse)](https://universaldependencies.org/u/pos/) -- These are the same tags accross languages.\n",
        "2. Language Specific (fine) -- These are language independent tags and are usuall more fine grained than the Universal, an example of this tag set would be the [Penn Treebank](https://www.clips.uantwerpen.be/pages/mbsp-tags).\n",
        "\n",
        "**NOTE** Currently we have not got a POS tagger for the Twitter social media texts.\n",
        "\n",
        "To use any of the POS taggers we have to call the POS tagger's method to get the related POS tagger as shown below:"
      ]
    },
    {
      "cell_type": "code",
      "metadata": {
        "id": "fkzuuM8q8Sph",
        "colab_type": "code",
        "outputId": "435f1b12-76c0-45ff-a371-6ba655ab9a11",
        "colab": {
          "base_uri": "https://localhost:8080/",
          "height": 649
        }
      },
      "source": [
        "from target_extraction import pos_taggers\n",
        "\n",
        "example_sentence = \"I've had a great day today. The tokenizer's work well.\"\n",
        "\n",
        "# Get different spacy tokenizers\n",
        "# English is the default language with the small model and here we have chosen \n",
        "# the universal tag set\n",
        "spacy_pos_en = pos_taggers.spacy_tagger(fine=False)\n",
        "# German with the small model and language independent tag set\n",
        "spacy_pos_de = pos_taggers.spacy_tagger(spacy_model_name='de_core_news_sm', \n",
        "                                        fine=True)\n",
        "\n",
        "\n",
        "# Get different Stanford tokenizers\n",
        "# English again is the default language and the default treebank is EWT, \n",
        "# using language independent tag set.\n",
        "stanford_pos_en_fine = pos_taggers.stanford(fine=True)\n",
        "# Dutch but with a treebank that is not default and language independent tag set\n",
        "stanford_pos_nl = pos_taggers.stanford(lang='nl', treebank='lassysmall', fine=True)\n",
        "# English again is the default language and the default treebank is EWT, \n",
        "# using the universal tag set\n",
        "stanford_pos_en_coarse = pos_taggers.stanford(fine=False)\n",
        "\n",
        "print(f'Stanford Language Independent: {stanford_pos_en_fine(example_sentence)}')\n",
        "print(f'Stanford Universal: {stanford_pos_en_coarse(example_sentence)}')\n",
        "print(f'Spacy: {spacy_pos_en(example_sentence)}')\n"
      ],
      "execution_count": 53,
      "outputs": [
        {
          "output_type": "stream",
          "text": [
            "Use device: cpu\n",
            "---\n",
            "Loading: tokenize\n",
            "With settings: \n",
            "{'model_path': '/root/stanfordnlp_resources/en_ewt_models/en_ewt_tokenizer.pt', 'lang': 'en', 'shorthand': 'en_ewt', 'mode': 'predict'}\n",
            "---\n",
            "Loading: pos\n",
            "With settings: \n",
            "{'model_path': '/root/stanfordnlp_resources/en_ewt_models/en_ewt_tagger.pt', 'pretrain_path': '/root/stanfordnlp_resources/en_ewt_models/en_ewt.pretrain.pt', 'lang': 'en', 'shorthand': 'en_ewt', 'mode': 'predict'}\n",
            "Done loading processors!\n",
            "---\n",
            "Use device: cpu\n",
            "---\n",
            "Loading: tokenize\n",
            "With settings: \n",
            "{'model_path': '/root/stanfordnlp_resources/nl_lassysmall_models/nl_lassysmall_tokenizer.pt', 'lang': 'nl', 'shorthand': 'nl_lassysmall', 'mode': 'predict'}\n",
            "---\n",
            "Loading: pos\n",
            "With settings: \n",
            "{'model_path': '/root/stanfordnlp_resources/nl_lassysmall_models/nl_lassysmall_tagger.pt', 'pretrain_path': '/root/stanfordnlp_resources/nl_lassysmall_models/nl_lassysmall.pretrain.pt', 'lang': 'nl', 'shorthand': 'nl_lassysmall', 'mode': 'predict'}\n",
            "Done loading processors!\n",
            "---\n",
            "Use device: cpu\n",
            "---\n",
            "Loading: tokenize\n",
            "With settings: \n",
            "{'model_path': '/root/stanfordnlp_resources/en_ewt_models/en_ewt_tokenizer.pt', 'lang': 'en', 'shorthand': 'en_ewt', 'mode': 'predict'}\n",
            "---\n",
            "Loading: pos\n",
            "With settings: \n",
            "{'model_path': '/root/stanfordnlp_resources/en_ewt_models/en_ewt_tagger.pt', 'pretrain_path': '/root/stanfordnlp_resources/en_ewt_models/en_ewt.pretrain.pt', 'lang': 'en', 'shorthand': 'en_ewt', 'mode': 'predict'}\n",
            "Done loading processors!\n",
            "---\n",
            "Stanford Language Independent: (['I', \"'ve\", 'had', 'a', 'great', 'day', 'today', '.', 'The', 'tokenizer', \"'s\", 'work', 'well', '.'], ['PRP', 'VBP', 'VBN', 'DT', 'JJ', 'NN', 'NN', '.', 'DT', 'NN', 'POS', 'NN', 'RB', '.'])\n",
            "Stanford Universal: (['I', \"'ve\", 'had', 'a', 'great', 'day', 'today', '.', 'The', 'tokenizer', \"'s\", 'work', 'well', '.'], ['PRON', 'AUX', 'VERB', 'DET', 'ADJ', 'NOUN', 'NOUN', 'PUNCT', 'DET', 'NOUN', 'PART', 'NOUN', 'ADV', 'PUNCT'])\n",
            "Spacy: (['I', \"'ve\", 'had', 'a', 'great', 'day', 'today', '.', 'The', 'tokenizer', \"'s\", 'work', 'well', '.'], ['PRON', 'VERB', 'VERB', 'DET', 'ADJ', 'NOUN', 'NOUN', 'PUNCT', 'DET', 'NOUN', 'PART', 'NOUN', 'ADV', 'PUNCT'])\n"
          ],
          "name": "stdout"
        }
      ]
    },
    {
      "cell_type": "markdown",
      "metadata": {
        "id": "3o_2NT8cZNLv",
        "colab_type": "text"
      },
      "source": [
        "We can easily see the difference between the universal and independent tag sets.\n",
        "\n",
        "Like the tokenizers we can easily POS tag the whole dataset as shown below: \n",
        "\n",
        "**NOTE** You can call the POS taggers without having to call the tokenizers and it will POS tag and re-tokenize the text so that the tokenized tokens match the POS tags."
      ]
    },
    {
      "cell_type": "code",
      "metadata": {
        "id": "LEy1RJKG9BMs",
        "colab_type": "code",
        "outputId": "b6d99685-c379-4267-c65e-7a7f18836af3",
        "colab": {
          "base_uri": "https://localhost:8080/",
          "height": 204
        }
      },
      "source": [
        "# POS tag each dataset\n",
        "for name, dataset in name_dataset:\n",
        "  print(name)\n",
        "  dataset.pos_text(spacy_pos_en)\n",
        "\n",
        "sample = rest_target_16_train['1086415:2']\n",
        "print(f\"Text: {sample['text']}\\nTokens: {sample['tokenized_text']}\\nPOS tags: {sample['pos_tags']}\")"
      ],
      "execution_count": 54,
      "outputs": [
        {
          "output_type": "stream",
          "text": [
            "Laptop Train\n",
            "Laptop Test\n",
            "Restaurant 14 Train\n",
            "Restaurant 14 Test\n",
            "Restaurant 16 Train\n",
            "Restaurant 16 Test\n",
            "Election Twitter Train\n",
            "Election Twitter Test\n",
            "Text: $6 and there is much tasty food, all of it fresh and continually refilled.\n",
            "Tokens: ['$', '6', 'and', 'there', 'is', 'much', 'tasty', 'food', ',', 'all', 'of', 'it', 'fresh', 'and', 'continually', 'refilled', '.']\n",
            "POS tags: ['SYM', 'NUM', 'CCONJ', 'ADV', 'VERB', 'ADJ', 'ADJ', 'NOUN', 'PUNCT', 'DET', 'ADP', 'PRON', 'ADJ', 'CCONJ', 'ADV', 'VERB', 'PUNCT']\n"
          ],
          "name": "stdout"
        }
      ]
    },
    {
      "cell_type": "markdown",
      "metadata": {
        "id": "LizqSLg_dBqt",
        "colab_type": "text"
      },
      "source": [
        "## To and From JSON\n",
        "\n",
        "Once loaded into the TargetTextCollection format it is easy to export to JSON format and import into a TargetTextCollection from JSON as shown below:"
      ]
    },
    {
      "cell_type": "code",
      "metadata": {
        "id": "KzS0-jAsAPbO",
        "colab_type": "code",
        "outputId": "a21146b3-688f-4c00-e239-63a0cc6013d4",
        "colab": {
          "base_uri": "https://localhost:8080/",
          "height": 71
        }
      },
      "source": [
        "from target_extraction.data_types import TargetTextCollection\n",
        "\n",
        "example_json = laptop_train.to_json()[:200]\n",
        "print(f'Sample of the JSON: {example_json}')\n",
        "empty_collection = TargetTextCollection.from_json(laptop_train.to_json())\n",
        "empty_collection == laptop_train"
      ],
      "execution_count": 55,
      "outputs": [
        {
          "output_type": "stream",
          "text": [
            "Sample of the JSON: {\"text\": \"I charge it at night and skip taking the cord with me because of the good battery life.\", \"text_id\": \"2339\", \"targets\": [\"cord\", \"battery life\"], \"spans\": [[41, 45], [74, 86]], \"target_senti\n"
          ],
          "name": "stdout"
        },
        {
          "output_type": "execute_result",
          "data": {
            "text/plain": [
              "True"
            ]
          },
          "metadata": {
            "tags": []
          },
          "execution_count": 55
        }
      ]
    },
    {
      "cell_type": "markdown",
      "metadata": {
        "id": "B0n2imrvC1-l",
        "colab_type": "text"
      },
      "source": [
        "As we can see above we can export to a JSON string and import from a JSON string. Below we show similar methods but instead of exporting and importing from Strings we do this from Files or more specifically File Paths:"
      ]
    },
    {
      "cell_type": "code",
      "metadata": {
        "id": "aEKt2heGC1ZN",
        "colab_type": "code",
        "outputId": "17794e24-6682-4d17-cd16-de9f4fcb9c4c",
        "colab": {
          "base_uri": "https://localhost:8080/",
          "height": 34
        }
      },
      "source": [
        "from pathlib import Path\n",
        "import tempfile\n",
        "\n",
        "with tempfile.NamedTemporaryFile(mode='w+') as temp_file:\n",
        "  temp_fp = Path(temp_file.name)\n",
        "  laptop_train.to_json_file(temp_fp)\n",
        "  empty_collection = None\n",
        "  empty_collection = TargetTextCollection.load_json(temp_fp)\n",
        "  print(empty_collection == laptop_train)"
      ],
      "execution_count": 56,
      "outputs": [
        {
          "output_type": "stream",
          "text": [
            "True\n"
          ],
          "name": "stdout"
        }
      ]
    },
    {
      "cell_type": "markdown",
      "metadata": {
        "id": "-aKxDgWzD3Fd",
        "colab_type": "text"
      },
      "source": [
        "And as expected the TargetTextCollection loaded from the JSON file is the same as the one that exported it into JSON.\n",
        "\n",
        "## Creating the sequence labelling task for Target Extraction and the True Upper limit\n",
        "The Target Extraction (TE) task within Aspect Based Sentiment Analysis (ABSA) is normally formulated as a Sequence Labelling task ([paper link](https://www.aclweb.org/anthology/P18-2094)), however unlike other sequence labelling problems that have pre-tokenized text with gold sequence labels like [NER](https://www.aclweb.org/anthology/P16-1101) TE is evaluated based on Eaxct Span Matching not Sequence Labels.\n",
        "\n",
        "This means that if we do treat the task as a sequence labelling task we can have tokenization errors and we show this below and thus show (we believe) for the first time the true upper limit of TE when treating it as a sequence labelling task due to tokenization error."
      ]
    },
    {
      "cell_type": "code",
      "metadata": {
        "id": "MTNzCGjaCgIt",
        "colab_type": "code",
        "outputId": "6acd3131-3082-4442-ef83-33a4b65a126f",
        "colab": {
          "base_uri": "https://localhost:8080/",
          "height": 221
        }
      },
      "source": [
        "# Just to let you know for the Future to perform sequence_labels it requires\n",
        "# you to tokenize the TargetTextCollection first\n",
        "\n",
        "sequence_label_errors = {}\n",
        "for name, dataset in name_dataset:\n",
        "  print(name)\n",
        "  # Return errors shows if any samples have overlapping targets\n",
        "  return_errors = dataset.sequence_labels(return_errors=True)\n",
        "  sequence_label_errors[name] = return_errors\n",
        "sample = rest_target_16_train['1086415:2']\n",
        "print(sample['sequence_labels'])\n",
        "print(sample['tokenized_text'])\n",
        "print(sample['targets'])\n",
        "print(sample['spans'])"
      ],
      "execution_count": 57,
      "outputs": [
        {
          "output_type": "stream",
          "text": [
            "Laptop Train\n",
            "Laptop Test\n",
            "Restaurant 14 Train\n",
            "Restaurant 14 Test\n",
            "Restaurant 16 Train\n",
            "Restaurant 16 Test\n",
            "Election Twitter Train\n",
            "Election Twitter Test\n",
            "['O', 'O', 'O', 'O', 'O', 'O', 'O', 'B', 'O', 'O', 'O', 'O', 'O', 'O', 'O', 'O', 'O']\n",
            "['$', '6', 'and', 'there', 'is', 'much', 'tasty', 'food', ',', 'all', 'of', 'it', 'fresh', 'and', 'continually', 'refilled', '.']\n",
            "['food']\n",
            "[Span(start=27, end=31)]\n"
          ],
          "name": "stdout"
        }
      ]
    },
    {
      "cell_type": "markdown",
      "metadata": {
        "id": "F9zAJinSuzy0",
        "colab_type": "text"
      },
      "source": [
        "### Errors when creating the sequence labelling task\n",
        "\n",
        "We next want to check if any of our datasets had any errors when creating the sequence labels:"
      ]
    },
    {
      "cell_type": "code",
      "metadata": {
        "id": "Od8Zgz4foB4I",
        "colab_type": "code",
        "outputId": "d0c408f7-b95d-4d49-9d60-5016d2f93950",
        "colab": {
          "base_uri": "https://localhost:8080/",
          "height": 153
        }
      },
      "source": [
        "for dataset_name, return_errors in sequence_label_errors.items():\n",
        "  print(f'Dataset {dataset_name}, number of errors: {len(return_errors)}')"
      ],
      "execution_count": 58,
      "outputs": [
        {
          "output_type": "stream",
          "text": [
            "Dataset Laptop Train, number of errors: 0\n",
            "Dataset Laptop Test, number of errors: 0\n",
            "Dataset Restaurant 14 Train, number of errors: 0\n",
            "Dataset Restaurant 14 Test, number of errors: 0\n",
            "Dataset Restaurant 16 Train, number of errors: 0\n",
            "Dataset Restaurant 16 Test, number of errors: 0\n",
            "Dataset Election Twitter Train, number of errors: 6\n",
            "Dataset Election Twitter Test, number of errors: 2\n"
          ],
          "name": "stdout"
        }
      ]
    },
    {
      "cell_type": "markdown",
      "metadata": {
        "id": "h6nsQInlMHem",
        "colab_type": "text"
      },
      "source": [
        "As we can see only the Election Twitter dataset has these Sequence Label Errors of which an example of one can be seen below:"
      ]
    },
    {
      "cell_type": "code",
      "metadata": {
        "id": "0hpka6syMPIK",
        "colab_type": "code",
        "outputId": "f95047fe-8332-48fa-a620-39603265b03b",
        "colab": {
          "base_uri": "https://localhost:8080/",
          "height": 54
        }
      },
      "source": [
        "sequence_label_errors['Election Twitter Train'][2]"
      ],
      "execution_count": 59,
      "outputs": [
        {
          "output_type": "execute_result",
          "data": {
            "text/plain": [
              "TargetText({'text': '.@George_Osborne reiterates pledge to raise the personal income tax allowance to £12.5k, if the Tories win the #GE2015. #Budget2015 #Marr', 'text_id': '77050468909772800', 'targets': ['@George_Osborne', 'income tax', 'Budget2015', 'tax allowance', 'Tories'], 'spans': [Span(start=1, end=16), Span(start=57, end=67), Span(start=121, end=131), Span(start=64, end=77), Span(start=96, end=102)], 'target_sentiments': ['positive', 'positive', 'positive', 'positive', 'positive'], 'categories': None, 'category_sentiments': None, 'tokenized_text': ['.@George_Osborne', 'reiterates', 'pledge', 'to', 'raise', 'the', 'personal', 'income', 'tax', 'allowance', 'to', '£', '12.5k', ',', 'if', 'the', 'Tories', 'win', 'the', '#', 'GE2015', '.', '#', 'Budget2015', '#', 'Marr'], 'pos_tags': ['ADV', 'NOUN', 'VERB', 'PART', 'VERB', 'DET', 'ADJ', 'NOUN', 'NOUN', 'NOUN', 'ADP', 'NOUN', 'NUM', 'PUNCT', 'ADP', 'DET', 'PROPN', 'VERB', 'DET', 'SYM', 'NOUN', 'PUNCT', 'SYM', 'PROPN', 'NOUN', 'PROPN']})"
            ]
          },
          "metadata": {
            "tags": []
          },
          "execution_count": 59
        }
      ]
    },
    {
      "cell_type": "markdown",
      "metadata": {
        "id": "YVHnkmAPMegE",
        "colab_type": "text"
      },
      "source": [
        "Where in the example above there are two targets that overlap with each other: `income tax` and `tax allowance`\n",
        "\n",
        "This is a problem for sequence labelling as we would treat this as a BIO labelling task and if there is overlap as shown above we don't know if we should label `tax` as an `I` in the case of `income tax` or a `B` in the case of `tax allowance`. Therefore to avoid this problem we are going to remove these samples from our Election Train and Test datasets:"
      ]
    },
    {
      "cell_type": "code",
      "metadata": {
        "id": "5btSs42cNCp4",
        "colab_type": "code",
        "outputId": "cf5cf08f-1dde-4f76-d50a-cef73a021260",
        "colab": {
          "base_uri": "https://localhost:8080/",
          "height": 85
        }
      },
      "source": [
        "print(len(election_train))\n",
        "election_train_errors = sequence_label_errors['Election Twitter Train']\n",
        "for error in election_train_errors:\n",
        "  del election_train[error['text_id']]\n",
        "print(len(election_train))\n",
        "\n",
        "print(len(election_test))\n",
        "election_test_errors = sequence_label_errors['Election Twitter Test']\n",
        "for error in election_test_errors:\n",
        "  del election_test[error['text_id']]\n",
        "print(len(election_test))"
      ],
      "execution_count": 60,
      "outputs": [
        {
          "output_type": "stream",
          "text": [
            "3210\n",
            "3204\n",
            "867\n",
            "865\n"
          ],
          "name": "stdout"
        }
      ]
    },
    {
      "cell_type": "markdown",
      "metadata": {
        "id": "Lzx6k0sJa90v",
        "colab_type": "text"
      },
      "source": [
        "### Tokenization errors example in detail\n",
        "Above we have used the Gold Spans to create the sequence labels based on the tokenization and we have printed the sequence labels, tokens, and the Gold Spans and in this case the Spans align perfectly with the tokens. However the assumption I think in the field is that tokenization does not cause any errors but this is not True as not all tokens perfectly align with the Gold Spans an example of this is shown below. "
      ]
    },
    {
      "cell_type": "code",
      "metadata": {
        "id": "ax0_gUw1fcsm",
        "colab_type": "code",
        "outputId": "c169e13c-fac5-4532-d6ce-a31649cf1e29",
        "colab": {
          "base_uri": "https://localhost:8080/",
          "height": 238
        }
      },
      "source": [
        "measures = laptop_train.exact_match_score('sequence_labels')\n",
        "recall, precision, f1, errors_analysis = measures\n",
        "print(f'Recall: {recall:.3f}\\nPrecision: {precision:.3f}\\nF1: {f1:.3f}\\n')\n",
        "\n",
        "false_positive_mistakes = errors_analysis['FP']\n",
        "false_negative_mistakes = errors_analysis['FN']\n",
        "print(f'Example of mistake return {false_positive_mistakes[0]}')\n",
        "fp_sample_mistake_id = false_positive_mistakes[0][0]\n",
        "fp_sample_mistake_span = false_positive_mistakes[0][1]\n",
        "\n",
        "fp_sample = laptop_train['2752']\n",
        "incorrect_target = fp_sample['text'][fp_sample_mistake_span.start:fp_sample_mistake_span.end]\n",
        "print(f'FP Mistake using `Golden` sequence labels:\\nText: {fp_sample[\"text\"]}'\n",
        "      f'\\nTokenised Text: {fp_sample[\"tokenized_text\"]}\\n'\n",
        "      f'Gold Sequence Labels: {fp_sample[\"sequence_labels\"]}\\n'\n",
        "      f'Gold Spans: {fp_sample[\"spans\"]}\\nGold Targets: {fp_sample[\"targets\"]}\\n'\n",
        "      f'The Span that is the mistake: {fp_sample_mistake_span}\\n'\n",
        "      f'The Target the incorrect span picked out: {incorrect_target}')"
      ],
      "execution_count": 61,
      "outputs": [
        {
          "output_type": "stream",
          "text": [
            "Recall: 0.994\n",
            "Precision: 0.997\n",
            "F1: 0.995\n",
            "\n",
            "Example of mistake return ('2752', Span(start=15, end=23))\n",
            "FP Mistake using `Golden` sequence labels:\n",
            "Text: I am using the external speaker- sound is good.\n",
            "Tokenised Text: ['I', 'am', 'using', 'the', 'external', 'speaker-', 'sound', 'is', 'good', '.']\n",
            "Gold Sequence Labels: ['O', 'O', 'O', 'O', 'B', 'O', 'B', 'O', 'O', 'O']\n",
            "Gold Spans: [Span(start=15, end=31), Span(start=33, end=38)]\n",
            "Gold Targets: ['external speaker', 'sound']\n",
            "The Span that is the mistake: Span(start=15, end=23)\n",
            "The Target the incorrect span picked out: external\n"
          ],
          "name": "stdout"
        }
      ]
    },
    {
      "cell_type": "markdown",
      "metadata": {
        "id": "MSfWoAz9_Jit",
        "colab_type": "text"
      },
      "source": [
        "We can see why it did not pick out `external speaker` as a Multi Word Target because the tokenization did not Seperate `speaker` with the `-` thus `speaker-` was not labelled and even if it was it would be incorrect as `external speaker-` is not equal to `external speaker`\n",
        "\n",
        "### True upper limit on Target Extraction\n",
        "\n",
        "Below we show what the true F1 scores are for the different datasets with the four different tokenization methods."
      ]
    },
    {
      "cell_type": "code",
      "metadata": {
        "id": "jUMbzmUWVZVF",
        "colab_type": "code",
        "outputId": "60b82d97-8de0-432e-a020-e0c5ab6feae1",
        "colab": {
          "base_uri": "https://localhost:8080/",
          "height": 297
        }
      },
      "source": [
        "name_tokenizer = [('Stanford', stanford_tok_en), ('Spacy', spacy_tok_en),\n",
        "                  ('Twokenize', twitter_tok), ('Whitespace', whitespace_tok)]\n",
        "dataset_tok_errors = {}\n",
        "dataset_tokenizer = defaultdict(lambda: {})\n",
        "for dataset_name, dataset in name_dataset:\n",
        "  for tokenizer_name, tokenizer in name_tokenizer:\n",
        "    try:\n",
        "      dataset.tokenize(tokenizer)\n",
        "      errors = dataset.sequence_labels(return_errors=True)\n",
        "      if errors:\n",
        "        dataset_tok_errors[f'{dataset_name} {tokenizer_name}'] = errors\n",
        "        f1 = 0.0\n",
        "      else:\n",
        "        measures = dataset.exact_match_score('sequence_labels')\n",
        "        f1 = measures[2]\n",
        "    except:\n",
        "      dataset_tok_errors[f'{dataset_name} {tokenizer_name}'] = 'Tokenization error'\n",
        "      f1 = 0.0\n",
        "    dataset_tokenizer[dataset_name][tokenizer_name] = f1\n",
        "pd.DataFrame(dataset_tokenizer).T.round(3)"
      ],
      "execution_count": 0,
      "outputs": [
        {
          "output_type": "execute_result",
          "data": {
            "text/html": [
              "<div>\n",
              "<style scoped>\n",
              "    .dataframe tbody tr th:only-of-type {\n",
              "        vertical-align: middle;\n",
              "    }\n",
              "\n",
              "    .dataframe tbody tr th {\n",
              "        vertical-align: top;\n",
              "    }\n",
              "\n",
              "    .dataframe thead th {\n",
              "        text-align: right;\n",
              "    }\n",
              "</style>\n",
              "<table border=\"1\" class=\"dataframe\">\n",
              "  <thead>\n",
              "    <tr style=\"text-align: right;\">\n",
              "      <th></th>\n",
              "      <th>Spacy</th>\n",
              "      <th>Stanford</th>\n",
              "      <th>Twokenize</th>\n",
              "      <th>Whitespace</th>\n",
              "    </tr>\n",
              "  </thead>\n",
              "  <tbody>\n",
              "    <tr>\n",
              "      <th>Laptop Train</th>\n",
              "      <td>0.995</td>\n",
              "      <td>0.997</td>\n",
              "      <td>0.993</td>\n",
              "      <td>0.749</td>\n",
              "    </tr>\n",
              "    <tr>\n",
              "      <th>Laptop Test</th>\n",
              "      <td>0.993</td>\n",
              "      <td>0.992</td>\n",
              "      <td>0.991</td>\n",
              "      <td>0.709</td>\n",
              "    </tr>\n",
              "    <tr>\n",
              "      <th>Restaurant 14 Train</th>\n",
              "      <td>0.999</td>\n",
              "      <td>0.999</td>\n",
              "      <td>0.997</td>\n",
              "      <td>0.775</td>\n",
              "    </tr>\n",
              "    <tr>\n",
              "      <th>Restaurant 14 Test</th>\n",
              "      <td>0.999</td>\n",
              "      <td>1.000</td>\n",
              "      <td>0.998</td>\n",
              "      <td>0.724</td>\n",
              "    </tr>\n",
              "    <tr>\n",
              "      <th>Restaurant 16 Train</th>\n",
              "      <td>0.998</td>\n",
              "      <td>0.999</td>\n",
              "      <td>0.997</td>\n",
              "      <td>0.793</td>\n",
              "    </tr>\n",
              "    <tr>\n",
              "      <th>Restaurant 16 Test</th>\n",
              "      <td>0.995</td>\n",
              "      <td>1.000</td>\n",
              "      <td>0.000</td>\n",
              "      <td>0.757</td>\n",
              "    </tr>\n",
              "    <tr>\n",
              "      <th>Election Twitter Train</th>\n",
              "      <td>0.991</td>\n",
              "      <td>0.000</td>\n",
              "      <td>0.910</td>\n",
              "      <td>0.780</td>\n",
              "    </tr>\n",
              "    <tr>\n",
              "      <th>Election Twitter Test</th>\n",
              "      <td>0.991</td>\n",
              "      <td>0.962</td>\n",
              "      <td>0.915</td>\n",
              "      <td>0.785</td>\n",
              "    </tr>\n",
              "  </tbody>\n",
              "</table>\n",
              "</div>"
            ],
            "text/plain": [
              "                        Spacy  Stanford  Twokenize  Whitespace\n",
              "Laptop Train            0.995     0.997      0.993       0.749\n",
              "Laptop Test             0.993     0.992      0.991       0.709\n",
              "Restaurant 14 Train     0.999     0.999      0.997       0.775\n",
              "Restaurant 14 Test      0.999     1.000      0.998       0.724\n",
              "Restaurant 16 Train     0.998     0.999      0.997       0.793\n",
              "Restaurant 16 Test      0.995     1.000      0.000       0.757\n",
              "Election Twitter Train  0.991     0.000      0.910       0.780\n",
              "Election Twitter Test   0.991     0.962      0.915       0.785"
            ]
          },
          "metadata": {
            "tags": []
          },
          "execution_count": 31
        }
      ]
    },
    {
      "cell_type": "code",
      "metadata": {
        "id": "Nsj4HjfeYClk",
        "colab_type": "code",
        "outputId": "a5beb0cf-214f-47d9-bf99-45864f0bf071",
        "colab": {
          "base_uri": "https://localhost:8080/",
          "height": 173
        }
      },
      "source": [
        "for dataset_tok, error in dataset_tok_errors.items():\n",
        "  dataset_name_tok_name = dataset_tok.split()\n",
        "  dataset_name = ' '.join(dataset_name_tok_name[:-1])\n",
        "  tok_name = dataset_name_tok_name[-1]\n",
        "  print(f'Error caused by {tok_name} tokenizer on the {dataset_name} dataset')\n",
        "  print(f'Error:\\n{error}')\n",
        "  print()"
      ],
      "execution_count": 63,
      "outputs": [
        {
          "output_type": "stream",
          "text": [
            "Error caused by Twokenize tokenizer on the Restaurant 16 Test dataset\n",
            "Error:\n",
            "Tokenization error\n",
            "\n",
            "Error caused by Stanford tokenizer on the Election Twitter Train dataset\n",
            "Error:\n",
            "[TargetText({'text': '@FearDept Oligarch Master & Emissary #MSM fear-bomb voter to tip #Israel #UK #GE2015 & #USGE2016; Works for @Iran new Oligarch on the block!', 'text_id': '72972753172578305', 'targets': ['FearDept Oligarch Master', '@FearDept', 'MSM', 'USGE2016', '@Iran', 'Israel'], 'spans': [Span(start=1, end=25), Span(start=0, end=9), Span(start=38, end=41), Span(start=88, end=96), Span(start=108, end=113), Span(start=66, end=72)], 'target_sentiments': ['negative', 'negative', 'negative', 'negative', 'negative', 'negative'], 'categories': None, 'category_sentiments': None, 'tokenized_text': ['@FearDept', 'Oligarch', 'Master', '&', 'Emissary', '#MSM', 'fear-bomb', 'voter', 'to', 'tip', '#Israel', '#UK', '#GE2015', '&', '#USGE2016;', 'Works', 'for', '@Iran', 'new', 'Oligarch', 'on', 'the', 'block!'], 'pos_tags': ['PROPN', 'PROPN', 'PROPN', 'CCONJ', 'PROPN', 'SYM', 'PROPN', 'NOUN', 'PUNCT', 'NOUN', 'NOUN', 'ADP', 'VERB', 'SYM', 'PROPN', 'SYM', 'PROPN', 'SYM', 'PROPN', 'CCONJ', 'SYM', 'PROPN', 'PUNCT', 'NOUN', 'ADP', 'NUM', 'ADJ', 'PROPN', 'ADP', 'DET', 'NOUN', 'PUNCT'], 'sequence_labels': ['B', 'B', 'I', 'O', 'O', 'O', 'O', 'O', 'O', 'O', 'O', 'O', 'O', 'O', 'O', 'O', 'O', 'B', 'O', 'O', 'O', 'O', 'O']}), TargetText({'text': '@SkyNews Ask Osborne supporters how the debt reduction plan is coming along. #Budget2015 #GE2015 http://t.co/T9qO995OzT', 'text_id': '78181332699881473', 'targets': ['SkyNews Ask Osborne', '@SkyNews', 'Budget2015'], 'spans': [Span(start=1, end=20), Span(start=0, end=8), Span(start=78, end=88)], 'target_sentiments': ['negative', 'neutral', 'negative'], 'categories': None, 'category_sentiments': None, 'tokenized_text': ['@SkyNews', 'Ask', 'Osborne', 'supporters', 'how', 'the', 'debt', 'reduction', 'plan', 'is', 'coming', 'along.', '#Budget2015', '#GE2015', 'http://t.co/T9qO995OzT'], 'pos_tags': ['INTJ', 'VERB', 'PROPN', 'NOUN', 'ADV', 'DET', 'NOUN', 'NOUN', 'NOUN', 'VERB', 'VERB', 'ADV', 'PUNCT', 'SYM', 'PROPN', 'NOUN', 'NOUN', 'NOUN'], 'sequence_labels': ['B', 'B', 'I', 'O', 'O', 'O', 'O', 'O', 'O', 'O', 'O', 'O', 'O', 'O', 'O']})]\n",
            "\n"
          ],
          "name": "stdout"
        }
      ]
    },
    {
      "cell_type": "markdown",
      "metadata": {
        "id": "OBVg5S0TWNX2",
        "colab_type": "text"
      },
      "source": [
        "We can see that we have two tokenization failures. \n",
        "1. The Twokenizer tokenizer failure on the Restaurant 16 test dataset was due to the tokenizer changing the input data so much so that the target span no longer aligned with the target words (very detailed error that we won't go into any further)\n",
        "2. The second is due to the target BIO overlap problem as described above in **Errors when creating the sequence labelling task**\n",
        "\n",
        "#### Results\n",
        "Above the F1 scores for the different tokenizers of which these sequences would be treated as the Gold Standard Sequences for the machine learning model, this shows very different results between an actual tokenizer and Whitespace. The difference between Stanford and Spacy is marginal but the Twitter based Twokenize tokenizer is generally worse and performs worse than Spacy on the Twitter dataset which is surprising."
      ]
    },
    {
      "cell_type": "code",
      "metadata": {
        "id": "gIxk1Q7ZV2Ys",
        "colab_type": "code",
        "colab": {}
      },
      "source": [
        ""
      ],
      "execution_count": 0,
      "outputs": []
    }
  ]
}