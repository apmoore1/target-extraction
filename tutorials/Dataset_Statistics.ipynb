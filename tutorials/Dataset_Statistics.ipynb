{
  "nbformat": 4,
  "nbformat_minor": 0,
  "metadata": {
    "colab": {
      "name": "Dataset Statistics.ipynb",
      "provenance": [],
      "collapsed_sections": [],
      "authorship_tag": "ABX9TyMFANV1iEVTCx8A9JgU1p/+",
      "include_colab_link": true
    },
    "kernelspec": {
      "name": "python3",
      "display_name": "Python 3"
    }
  },
  "cells": [
    {
      "cell_type": "markdown",
      "metadata": {
        "id": "view-in-github",
        "colab_type": "text"
      },
      "source": [
        "<a href=\"https://colab.research.google.com/github/apmoore1/target-extraction/blob/master/tutorials/Dataset_Statistics.ipynb\" target=\"_parent\"><img src=\"https://colab.research.google.com/assets/colab-badge.svg\" alt=\"Open In Colab\"/></a>"
      ]
    },
    {
      "cell_type": "code",
      "metadata": {
        "id": "ZDhad2E5DWeR",
        "colab_type": "code",
        "colab": {}
      },
      "source": [
        "%%capture\n",
        "!pip install git+git://github.com/apmoore1/target-extraction.git@master#egg=target-extraction"
      ],
      "execution_count": 0,
      "outputs": []
    },
    {
      "cell_type": "markdown",
      "metadata": {
        "id": "UKoQI2t9DeGA",
        "colab_type": "text"
      },
      "source": [
        "# Dataset Statistics\n",
        "In this notebook we will explore the difference ways of producing dataset statistics. The statistics that we will explore depend on the task in Target Based Sentiment Anlsysis you are exploring. Currently we support two different statistics:\n",
        "1. Target Extraction (TE) statistics.\n",
        "2. Target Sentiment (TS) statistics.\n",
        "\n",
        "For each task we will show the statistics for some well known datasets (more datasets will be added in the future):\n",
        "1. [SemEval 2014 Laptop dataset](https://www.aclweb.org/anthology/S14-2004.pdf) (Laptop) [train](http://metashare.ilsp.gr:8080/repository/browse/semeval-2014-absa-train-data-v20-annotation-guidelines/683b709298b811e3a0e2842b2b6a04d7c7a19307f18a4940beef6a6143f937f0/), [test](http://metashare.ilsp.gr:8080/repository/browse/semeval-2014-absa-test-data-gold-annotations/b98d11cec18211e38229842b2b6a04d77591d40acd7542b7af823a54fb03a155/) data. Pontiki et al. 2014.\n",
        "2. [SemEval 2014 Restaurant dataset](https://www.aclweb.org/anthology/S14-2004.pdf) (Restaurant) [train](http://metashare.ilsp.gr:8080/repository/browse/semeval-2014-absa-train-data-v20-annotation-guidelines/683b709298b811e3a0e2842b2b6a04d7c7a19307f18a4940beef6a6143f937f0/), [test](http://metashare.ilsp.gr:8080/repository/browse/semeval-2014-absa-test-data-gold-annotations/b98d11cec18211e38229842b2b6a04d77591d40acd7542b7af823a54fb03a155/) data (same links as the Laptop data). Pontiki et al. 2014.\n",
        "3. [Election Twitter dataset](https://www.aclweb.org/anthology/E17-1046/) (Election). Wang et al. 2017\n",
        "4. [MAMS Restaurant dataset](https://www.aclweb.org/anthology/D19-1654.pdf) (MAMS - ATSA version). Jiang et al. 2019\n",
        "\n",
        "In the last section we show how to detect if two datasets/splits contain the same samples.\n",
        "\n",
        "\n",
        "----------------------------------------------------------------------\n",
        "\n",
        "Below we upload the datasets for the SemEval datasets, and download the datasets for the rest. The SemEval datasets cannot be downloaded as their licenses do not allow the datasets to be avliable online without yourself signing an agreement, but all datasets are **free**."
      ]
    },
    {
      "cell_type": "code",
      "metadata": {
        "id": "rGmccqhGDcQa",
        "colab_type": "code",
        "colab": {}
      },
      "source": [
        "from collections import defaultdict\n",
        "import itertools\n",
        "from pathlib import Path\n",
        "\n",
        "from google.colab import files\n",
        "from target_extraction.dataset_parsers import wang_2017_election_twitter_test\n",
        "from target_extraction.dataset_parsers import wang_2017_election_twitter_train\n",
        "from target_extraction.dataset_parsers import multi_aspect_multi_sentiment_atsa\n",
        "from target_extraction.dataset_parsers import semeval_2014\n",
        "from target_extraction.data_types import TargetTextCollection\n",
        "\n",
        "# SemEval 2014 Laptop and Restaurant\n",
        "semeval_dataset_fp = {'Laptop Test': Path('Laptops_Test_Gold.xml'),\n",
        "                      'Laptop Train': Path('Laptop_Train_v2.xml'),\n",
        "                      'Restaurant Test': Path('Restaurants_Test_Gold.xml'),\n",
        "                      'Restaurant Train': Path('Restaurants_Train_v2.xml')}\n",
        "semeval_dataset = defaultdict(dict)\n",
        "for dataset_name, fp in semeval_dataset_fp.items():\n",
        "  if not fp.exists():\n",
        "    print(f'Upload {dataset_name}')\n",
        "    files.upload()\n",
        "  semeval_dataset[dataset_name]['normal'] = semeval_2014(fp, conflict=False)\n",
        "  semeval_dataset[dataset_name]['conflict'] = semeval_2014(fp, conflict=True)\n",
        "# SemEval Laptop and Restaurant (Conflict Versions)\n",
        "laptop_train_conflict = semeval_dataset['Laptop Train']['conflict']\n",
        "laptop_train_conflict.name = 'Laptop C (Train)'\n",
        "laptop_test_conflict = semeval_dataset['Laptop Test']['conflict']\n",
        "laptop_test_conflict.name = 'Laptop C (Test)'\n",
        "laptop_combined_conflict = TargetTextCollection.combine(laptop_train_conflict, laptop_test_conflict)\n",
        "laptop_combined_conflict.name = 'Laptop C'\n",
        "\n",
        "restaurant_train_conflict = semeval_dataset['Restaurant Train']['conflict']\n",
        "restaurant_train_conflict.name = 'Restaurant C (Train)'\n",
        "restaurant_test_conflict = semeval_dataset['Restaurant Test']['conflict']\n",
        "restaurant_test_conflict.name = 'Restaurant C (Test)'\n",
        "restaurant_combined_conflict = TargetTextCollection.combine(restaurant_train_conflict, restaurant_test_conflict)\n",
        "restaurant_combined_conflict.name = 'Restaurant C'\n",
        "# MAMS\n",
        "mams_train = multi_aspect_multi_sentiment_atsa('train')\n",
        "mams_val = multi_aspect_multi_sentiment_atsa('val')\n",
        "mams_test = multi_aspect_multi_sentiment_atsa('test')\n",
        "mams_train.name = 'MAMS (Train)'\n",
        "mams_val.name = 'MAMS (Val)'\n",
        "mams_test.name = 'MAMS (Test)'\n",
        "mams_combined = TargetTextCollection.combine(mams_train, mams_val, mams_test)\n",
        "mams_combined.name = 'MAMS'\n",
        "# Election\n",
        "election_train = wang_2017_election_twitter_train()\n",
        "election_test = wang_2017_election_twitter_test()\n",
        "election_train.name = 'Election (Train)'\n",
        "election_test.name = 'Election (Test)'\n",
        "election_combined = TargetTextCollection.combine(election_train, election_test)\n",
        "election_combined.name = 'Election'\n",
        "# Target Extraction datasets\n",
        "target_exraction_split_datasets = [laptop_train_conflict, laptop_test_conflict, \n",
        "                                   restaurant_train_conflict, restaurant_test_conflict,\n",
        "                                   mams_train, mams_val, mams_test, election_train, \n",
        "                                   election_test]\n",
        "target_exraction_datasets = [laptop_combined_conflict, restaurant_combined_conflict, \n",
        "                             mams_combined, election_combined]"
      ],
      "execution_count": 0,
      "outputs": []
    },
    {
      "cell_type": "markdown",
      "metadata": {
        "id": "jMZ6VbLbF0Cg",
        "colab_type": "text"
      },
      "source": [
        "## Target Extraction\n",
        "This is the task of extracting targets words from text [Pontiki et al. 2014](https://www.aclweb.org/anthology/S14-2004.pdf) (Also known as *aspect term extraction*). Below we show the statistics for these datasets where the columns mean the following:\n",
        "\n",
        "1. Name -- this comes from the collection's name attribute\n",
        "2. No. Sentences -- number of sentences in the collection\n",
        "3. No. Sentences(t) -- number of sentence that contain targets.\n",
        "4. No. Targets -- number of targets\n",
        "5. No. Uniq Targets -- number of unique targets\n",
        "6. ATS -- Average Target per Sentence (ATS)\n",
        "7. ATS(t) -- ATS but where all sentences in the collection must contain at least one target.\n",
        "8. TL (1) -- Percentage of targets that are length 1 based on the number of tokens.\n",
        "9. TL (2) -- Percentage of targets that are length 2 based on the number of tokens.\n",
        "10. TL (3+) -- Percentage of targets that are length 3+ based on the number of tokens.   \n",
        "11. Mean Sent L -- Mean sentence length\n",
        "12. Mean Sent L(t) -- `Mean Sent L` but where all sentences in the collection must contain at least one target."
      ]
    },
    {
      "cell_type": "code",
      "metadata": {
        "id": "sLDbj1uJLAT-",
        "colab_type": "code",
        "outputId": "adda9500-64a8-4513-db6b-444c70d2d076",
        "colab": {
          "base_uri": "https://localhost:8080/",
          "height": 328
        }
      },
      "source": [
        "from target_extraction.analysis.dataset_statistics import dataset_target_extraction_statistics\n",
        "dataset_target_extraction_statistics(target_exraction_split_datasets, dataframe_format=True)"
      ],
      "execution_count": 4,
      "outputs": [
        {
          "output_type": "execute_result",
          "data": {
            "text/html": [
              "<div>\n",
              "<style scoped>\n",
              "    .dataframe tbody tr th:only-of-type {\n",
              "        vertical-align: middle;\n",
              "    }\n",
              "\n",
              "    .dataframe tbody tr th {\n",
              "        vertical-align: top;\n",
              "    }\n",
              "\n",
              "    .dataframe thead th {\n",
              "        text-align: right;\n",
              "    }\n",
              "</style>\n",
              "<table border=\"1\" class=\"dataframe\">\n",
              "  <thead>\n",
              "    <tr style=\"text-align: right;\">\n",
              "      <th></th>\n",
              "      <th>Name</th>\n",
              "      <th>No. Sentences</th>\n",
              "      <th>No. Sentences(t)</th>\n",
              "      <th>No. Targets</th>\n",
              "      <th>No. Uniq Targets</th>\n",
              "      <th>ATS</th>\n",
              "      <th>ATS(t)</th>\n",
              "      <th>TL 1 %</th>\n",
              "      <th>TL 2 %</th>\n",
              "      <th>TL 3+ %</th>\n",
              "      <th>Mean Sentence Length</th>\n",
              "      <th>Mean Sentence Length(t)</th>\n",
              "    </tr>\n",
              "  </thead>\n",
              "  <tbody>\n",
              "    <tr>\n",
              "      <th>0</th>\n",
              "      <td>Laptop C (Train)</td>\n",
              "      <td>3045</td>\n",
              "      <td>1488</td>\n",
              "      <td>2358</td>\n",
              "      <td>955</td>\n",
              "      <td>0.77</td>\n",
              "      <td>1.58</td>\n",
              "      <td>62.85</td>\n",
              "      <td>27.06</td>\n",
              "      <td>10.09</td>\n",
              "      <td>16.91</td>\n",
              "      <td>19.74</td>\n",
              "    </tr>\n",
              "    <tr>\n",
              "      <th>1</th>\n",
              "      <td>Laptop C (Test)</td>\n",
              "      <td>800</td>\n",
              "      <td>422</td>\n",
              "      <td>654</td>\n",
              "      <td>393</td>\n",
              "      <td>0.82</td>\n",
              "      <td>1.55</td>\n",
              "      <td>55.50</td>\n",
              "      <td>31.04</td>\n",
              "      <td>13.46</td>\n",
              "      <td>14.86</td>\n",
              "      <td>16.29</td>\n",
              "    </tr>\n",
              "    <tr>\n",
              "      <th>2</th>\n",
              "      <td>Restaurant C (Train)</td>\n",
              "      <td>3041</td>\n",
              "      <td>2021</td>\n",
              "      <td>3693</td>\n",
              "      <td>1212</td>\n",
              "      <td>1.21</td>\n",
              "      <td>1.83</td>\n",
              "      <td>75.22</td>\n",
              "      <td>16.25</td>\n",
              "      <td>8.53</td>\n",
              "      <td>15.62</td>\n",
              "      <td>17.38</td>\n",
              "    </tr>\n",
              "    <tr>\n",
              "      <th>3</th>\n",
              "      <td>Restaurant C (Test)</td>\n",
              "      <td>800</td>\n",
              "      <td>606</td>\n",
              "      <td>1134</td>\n",
              "      <td>522</td>\n",
              "      <td>1.42</td>\n",
              "      <td>1.87</td>\n",
              "      <td>71.60</td>\n",
              "      <td>18.08</td>\n",
              "      <td>10.32</td>\n",
              "      <td>15.95</td>\n",
              "      <td>16.53</td>\n",
              "    </tr>\n",
              "    <tr>\n",
              "      <th>4</th>\n",
              "      <td>MAMS (Train)</td>\n",
              "      <td>4297</td>\n",
              "      <td>4297</td>\n",
              "      <td>11186</td>\n",
              "      <td>2410</td>\n",
              "      <td>2.60</td>\n",
              "      <td>2.60</td>\n",
              "      <td>82.15</td>\n",
              "      <td>11.56</td>\n",
              "      <td>6.29</td>\n",
              "      <td>26.27</td>\n",
              "      <td>26.27</td>\n",
              "    </tr>\n",
              "    <tr>\n",
              "      <th>5</th>\n",
              "      <td>MAMS (Val)</td>\n",
              "      <td>500</td>\n",
              "      <td>500</td>\n",
              "      <td>1332</td>\n",
              "      <td>496</td>\n",
              "      <td>2.66</td>\n",
              "      <td>2.66</td>\n",
              "      <td>81.91</td>\n",
              "      <td>11.26</td>\n",
              "      <td>6.83</td>\n",
              "      <td>27.17</td>\n",
              "      <td>27.17</td>\n",
              "    </tr>\n",
              "    <tr>\n",
              "      <th>6</th>\n",
              "      <td>MAMS (Test)</td>\n",
              "      <td>500</td>\n",
              "      <td>500</td>\n",
              "      <td>1336</td>\n",
              "      <td>507</td>\n",
              "      <td>2.67</td>\n",
              "      <td>2.67</td>\n",
              "      <td>80.46</td>\n",
              "      <td>13.85</td>\n",
              "      <td>5.69</td>\n",
              "      <td>27.39</td>\n",
              "      <td>27.39</td>\n",
              "    </tr>\n",
              "    <tr>\n",
              "      <th>7</th>\n",
              "      <td>Election (Train)</td>\n",
              "      <td>3210</td>\n",
              "      <td>3182</td>\n",
              "      <td>9358</td>\n",
              "      <td>1849</td>\n",
              "      <td>2.92</td>\n",
              "      <td>2.94</td>\n",
              "      <td>81.82</td>\n",
              "      <td>15.99</td>\n",
              "      <td>2.19</td>\n",
              "      <td>26.31</td>\n",
              "      <td>26.31</td>\n",
              "    </tr>\n",
              "    <tr>\n",
              "      <th>8</th>\n",
              "      <td>Election (Test)</td>\n",
              "      <td>867</td>\n",
              "      <td>863</td>\n",
              "      <td>2541</td>\n",
              "      <td>751</td>\n",
              "      <td>2.93</td>\n",
              "      <td>2.94</td>\n",
              "      <td>80.44</td>\n",
              "      <td>17.36</td>\n",
              "      <td>2.20</td>\n",
              "      <td>26.38</td>\n",
              "      <td>26.37</td>\n",
              "    </tr>\n",
              "  </tbody>\n",
              "</table>\n",
              "</div>"
            ],
            "text/plain": [
              "                   Name  ...  Mean Sentence Length(t)\n",
              "0      Laptop C (Train)  ...                    19.74\n",
              "1       Laptop C (Test)  ...                    16.29\n",
              "2  Restaurant C (Train)  ...                    17.38\n",
              "3   Restaurant C (Test)  ...                    16.53\n",
              "4          MAMS (Train)  ...                    26.27\n",
              "5            MAMS (Val)  ...                    27.17\n",
              "6           MAMS (Test)  ...                    27.39\n",
              "7      Election (Train)  ...                    26.31\n",
              "8       Election (Test)  ...                    26.37\n",
              "\n",
              "[9 rows x 12 columns]"
            ]
          },
          "metadata": {
            "tags": []
          },
          "execution_count": 4
        }
      ]
    },
    {
      "cell_type": "markdown",
      "metadata": {
        "id": "TzpHM8FRnbP9",
        "colab_type": "text"
      },
      "source": [
        "The **C** beside the Laptop and Restaurant dataset means that the *conflict* sentiment label samples are included. These *conflict* sentiment samples are normally included when evaluating within the target extraction task but excluded for the sentiment task due to being a very underepresented sentiment class.\n",
        "\n",
        "As we can see from above the datasets are very different but within the datasets the differences between the splits is fairly small. Therefore below we show the dataset statistics when all splits are combined (The reason why there is one sample missing in from the Laptop dataset is due to a sample being both in train and test splits thus the duplicate is removed when combined):"
      ]
    },
    {
      "cell_type": "code",
      "metadata": {
        "id": "YXbbKfKfkC4L",
        "colab_type": "code",
        "outputId": "3d78aad0-ee12-44ba-d8a8-72cf759fab75",
        "colab": {
          "base_uri": "https://localhost:8080/",
          "height": 173
        }
      },
      "source": [
        "dataset_target_extraction_statistics(target_exraction_datasets, dataframe_format=True)"
      ],
      "execution_count": 5,
      "outputs": [
        {
          "output_type": "execute_result",
          "data": {
            "text/html": [
              "<div>\n",
              "<style scoped>\n",
              "    .dataframe tbody tr th:only-of-type {\n",
              "        vertical-align: middle;\n",
              "    }\n",
              "\n",
              "    .dataframe tbody tr th {\n",
              "        vertical-align: top;\n",
              "    }\n",
              "\n",
              "    .dataframe thead th {\n",
              "        text-align: right;\n",
              "    }\n",
              "</style>\n",
              "<table border=\"1\" class=\"dataframe\">\n",
              "  <thead>\n",
              "    <tr style=\"text-align: right;\">\n",
              "      <th></th>\n",
              "      <th>Name</th>\n",
              "      <th>No. Sentences</th>\n",
              "      <th>No. Sentences(t)</th>\n",
              "      <th>No. Targets</th>\n",
              "      <th>No. Uniq Targets</th>\n",
              "      <th>ATS</th>\n",
              "      <th>ATS(t)</th>\n",
              "      <th>TL 1 %</th>\n",
              "      <th>TL 2 %</th>\n",
              "      <th>TL 3+ %</th>\n",
              "      <th>Mean Sentence Length</th>\n",
              "      <th>Mean Sentence Length(t)</th>\n",
              "    </tr>\n",
              "  </thead>\n",
              "  <tbody>\n",
              "    <tr>\n",
              "      <th>0</th>\n",
              "      <td>Laptop C</td>\n",
              "      <td>3844</td>\n",
              "      <td>1909</td>\n",
              "      <td>3011</td>\n",
              "      <td>1194</td>\n",
              "      <td>0.78</td>\n",
              "      <td>1.58</td>\n",
              "      <td>61.24</td>\n",
              "      <td>27.93</td>\n",
              "      <td>10.83</td>\n",
              "      <td>16.48</td>\n",
              "      <td>18.97</td>\n",
              "    </tr>\n",
              "    <tr>\n",
              "      <th>1</th>\n",
              "      <td>Restaurant C</td>\n",
              "      <td>3841</td>\n",
              "      <td>2627</td>\n",
              "      <td>4827</td>\n",
              "      <td>1545</td>\n",
              "      <td>1.26</td>\n",
              "      <td>1.84</td>\n",
              "      <td>74.37</td>\n",
              "      <td>16.68</td>\n",
              "      <td>8.95</td>\n",
              "      <td>15.69</td>\n",
              "      <td>17.18</td>\n",
              "    </tr>\n",
              "    <tr>\n",
              "      <th>2</th>\n",
              "      <td>MAMS</td>\n",
              "      <td>5297</td>\n",
              "      <td>5297</td>\n",
              "      <td>13854</td>\n",
              "      <td>2877</td>\n",
              "      <td>2.62</td>\n",
              "      <td>2.62</td>\n",
              "      <td>81.96</td>\n",
              "      <td>11.75</td>\n",
              "      <td>6.29</td>\n",
              "      <td>26.46</td>\n",
              "      <td>26.46</td>\n",
              "    </tr>\n",
              "    <tr>\n",
              "      <th>3</th>\n",
              "      <td>Election</td>\n",
              "      <td>4077</td>\n",
              "      <td>4045</td>\n",
              "      <td>11899</td>\n",
              "      <td>2179</td>\n",
              "      <td>2.92</td>\n",
              "      <td>2.94</td>\n",
              "      <td>81.53</td>\n",
              "      <td>16.28</td>\n",
              "      <td>2.19</td>\n",
              "      <td>26.33</td>\n",
              "      <td>26.32</td>\n",
              "    </tr>\n",
              "  </tbody>\n",
              "</table>\n",
              "</div>"
            ],
            "text/plain": [
              "           Name  No. Sentences  ...  Mean Sentence Length  Mean Sentence Length(t)\n",
              "0      Laptop C           3844  ...                 16.48                    18.97\n",
              "1  Restaurant C           3841  ...                 15.69                    17.18\n",
              "2          MAMS           5297  ...                 26.46                    26.46\n",
              "3      Election           4077  ...                 26.33                    26.32\n",
              "\n",
              "[4 rows x 12 columns]"
            ]
          },
          "metadata": {
            "tags": []
          },
          "execution_count": 5
        }
      ]
    },
    {
      "cell_type": "markdown",
      "metadata": {
        "id": "CZ_zxPmIoRMf",
        "colab_type": "text"
      },
      "source": [
        "The table above shows that in general the Laptop and Restaurant datasets are fairly similar with respect to ATS. The Laptop dataset contains the most multi-word targets relative to the overall size of the dataset. The ATS values of MAMS and Election is much larger which is expected as the MAMS dataset was created to contain at least two targets per text, and the Election dataset comes from Twitter which is expected to mention multiple targets per text. The largest difference between the datasets is mainly the size where the MAMS is by far the largest dataset. \n",
        "\n",
        "The MAMS dataset was created in a slightly artifical manner where all sentences must contain at least two targets, of which in the wild this is not always the case as shown by the Restaurant dataset which was taken from the same data source (Citysearch New York dataset by [Ganu et al. 2009](https://www.semanticscholar.org/paper/Beyond-the-Stars%3A-Improving-Rating-Predictions-Text-Ganu-Elhadad/1b41abbf9d3707a1a5c0fcf8e1f7734da0e61703)). Furthermore as we will see later they removed all sentences that contain multiple targets with the same sentiment. This dataset was designed to be a challenge dataset, where it is difficult to perform well on it using just a text classifier and ignoring the target information.\n",
        "\n",
        "We can also see from the table above that the majority of datasets contain targets that only contain one token and thus the datasets contain very few targets with multiple tokens. This can be seen better from the plot below where 95% of all targets in all of the datasets contain three or less tokens in the target:"
      ]
    },
    {
      "cell_type": "code",
      "metadata": {
        "id": "isiGqL58Heqd",
        "colab_type": "code",
        "outputId": "7c4f85e5-6879-4848-a54e-cddf270bd1b6",
        "colab": {
          "base_uri": "https://localhost:8080/",
          "height": 279
        }
      },
      "source": [
        "import seaborn as sns\n",
        "sns.set_style(\"whitegrid\")\n",
        "from target_extraction.tokenizers import spacy_tokenizer\n",
        "from target_extraction.analysis.dataset_plots import target_length_plot\n",
        "\n",
        "_ = target_length_plot(target_exraction_datasets, 'targets', spacy_tokenizer(), \n",
        "                       cumulative_percentage=True, max_target_length=5)"
      ],
      "execution_count": 6,
      "outputs": [
        {
          "output_type": "display_data",
          "data": {
            "image/png": "[encoded data removed]",
            "text/plain": [
              "<Figure size 432x288 with 1 Axes>"
            ]
          },
          "metadata": {
            "tags": []
          }
        }
      ]
    },
    {
      "cell_type": "markdown",
      "metadata": {
        "id": "kSyIQG_8CR0T",
        "colab_type": "text"
      },
      "source": [
        "Furthermore the sentence length of the datasets are very different. The Laptop and Restaurant datasets contain similar length sentences, where as the MAMS and Election both contain longer sentences. These longer sentences in the case for Election is most likely due to the character limit allowed on Twitter. For the MAMS case the reason for it having much larger sentence lengths than the Restaurant dataset is most likely due to having to contain multiple targets in a sentence. Furthermore the sentence length of the Election and MAMS are similar on average but when plotted they are very different as shown below:"
      ]
    },
    {
      "cell_type": "code",
      "metadata": {
        "id": "hcGmlcE2Y5TM",
        "colab_type": "code",
        "outputId": "a18a44b7-e6ac-41fb-c282-4df5dac9851a",
        "colab": {
          "base_uri": "https://localhost:8080/",
          "height": 279
        }
      },
      "source": [
        "from target_extraction.analysis.dataset_plots import sentence_length_plot\n",
        "\n",
        "_ = sentence_length_plot(target_exraction_datasets, spacy_tokenizer(), \n",
        "                         sentences_with_targets_only=False)"
      ],
      "execution_count": 7,
      "outputs": [
        {
          "output_type": "display_data",
          "data": {
            "image/png": "[encoded data removed]",
            "text/plain": [
              "<Figure size 432x288 with 1 Axes>"
            ]
          },
          "metadata": {
            "tags": []
          }
        }
      ]
    },
    {
      "cell_type": "markdown",
      "metadata": {
        "id": "2O5PXf33DF8M",
        "colab_type": "text"
      },
      "source": [
        "As can be seen the Laptop and Restaurant datasets are again very similar. The Election dataset on the other hand compared to the others contains this spike hence giving some validity to the character limit theory.\n",
        "\n",
        "## Target Sentiment\n",
        "\n",
        "As stated above normally the conflict label from the Laptop and Restaurant datasets are removed thus below we load the datasets without the conflict label:"
      ]
    },
    {
      "cell_type": "code",
      "metadata": {
        "id": "oIgbFuoKDbKq",
        "colab_type": "code",
        "colab": {}
      },
      "source": [
        "# SemEval Laptop and Restaurant (Conflict Versions)\n",
        "laptop_train = semeval_dataset['Laptop Train']['normal']\n",
        "laptop_train.name = 'Laptop (Train)'\n",
        "laptop_test = semeval_dataset['Laptop Test']['normal']\n",
        "laptop_test.name = 'Laptop (Test)'\n",
        "laptop_combined = TargetTextCollection.combine(laptop_train, laptop_test)\n",
        "laptop_combined.name = 'Laptop'\n",
        "\n",
        "restaurant_train = semeval_dataset['Restaurant Train']['normal']\n",
        "restaurant_train.name = 'Restaurant (Train)'\n",
        "restaurant_test = semeval_dataset['Restaurant Test']['normal']\n",
        "restaurant_test.name = 'Restaurant (Test)'\n",
        "restaurant_combined = TargetTextCollection.combine(restaurant_train, \n",
        "                                                   restaurant_test)\n",
        "restaurant_combined.name = 'Restaurant'\n",
        "\n",
        "# Target Sentiment datasets\n",
        "target_sentiment_split_datasets = [laptop_train, laptop_test, \n",
        "                                   restaurant_train, restaurant_test,\n",
        "                                   mams_train, mams_val, mams_test, \n",
        "                                   election_train, election_test]\n",
        "target_sentiment_datasets = [laptop_combined, restaurant_combined, \n",
        "                             mams_combined, election_combined]"
      ],
      "execution_count": 0,
      "outputs": []
    },
    {
      "cell_type": "markdown",
      "metadata": {
        "id": "BggO6YigFtpY",
        "colab_type": "text"
      },
      "source": [
        "Below we the table shows the same statistics as those in the Target Extraction table but with three extra columns:\n",
        "1. POS (%) -- Number (Percentage) of positive targets\n",
        "2. NEU (%) -- Number (Percentage) of neutral targets\n",
        "3. NEG (%) -- Number (Percentage) of Negative targets"
      ]
    },
    {
      "cell_type": "code",
      "metadata": {
        "id": "Z6ymPr0YFdNx",
        "colab_type": "code",
        "colab": {
          "base_uri": "https://localhost:8080/",
          "height": 328
        },
        "outputId": "f84a1ef8-5029-437d-8370-139a915a02a3"
      },
      "source": [
        "from target_extraction.analysis.dataset_statistics import dataset_target_sentiment_statistics\n",
        "dataset_target_sentiment_statistics(target_sentiment_split_datasets, dataframe_format=True)"
      ],
      "execution_count": 9,
      "outputs": [
        {
          "output_type": "execute_result",
          "data": {
            "text/html": [
              "<div>\n",
              "<style scoped>\n",
              "    .dataframe tbody tr th:only-of-type {\n",
              "        vertical-align: middle;\n",
              "    }\n",
              "\n",
              "    .dataframe tbody tr th {\n",
              "        vertical-align: top;\n",
              "    }\n",
              "\n",
              "    .dataframe thead th {\n",
              "        text-align: right;\n",
              "    }\n",
              "</style>\n",
              "<table border=\"1\" class=\"dataframe\">\n",
              "  <thead>\n",
              "    <tr style=\"text-align: right;\">\n",
              "      <th></th>\n",
              "      <th>Name</th>\n",
              "      <th>No. Sentences</th>\n",
              "      <th>No. Sentences(t)</th>\n",
              "      <th>No. Targets</th>\n",
              "      <th>No. Uniq Targets</th>\n",
              "      <th>ATS</th>\n",
              "      <th>ATS(t)</th>\n",
              "      <th>TL 1 %</th>\n",
              "      <th>TL 2 %</th>\n",
              "      <th>TL 3+ %</th>\n",
              "      <th>Mean Sentence Length</th>\n",
              "      <th>Mean Sentence Length(t)</th>\n",
              "      <th>POS (%)</th>\n",
              "      <th>NEU (%)</th>\n",
              "      <th>NEG (%)</th>\n",
              "    </tr>\n",
              "  </thead>\n",
              "  <tbody>\n",
              "    <tr>\n",
              "      <th>0</th>\n",
              "      <td>Laptop (Train)</td>\n",
              "      <td>3045</td>\n",
              "      <td>1462</td>\n",
              "      <td>2313</td>\n",
              "      <td>945</td>\n",
              "      <td>0.76</td>\n",
              "      <td>1.58</td>\n",
              "      <td>62.86</td>\n",
              "      <td>27.02</td>\n",
              "      <td>10.12</td>\n",
              "      <td>16.91</td>\n",
              "      <td>19.71</td>\n",
              "      <td>987 (42.67)</td>\n",
              "      <td>460 (19.89)</td>\n",
              "      <td>866 (37.44)</td>\n",
              "    </tr>\n",
              "    <tr>\n",
              "      <th>1</th>\n",
              "      <td>Laptop (Test)</td>\n",
              "      <td>800</td>\n",
              "      <td>411</td>\n",
              "      <td>638</td>\n",
              "      <td>389</td>\n",
              "      <td>0.80</td>\n",
              "      <td>1.55</td>\n",
              "      <td>54.86</td>\n",
              "      <td>31.50</td>\n",
              "      <td>13.64</td>\n",
              "      <td>14.86</td>\n",
              "      <td>16.09</td>\n",
              "      <td>341 (53.45)</td>\n",
              "      <td>169 (26.49)</td>\n",
              "      <td>128 (20.06)</td>\n",
              "    </tr>\n",
              "    <tr>\n",
              "      <th>2</th>\n",
              "      <td>Restaurant (Train)</td>\n",
              "      <td>3041</td>\n",
              "      <td>1978</td>\n",
              "      <td>3602</td>\n",
              "      <td>1195</td>\n",
              "      <td>1.18</td>\n",
              "      <td>1.82</td>\n",
              "      <td>75.12</td>\n",
              "      <td>16.27</td>\n",
              "      <td>8.61</td>\n",
              "      <td>15.62</td>\n",
              "      <td>17.39</td>\n",
              "      <td>2164 (60.08)</td>\n",
              "      <td>633 (17.57)</td>\n",
              "      <td>805 (22.35)</td>\n",
              "    </tr>\n",
              "    <tr>\n",
              "      <th>3</th>\n",
              "      <td>Restaurant (Test)</td>\n",
              "      <td>800</td>\n",
              "      <td>600</td>\n",
              "      <td>1120</td>\n",
              "      <td>520</td>\n",
              "      <td>1.40</td>\n",
              "      <td>1.87</td>\n",
              "      <td>71.25</td>\n",
              "      <td>18.30</td>\n",
              "      <td>10.45</td>\n",
              "      <td>15.95</td>\n",
              "      <td>16.59</td>\n",
              "      <td>728 (65.0)</td>\n",
              "      <td>196 (17.5)</td>\n",
              "      <td>196 (17.5)</td>\n",
              "    </tr>\n",
              "    <tr>\n",
              "      <th>4</th>\n",
              "      <td>MAMS (Train)</td>\n",
              "      <td>4297</td>\n",
              "      <td>4297</td>\n",
              "      <td>11186</td>\n",
              "      <td>2410</td>\n",
              "      <td>2.60</td>\n",
              "      <td>2.60</td>\n",
              "      <td>82.15</td>\n",
              "      <td>11.56</td>\n",
              "      <td>6.29</td>\n",
              "      <td>26.27</td>\n",
              "      <td>26.27</td>\n",
              "      <td>3380 (30.22)</td>\n",
              "      <td>5042 (45.07)</td>\n",
              "      <td>2764 (24.71)</td>\n",
              "    </tr>\n",
              "    <tr>\n",
              "      <th>5</th>\n",
              "      <td>MAMS (Val)</td>\n",
              "      <td>500</td>\n",
              "      <td>500</td>\n",
              "      <td>1332</td>\n",
              "      <td>496</td>\n",
              "      <td>2.66</td>\n",
              "      <td>2.66</td>\n",
              "      <td>81.91</td>\n",
              "      <td>11.26</td>\n",
              "      <td>6.83</td>\n",
              "      <td>27.17</td>\n",
              "      <td>27.17</td>\n",
              "      <td>403 (30.26)</td>\n",
              "      <td>604 (45.35)</td>\n",
              "      <td>325 (24.4)</td>\n",
              "    </tr>\n",
              "    <tr>\n",
              "      <th>6</th>\n",
              "      <td>MAMS (Test)</td>\n",
              "      <td>500</td>\n",
              "      <td>500</td>\n",
              "      <td>1336</td>\n",
              "      <td>507</td>\n",
              "      <td>2.67</td>\n",
              "      <td>2.67</td>\n",
              "      <td>80.46</td>\n",
              "      <td>13.85</td>\n",
              "      <td>5.69</td>\n",
              "      <td>27.39</td>\n",
              "      <td>27.39</td>\n",
              "      <td>400 (29.94)</td>\n",
              "      <td>607 (45.43)</td>\n",
              "      <td>329 (24.63)</td>\n",
              "    </tr>\n",
              "    <tr>\n",
              "      <th>7</th>\n",
              "      <td>Election (Train)</td>\n",
              "      <td>3210</td>\n",
              "      <td>3182</td>\n",
              "      <td>9358</td>\n",
              "      <td>1849</td>\n",
              "      <td>2.92</td>\n",
              "      <td>2.94</td>\n",
              "      <td>81.82</td>\n",
              "      <td>15.99</td>\n",
              "      <td>2.19</td>\n",
              "      <td>26.31</td>\n",
              "      <td>26.31</td>\n",
              "      <td>1366 (14.6)</td>\n",
              "      <td>3615 (38.63)</td>\n",
              "      <td>4377 (46.77)</td>\n",
              "    </tr>\n",
              "    <tr>\n",
              "      <th>8</th>\n",
              "      <td>Election (Test)</td>\n",
              "      <td>867</td>\n",
              "      <td>863</td>\n",
              "      <td>2541</td>\n",
              "      <td>751</td>\n",
              "      <td>2.93</td>\n",
              "      <td>2.94</td>\n",
              "      <td>80.44</td>\n",
              "      <td>17.36</td>\n",
              "      <td>2.20</td>\n",
              "      <td>26.38</td>\n",
              "      <td>26.37</td>\n",
              "      <td>378 (14.88)</td>\n",
              "      <td>957 (37.66)</td>\n",
              "      <td>1206 (47.46)</td>\n",
              "    </tr>\n",
              "  </tbody>\n",
              "</table>\n",
              "</div>"
            ],
            "text/plain": [
              "                 Name  No. Sentences  ...       NEU (%)       NEG (%)\n",
              "0      Laptop (Train)           3045  ...   460 (19.89)   866 (37.44)\n",
              "1       Laptop (Test)            800  ...   169 (26.49)   128 (20.06)\n",
              "2  Restaurant (Train)           3041  ...   633 (17.57)   805 (22.35)\n",
              "3   Restaurant (Test)            800  ...    196 (17.5)    196 (17.5)\n",
              "4        MAMS (Train)           4297  ...  5042 (45.07)  2764 (24.71)\n",
              "5          MAMS (Val)            500  ...   604 (45.35)    325 (24.4)\n",
              "6         MAMS (Test)            500  ...   607 (45.43)   329 (24.63)\n",
              "7    Election (Train)           3210  ...  3615 (38.63)  4377 (46.77)\n",
              "8     Election (Test)            867  ...   957 (37.66)  1206 (47.46)\n",
              "\n",
              "[9 rows x 15 columns]"
            ]
          },
          "metadata": {
            "tags": []
          },
          "execution_count": 9
        }
      ]
    },
    {
      "cell_type": "markdown",
      "metadata": {
        "id": "YSOCCQ8pHC90",
        "colab_type": "text"
      },
      "source": [
        "As we found with the Target Extraction statistics in general the difference between the splits is negliable. **However** the differences between the laptop splits is different as can be seen, the train split contains more negative than neutral samples where as it is the inverse in the test split. In all cases though the datasets are not balanced with repsect to the sentiment labels suggesting that a re-balacning technique is require such as over or under sampling.\n",
        "\n",
        "Below we show the statistics of the datasets when all of their splits are combined:"
      ]
    },
    {
      "cell_type": "code",
      "metadata": {
        "id": "vCMETE4dFdks",
        "colab_type": "code",
        "colab": {
          "base_uri": "https://localhost:8080/",
          "height": 173
        },
        "outputId": "f8effcee-ae1f-491c-de53-1d5879bb4def"
      },
      "source": [
        "dataset_target_sentiment_statistics(target_sentiment_datasets, dataframe_format=True)"
      ],
      "execution_count": 10,
      "outputs": [
        {
          "output_type": "execute_result",
          "data": {
            "text/html": [
              "<div>\n",
              "<style scoped>\n",
              "    .dataframe tbody tr th:only-of-type {\n",
              "        vertical-align: middle;\n",
              "    }\n",
              "\n",
              "    .dataframe tbody tr th {\n",
              "        vertical-align: top;\n",
              "    }\n",
              "\n",
              "    .dataframe thead th {\n",
              "        text-align: right;\n",
              "    }\n",
              "</style>\n",
              "<table border=\"1\" class=\"dataframe\">\n",
              "  <thead>\n",
              "    <tr style=\"text-align: right;\">\n",
              "      <th></th>\n",
              "      <th>Name</th>\n",
              "      <th>No. Sentences</th>\n",
              "      <th>No. Sentences(t)</th>\n",
              "      <th>No. Targets</th>\n",
              "      <th>No. Uniq Targets</th>\n",
              "      <th>ATS</th>\n",
              "      <th>ATS(t)</th>\n",
              "      <th>TL 1 %</th>\n",
              "      <th>TL 2 %</th>\n",
              "      <th>TL 3+ %</th>\n",
              "      <th>Mean Sentence Length</th>\n",
              "      <th>Mean Sentence Length(t)</th>\n",
              "      <th>POS (%)</th>\n",
              "      <th>NEU (%)</th>\n",
              "      <th>NEG (%)</th>\n",
              "    </tr>\n",
              "  </thead>\n",
              "  <tbody>\n",
              "    <tr>\n",
              "      <th>0</th>\n",
              "      <td>Laptop</td>\n",
              "      <td>3844</td>\n",
              "      <td>1872</td>\n",
              "      <td>2950</td>\n",
              "      <td>1181</td>\n",
              "      <td>0.77</td>\n",
              "      <td>1.58</td>\n",
              "      <td>61.12</td>\n",
              "      <td>28.00</td>\n",
              "      <td>10.88</td>\n",
              "      <td>16.48</td>\n",
              "      <td>18.92</td>\n",
              "      <td>1328 (45.02)</td>\n",
              "      <td>628 (21.29)</td>\n",
              "      <td>994 (33.69)</td>\n",
              "    </tr>\n",
              "    <tr>\n",
              "      <th>1</th>\n",
              "      <td>Restaurant</td>\n",
              "      <td>3841</td>\n",
              "      <td>2578</td>\n",
              "      <td>4722</td>\n",
              "      <td>1528</td>\n",
              "      <td>1.23</td>\n",
              "      <td>1.83</td>\n",
              "      <td>74.21</td>\n",
              "      <td>16.75</td>\n",
              "      <td>9.04</td>\n",
              "      <td>15.69</td>\n",
              "      <td>17.20</td>\n",
              "      <td>2892 (61.25)</td>\n",
              "      <td>829 (17.56)</td>\n",
              "      <td>1001 (21.2)</td>\n",
              "    </tr>\n",
              "    <tr>\n",
              "      <th>2</th>\n",
              "      <td>MAMS</td>\n",
              "      <td>5297</td>\n",
              "      <td>5297</td>\n",
              "      <td>13854</td>\n",
              "      <td>2877</td>\n",
              "      <td>2.62</td>\n",
              "      <td>2.62</td>\n",
              "      <td>81.96</td>\n",
              "      <td>11.75</td>\n",
              "      <td>6.29</td>\n",
              "      <td>26.46</td>\n",
              "      <td>26.46</td>\n",
              "      <td>4183 (30.19)</td>\n",
              "      <td>6253 (45.13)</td>\n",
              "      <td>3418 (24.67)</td>\n",
              "    </tr>\n",
              "    <tr>\n",
              "      <th>3</th>\n",
              "      <td>Election</td>\n",
              "      <td>4077</td>\n",
              "      <td>4045</td>\n",
              "      <td>11899</td>\n",
              "      <td>2179</td>\n",
              "      <td>2.92</td>\n",
              "      <td>2.94</td>\n",
              "      <td>81.53</td>\n",
              "      <td>16.28</td>\n",
              "      <td>2.19</td>\n",
              "      <td>26.33</td>\n",
              "      <td>26.32</td>\n",
              "      <td>1744 (14.66)</td>\n",
              "      <td>4572 (38.42)</td>\n",
              "      <td>5583 (46.92)</td>\n",
              "    </tr>\n",
              "  </tbody>\n",
              "</table>\n",
              "</div>"
            ],
            "text/plain": [
              "         Name  No. Sentences  ...       NEU (%)       NEG (%)\n",
              "0      Laptop           3844  ...   628 (21.29)   994 (33.69)\n",
              "1  Restaurant           3841  ...   829 (17.56)   1001 (21.2)\n",
              "2        MAMS           5297  ...  6253 (45.13)  3418 (24.67)\n",
              "3    Election           4077  ...  4572 (38.42)  5583 (46.92)\n",
              "\n",
              "[4 rows x 15 columns]"
            ]
          },
          "metadata": {
            "tags": []
          },
          "execution_count": 10
        }
      ]
    },
    {
      "cell_type": "markdown",
      "metadata": {
        "id": "u7DXX3dKJazV",
        "colab_type": "text"
      },
      "source": [
        "Below we also show the sentence lengths of the sentences that only contain targets. Unlike the plot before which contained sentences that do and **do not** contain targets. As we can see the plots are very similar."
      ]
    },
    {
      "cell_type": "code",
      "metadata": {
        "id": "XZ7TAWxzGhWm",
        "colab_type": "code",
        "colab": {
          "base_uri": "https://localhost:8080/",
          "height": 279
        },
        "outputId": "5d7dc6db-5cfa-49bf-8dac-e35c1ad0b76d"
      },
      "source": [
        "from target_extraction.analysis.dataset_plots import sentence_length_plot\n",
        "\n",
        "_ = sentence_length_plot(target_sentiment_datasets, spacy_tokenizer(), \n",
        "                         sentences_with_targets_only=True)"
      ],
      "execution_count": 11,
      "outputs": [
        {
          "output_type": "display_data",
          "data": {
            "image/png": "[encoded data removed]",
            "text/plain": [
              "<Figure size 432x288 with 1 Axes>"
            ]
          },
          "metadata": {
            "tags": []
          }
        }
      ]
    },
    {
      "cell_type": "markdown",
      "metadata": {
        "id": "8s_H8BQOJ87F",
        "colab_type": "text"
      },
      "source": [
        "## Detecting same samples between datasets/splits\n",
        "Before we stated that the laptop dataset has the same sample in both train and test split. This was shown up before because the sample had the same unique identifier for the sentence, this can be seen below, where they both have the sentence/text id of 227 `'text_id': '227'`:"
      ]
    },
    {
      "cell_type": "code",
      "metadata": {
        "id": "rKzVj0vbKSlk",
        "colab_type": "code",
        "colab": {
          "base_uri": "https://localhost:8080/",
          "height": 88
        },
        "outputId": "94e0af8c-66a0-42f2-87d3-78c22dc09054"
      },
      "source": [
        "TargetTextCollection.same_data([laptop_train, laptop_test])"
      ],
      "execution_count": 12,
      "outputs": [
        {
          "output_type": "execute_result",
          "data": {
            "text/plain": [
              "[([(TargetText({'text': 'If you want more information on macs I suggest going to apple.com and heading towards the macbook page for more information on the applications.', 'text_id': '227', 'targets': ['applications'], 'spans': [Span(start=131, end=143)], 'target_sentiments': ['neutral'], 'categories': None, 'category_sentiments': None, 'tokenized_text': ['If', 'you', 'want', 'more', 'information', 'on', 'macs', 'I', 'suggest', 'going', 'to', 'apple.com', 'and', 'heading', 'towards', 'the', 'macbook', 'page', 'for', 'more', 'information', 'on', 'the', 'applications', '.']}),\n",
              "    TargetText({'text': 'If you want more information on macs I suggest going to apple.com and heading towards the macbook page for more information on the applications.', 'text_id': '227', 'targets': ['applications'], 'spans': [Span(start=131, end=143)], 'target_sentiments': ['neutral'], 'categories': None, 'category_sentiments': None, 'tokenized_text': ['If', 'you', 'want', 'more', 'information', 'on', 'macs', 'I', 'suggest', 'going', 'to', 'apple.com', 'and', 'heading', 'towards', 'the', 'macbook', 'page', 'for', 'more', 'information', 'on', 'the', 'applications', '.']}))],\n",
              "  ('Laptop (Train)', 'Laptop (Test)'))]"
            ]
          },
          "metadata": {
            "tags": []
          },
          "execution_count": 12
        }
      ]
    },
    {
      "cell_type": "markdown",
      "metadata": {
        "id": "cRqlM13RKolI",
        "colab_type": "text"
      },
      "source": [
        "Thus you might be wondering if any of datasets might have samples that are the same within their own train/test splits. The `same_data` method identifies the same samples based on the `text_id` or exact same text within `text`. This can be seen below for the Restaurant dataset, where both samples contain different `text_id` but the same `text`:"
      ]
    },
    {
      "cell_type": "code",
      "metadata": {
        "id": "CGCveKlzK-LN",
        "colab_type": "code",
        "colab": {
          "base_uri": "https://localhost:8080/",
          "height": 88
        },
        "outputId": "516ed808-f715-4ff5-be47-abef55a1afeb"
      },
      "source": [
        "TargetTextCollection.same_data([restaurant_train_conflict, restaurant_test_conflict])"
      ],
      "execution_count": 13,
      "outputs": [
        {
          "output_type": "execute_result",
          "data": {
            "text/plain": [
              "[([(TargetText({'text': 'I would definitely go back -- if only for some of those exotic martinis on the blackboard.', 'text_id': '1715', 'targets': ['martinis'], 'spans': [Span(start=63, end=71)], 'target_sentiments': ['positive'], 'categories': ['food'], 'category_sentiments': ['positive'], 'tokenized_text': ['I', 'would', 'definitely', 'go', 'back', '--', 'if', 'only', 'for', 'some', 'of', 'those', 'exotic', 'martinis', 'on', 'the', 'blackboard', '.']}),\n",
              "    TargetText({'text': 'I would definitely go back -- if only for some of those exotic martinis on the blackboard.', 'text_id': '11350031#590790#3', 'targets': ['martinis'], 'spans': [Span(start=63, end=71)], 'target_sentiments': ['positive'], 'categories': ['food', 'anecdotes/miscellaneous'], 'category_sentiments': ['positive', 'positive'], 'tokenized_text': ['I', 'would', 'definitely', 'go', 'back', '--', 'if', 'only', 'for', 'some', 'of', 'those', 'exotic', 'martinis', 'on', 'the', 'blackboard', '.']}))],\n",
              "  ('Restaurant C (Train)', 'Restaurant C (Test)'))]"
            ]
          },
          "metadata": {
            "tags": []
          },
          "execution_count": 13
        }
      ]
    },
    {
      "cell_type": "markdown",
      "metadata": {
        "id": "UN1fAtzlK9iX",
        "colab_type": "text"
      },
      "source": [
        "We can see from above that these two samples only have three differences:\n",
        "1. `text_id` \n",
        "2. `categories`\n",
        "3. `category_sentiments`\n",
        "However the differences in `categories` is only one category and the other category they do share.\n",
        "\n",
        "The MAMS and Election datasets do not contain any overlap between their train and test splits:"
      ]
    },
    {
      "cell_type": "code",
      "metadata": {
        "id": "3ba6W7_4LvG9",
        "colab_type": "code",
        "colab": {
          "base_uri": "https://localhost:8080/",
          "height": 51
        },
        "outputId": "0df937f6-8128-4818-c958-5a2f2fbf0757"
      },
      "source": [
        "print(len(TargetTextCollection.same_data([mams_train, mams_val, mams_test])))\n",
        "print(len(TargetTextCollection.same_data([election_train, election_test])))"
      ],
      "execution_count": 15,
      "outputs": [
        {
          "output_type": "stream",
          "text": [
            "0\n",
            "0\n"
          ],
          "name": "stdout"
        }
      ]
    }
  ]
}