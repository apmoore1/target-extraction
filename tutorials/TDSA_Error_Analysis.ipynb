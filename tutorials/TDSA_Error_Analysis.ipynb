{
  "nbformat": 4,
  "nbformat_minor": 0,
  "metadata": {
    "colab": {
      "name": "TDSA_Error_Analysis.ipynb",
      "provenance": [],
      "collapsed_sections": [],
      "include_colab_link": true
    },
    "kernelspec": {
      "name": "python3",
      "display_name": "Python 3"
    }
  },
  "cells": [
    {
      "cell_type": "markdown",
      "metadata": {
        "id": "view-in-github",
        "colab_type": "text"
      },
      "source": [
        "<a href=\"https://colab.research.google.com/github/apmoore1/target-extraction/blob/master/tutorials/TDSA_Error_Analysis.ipynb\" target=\"_parent\"><img src=\"https://colab.research.google.com/assets/colab-badge.svg\" alt=\"Open In Colab\"/></a>"
      ]
    },
    {
      "cell_type": "code",
      "metadata": {
        "id": "l230j0lX2k85",
        "colab_type": "code",
        "colab": {}
      },
      "source": [
        "%%capture\n",
        "!pip install git+git://github.com/apmoore1/target-extraction.git@master#egg=target-extraction\n",
        "!pip install altair"
      ],
      "execution_count": 0,
      "outputs": []
    },
    {
      "cell_type": "code",
      "metadata": {
        "id": "xDrfDiWA2ma8",
        "colab_type": "code",
        "outputId": "1647a15b-d248-4c42-f788-5e9dce42b4b4",
        "colab": {
          "base_uri": "https://localhost:8080/",
          "height": 35
        }
      },
      "source": [
        "from collections import defaultdict\n",
        "from typing import List, Tuple, Callable\n",
        "\n",
        "import altair as alt\n",
        "import pandas as pd\n",
        "from target_extraction.dataset_parsers import semeval_2014, wang_2017_election_twitter_test, wang_2017_election_twitter_train\n",
        "from target_extraction.data_types import TargetTextCollection\n",
        "from target_extraction.error_analysis import n_shot_targets, count_error_key_occurrence\n",
        "\n",
        "alt.renderers.enable('colab')"
      ],
      "execution_count": 2,
      "outputs": [
        {
          "output_type": "execute_result",
          "data": {
            "text/plain": [
              "RendererRegistry.enable('colab')"
            ]
          },
          "metadata": {
            "tags": []
          },
          "execution_count": 2
        }
      ]
    },
    {
      "cell_type": "code",
      "metadata": {
        "id": "M4YPN-L47lOS",
        "colab_type": "code",
        "colab": {}
      },
      "source": [
        "def num_targets_per_samples(train_test_name_datasets: List[Tuple[TargetTextCollection,TargetTextCollection,str]]\n",
        "                            ) -> pd.DataFrame:\n",
        "  dataset_names = []\n",
        "  number_targets = []\n",
        "  number_norm_samples = []\n",
        "  number_samples = []\n",
        "  for _, test, name in train_test_name_datasets:\n",
        "    test = test.samples_with_targets()\n",
        "    num_targets_samples = defaultdict(lambda: 0)\n",
        "    total_targets = test.number_targets()\n",
        "    for target_text in test.values():\n",
        "      num_targets = len(target_text['targets'])\n",
        "      num_targets_samples[num_targets] += num_targets\n",
        "    for target_count, sample_count in num_targets_samples.items():\n",
        "      dataset_names.append(name)\n",
        "      number_targets.append(target_count)\n",
        "      number_norm_samples.append((sample_count/total_targets) * 100)\n",
        "      number_samples.append(sample_count)\n",
        "  return pd.DataFrame({'Dataset': dataset_names, 'Targets': number_targets, \n",
        "                       'Samples': number_samples, \n",
        "                       'Samples Norm': number_norm_samples})\n",
        "\n",
        "def subset_dist_chart(subset_frame: pd.DataFrame, title: str,\n",
        "                      no_labels: bool = False) -> alt.vegalite.v3.api.Chart:\n",
        "  '''\n",
        "  :param subset_frame: A DataFrame containing the following columns: \n",
        "                       1. Data Subset, 2. Number of Samples (%),\n",
        "                       3. Number of Samples, 4. Dataset\n",
        "  :param title: A title to give to the generated plot\n",
        "  :param no_labels: Whether the Y-axis should have a label displayed\n",
        "  :returns: A plot that displays for each of the datasets the percentage of the \n",
        "            subsets in that dataset as stacked coloured coloumns.\n",
        "  '''\n",
        "  font_size = 14\n",
        "  y_axis_color = alt.Color('Data Subset:O', \n",
        "                           scale=alt.Scale(scheme='redyellowblue'))\n",
        "  y_axis = alt.Axis(title=None, labels=True, ticks=False)\n",
        "  y_col = alt.Y('Number of Samples (%)',\n",
        "                scale=alt.Scale(domain=[0, 100]))\n",
        "  if no_labels:\n",
        "    y_axis = alt.Axis(title=None, labels=True, ticks=False)\n",
        "    y_col = alt.Y('Number of Samples (%):Q', axis=y_axis,\n",
        "                  scale=alt.Scale(domain=[0, 100]))\n",
        "        \n",
        "  tooltip=['Number Samples', 'Data Subset',\n",
        "           'Number of Samples (%)']\n",
        "  subset_bar_data = {'x': 'Dataset', 'y': y_col, \n",
        "                     'color': y_axis_color, 'tooltip': tooltip}\n",
        "  chart= alt.Chart(subset_frame).mark_bar()\\\n",
        "                                .encode(**subset_bar_data)\\\n",
        "                                .properties(width=100)\n",
        "  chart.title = title \n",
        "  return chart\n",
        "\n",
        "def get_subset_data(train_test_name_datasets: List[Tuple[TargetTextCollection,TargetTextCollection,str]],\n",
        "                    subset_functions: Callable[[TargetTextCollection, TargetTextCollection, bool], TargetTextCollection],\n",
        "                    lower_target: bool) -> pd.DataFrame:\n",
        "  data_subset_names = []\n",
        "  number_samples = []\n",
        "  number_samples_percentage = []\n",
        "  dataset_names = []\n",
        "\n",
        "  for train, test, name in train_test_name_datasets:\n",
        "    test_size = test.number_targets()\n",
        "    for subset_func in subset_functions:\n",
        "      test = subset_func(test, train, lower_target)\n",
        "      subset_name = subset_func.__name__\n",
        "      num_in_subset = count_error_key_occurrence(test, subset_name)\n",
        "      percentage_subset = (num_in_subset / test_size) * 100\n",
        "\n",
        "      subset_name = ' '.join([word.capitalize() for word in subset_name.split('_')])\n",
        "      data_subset_names.append(subset_name)\n",
        "      number_samples.append(num_in_subset)\n",
        "      number_samples_percentage.append(percentage_subset)\n",
        "      dataset_names.append(name)\n",
        "  return pd.DataFrame({'Dataset': dataset_names, \n",
        "                       'Number Samples': number_samples, \n",
        "                       'Number of Samples (%)': number_samples_percentage, \n",
        "                       'Data Subset': data_subset_names})\n",
        "\n",
        "def get_error_data(dataset_name: List[Tuple[TargetTextCollection,str]],\n",
        "                   error_keys: List[str], error_func, **error_kwargs\n",
        "                   ) -> pd.DataFrame:\n",
        "  data_subset_names = []\n",
        "  number_samples = []\n",
        "  number_samples_percentage = []\n",
        "  dataset_names = []\n",
        "  \n",
        "  for dataset, name in dataset_name:\n",
        "    dataset_size = dataset.number_targets()\n",
        "    dataset = error_func(dataset, **error_kwargs)\n",
        "    for error_key in error_keys:\n",
        "      num_errors = count_error_key_occurrence(dataset, error_key)\n",
        "      percent_errors = (num_errors / dataset_size) * 100\n",
        "\n",
        "      data_subset_names.append(error_key)\n",
        "      number_samples.append(num_errors)\n",
        "      number_samples_percentage.append(percent_errors)\n",
        "      dataset_names.append(name)\n",
        "  return pd.DataFrame({'Dataset': dataset_names, \n",
        "                       'Number Samples': number_samples, \n",
        "                       'Number of Samples (%)': number_samples_percentage, \n",
        "                       'Data Subset': data_subset_names})\n",
        "\n",
        "def get_target_distribution_data(sample_distribution: bool, \n",
        "                                 dataset_name: List[Tuple[TargetTextCollection, str]]\n",
        "                                 ) -> pd.DataFrame:\n",
        "  '''\n",
        "  :param sample_distribution: If true will return the Target count with respect\n",
        "                              to the dataset sample distribution. Else it will \n",
        "                              return the Target Count with respect to the \n",
        "                              target distribution\n",
        "  :param dataset_name: A list of tuples containing (TargetTextCollection, \n",
        "                       dataset name) where each datasets statistics will be \n",
        "                       created and returned together in the Pandas DataFrame.\n",
        "  :return: Pandas DataFrame containing statistics to create graphs that can \n",
        "           plot both the same and target distribution with respect to Target \n",
        "           count.\n",
        "  '''\n",
        "  target_counts = []\n",
        "  dataset = []\n",
        "  for target_dataset, name in dataset_name:\n",
        "    target_count = target_dataset.target_count(lower=True).values()\n",
        "    target_counts.extend(list(target_count))\n",
        "    dataset.extend([name] * len(target_count))\n",
        "  distribution_name = 'Targets'\n",
        "  if sample_distribution:\n",
        "    distribution_name = 'Samples'\n",
        "  column_name = f'Number {distribution_name}'\n",
        "  column_percentage = f'{distribution_name} (%)'\n",
        "  column_cumulative = f'{distribution_name} Cumulative (%)'\n",
        "\n",
        "  target_count_df = pd.DataFrame({'Target Count': target_counts,\n",
        "                                  'Dataset': dataset})\n",
        "  target_count_df = target_count_df.groupby(['Target Count', 'Dataset'])\n",
        "  if sample_distribution:\n",
        "    target_count_df = target_count_df['Target Count'].sum()\n",
        "  else:\n",
        "    target_count_df = target_count_df['Target Count'].count()\n",
        "  target_count_df = pd.DataFrame(target_count_df)\n",
        "  target_count_df = target_count_df.rename(columns={'Target Count': column_name})\n",
        "  target_count_df = target_count_df.reset_index()\n",
        "  target_count_df['index'] = target_count_df.index\n",
        "\n",
        "  targets_datasets = target_count_df.groupby(['Dataset'])\n",
        "  dataset_target_count = target_count_df.set_index(['Dataset', 'index'])[column_name]\n",
        "  dataset_num_targets = targets_datasets[column_name].sum()\n",
        "  targets_percentage = (dataset_target_count / dataset_num_targets) * 100\n",
        "  target_count_df[column_percentage] = targets_percentage.reset_index()[column_name]\n",
        "\n",
        "  target_count_df[column_cumulative] = target_count_df.groupby('Dataset')[column_percentage].cumsum()\n",
        "  target_count_df[column_cumulative] = target_count_df[column_cumulative].round(3)\n",
        "  return target_count_df\n",
        "\n",
        "def n_shot_time_series_df(train_test_dataset: List[Tuple[TargetTextCollection, TargetTextCollection, str]],\n",
        "                          norm: bool = False) -> pd.DataFrame:\n",
        "  '''\n",
        "  :param train_test_dataset: A list of Tuples containing the following: \n",
        "                             1. The train dataset, 2. Test dataset, \n",
        "                             3. Name of the dataset e.g. Laptop\n",
        "  :param norm: Whether or not the number of samples should be divided by the \n",
        "               total number of samples in that dataset.\n",
        "  :returns: A DataFrame containing the following columns 1. `N-Shot`, \n",
        "            2. `Number Samples (Cumulative)`, 3. `Number Samples`, 4. `Dataset`.\n",
        "  '''\n",
        "  all_num_samples: List[int] = []\n",
        "  n_shot_values: List[int] = []\n",
        "  dataset_name_col: List[str] = []\n",
        "\n",
        "  for train, test, dataset_name in train_test_dataset:\n",
        "    test_target_count = {t: len(v) for t, v in \n",
        "                         test.target_sentiments(lower=True).items()}\n",
        "    train_target_count = {t: len(v) for t, v in \n",
        "                          train.target_sentiments(lower=True).items()}\n",
        "    test_n_shot_target = defaultdict(lambda: 0)\n",
        "    for target, test_count in test_target_count.items():\n",
        "      count = 0\n",
        "      if target in train_target_count:\n",
        "        count = train_target_count[target]\n",
        "      test_n_shot_target[count] += test_count\n",
        "    \n",
        "    num_samples = list(test_n_shot_target.values())\n",
        "    total_samples = sum(num_samples)\n",
        "    assert test.number_targets() == total_samples\n",
        "    if norm:\n",
        "      num_samples = [(num_sample/total_samples) * 100 \n",
        "                     for num_sample in num_samples]\n",
        "\n",
        "    all_num_samples.extend(num_samples)\n",
        "    n_shot_values.extend(list(test_n_shot_target.keys()))\n",
        "    dataset_name_col.extend([dataset_name for _ in num_samples])\n",
        "  n_shot_df = pd.DataFrame({'N-Shot': n_shot_values, 'Dataset': dataset_name_col,\n",
        "                            'Number Samples': all_num_samples})\n",
        "  n_shot_df_cum = n_shot_df.set_index(['N-Shot', 'Dataset'])\\\n",
        "                           .sort_index()\\\n",
        "                           .groupby('Dataset')['Number Samples']\\\n",
        "                           .cumsum()\\\n",
        "                           .reset_index()\n",
        "  cum_col_mapper = {'Number Samples': 'Number Samples (Cumulative)'}\n",
        "  n_shot_df_cum = n_shot_df_cum.rename(cum_col_mapper, axis=1)\n",
        "  n_shot_df = n_shot_df.set_index(['N-Shot', 'Dataset'])\n",
        "  n_shot_df_cum = n_shot_df_cum.set_index(['N-Shot', 'Dataset'])\n",
        "  n_shot_df['Number Samples (Cumulative)'] = n_shot_df_cum['Number Samples (Cumulative)']\n",
        "  return n_shot_df.reset_index()"
      ],
      "execution_count": 0,
      "outputs": []
    },
    {
      "cell_type": "markdown",
      "metadata": {
        "id": "6uc-oes-dcyA",
        "colab_type": "text"
      },
      "source": [
        "# The different sentiment specific data splits within Target/Aspect Dependent Sentiment Analysis (TDSA)\n",
        "In this notebook we will explore the different ways the TDSA datasets can be broken down via their sentiment and target specific properties. These splits will come from related work in the field as well as new splits.\n",
        "\n",
        "Before exploring any of these splits I think we should first explore the distribution of Targets within the Training datasets and then the distribution of these targets with respect to the number of samples.\n",
        "\n",
        "## Target Distributions within the Training datasets\n",
        "Before any of this can happen we must first upload the 3 different datasets that we are going to explore, as to save room in this notebook look at the following notebook on details of how to run these cells. [NOTEBOOK](https://github.com/apmoore1/target-extraction/blob/master/tutorials/Load_and_Explore_Target_Extraction.ipynb)"
      ]
    },
    {
      "cell_type": "code",
      "metadata": {
        "id": "Kw7gzUuF2uGI",
        "colab_type": "code",
        "outputId": "d70880d5-60cc-4c61-8f8a-69e5f26689bc",
        "colab": {
          "resources": {
            "http://localhost:8080/nbextensions/google.colab/files.js": {
              "data": "Ly8gQ29weXJpZ2h0IDIwMTcgR29vZ2xlIExMQwovLwovLyBMaWNlbnNlZCB1bmRlciB0aGUgQXBhY2hlIExpY2Vuc2UsIFZlcnNpb24gMi4wICh0aGUgIkxpY2Vuc2UiKTsKLy8geW91IG1heSBub3QgdXNlIHRoaXMgZmlsZSBleGNlcHQgaW4gY29tcGxpYW5jZSB3aXRoIHRoZSBMaWNlbnNlLgovLyBZb3UgbWF5IG9idGFpbiBhIGNvcHkgb2YgdGhlIExpY2Vuc2UgYXQKLy8KLy8gICAgICBodHRwOi8vd3d3LmFwYWNoZS5vcmcvbGljZW5zZXMvTElDRU5TRS0yLjAKLy8KLy8gVW5sZXNzIHJlcXVpcmVkIGJ5IGFwcGxpY2FibGUgbGF3IG9yIGFncmVlZCB0byBpbiB3cml0aW5nLCBzb2Z0d2FyZQovLyBkaXN0cmlidXRlZCB1bmRlciB0aGUgTGljZW5zZSBpcyBkaXN0cmlidXRlZCBvbiBhbiAiQVMgSVMiIEJBU0lTLAovLyBXSVRIT1VUIFdBUlJBTlRJRVMgT1IgQ09ORElUSU9OUyBPRiBBTlkgS0lORCwgZWl0aGVyIGV4cHJlc3Mgb3IgaW1wbGllZC4KLy8gU2VlIHRoZSBMaWNlbnNlIGZvciB0aGUgc3BlY2lmaWMgbGFuZ3VhZ2UgZ292ZXJuaW5nIHBlcm1pc3Npb25zIGFuZAovLyBsaW1pdGF0aW9ucyB1bmRlciB0aGUgTGljZW5zZS4KCi8qKgogKiBAZmlsZW92ZXJ2aWV3IEhlbHBlcnMgZm9yIGdvb2dsZS5jb2xhYiBQeXRob24gbW9kdWxlLgogKi8KKGZ1bmN0aW9uKHNjb3BlKSB7CmZ1bmN0aW9uIHNwYW4odGV4dCwgc3R5bGVBdHRyaWJ1dGVzID0ge30pIHsKICBjb25zdCBlbGVtZW50ID0gZG9jdW1lbnQuY3JlYXRlRWxlbWVudCgnc3BhbicpOwogIGVsZW1lbnQudGV4dENvbnRlbnQgPSB0ZXh0OwogIGZvciAoY29uc3Qga2V5IG9mIE9iamVjdC5rZXlzKHN0eWxlQXR0cmlidXRlcykpIHsKICAgIGVsZW1lbnQuc3R5bGVba2V5XSA9IHN0eWxlQXR0cmlidXRlc1trZXldOwogIH0KICByZXR1cm4gZWxlbWVudDsKfQoKLy8gTWF4IG51bWJlciBvZiBieXRlcyB3aGljaCB3aWxsIGJlIHVwbG9hZGVkIGF0IGEgdGltZS4KY29uc3QgTUFYX1BBWUxPQURfU0laRSA9IDEwMCAqIDEwMjQ7Ci8vIE1heCBhbW91bnQgb2YgdGltZSB0byBibG9jayB3YWl0aW5nIGZvciB0aGUgdXNlci4KY29uc3QgRklMRV9DSEFOR0VfVElNRU9VVF9NUyA9IDMwICogMTAwMDsKCmZ1bmN0aW9uIF91cGxvYWRGaWxlcyhpbnB1dElkLCBvdXRwdXRJZCkgewogIGNvbnN0IHN0ZXBzID0gdXBsb2FkRmlsZXNTdGVwKGlucHV0SWQsIG91dHB1dElkKTsKICBjb25zdCBvdXRwdXRFbGVtZW50ID0gZG9jdW1lbnQuZ2V0RWxlbWVudEJ5SWQob3V0cHV0SWQpOwogIC8vIENhY2hlIHN0ZXBzIG9uIHRoZSBvdXRwdXRFbGVtZW50IHRvIG1ha2UgaXQgYXZhaWxhYmxlIGZvciB0aGUgbmV4dCBjYWxsCiAgLy8gdG8gdXBsb2FkRmlsZXNDb250aW51ZSBmcm9tIFB5dGhvbi4KICBvdXRwdXRFbGVtZW50LnN0ZXBzID0gc3RlcHM7CgogIHJldHVybiBfdXBsb2FkRmlsZXNDb250aW51ZShvdXRwdXRJZCk7Cn0KCi8vIFRoaXMgaXMgcm91Z2hseSBhbiBhc3luYyBnZW5lcmF0b3IgKG5vdCBzdXBwb3J0ZWQgaW4gdGhlIGJyb3dzZXIgeWV0KSwKLy8gd2hlcmUgdGhlcmUgYXJlIG11bHRpcGxlIGFzeW5jaHJvbm91cyBzdGVwcyBhbmQgdGhlIFB5dGhvbiBzaWRlIGlzIGdvaW5nCi8vIHRvIHBvbGwgZm9yIGNvbXBsZXRpb24gb2YgZWFjaCBzdGVwLgovLyBUaGlzIHVzZXMgYSBQcm9taXNlIHRvIGJsb2NrIHRoZSBweXRob24gc2lkZSBvbiBjb21wbGV0aW9uIG9mIGVhY2ggc3RlcCwKLy8gdGhlbiBwYXNzZXMgdGhlIHJlc3VsdCBvZiB0aGUgcHJldmlvdXMgc3RlcCBhcyB0aGUgaW5wdXQgdG8gdGhlIG5leHQgc3RlcC4KZnVuY3Rpb24gX3VwbG9hZEZpbGVzQ29udGludWUob3V0cHV0SWQpIHsKICBjb25zdCBvdXRwdXRFbGVtZW50ID0gZG9jdW1lbnQuZ2V0RWxlbWVudEJ5SWQob3V0cHV0SWQpOwogIGNvbnN0IHN0ZXBzID0gb3V0cHV0RWxlbWVudC5zdGVwczsKCiAgY29uc3QgbmV4dCA9IHN0ZXBzLm5leHQob3V0cHV0RWxlbWVudC5sYXN0UHJvbWlzZVZhbHVlKTsKICByZXR1cm4gUHJvbWlzZS5yZXNvbHZlKG5leHQudmFsdWUucHJvbWlzZSkudGhlbigodmFsdWUpID0+IHsKICAgIC8vIENhY2hlIHRoZSBsYXN0IHByb21pc2UgdmFsdWUgdG8gbWFrZSBpdCBhdmFpbGFibGUgdG8gdGhlIG5leHQKICAgIC8vIHN0ZXAgb2YgdGhlIGdlbmVyYXRvci4KICAgIG91dHB1dEVsZW1lbnQubGFzdFByb21pc2VWYWx1ZSA9IHZhbHVlOwogICAgcmV0dXJuIG5leHQudmFsdWUucmVzcG9uc2U7CiAgfSk7Cn0KCi8qKgogKiBHZW5lcmF0b3IgZnVuY3Rpb24gd2hpY2ggaXMgY2FsbGVkIGJldHdlZW4gZWFjaCBhc3luYyBzdGVwIG9mIHRoZSB1cGxvYWQKICogcHJvY2Vzcy4KICogQHBhcmFtIHtzdHJpbmd9IGlucHV0SWQgRWxlbWVudCBJRCBvZiB0aGUgaW5wdXQgZmlsZSBwaWNrZXIgZWxlbWVudC4KICogQHBhcmFtIHtzdHJpbmd9IG91dHB1dElkIEVsZW1lbnQgSUQgb2YgdGhlIG91dHB1dCBkaXNwbGF5LgogKiBAcmV0dXJuIHshSXRlcmFibGU8IU9iamVjdD59IEl0ZXJhYmxlIG9mIG5leHQgc3RlcHMuCiAqLwpmdW5jdGlvbiogdXBsb2FkRmlsZXNTdGVwKGlucHV0SWQsIG91dHB1dElkKSB7CiAgY29uc3QgaW5wdXRFbGVtZW50ID0gZG9jdW1lbnQuZ2V0RWxlbWVudEJ5SWQoaW5wdXRJZCk7CiAgaW5wdXRFbGVtZW50LmRpc2FibGVkID0gZmFsc2U7CgogIGNvbnN0IG91dHB1dEVsZW1lbnQgPSBkb2N1bWVudC5nZXRFbGVtZW50QnlJZChvdXRwdXRJZCk7CiAgb3V0cHV0RWxlbWVudC5pbm5lckhUTUwgPSAnJzsKCiAgY29uc3QgcGlja2VkUHJvbWlzZSA9IG5ldyBQcm9taXNlKChyZXNvbHZlKSA9PiB7CiAgICBpbnB1dEVsZW1lbnQuYWRkRXZlbnRMaXN0ZW5lcignY2hhbmdlJywgKGUpID0+IHsKICAgICAgcmVzb2x2ZShlLnRhcmdldC5maWxlcyk7CiAgICB9KTsKICB9KTsKCiAgY29uc3QgY2FuY2VsID0gZG9jdW1lbnQuY3JlYXRlRWxlbWVudCgnYnV0dG9uJyk7CiAgaW5wdXRFbGVtZW50LnBhcmVudEVsZW1lbnQuYXBwZW5kQ2hpbGQoY2FuY2VsKTsKICBjYW5jZWwudGV4dENvbnRlbnQgPSAnQ2FuY2VsIHVwbG9hZCc7CiAgY29uc3QgY2FuY2VsUHJvbWlzZSA9IG5ldyBQcm9taXNlKChyZXNvbHZlKSA9PiB7CiAgICBjYW5jZWwub25jbGljayA9ICgpID0+IHsKICAgICAgcmVzb2x2ZShudWxsKTsKICAgIH07CiAgfSk7CgogIC8vIENhbmNlbCB1cGxvYWQgaWYgdXNlciBoYXNuJ3QgcGlja2VkIGFueXRoaW5nIGluIHRpbWVvdXQuCiAgY29uc3QgdGltZW91dFByb21pc2UgPSBuZXcgUHJvbWlzZSgocmVzb2x2ZSkgPT4gewogICAgc2V0VGltZW91dCgoKSA9PiB7CiAgICAgIHJlc29sdmUobnVsbCk7CiAgICB9LCBGSUxFX0NIQU5HRV9USU1FT1VUX01TKTsKICB9KTsKCiAgLy8gV2FpdCBmb3IgdGhlIHVzZXIgdG8gcGljayB0aGUgZmlsZXMuCiAgY29uc3QgZmlsZXMgPSB5aWVsZCB7CiAgICBwcm9taXNlOiBQcm9taXNlLnJhY2UoW3BpY2tlZFByb21pc2UsIHRpbWVvdXRQcm9taXNlLCBjYW5jZWxQcm9taXNlXSksCiAgICByZXNwb25zZTogewogICAgICBhY3Rpb246ICdzdGFydGluZycsCiAgICB9CiAgfTsKCiAgaWYgKCFmaWxlcykgewogICAgcmV0dXJuIHsKICAgICAgcmVzcG9uc2U6IHsKICAgICAgICBhY3Rpb246ICdjb21wbGV0ZScsCiAgICAgIH0KICAgIH07CiAgfQoKICBjYW5jZWwucmVtb3ZlKCk7CgogIC8vIERpc2FibGUgdGhlIGlucHV0IGVsZW1lbnQgc2luY2UgZnVydGhlciBwaWNrcyBhcmUgbm90IGFsbG93ZWQuCiAgaW5wdXRFbGVtZW50LmRpc2FibGVkID0gdHJ1ZTsKCiAgZm9yIChjb25zdCBmaWxlIG9mIGZpbGVzKSB7CiAgICBjb25zdCBsaSA9IGRvY3VtZW50LmNyZWF0ZUVsZW1lbnQoJ2xpJyk7CiAgICBsaS5hcHBlbmQoc3BhbihmaWxlLm5hbWUsIHtmb250V2VpZ2h0OiAnYm9sZCd9KSk7CiAgICBsaS5hcHBlbmQoc3BhbigKICAgICAgICBgKCR7ZmlsZS50eXBlIHx8ICduL2EnfSkgLSAke2ZpbGUuc2l6ZX0gYnl0ZXMsIGAgKwogICAgICAgIGBsYXN0IG1vZGlmaWVkOiAkewogICAgICAgICAgICBmaWxlLmxhc3RNb2RpZmllZERhdGUgPyBmaWxlLmxhc3RNb2RpZmllZERhdGUudG9Mb2NhbGVEYXRlU3RyaW5nKCkgOgogICAgICAgICAgICAgICAgICAgICAgICAgICAgICAgICAgICAnbi9hJ30gLSBgKSk7CiAgICBjb25zdCBwZXJjZW50ID0gc3BhbignMCUgZG9uZScpOwogICAgbGkuYXBwZW5kQ2hpbGQocGVyY2VudCk7CgogICAgb3V0cHV0RWxlbWVudC5hcHBlbmRDaGlsZChsaSk7CgogICAgY29uc3QgZmlsZURhdGFQcm9taXNlID0gbmV3IFByb21pc2UoKHJlc29sdmUpID0+IHsKICAgICAgY29uc3QgcmVhZGVyID0gbmV3IEZpbGVSZWFkZXIoKTsKICAgICAgcmVhZGVyLm9ubG9hZCA9IChlKSA9PiB7CiAgICAgICAgcmVzb2x2ZShlLnRhcmdldC5yZXN1bHQpOwogICAgICB9OwogICAgICByZWFkZXIucmVhZEFzQXJyYXlCdWZmZXIoZmlsZSk7CiAgICB9KTsKICAgIC8vIFdhaXQgZm9yIHRoZSBkYXRhIHRvIGJlIHJlYWR5LgogICAgbGV0IGZpbGVEYXRhID0geWllbGQgewogICAgICBwcm9taXNlOiBmaWxlRGF0YVByb21pc2UsCiAgICAgIHJlc3BvbnNlOiB7CiAgICAgICAgYWN0aW9uOiAnY29udGludWUnLAogICAgICB9CiAgICB9OwoKICAgIC8vIFVzZSBhIGNodW5rZWQgc2VuZGluZyB0byBhdm9pZCBtZXNzYWdlIHNpemUgbGltaXRzLiBTZWUgYi82MjExNTY2MC4KICAgIGxldCBwb3NpdGlvbiA9IDA7CiAgICB3aGlsZSAocG9zaXRpb24gPCBmaWxlRGF0YS5ieXRlTGVuZ3RoKSB7CiAgICAgIGNvbnN0IGxlbmd0aCA9IE1hdGgubWluKGZpbGVEYXRhLmJ5dGVMZW5ndGggLSBwb3NpdGlvbiwgTUFYX1BBWUxPQURfU0laRSk7CiAgICAgIGNvbnN0IGNodW5rID0gbmV3IFVpbnQ4QXJyYXkoZmlsZURhdGEsIHBvc2l0aW9uLCBsZW5ndGgpOwogICAgICBwb3NpdGlvbiArPSBsZW5ndGg7CgogICAgICBjb25zdCBiYXNlNjQgPSBidG9hKFN0cmluZy5mcm9tQ2hhckNvZGUuYXBwbHkobnVsbCwgY2h1bmspKTsKICAgICAgeWllbGQgewogICAgICAgIHJlc3BvbnNlOiB7CiAgICAgICAgICBhY3Rpb246ICdhcHBlbmQnLAogICAgICAgICAgZmlsZTogZmlsZS5uYW1lLAogICAgICAgICAgZGF0YTogYmFzZTY0LAogICAgICAgIH0sCiAgICAgIH07CiAgICAgIHBlcmNlbnQudGV4dENvbnRlbnQgPQogICAgICAgICAgYCR7TWF0aC5yb3VuZCgocG9zaXRpb24gLyBmaWxlRGF0YS5ieXRlTGVuZ3RoKSAqIDEwMCl9JSBkb25lYDsKICAgIH0KICB9CgogIC8vIEFsbCBkb25lLgogIHlpZWxkIHsKICAgIHJlc3BvbnNlOiB7CiAgICAgIGFjdGlvbjogJ2NvbXBsZXRlJywKICAgIH0KICB9Owp9CgpzY29wZS5nb29nbGUgPSBzY29wZS5nb29nbGUgfHwge307CnNjb3BlLmdvb2dsZS5jb2xhYiA9IHNjb3BlLmdvb2dsZS5jb2xhYiB8fCB7fTsKc2NvcGUuZ29vZ2xlLmNvbGFiLl9maWxlcyA9IHsKICBfdXBsb2FkRmlsZXMsCiAgX3VwbG9hZEZpbGVzQ29udGludWUsCn07Cn0pKHNlbGYpOwo=",
              "ok": true,
              "headers": [
                [
                  "content-type",
                  "application/javascript"
                ]
              ],
              "status": 200,
              "status_text": ""
            }
          },
          "base_uri": "https://localhost:8080/",
          "height": 321
        }
      },
      "source": [
        "from pathlib import Path\n",
        "from google.colab import files\n",
        "uploaded = {}\n",
        "for i in range(4):\n",
        "  temp_uploaded = files.upload()\n",
        "  uploaded = {**uploaded, **temp_uploaded}\n",
        "semeval_fps = [Path(key).resolve() for key in uploaded.keys()]\n",
        "semeval_fps = {semeval_path.name: semeval_path for semeval_path in semeval_fps}\n",
        "del uploaded\n",
        "# Paths to the files uploaded\n",
        "for file_name, fp in semeval_fps.items():\n",
        "  print(f'SemEval file name: {file_name}. File Path {fp}')\n",
        "  \n",
        "laptop_train = semeval_2014(semeval_fps['Laptop_Train_v2.xml'], conflict=False)\n",
        "laptop_test = semeval_2014(semeval_fps['Laptops_Test_Gold.xml'], conflict=False)\n",
        "rest_train = semeval_2014(semeval_fps['Restaurants_Train_v2.xml'], conflict=False)\n",
        "rest_test = semeval_2014(semeval_fps['Restaurants_Test_Gold.xml'], conflict=False)\n",
        "elec_dir = Path('/tmp', 'elec_dir')\n",
        "elec_train = wang_2017_election_twitter_train(elec_dir)\n",
        "elec_test = wang_2017_election_twitter_test(elec_dir)\n",
        "\n",
        "train_test_datasets = [(laptop_train, laptop_test, 'Laptop'),\n",
        "                       (rest_train, rest_test, 'Restaurant'),\n",
        "                       (elec_train, elec_test, 'Election')]\n",
        "# Only want the samples in the dataset that would be used for target sentiment \n",
        "# prediction therefore remove all of those samples that do not contain a sentiment \n",
        "# value\n",
        "train_test_datasets = [(train.samples_with_targets(), \n",
        "                        test.samples_with_targets(), name) \n",
        "                       for train, test, name in train_test_datasets]"
      ],
      "execution_count": 5,
      "outputs": [
        {
          "output_type": "display_data",
          "data": {
            "text/html": [
              "\n",
              "     <input type=\"file\" id=\"files-1cb527fd-691d-44be-83e0-746e832d34cd\" name=\"files[]\" multiple disabled />\n",
              "     <output id=\"result-1cb527fd-691d-44be-83e0-746e832d34cd\">\n",
              "      Upload widget is only available when the cell has been executed in the\n",
              "      current browser session. Please rerun this cell to enable.\n",
              "      </output>\n",
              "      <script src=\"/nbextensions/google.colab/files.js\"></script> "
            ],
            "text/plain": [
              "<IPython.core.display.HTML object>"
            ]
          },
          "metadata": {
            "tags": []
          }
        },
        {
          "output_type": "stream",
          "text": [
            "Saving Restaurants_Test_Gold.xml to Restaurants_Test_Gold.xml\n"
          ],
          "name": "stdout"
        },
        {
          "output_type": "display_data",
          "data": {
            "text/html": [
              "\n",
              "     <input type=\"file\" id=\"files-12b04857-effb-4b7e-aff1-2ede0a964a7c\" name=\"files[]\" multiple disabled />\n",
              "     <output id=\"result-12b04857-effb-4b7e-aff1-2ede0a964a7c\">\n",
              "      Upload widget is only available when the cell has been executed in the\n",
              "      current browser session. Please rerun this cell to enable.\n",
              "      </output>\n",
              "      <script src=\"/nbextensions/google.colab/files.js\"></script> "
            ],
            "text/plain": [
              "<IPython.core.display.HTML object>"
            ]
          },
          "metadata": {
            "tags": []
          }
        },
        {
          "output_type": "stream",
          "text": [
            "Saving Laptops_Test_Gold.xml to Laptops_Test_Gold.xml\n"
          ],
          "name": "stdout"
        },
        {
          "output_type": "display_data",
          "data": {
            "text/html": [
              "\n",
              "     <input type=\"file\" id=\"files-2e269610-05cc-4677-91b0-a150232dfd48\" name=\"files[]\" multiple disabled />\n",
              "     <output id=\"result-2e269610-05cc-4677-91b0-a150232dfd48\">\n",
              "      Upload widget is only available when the cell has been executed in the\n",
              "      current browser session. Please rerun this cell to enable.\n",
              "      </output>\n",
              "      <script src=\"/nbextensions/google.colab/files.js\"></script> "
            ],
            "text/plain": [
              "<IPython.core.display.HTML object>"
            ]
          },
          "metadata": {
            "tags": []
          }
        },
        {
          "output_type": "stream",
          "text": [
            "Saving Laptop_Train_v2.xml to Laptop_Train_v2.xml\n"
          ],
          "name": "stdout"
        },
        {
          "output_type": "display_data",
          "data": {
            "text/html": [
              "\n",
              "     <input type=\"file\" id=\"files-1f3ab7e3-81e5-4d4b-adaa-f7de89425ff4\" name=\"files[]\" multiple disabled />\n",
              "     <output id=\"result-1f3ab7e3-81e5-4d4b-adaa-f7de89425ff4\">\n",
              "      Upload widget is only available when the cell has been executed in the\n",
              "      current browser session. Please rerun this cell to enable.\n",
              "      </output>\n",
              "      <script src=\"/nbextensions/google.colab/files.js\"></script> "
            ],
            "text/plain": [
              "<IPython.core.display.HTML object>"
            ]
          },
          "metadata": {
            "tags": []
          }
        },
        {
          "output_type": "stream",
          "text": [
            "Saving Restaurants_Train_v2.xml to Restaurants_Train_v2.xml\n",
            "SemEval file name: Restaurants_Test_Gold.xml. File Path /content/Restaurants_Test_Gold.xml\n",
            "SemEval file name: Laptops_Test_Gold.xml. File Path /content/Laptops_Test_Gold.xml\n",
            "SemEval file name: Laptop_Train_v2.xml. File Path /content/Laptop_Train_v2.xml\n",
            "SemEval file name: Restaurants_Train_v2.xml. File Path /content/Restaurants_Train_v2.xml\n"
          ],
          "name": "stdout"
        }
      ]
    },
    {
      "cell_type": "markdown",
      "metadata": {
        "id": "Hy5vm6r9Twvg",
        "colab_type": "text"
      },
      "source": [
        "Now that we have the data we are going to plot the target distribution for each of the training datasets. To do this first we are going to manipulate the data within the TargetTextCollections to create a pandas dataframe in long form where we have the number of times a target has occured (Target Count) and the number of targets that have occurred that frequently as a percentage of all targets (Target (%)). This data can be seen below where we have printed the first 5 rows of the DataFrame.  "
      ]
    },
    {
      "cell_type": "code",
      "metadata": {
        "id": "zUtj6wBgAmXF",
        "colab_type": "code",
        "outputId": "6096a323-0d57-4db5-cc04-98eb53efe4a2",
        "colab": {
          "base_uri": "https://localhost:8080/",
          "height": 204
        }
      },
      "source": [
        "train_dataset_name = [(train, name) for train, test, name in train_test_datasets]\n",
        "target_count_df = get_target_distribution_data(sample_distribution=False,\n",
        "                                               dataset_name=train_dataset_name)\n",
        "target_count_df.head(5)"
      ],
      "execution_count": 6,
      "outputs": [
        {
          "output_type": "execute_result",
          "data": {
            "text/html": [
              "<div>\n",
              "<style scoped>\n",
              "    .dataframe tbody tr th:only-of-type {\n",
              "        vertical-align: middle;\n",
              "    }\n",
              "\n",
              "    .dataframe tbody tr th {\n",
              "        vertical-align: top;\n",
              "    }\n",
              "\n",
              "    .dataframe thead th {\n",
              "        text-align: right;\n",
              "    }\n",
              "</style>\n",
              "<table border=\"1\" class=\"dataframe\">\n",
              "  <thead>\n",
              "    <tr style=\"text-align: right;\">\n",
              "      <th></th>\n",
              "      <th>Target Count</th>\n",
              "      <th>Dataset</th>\n",
              "      <th>Number Targets</th>\n",
              "      <th>index</th>\n",
              "      <th>Targets (%)</th>\n",
              "      <th>Targets Cumulative (%)</th>\n",
              "    </tr>\n",
              "  </thead>\n",
              "  <tbody>\n",
              "    <tr>\n",
              "      <th>0</th>\n",
              "      <td>1</td>\n",
              "      <td>Election</td>\n",
              "      <td>1276</td>\n",
              "      <td>0</td>\n",
              "      <td>69.010276</td>\n",
              "      <td>69.010</td>\n",
              "    </tr>\n",
              "    <tr>\n",
              "      <th>1</th>\n",
              "      <td>1</td>\n",
              "      <td>Laptop</td>\n",
              "      <td>692</td>\n",
              "      <td>1</td>\n",
              "      <td>73.227513</td>\n",
              "      <td>73.228</td>\n",
              "    </tr>\n",
              "    <tr>\n",
              "      <th>2</th>\n",
              "      <td>1</td>\n",
              "      <td>Restaurant</td>\n",
              "      <td>895</td>\n",
              "      <td>2</td>\n",
              "      <td>74.895397</td>\n",
              "      <td>74.895</td>\n",
              "    </tr>\n",
              "    <tr>\n",
              "      <th>3</th>\n",
              "      <td>2</td>\n",
              "      <td>Election</td>\n",
              "      <td>176</td>\n",
              "      <td>3</td>\n",
              "      <td>9.518659</td>\n",
              "      <td>78.529</td>\n",
              "    </tr>\n",
              "    <tr>\n",
              "      <th>4</th>\n",
              "      <td>2</td>\n",
              "      <td>Laptop</td>\n",
              "      <td>116</td>\n",
              "      <td>4</td>\n",
              "      <td>12.275132</td>\n",
              "      <td>85.503</td>\n",
              "    </tr>\n",
              "  </tbody>\n",
              "</table>\n",
              "</div>"
            ],
            "text/plain": [
              "   Target Count     Dataset  ...  Targets (%)  Targets Cumulative (%)\n",
              "0             1    Election  ...    69.010276                  69.010\n",
              "1             1      Laptop  ...    73.227513                  73.228\n",
              "2             1  Restaurant  ...    74.895397                  74.895\n",
              "3             2    Election  ...     9.518659                  78.529\n",
              "4             2      Laptop  ...    12.275132                  85.503\n",
              "\n",
              "[5 rows x 6 columns]"
            ]
          },
          "metadata": {
            "tags": []
          },
          "execution_count": 6
        }
      ]
    },
    {
      "cell_type": "markdown",
      "metadata": {
        "id": "XZPhS5y7-J7a",
        "colab_type": "text"
      },
      "source": [
        "Below we are going to plot the Cumulative Target frequency:"
      ]
    },
    {
      "cell_type": "code",
      "metadata": {
        "id": "9N2X65Tb6YPI",
        "colab_type": "code",
        "outputId": "3a07b1df-ea36-4f28-edc2-44429f5318c8",
        "colab": {
          "base_uri": "https://localhost:8080/",
          "height": 445
        }
      },
      "source": [
        "target_dist_chart = alt.Chart(target_count_df).mark_line(point=True).encode(\n",
        "    x=alt.X(\"Target Count:Q\"),\n",
        "    y=alt.Y('Targets Cumulative (%)', scale=alt.Scale(domain=(65, 100))),\n",
        "    color='Dataset',\n",
        "    tooltip=['Target Count', 'Targets Cumulative (%)', 'Dataset']\n",
        ")\n",
        "target_dist_chart.title = 'Target distribution'\n",
        "\n",
        "target_dist_chart_60 = target_dist_chart.transform_filter((alt.datum['Target Count'] <= 60))\n",
        "target_dist_chart_60.title = 'Target distribution (Up to count 60)'\n",
        "\n",
        "dataset_size = {'Dataset': [name for _, name in train_dataset_name],\n",
        "                'Number of Samples': [dataset.number_targets() \n",
        "                                      for dataset, _ in train_dataset_name]}\n",
        "dataset_size_df = pd.DataFrame(dataset_size)\n",
        "dataset_size_chart = alt.Chart(dataset_size_df).mark_bar().encode(\n",
        "    x='Dataset', y='Number of Samples', color='Dataset', \n",
        "    tooltip=['Dataset', 'Number of Samples'])\n",
        "\n",
        "target_dist_chart | target_dist_chart_60 | dataset_size_chart"
      ],
      "execution_count": 7,
      "outputs": [
        {
          "output_type": "execute_result",
          "data": {
            "text/plain": [
              "alt.HConcatChart(...)"
            ],
            "text/html": [
              "<!DOCTYPE html>\n",
              "<html>\n",
              "<head>\n",
              "  <style>\n",
              "    .vega-actions a {\n",
              "        margin-right: 12px;\n",
              "        color: #757575;\n",
              "        font-weight: normal;\n",
              "        font-size: 13px;\n",
              "    }\n",
              "    .error {\n",
              "        color: red;\n",
              "    }\n",
              "  </style>\n",
              "  <script type=\"text/javascript\" src=\"https://cdn.jsdelivr.net/npm//vega@5\"></script>\n",
              "  <script type=\"text/javascript\" src=\"https://cdn.jsdelivr.net/npm//vega-lite@3.4.0\"></script>\n",
              "  <script type=\"text/javascript\" src=\"https://cdn.jsdelivr.net/npm//vega-embed@4\"></script>\n",
              "</head>\n",
              "<body>\n",
              "  <div id=\"altair-viz\"></div>\n",
              "  <script>\n",
              "    (function(vegaEmbed) {\n",
              "      var spec = {\"config\": {\"view\": {\"width\": 400, \"height\": 300}, \"mark\": {\"tooltip\": null}}, \"hconcat\": [{\"mark\": {\"type\": \"line\", \"point\": true}, \"encoding\": {\"color\": {\"type\": \"nominal\", \"field\": \"Dataset\"}, \"tooltip\": [{\"type\": \"quantitative\", \"field\": \"Target Count\"}, {\"type\": \"quantitative\", \"field\": \"Targets Cumulative (%)\"}, {\"type\": \"nominal\", \"field\": \"Dataset\"}], \"x\": {\"type\": \"quantitative\", \"field\": \"Target Count\"}, \"y\": {\"type\": \"quantitative\", \"field\": \"Targets Cumulative (%)\", \"scale\": {\"domain\": [65, 100]}}}, \"title\": \"Target distribution\"}, {\"mark\": {\"type\": \"line\", \"point\": true}, \"encoding\": {\"color\": {\"type\": \"nominal\", \"field\": \"Dataset\"}, \"tooltip\": [{\"type\": \"quantitative\", \"field\": \"Target Count\"}, {\"type\": \"quantitative\", \"field\": \"Targets Cumulative (%)\"}, {\"type\": \"nominal\", \"field\": \"Dataset\"}], \"x\": {\"type\": \"quantitative\", \"field\": \"Target Count\"}, \"y\": {\"type\": \"quantitative\", \"field\": \"Targets Cumulative (%)\", \"scale\": {\"domain\": [65, 100]}}}, \"title\": \"Target distribution (Up to count 60)\", \"transform\": [{\"filter\": \"(datum['Target Count'] <= 60)\"}]}, {\"data\": {\"name\": \"data-97c1493f78dd420f6e90570c6f6633f2\"}, \"mark\": \"bar\", \"encoding\": {\"color\": {\"type\": \"nominal\", \"field\": \"Dataset\"}, \"tooltip\": [{\"type\": \"nominal\", \"field\": \"Dataset\"}, {\"type\": \"quantitative\", \"field\": \"Number of Samples\"}], \"x\": {\"type\": \"nominal\", \"field\": \"Dataset\"}, \"y\": {\"type\": \"quantitative\", \"field\": \"Number of Samples\"}}}], \"data\": {\"name\": \"data-35b4479f23ed25d225136e776edf910e\"}, \"$schema\": \"https://vega.github.io/schema/vega-lite/v3.4.0.json\", \"datasets\": {\"data-35b4479f23ed25d225136e776edf910e\": [{\"Target Count\": 1, \"Dataset\": \"Election\", \"Number Targets\": 1276, \"index\": 0, \"Targets (%)\": 69.01027582477015, \"Targets Cumulative (%)\": 69.01}, {\"Target Count\": 1, \"Dataset\": \"Laptop\", \"Number Targets\": 692, \"index\": 1, \"Targets (%)\": 73.22751322751323, \"Targets Cumulative (%)\": 73.228}, {\"Target Count\": 1, \"Dataset\": \"Restaurant\", \"Number Targets\": 895, \"index\": 2, \"Targets (%)\": 74.89539748953975, \"Targets Cumulative (%)\": 74.895}, {\"Target Count\": 2, \"Dataset\": \"Election\", \"Number Targets\": 176, \"index\": 3, \"Targets (%)\": 9.518658734451055, \"Targets Cumulative (%)\": 78.529}, {\"Target Count\": 2, \"Dataset\": \"Laptop\", \"Number Targets\": 116, \"index\": 4, \"Targets (%)\": 12.275132275132275, \"Targets Cumulative (%)\": 85.503}, {\"Target Count\": 2, \"Dataset\": \"Restaurant\", \"Number Targets\": 125, \"index\": 5, \"Targets (%)\": 10.460251046025103, \"Targets Cumulative (%)\": 85.356}, {\"Target Count\": 3, \"Dataset\": \"Election\", \"Number Targets\": 90, \"index\": 6, \"Targets (%)\": 4.86749594375338, \"Targets Cumulative (%)\": 83.396}, {\"Target Count\": 3, \"Dataset\": \"Laptop\", \"Number Targets\": 31, \"index\": 7, \"Targets (%)\": 3.28042328042328, \"Targets Cumulative (%)\": 88.783}, {\"Target Count\": 3, \"Dataset\": \"Restaurant\", \"Number Targets\": 43, \"index\": 8, \"Targets (%)\": 3.5983263598326363, \"Targets Cumulative (%)\": 88.954}, {\"Target Count\": 4, \"Dataset\": \"Election\", \"Number Targets\": 60, \"index\": 9, \"Targets (%)\": 3.244997295835587, \"Targets Cumulative (%)\": 86.641}, {\"Target Count\": 4, \"Dataset\": \"Laptop\", \"Number Targets\": 25, \"index\": 10, \"Targets (%)\": 2.6455026455026456, \"Targets Cumulative (%)\": 91.429}, {\"Target Count\": 4, \"Dataset\": \"Restaurant\", \"Number Targets\": 18, \"index\": 11, \"Targets (%)\": 1.506276150627615, \"Targets Cumulative (%)\": 90.46}, {\"Target Count\": 5, \"Dataset\": \"Election\", \"Number Targets\": 30, \"index\": 12, \"Targets (%)\": 1.6224986479177934, \"Targets Cumulative (%)\": 88.264}, {\"Target Count\": 5, \"Dataset\": \"Laptop\", \"Number Targets\": 12, \"index\": 13, \"Targets (%)\": 1.2698412698412698, \"Targets Cumulative (%)\": 92.698}, {\"Target Count\": 5, \"Dataset\": \"Restaurant\", \"Number Targets\": 19, \"index\": 14, \"Targets (%)\": 1.5899581589958158, \"Targets Cumulative (%)\": 92.05}, {\"Target Count\": 6, \"Dataset\": \"Election\", \"Number Targets\": 19, \"index\": 15, \"Targets (%)\": 1.0275824770146025, \"Targets Cumulative (%)\": 89.292}, {\"Target Count\": 6, \"Dataset\": \"Laptop\", \"Number Targets\": 7, \"index\": 16, \"Targets (%)\": 0.7407407407407408, \"Targets Cumulative (%)\": 93.439}, {\"Target Count\": 6, \"Dataset\": \"Restaurant\", \"Number Targets\": 17, \"index\": 17, \"Targets (%)\": 1.4225941422594142, \"Targets Cumulative (%)\": 93.473}, {\"Target Count\": 7, \"Dataset\": \"Election\", \"Number Targets\": 25, \"index\": 18, \"Targets (%)\": 1.352082206598161, \"Targets Cumulative (%)\": 90.644}, {\"Target Count\": 7, \"Dataset\": \"Laptop\", \"Number Targets\": 10, \"index\": 19, \"Targets (%)\": 1.0582010582010581, \"Targets Cumulative (%)\": 94.497}, {\"Target Count\": 7, \"Dataset\": \"Restaurant\", \"Number Targets\": 4, \"index\": 20, \"Targets (%)\": 0.33472803347280333, \"Targets Cumulative (%)\": 93.808}, {\"Target Count\": 8, \"Dataset\": \"Election\", \"Number Targets\": 15, \"index\": 21, \"Targets (%)\": 0.8112493239588967, \"Targets Cumulative (%)\": 91.455}, {\"Target Count\": 8, \"Dataset\": \"Laptop\", \"Number Targets\": 4, \"index\": 22, \"Targets (%)\": 0.4232804232804233, \"Targets Cumulative (%)\": 94.921}, {\"Target Count\": 8, \"Dataset\": \"Restaurant\", \"Number Targets\": 7, \"index\": 23, \"Targets (%)\": 0.5857740585774058, \"Targets Cumulative (%)\": 94.393}, {\"Target Count\": 9, \"Dataset\": \"Election\", \"Number Targets\": 14, \"index\": 24, \"Targets (%)\": 0.7571660356949702, \"Targets Cumulative (%)\": 92.212}, {\"Target Count\": 9, \"Dataset\": \"Laptop\", \"Number Targets\": 8, \"index\": 25, \"Targets (%)\": 0.8465608465608466, \"Targets Cumulative (%)\": 95.767}, {\"Target Count\": 9, \"Dataset\": \"Restaurant\", \"Number Targets\": 8, \"index\": 26, \"Targets (%)\": 0.6694560669456067, \"Targets Cumulative (%)\": 95.063}, {\"Target Count\": 10, \"Dataset\": \"Election\", \"Number Targets\": 6, \"index\": 27, \"Targets (%)\": 0.32449972958355866, \"Targets Cumulative (%)\": 92.537}, {\"Target Count\": 10, \"Dataset\": \"Laptop\", \"Number Targets\": 3, \"index\": 28, \"Targets (%)\": 0.31746031746031744, \"Targets Cumulative (%)\": 96.085}, {\"Target Count\": 10, \"Dataset\": \"Restaurant\", \"Number Targets\": 6, \"index\": 29, \"Targets (%)\": 0.502092050209205, \"Targets Cumulative (%)\": 95.565}, {\"Target Count\": 11, \"Dataset\": \"Election\", \"Number Targets\": 6, \"index\": 30, \"Targets (%)\": 0.32449972958355866, \"Targets Cumulative (%)\": 92.861}, {\"Target Count\": 11, \"Dataset\": \"Laptop\", \"Number Targets\": 5, \"index\": 31, \"Targets (%)\": 0.5291005291005291, \"Targets Cumulative (%)\": 96.614}, {\"Target Count\": 11, \"Dataset\": \"Restaurant\", \"Number Targets\": 5, \"index\": 32, \"Targets (%)\": 0.41841004184100417, \"Targets Cumulative (%)\": 95.983}, {\"Target Count\": 12, \"Dataset\": \"Election\", \"Number Targets\": 9, \"index\": 33, \"Targets (%)\": 0.48674959437533805, \"Targets Cumulative (%)\": 93.348}, {\"Target Count\": 12, \"Dataset\": \"Laptop\", \"Number Targets\": 2, \"index\": 34, \"Targets (%)\": 0.21164021164021166, \"Targets Cumulative (%)\": 96.825}, {\"Target Count\": 12, \"Dataset\": \"Restaurant\", \"Number Targets\": 4, \"index\": 35, \"Targets (%)\": 0.33472803347280333, \"Targets Cumulative (%)\": 96.318}, {\"Target Count\": 13, \"Dataset\": \"Election\", \"Number Targets\": 3, \"index\": 36, \"Targets (%)\": 0.16224986479177933, \"Targets Cumulative (%)\": 93.51}, {\"Target Count\": 13, \"Dataset\": \"Laptop\", \"Number Targets\": 6, \"index\": 37, \"Targets (%)\": 0.6349206349206349, \"Targets Cumulative (%)\": 97.46}, {\"Target Count\": 13, \"Dataset\": \"Restaurant\", \"Number Targets\": 4, \"index\": 38, \"Targets (%)\": 0.33472803347280333, \"Targets Cumulative (%)\": 96.653}, {\"Target Count\": 14, \"Dataset\": \"Election\", \"Number Targets\": 7, \"index\": 39, \"Targets (%)\": 0.3785830178474851, \"Targets Cumulative (%)\": 93.889}, {\"Target Count\": 14, \"Dataset\": \"Laptop\", \"Number Targets\": 3, \"index\": 40, \"Targets (%)\": 0.31746031746031744, \"Targets Cumulative (%)\": 97.778}, {\"Target Count\": 14, \"Dataset\": \"Restaurant\", \"Number Targets\": 5, \"index\": 41, \"Targets (%)\": 0.41841004184100417, \"Targets Cumulative (%)\": 97.071}, {\"Target Count\": 15, \"Dataset\": \"Election\", \"Number Targets\": 7, \"index\": 42, \"Targets (%)\": 0.3785830178474851, \"Targets Cumulative (%)\": 94.267}, {\"Target Count\": 15, \"Dataset\": \"Restaurant\", \"Number Targets\": 1, \"index\": 43, \"Targets (%)\": 0.08368200836820083, \"Targets Cumulative (%)\": 97.155}, {\"Target Count\": 16, \"Dataset\": \"Election\", \"Number Targets\": 5, \"index\": 44, \"Targets (%)\": 0.2704164413196322, \"Targets Cumulative (%)\": 94.538}, {\"Target Count\": 16, \"Dataset\": \"Laptop\", \"Number Targets\": 1, \"index\": 45, \"Targets (%)\": 0.10582010582010583, \"Targets Cumulative (%)\": 97.884}, {\"Target Count\": 16, \"Dataset\": \"Restaurant\", \"Number Targets\": 2, \"index\": 46, \"Targets (%)\": 0.16736401673640167, \"Targets Cumulative (%)\": 97.322}, {\"Target Count\": 17, \"Dataset\": \"Election\", \"Number Targets\": 7, \"index\": 47, \"Targets (%)\": 0.3785830178474851, \"Targets Cumulative (%)\": 94.916}, {\"Target Count\": 17, \"Dataset\": \"Laptop\", \"Number Targets\": 2, \"index\": 48, \"Targets (%)\": 0.21164021164021166, \"Targets Cumulative (%)\": 98.095}, {\"Target Count\": 17, \"Dataset\": \"Restaurant\", \"Number Targets\": 1, \"index\": 49, \"Targets (%)\": 0.08368200836820083, \"Targets Cumulative (%)\": 97.406}, {\"Target Count\": 18, \"Dataset\": \"Election\", \"Number Targets\": 3, \"index\": 50, \"Targets (%)\": 0.16224986479177933, \"Targets Cumulative (%)\": 95.078}, {\"Target Count\": 18, \"Dataset\": \"Laptop\", \"Number Targets\": 2, \"index\": 51, \"Targets (%)\": 0.21164021164021166, \"Targets Cumulative (%)\": 98.307}, {\"Target Count\": 18, \"Dataset\": \"Restaurant\", \"Number Targets\": 4, \"index\": 52, \"Targets (%)\": 0.33472803347280333, \"Targets Cumulative (%)\": 97.741}, {\"Target Count\": 19, \"Dataset\": \"Election\", \"Number Targets\": 4, \"index\": 53, \"Targets (%)\": 0.2163331530557058, \"Targets Cumulative (%)\": 95.295}, {\"Target Count\": 19, \"Dataset\": \"Restaurant\", \"Number Targets\": 2, \"index\": 54, \"Targets (%)\": 0.16736401673640167, \"Targets Cumulative (%)\": 97.908}, {\"Target Count\": 20, \"Dataset\": \"Election\", \"Number Targets\": 1, \"index\": 55, \"Targets (%)\": 0.05408328826392645, \"Targets Cumulative (%)\": 95.349}, {\"Target Count\": 20, \"Dataset\": \"Restaurant\", \"Number Targets\": 1, \"index\": 56, \"Targets (%)\": 0.08368200836820083, \"Targets Cumulative (%)\": 97.992}, {\"Target Count\": 21, \"Dataset\": \"Election\", \"Number Targets\": 2, \"index\": 57, \"Targets (%)\": 0.1081665765278529, \"Targets Cumulative (%)\": 95.457}, {\"Target Count\": 21, \"Dataset\": \"Laptop\", \"Number Targets\": 1, \"index\": 58, \"Targets (%)\": 0.10582010582010583, \"Targets Cumulative (%)\": 98.413}, {\"Target Count\": 21, \"Dataset\": \"Restaurant\", \"Number Targets\": 1, \"index\": 59, \"Targets (%)\": 0.08368200836820083, \"Targets Cumulative (%)\": 98.075}, {\"Target Count\": 22, \"Dataset\": \"Election\", \"Number Targets\": 4, \"index\": 60, \"Targets (%)\": 0.2163331530557058, \"Targets Cumulative (%)\": 95.673}, {\"Target Count\": 22, \"Dataset\": \"Restaurant\", \"Number Targets\": 1, \"index\": 61, \"Targets (%)\": 0.08368200836820083, \"Targets Cumulative (%)\": 98.159}, {\"Target Count\": 23, \"Dataset\": \"Election\", \"Number Targets\": 4, \"index\": 62, \"Targets (%)\": 0.2163331530557058, \"Targets Cumulative (%)\": 95.89}, {\"Target Count\": 23, \"Dataset\": \"Laptop\", \"Number Targets\": 2, \"index\": 63, \"Targets (%)\": 0.21164021164021166, \"Targets Cumulative (%)\": 98.624}, {\"Target Count\": 24, \"Dataset\": \"Election\", \"Number Targets\": 5, \"index\": 64, \"Targets (%)\": 0.2704164413196322, \"Targets Cumulative (%)\": 96.16}, {\"Target Count\": 24, \"Dataset\": \"Laptop\", \"Number Targets\": 1, \"index\": 65, \"Targets (%)\": 0.10582010582010583, \"Targets Cumulative (%)\": 98.73}, {\"Target Count\": 24, \"Dataset\": \"Restaurant\", \"Number Targets\": 1, \"index\": 66, \"Targets (%)\": 0.08368200836820083, \"Targets Cumulative (%)\": 98.243}, {\"Target Count\": 25, \"Dataset\": \"Election\", \"Number Targets\": 3, \"index\": 67, \"Targets (%)\": 0.16224986479177933, \"Targets Cumulative (%)\": 96.322}, {\"Target Count\": 25, \"Dataset\": \"Restaurant\", \"Number Targets\": 1, \"index\": 68, \"Targets (%)\": 0.08368200836820083, \"Targets Cumulative (%)\": 98.326}, {\"Target Count\": 26, \"Dataset\": \"Election\", \"Number Targets\": 2, \"index\": 69, \"Targets (%)\": 0.1081665765278529, \"Targets Cumulative (%)\": 96.431}, {\"Target Count\": 26, \"Dataset\": \"Restaurant\", \"Number Targets\": 2, \"index\": 70, \"Targets (%)\": 0.16736401673640167, \"Targets Cumulative (%)\": 98.494}, {\"Target Count\": 27, \"Dataset\": \"Election\", \"Number Targets\": 3, \"index\": 71, \"Targets (%)\": 0.16224986479177933, \"Targets Cumulative (%)\": 96.593}, {\"Target Count\": 27, \"Dataset\": \"Restaurant\", \"Number Targets\": 1, \"index\": 72, \"Targets (%)\": 0.08368200836820083, \"Targets Cumulative (%)\": 98.577}, {\"Target Count\": 28, \"Dataset\": \"Election\", \"Number Targets\": 3, \"index\": 73, \"Targets (%)\": 0.16224986479177933, \"Targets Cumulative (%)\": 96.755}, {\"Target Count\": 28, \"Dataset\": \"Restaurant\", \"Number Targets\": 1, \"index\": 74, \"Targets (%)\": 0.08368200836820083, \"Targets Cumulative (%)\": 98.661}, {\"Target Count\": 29, \"Dataset\": \"Restaurant\", \"Number Targets\": 1, \"index\": 75, \"Targets (%)\": 0.08368200836820083, \"Targets Cumulative (%)\": 98.745}, {\"Target Count\": 30, \"Dataset\": \"Election\", \"Number Targets\": 1, \"index\": 76, \"Targets (%)\": 0.05408328826392645, \"Targets Cumulative (%)\": 96.809}, {\"Target Count\": 30, \"Dataset\": \"Laptop\", \"Number Targets\": 2, \"index\": 77, \"Targets (%)\": 0.21164021164021166, \"Targets Cumulative (%)\": 98.942}, {\"Target Count\": 31, \"Dataset\": \"Election\", \"Number Targets\": 1, \"index\": 78, \"Targets (%)\": 0.05408328826392645, \"Targets Cumulative (%)\": 96.863}, {\"Target Count\": 31, \"Dataset\": \"Laptop\", \"Number Targets\": 1, \"index\": 79, \"Targets (%)\": 0.10582010582010583, \"Targets Cumulative (%)\": 99.048}, {\"Target Count\": 32, \"Dataset\": \"Election\", \"Number Targets\": 1, \"index\": 80, \"Targets (%)\": 0.05408328826392645, \"Targets Cumulative (%)\": 96.917}, {\"Target Count\": 32, \"Dataset\": \"Restaurant\", \"Number Targets\": 1, \"index\": 81, \"Targets (%)\": 0.08368200836820083, \"Targets Cumulative (%)\": 98.828}, {\"Target Count\": 33, \"Dataset\": \"Election\", \"Number Targets\": 1, \"index\": 82, \"Targets (%)\": 0.05408328826392645, \"Targets Cumulative (%)\": 96.971}, {\"Target Count\": 33, \"Dataset\": \"Laptop\", \"Number Targets\": 1, \"index\": 83, \"Targets (%)\": 0.10582010582010583, \"Targets Cumulative (%)\": 99.153}, {\"Target Count\": 34, \"Dataset\": \"Election\", \"Number Targets\": 3, \"index\": 84, \"Targets (%)\": 0.16224986479177933, \"Targets Cumulative (%)\": 97.134}, {\"Target Count\": 35, \"Dataset\": \"Election\", \"Number Targets\": 3, \"index\": 85, \"Targets (%)\": 0.16224986479177933, \"Targets Cumulative (%)\": 97.296}, {\"Target Count\": 35, \"Dataset\": \"Laptop\", \"Number Targets\": 1, \"index\": 86, \"Targets (%)\": 0.10582010582010583, \"Targets Cumulative (%)\": 99.259}, {\"Target Count\": 35, \"Dataset\": \"Restaurant\", \"Number Targets\": 1, \"index\": 87, \"Targets (%)\": 0.08368200836820083, \"Targets Cumulative (%)\": 98.912}, {\"Target Count\": 36, \"Dataset\": \"Election\", \"Number Targets\": 2, \"index\": 88, \"Targets (%)\": 0.1081665765278529, \"Targets Cumulative (%)\": 97.404}, {\"Target Count\": 37, \"Dataset\": \"Election\", \"Number Targets\": 2, \"index\": 89, \"Targets (%)\": 0.1081665765278529, \"Targets Cumulative (%)\": 97.512}, {\"Target Count\": 37, \"Dataset\": \"Laptop\", \"Number Targets\": 1, \"index\": 90, \"Targets (%)\": 0.10582010582010583, \"Targets Cumulative (%)\": 99.365}, {\"Target Count\": 37, \"Dataset\": \"Restaurant\", \"Number Targets\": 1, \"index\": 91, \"Targets (%)\": 0.08368200836820083, \"Targets Cumulative (%)\": 98.996}, {\"Target Count\": 38, \"Dataset\": \"Election\", \"Number Targets\": 3, \"index\": 92, \"Targets (%)\": 0.16224986479177933, \"Targets Cumulative (%)\": 97.674}, {\"Target Count\": 39, \"Dataset\": \"Election\", \"Number Targets\": 2, \"index\": 93, \"Targets (%)\": 0.1081665765278529, \"Targets Cumulative (%)\": 97.783}, {\"Target Count\": 40, \"Dataset\": \"Election\", \"Number Targets\": 2, \"index\": 94, \"Targets (%)\": 0.1081665765278529, \"Targets Cumulative (%)\": 97.891}, {\"Target Count\": 40, \"Dataset\": \"Restaurant\", \"Number Targets\": 1, \"index\": 95, \"Targets (%)\": 0.08368200836820083, \"Targets Cumulative (%)\": 99.079}, {\"Target Count\": 41, \"Dataset\": \"Restaurant\", \"Number Targets\": 2, \"index\": 96, \"Targets (%)\": 0.16736401673640167, \"Targets Cumulative (%)\": 99.247}, {\"Target Count\": 42, \"Dataset\": \"Election\", \"Number Targets\": 2, \"index\": 97, \"Targets (%)\": 0.1081665765278529, \"Targets Cumulative (%)\": 97.999}, {\"Target Count\": 43, \"Dataset\": \"Election\", \"Number Targets\": 1, \"index\": 98, \"Targets (%)\": 0.05408328826392645, \"Targets Cumulative (%)\": 98.053}, {\"Target Count\": 44, \"Dataset\": \"Election\", \"Number Targets\": 2, \"index\": 99, \"Targets (%)\": 0.1081665765278529, \"Targets Cumulative (%)\": 98.161}, {\"Target Count\": 46, \"Dataset\": \"Election\", \"Number Targets\": 1, \"index\": 100, \"Targets (%)\": 0.05408328826392645, \"Targets Cumulative (%)\": 98.215}, {\"Target Count\": 46, \"Dataset\": \"Restaurant\", \"Number Targets\": 1, \"index\": 101, \"Targets (%)\": 0.08368200836820083, \"Targets Cumulative (%)\": 99.331}, {\"Target Count\": 47, \"Dataset\": \"Election\", \"Number Targets\": 2, \"index\": 102, \"Targets (%)\": 0.1081665765278529, \"Targets Cumulative (%)\": 98.323}, {\"Target Count\": 47, \"Dataset\": \"Laptop\", \"Number Targets\": 1, \"index\": 103, \"Targets (%)\": 0.10582010582010583, \"Targets Cumulative (%)\": 99.471}, {\"Target Count\": 48, \"Dataset\": \"Election\", \"Number Targets\": 1, \"index\": 104, \"Targets (%)\": 0.05408328826392645, \"Targets Cumulative (%)\": 98.378}, {\"Target Count\": 49, \"Dataset\": \"Election\", \"Number Targets\": 1, \"index\": 105, \"Targets (%)\": 0.05408328826392645, \"Targets Cumulative (%)\": 98.432}, {\"Target Count\": 50, \"Dataset\": \"Laptop\", \"Number Targets\": 1, \"index\": 106, \"Targets (%)\": 0.10582010582010583, \"Targets Cumulative (%)\": 99.577}, {\"Target Count\": 51, \"Dataset\": \"Restaurant\", \"Number Targets\": 1, \"index\": 107, \"Targets (%)\": 0.08368200836820083, \"Targets Cumulative (%)\": 99.414}, {\"Target Count\": 52, \"Dataset\": \"Laptop\", \"Number Targets\": 1, \"index\": 108, \"Targets (%)\": 0.10582010582010583, \"Targets Cumulative (%)\": 99.683}, {\"Target Count\": 53, \"Dataset\": \"Election\", \"Number Targets\": 1, \"index\": 109, \"Targets (%)\": 0.05408328826392645, \"Targets Cumulative (%)\": 98.486}, {\"Target Count\": 53, \"Dataset\": \"Laptop\", \"Number Targets\": 1, \"index\": 110, \"Targets (%)\": 0.10582010582010583, \"Targets Cumulative (%)\": 99.788}, {\"Target Count\": 54, \"Dataset\": \"Election\", \"Number Targets\": 1, \"index\": 111, \"Targets (%)\": 0.05408328826392645, \"Targets Cumulative (%)\": 98.54}, {\"Target Count\": 55, \"Dataset\": \"Election\", \"Number Targets\": 1, \"index\": 112, \"Targets (%)\": 0.05408328826392645, \"Targets Cumulative (%)\": 98.594}, {\"Target Count\": 55, \"Dataset\": \"Restaurant\", \"Number Targets\": 2, \"index\": 113, \"Targets (%)\": 0.16736401673640167, \"Targets Cumulative (%)\": 99.582}, {\"Target Count\": 56, \"Dataset\": \"Election\", \"Number Targets\": 1, \"index\": 114, \"Targets (%)\": 0.05408328826392645, \"Targets Cumulative (%)\": 98.648}, {\"Target Count\": 56, \"Dataset\": \"Laptop\", \"Number Targets\": 1, \"index\": 115, \"Targets (%)\": 0.10582010582010583, \"Targets Cumulative (%)\": 99.894}, {\"Target Count\": 56, \"Dataset\": \"Restaurant\", \"Number Targets\": 1, \"index\": 116, \"Targets (%)\": 0.08368200836820083, \"Targets Cumulative (%)\": 99.665}, {\"Target Count\": 59, \"Dataset\": \"Restaurant\", \"Number Targets\": 1, \"index\": 117, \"Targets (%)\": 0.08368200836820083, \"Targets Cumulative (%)\": 99.749}, {\"Target Count\": 60, \"Dataset\": \"Election\", \"Number Targets\": 1, \"index\": 118, \"Targets (%)\": 0.05408328826392645, \"Targets Cumulative (%)\": 98.702}, {\"Target Count\": 60, \"Dataset\": \"Laptop\", \"Number Targets\": 1, \"index\": 119, \"Targets (%)\": 0.10582010582010583, \"Targets Cumulative (%)\": 100.0}, {\"Target Count\": 61, \"Dataset\": \"Election\", \"Number Targets\": 1, \"index\": 120, \"Targets (%)\": 0.05408328826392645, \"Targets Cumulative (%)\": 98.756}, {\"Target Count\": 63, \"Dataset\": \"Restaurant\", \"Number Targets\": 1, \"index\": 121, \"Targets (%)\": 0.08368200836820083, \"Targets Cumulative (%)\": 99.833}, {\"Target Count\": 71, \"Dataset\": \"Election\", \"Number Targets\": 1, \"index\": 122, \"Targets (%)\": 0.05408328826392645, \"Targets Cumulative (%)\": 98.81}, {\"Target Count\": 73, \"Dataset\": \"Election\", \"Number Targets\": 1, \"index\": 123, \"Targets (%)\": 0.05408328826392645, \"Targets Cumulative (%)\": 98.864}, {\"Target Count\": 86, \"Dataset\": \"Election\", \"Number Targets\": 1, \"index\": 124, \"Targets (%)\": 0.05408328826392645, \"Targets Cumulative (%)\": 98.918}, {\"Target Count\": 94, \"Dataset\": \"Election\", \"Number Targets\": 1, \"index\": 125, \"Targets (%)\": 0.05408328826392645, \"Targets Cumulative (%)\": 98.972}, {\"Target Count\": 95, \"Dataset\": \"Election\", \"Number Targets\": 2, \"index\": 126, \"Targets (%)\": 0.1081665765278529, \"Targets Cumulative (%)\": 99.081}, {\"Target Count\": 100, \"Dataset\": \"Election\", \"Number Targets\": 2, \"index\": 127, \"Targets (%)\": 0.1081665765278529, \"Targets Cumulative (%)\": 99.189}, {\"Target Count\": 109, \"Dataset\": \"Election\", \"Number Targets\": 1, \"index\": 128, \"Targets (%)\": 0.05408328826392645, \"Targets Cumulative (%)\": 99.243}, {\"Target Count\": 119, \"Dataset\": \"Election\", \"Number Targets\": 2, \"index\": 129, \"Targets (%)\": 0.1081665765278529, \"Targets Cumulative (%)\": 99.351}, {\"Target Count\": 122, \"Dataset\": \"Election\", \"Number Targets\": 1, \"index\": 130, \"Targets (%)\": 0.05408328826392645, \"Targets Cumulative (%)\": 99.405}, {\"Target Count\": 127, \"Dataset\": \"Election\", \"Number Targets\": 1, \"index\": 131, \"Targets (%)\": 0.05408328826392645, \"Targets Cumulative (%)\": 99.459}, {\"Target Count\": 139, \"Dataset\": \"Election\", \"Number Targets\": 1, \"index\": 132, \"Targets (%)\": 0.05408328826392645, \"Targets Cumulative (%)\": 99.513}, {\"Target Count\": 141, \"Dataset\": \"Election\", \"Number Targets\": 1, \"index\": 133, \"Targets (%)\": 0.05408328826392645, \"Targets Cumulative (%)\": 99.567}, {\"Target Count\": 155, \"Dataset\": \"Election\", \"Number Targets\": 1, \"index\": 134, \"Targets (%)\": 0.05408328826392645, \"Targets Cumulative (%)\": 99.621}, {\"Target Count\": 170, \"Dataset\": \"Election\", \"Number Targets\": 1, \"index\": 135, \"Targets (%)\": 0.05408328826392645, \"Targets Cumulative (%)\": 99.676}, {\"Target Count\": 183, \"Dataset\": \"Election\", \"Number Targets\": 1, \"index\": 136, \"Targets (%)\": 0.05408328826392645, \"Targets Cumulative (%)\": 99.73}, {\"Target Count\": 195, \"Dataset\": \"Election\", \"Number Targets\": 1, \"index\": 137, \"Targets (%)\": 0.05408328826392645, \"Targets Cumulative (%)\": 99.784}, {\"Target Count\": 223, \"Dataset\": \"Election\", \"Number Targets\": 1, \"index\": 138, \"Targets (%)\": 0.05408328826392645, \"Targets Cumulative (%)\": 99.838}, {\"Target Count\": 225, \"Dataset\": \"Restaurant\", \"Number Targets\": 1, \"index\": 139, \"Targets (%)\": 0.08368200836820083, \"Targets Cumulative (%)\": 99.916}, {\"Target Count\": 281, \"Dataset\": \"Election\", \"Number Targets\": 1, \"index\": 140, \"Targets (%)\": 0.05408328826392645, \"Targets Cumulative (%)\": 99.892}, {\"Target Count\": 304, \"Dataset\": \"Election\", \"Number Targets\": 1, \"index\": 141, \"Targets (%)\": 0.05408328826392645, \"Targets Cumulative (%)\": 99.946}, {\"Target Count\": 360, \"Dataset\": \"Restaurant\", \"Number Targets\": 1, \"index\": 142, \"Targets (%)\": 0.08368200836820083, \"Targets Cumulative (%)\": 100.0}, {\"Target Count\": 433, \"Dataset\": \"Election\", \"Number Targets\": 1, \"index\": 143, \"Targets (%)\": 0.05408328826392645, \"Targets Cumulative (%)\": 100.0}], \"data-97c1493f78dd420f6e90570c6f6633f2\": [{\"Dataset\": \"Laptop\", \"Number of Samples\": 2313}, {\"Dataset\": \"Restaurant\", \"Number of Samples\": 3602}, {\"Dataset\": \"Election\", \"Number of Samples\": 9358}]}};\n",
              "      var embedOpt = {\"mode\": \"vega-lite\"};\n",
              "\n",
              "      function showError(el, error){\n",
              "          el.innerHTML = ('<div class=\"error\" style=\"color:red;\">'\n",
              "                          + '<p>JavaScript Error: ' + error.message + '</p>'\n",
              "                          + \"<p>This usually means there's a typo in your chart specification. \"\n",
              "                          + \"See the javascript console for the full traceback.</p>\"\n",
              "                          + '</div>');\n",
              "          throw error;\n",
              "      }\n",
              "      const el = document.getElementById('altair-viz');\n",
              "      vegaEmbed(\"#altair-viz\", spec, embedOpt)\n",
              "        .catch(error => showError(el, error));\n",
              "    })(vegaEmbed);\n",
              "\n",
              "  </script>\n",
              "</body>\n",
              "</html>"
            ]
          },
          "metadata": {
            "tags": []
          },
          "execution_count": 7
        }
      ]
    },
    {
      "cell_type": "markdown",
      "metadata": {
        "id": "MuL8g57--VxP",
        "colab_type": "text"
      },
      "source": [
        "As we can see from above at least 69% of all Targets occur only once in the Dataset showing that the dataset has a rather large number of targets where we only have a One-Shot learning setup to understand the potentially non-trival target specific sentiment e.g. `a long battery` is a good sentiment for battery but if the target was `movie` then this would be negative.\n",
        "\n",
        "On the opposite end of the scale we see the differences in the datasets where the Laptop dataset more targets occuring less often, where the most frequent targets occur only 60 times in comparison to the Restaurant and Election datasets which have targets occuring up to 360 and 433 times.\n",
        "\n",
        "These differences in frequencies can be due to the differences in dataset sizes as shown by the far right bar plot.\n",
        "\n",
        "## Target Distributions with respect to the number of samples within the Training datasets\n",
        "Again like before we first need to create the data to plot which is done below. The function creates a dataframe that cotains the number of time a target occurs (Target Count) as well as the number of samples that contain those targets that occur for that number of times (Number Samples) e.g. below for the Election dataset for the Target Count of 1 there are 1276 samples in the dataset that contain target that have only occured 1 further more for the Target Count 2 there are 352 samples that contain targets that have occured twice. "
      ]
    },
    {
      "cell_type": "code",
      "metadata": {
        "id": "uCERVqVt8UCe",
        "colab_type": "code",
        "outputId": "47589ed3-3747-4742-ac70-d0aa58bcf24a",
        "colab": {
          "base_uri": "https://localhost:8080/",
          "height": 204
        }
      },
      "source": [
        "target_sample_df = get_target_distribution_data(sample_distribution=True,\n",
        "                                                dataset_name=train_dataset_name)\n",
        "target_sample_df.head(5)"
      ],
      "execution_count": 0,
      "outputs": [
        {
          "output_type": "execute_result",
          "data": {
            "text/html": [
              "<div>\n",
              "<style scoped>\n",
              "    .dataframe tbody tr th:only-of-type {\n",
              "        vertical-align: middle;\n",
              "    }\n",
              "\n",
              "    .dataframe tbody tr th {\n",
              "        vertical-align: top;\n",
              "    }\n",
              "\n",
              "    .dataframe thead th {\n",
              "        text-align: right;\n",
              "    }\n",
              "</style>\n",
              "<table border=\"1\" class=\"dataframe\">\n",
              "  <thead>\n",
              "    <tr style=\"text-align: right;\">\n",
              "      <th></th>\n",
              "      <th>Target Count</th>\n",
              "      <th>Dataset</th>\n",
              "      <th>Number Samples</th>\n",
              "      <th>index</th>\n",
              "      <th>Samples (%)</th>\n",
              "      <th>Samples Cumulative (%)</th>\n",
              "    </tr>\n",
              "  </thead>\n",
              "  <tbody>\n",
              "    <tr>\n",
              "      <th>0</th>\n",
              "      <td>1</td>\n",
              "      <td>Election</td>\n",
              "      <td>1276</td>\n",
              "      <td>0</td>\n",
              "      <td>13.635392</td>\n",
              "      <td>13.635</td>\n",
              "    </tr>\n",
              "    <tr>\n",
              "      <th>1</th>\n",
              "      <td>1</td>\n",
              "      <td>Laptop</td>\n",
              "      <td>692</td>\n",
              "      <td>1</td>\n",
              "      <td>29.917856</td>\n",
              "      <td>29.918</td>\n",
              "    </tr>\n",
              "    <tr>\n",
              "      <th>2</th>\n",
              "      <td>1</td>\n",
              "      <td>Restaurant</td>\n",
              "      <td>895</td>\n",
              "      <td>2</td>\n",
              "      <td>24.847307</td>\n",
              "      <td>24.847</td>\n",
              "    </tr>\n",
              "    <tr>\n",
              "      <th>3</th>\n",
              "      <td>2</td>\n",
              "      <td>Election</td>\n",
              "      <td>352</td>\n",
              "      <td>3</td>\n",
              "      <td>3.761487</td>\n",
              "      <td>17.397</td>\n",
              "    </tr>\n",
              "    <tr>\n",
              "      <th>4</th>\n",
              "      <td>2</td>\n",
              "      <td>Laptop</td>\n",
              "      <td>232</td>\n",
              "      <td>4</td>\n",
              "      <td>10.030264</td>\n",
              "      <td>39.948</td>\n",
              "    </tr>\n",
              "  </tbody>\n",
              "</table>\n",
              "</div>"
            ],
            "text/plain": [
              "   Target Count     Dataset  ...  Samples (%)  Samples Cumulative (%)\n",
              "0             1    Election  ...    13.635392                  13.635\n",
              "1             1      Laptop  ...    29.917856                  29.918\n",
              "2             1  Restaurant  ...    24.847307                  24.847\n",
              "3             2    Election  ...     3.761487                  17.397\n",
              "4             2      Laptop  ...    10.030264                  39.948\n",
              "\n",
              "[5 rows x 6 columns]"
            ]
          },
          "metadata": {
            "tags": []
          },
          "execution_count": 42
        }
      ]
    },
    {
      "cell_type": "markdown",
      "metadata": {
        "id": "OTV6VEwhO1BH",
        "colab_type": "text"
      },
      "source": [
        "Below we plot the Target count against the cumulative number of samples."
      ]
    },
    {
      "cell_type": "code",
      "metadata": {
        "id": "hDGgiknZ5evb",
        "colab_type": "code",
        "outputId": "5e4c07de-594f-4464-faca-3d9e3e824ff8",
        "colab": {
          "base_uri": "https://localhost:8080/",
          "height": 406
        }
      },
      "source": [
        "chart = alt.Chart(target_sample_df).mark_line(point=True).encode(\n",
        "    x=alt.X(\"Target Count:Q\"),\n",
        "    y=alt.Y('Samples Cumulative (%)'),\n",
        "    color='Dataset',\n",
        "    tooltip=['Target Count', 'Samples Cumulative (%)', 'Dataset']\n",
        ")\n",
        "chart.title = 'Data distribution through target count'\n",
        "\n",
        "cumulative_data_51 = target_sample_df[target_sample_df['Samples Cumulative (%)']<=51]\n",
        "chart_50 = alt.Chart(cumulative_data_51).mark_area(opacity=0.4).encode(\n",
        "    x=alt.X(\"Target Count:Q\"),\n",
        "    y=alt.Y('Samples Cumulative (%)'),\n",
        "    color='Dataset'\n",
        ")\n",
        "# Plotting the points for the Target Count where the Samples Cumulative (%) \n",
        "# is at least 50%\n",
        "data_50_points = target_sample_df[target_sample_df['Samples Cumulative (%)'] >= 50]\n",
        "data_50_points = data_50_points.groupby('Dataset').first().reset_index()\n",
        "chart_50_point = alt.Chart(data_50_points).mark_circle(color='black').encode(\n",
        "    x=alt.X(\"Target Count:Q\"),\n",
        "    y=alt.Y('Samples Cumulative (%)')\n",
        ")\n",
        "text = chart_50_point.mark_text(\n",
        "    align='left',\n",
        "    baseline='middle',\n",
        "    dx=10\n",
        ").encode(\n",
        "    text='Target Count:Q'\n",
        ")\n",
        "# Plotting the points where Target Count is 1 and displaying the text\n",
        "# for the Samples Cumulative (%) score.\n",
        "target_1_points = target_sample_df[target_sample_df['Target Count'] == 1]\n",
        "chart_1_point = alt.Chart(target_1_points).mark_circle(color='gray').encode(\n",
        "    x=alt.X(\"Target Count:Q\"),\n",
        "    y=alt.Y('Samples Cumulative (%)')\n",
        ")\n",
        "text_1_point = chart_1_point.mark_text(\n",
        "    align='left',\n",
        "    baseline='middle',\n",
        "    dx=10\n",
        ").encode(\n",
        "    text='Samples Cumulative (%)'\n",
        ")\n",
        "\n",
        "chart_50.title = 'Data distribution through target count (Samples Cumulative <=51)'\n",
        "chart | chart_50 + chart_50_point + text + chart_1_point + text_1_point"
      ],
      "execution_count": 0,
      "outputs": [
        {
          "output_type": "execute_result",
          "data": {
            "text/plain": [
              "alt.HConcatChart(...)"
            ],
            "text/html": [
              "<!DOCTYPE html>\n",
              "<html>\n",
              "<head>\n",
              "  <style>\n",
              "    .vega-actions a {\n",
              "        margin-right: 12px;\n",
              "        color: #757575;\n",
              "        font-weight: normal;\n",
              "        font-size: 13px;\n",
              "    }\n",
              "    .error {\n",
              "        color: red;\n",
              "    }\n",
              "  </style>\n",
              "  <script type=\"text/javascript\" src=\"https://cdn.jsdelivr.net/npm//vega@5\"></script>\n",
              "  <script type=\"text/javascript\" src=\"https://cdn.jsdelivr.net/npm//vega-lite@3.4.0\"></script>\n",
              "  <script type=\"text/javascript\" src=\"https://cdn.jsdelivr.net/npm//vega-embed@4\"></script>\n",
              "</head>\n",
              "<body>\n",
              "  <div id=\"altair-viz\"></div>\n",
              "  <script>\n",
              "    (function(vegaEmbed) {\n",
              "      var spec = {\"config\": {\"view\": {\"width\": 400, \"height\": 300}, \"mark\": {\"tooltip\": null}}, \"hconcat\": [{\"data\": {\"name\": \"data-5a75a7ad5710c817f29588e4411a99c3\"}, \"mark\": {\"type\": \"line\", \"point\": true}, \"encoding\": {\"color\": {\"type\": \"nominal\", \"field\": \"Dataset\"}, \"tooltip\": [{\"type\": \"quantitative\", \"field\": \"Target Count\"}, {\"type\": \"quantitative\", \"field\": \"Samples Cumulative (%)\"}, {\"type\": \"nominal\", \"field\": \"Dataset\"}], \"x\": {\"type\": \"quantitative\", \"field\": \"Target Count\"}, \"y\": {\"type\": \"quantitative\", \"field\": \"Samples Cumulative (%)\"}}, \"title\": \"Data distribution through target count\"}, {\"layer\": [{\"data\": {\"name\": \"data-42d9191c2be30f42332ed962bd2ce077\"}, \"mark\": {\"type\": \"area\", \"opacity\": 0.4}, \"encoding\": {\"color\": {\"type\": \"nominal\", \"field\": \"Dataset\"}, \"x\": {\"type\": \"quantitative\", \"field\": \"Target Count\"}, \"y\": {\"type\": \"quantitative\", \"field\": \"Samples Cumulative (%)\"}}, \"title\": \"Data distribution through target count (Samples Cumulative <=51)\"}, {\"data\": {\"name\": \"data-f1186b94df38ae955b91c2f3d17fbffe\"}, \"mark\": {\"type\": \"circle\", \"color\": \"black\"}, \"encoding\": {\"x\": {\"type\": \"quantitative\", \"field\": \"Target Count\"}, \"y\": {\"type\": \"quantitative\", \"field\": \"Samples Cumulative (%)\"}}}, {\"data\": {\"name\": \"data-f1186b94df38ae955b91c2f3d17fbffe\"}, \"mark\": {\"type\": \"text\", \"align\": \"left\", \"baseline\": \"middle\", \"dx\": 10}, \"encoding\": {\"text\": {\"type\": \"quantitative\", \"field\": \"Target Count\"}, \"x\": {\"type\": \"quantitative\", \"field\": \"Target Count\"}, \"y\": {\"type\": \"quantitative\", \"field\": \"Samples Cumulative (%)\"}}}, {\"data\": {\"name\": \"data-b3b03ad40ad88855ce628428d210c2d1\"}, \"mark\": {\"type\": \"circle\", \"color\": \"gray\"}, \"encoding\": {\"x\": {\"type\": \"quantitative\", \"field\": \"Target Count\"}, \"y\": {\"type\": \"quantitative\", \"field\": \"Samples Cumulative (%)\"}}}, {\"data\": {\"name\": \"data-b3b03ad40ad88855ce628428d210c2d1\"}, \"mark\": {\"type\": \"text\", \"align\": \"left\", \"baseline\": \"middle\", \"dx\": 10}, \"encoding\": {\"text\": {\"type\": \"quantitative\", \"field\": \"Samples Cumulative (%)\"}, \"x\": {\"type\": \"quantitative\", \"field\": \"Target Count\"}, \"y\": {\"type\": \"quantitative\", \"field\": \"Samples Cumulative (%)\"}}}]}], \"$schema\": \"https://vega.github.io/schema/vega-lite/v3.4.0.json\", \"datasets\": {\"data-5a75a7ad5710c817f29588e4411a99c3\": [{\"Target Count\": 1, \"Dataset\": \"Election\", \"Number Samples\": 1276, \"index\": 0, \"Samples (%)\": 13.635392177815772, \"Samples Cumulative (%)\": 13.635}, {\"Target Count\": 1, \"Dataset\": \"Laptop\", \"Number Samples\": 692, \"index\": 1, \"Samples (%)\": 29.91785559878945, \"Samples Cumulative (%)\": 29.918}, {\"Target Count\": 1, \"Dataset\": \"Restaurant\", \"Number Samples\": 895, \"index\": 2, \"Samples (%)\": 24.84730705163798, \"Samples Cumulative (%)\": 24.847}, {\"Target Count\": 2, \"Dataset\": \"Election\", \"Number Samples\": 352, \"index\": 3, \"Samples (%)\": 3.761487497328489, \"Samples Cumulative (%)\": 17.397}, {\"Target Count\": 2, \"Dataset\": \"Laptop\", \"Number Samples\": 232, \"index\": 4, \"Samples (%)\": 10.030263726761781, \"Samples Cumulative (%)\": 39.948}, {\"Target Count\": 2, \"Dataset\": \"Restaurant\", \"Number Samples\": 250, \"index\": 5, \"Samples (%)\": 6.940588561910049, \"Samples Cumulative (%)\": 31.788}, {\"Target Count\": 3, \"Dataset\": \"Election\", \"Number Samples\": 270, \"index\": 6, \"Samples (%)\": 2.885231887155375, \"Samples Cumulative (%)\": 20.282}, {\"Target Count\": 3, \"Dataset\": \"Laptop\", \"Number Samples\": 93, \"index\": 7, \"Samples (%)\": 4.020752269779507, \"Samples Cumulative (%)\": 43.969}, {\"Target Count\": 3, \"Dataset\": \"Restaurant\", \"Number Samples\": 129, \"index\": 8, \"Samples (%)\": 3.581343697945586, \"Samples Cumulative (%)\": 35.369}, {\"Target Count\": 4, \"Dataset\": \"Election\", \"Number Samples\": 240, \"index\": 9, \"Samples (%)\": 2.5646505663603336, \"Samples Cumulative (%)\": 22.847}, {\"Target Count\": 4, \"Dataset\": \"Laptop\", \"Number Samples\": 100, \"index\": 10, \"Samples (%)\": 4.323389537397319, \"Samples Cumulative (%)\": 48.292}, {\"Target Count\": 4, \"Dataset\": \"Restaurant\", \"Number Samples\": 72, \"index\": 11, \"Samples (%)\": 1.9988895058300944, \"Samples Cumulative (%)\": 37.368}, {\"Target Count\": 5, \"Dataset\": \"Election\", \"Number Samples\": 150, \"index\": 12, \"Samples (%)\": 1.6029066039752085, \"Samples Cumulative (%)\": 24.45}, {\"Target Count\": 5, \"Dataset\": \"Laptop\", \"Number Samples\": 60, \"index\": 13, \"Samples (%)\": 2.594033722438392, \"Samples Cumulative (%)\": 50.886}, {\"Target Count\": 5, \"Dataset\": \"Restaurant\", \"Number Samples\": 95, \"index\": 14, \"Samples (%)\": 2.637423653525819, \"Samples Cumulative (%)\": 40.006}, {\"Target Count\": 6, \"Dataset\": \"Election\", \"Number Samples\": 114, \"index\": 15, \"Samples (%)\": 1.2182090190211583, \"Samples Cumulative (%)\": 25.668}, {\"Target Count\": 6, \"Dataset\": \"Laptop\", \"Number Samples\": 42, \"index\": 16, \"Samples (%)\": 1.8158236057068744, \"Samples Cumulative (%)\": 52.702}, {\"Target Count\": 6, \"Dataset\": \"Restaurant\", \"Number Samples\": 102, \"index\": 17, \"Samples (%)\": 2.8317601332593, \"Samples Cumulative (%)\": 42.837}, {\"Target Count\": 7, \"Dataset\": \"Election\", \"Number Samples\": 175, \"index\": 18, \"Samples (%)\": 1.8700577046377433, \"Samples Cumulative (%)\": 27.538}, {\"Target Count\": 7, \"Dataset\": \"Laptop\", \"Number Samples\": 70, \"index\": 19, \"Samples (%)\": 3.0263726761781236, \"Samples Cumulative (%)\": 55.728}, {\"Target Count\": 7, \"Dataset\": \"Restaurant\", \"Number Samples\": 28, \"index\": 20, \"Samples (%)\": 0.7773459189339256, \"Samples Cumulative (%)\": 43.615}, {\"Target Count\": 8, \"Dataset\": \"Election\", \"Number Samples\": 120, \"index\": 21, \"Samples (%)\": 1.2823252831801668, \"Samples Cumulative (%)\": 28.82}, {\"Target Count\": 8, \"Dataset\": \"Laptop\", \"Number Samples\": 32, \"index\": 22, \"Samples (%)\": 1.3834846519671422, \"Samples Cumulative (%)\": 57.112}, {\"Target Count\": 8, \"Dataset\": \"Restaurant\", \"Number Samples\": 56, \"index\": 23, \"Samples (%)\": 1.5546918378678511, \"Samples Cumulative (%)\": 45.169}, {\"Target Count\": 9, \"Dataset\": \"Election\", \"Number Samples\": 126, \"index\": 24, \"Samples (%)\": 1.3464415473391749, \"Samples Cumulative (%)\": 30.167}, {\"Target Count\": 9, \"Dataset\": \"Laptop\", \"Number Samples\": 72, \"index\": 25, \"Samples (%)\": 3.11284046692607, \"Samples Cumulative (%)\": 60.225}, {\"Target Count\": 9, \"Dataset\": \"Restaurant\", \"Number Samples\": 72, \"index\": 26, \"Samples (%)\": 1.9988895058300944, \"Samples Cumulative (%)\": 47.168}, {\"Target Count\": 10, \"Dataset\": \"Election\", \"Number Samples\": 60, \"index\": 27, \"Samples (%)\": 0.6411626415900834, \"Samples Cumulative (%)\": 30.808}, {\"Target Count\": 10, \"Dataset\": \"Laptop\", \"Number Samples\": 30, \"index\": 28, \"Samples (%)\": 1.297016861219196, \"Samples Cumulative (%)\": 61.522}, {\"Target Count\": 10, \"Dataset\": \"Restaurant\", \"Number Samples\": 60, \"index\": 29, \"Samples (%)\": 1.6657412548584118, \"Samples Cumulative (%)\": 48.834}, {\"Target Count\": 11, \"Dataset\": \"Election\", \"Number Samples\": 66, \"index\": 30, \"Samples (%)\": 0.7052789057490917, \"Samples Cumulative (%)\": 31.513}, {\"Target Count\": 11, \"Dataset\": \"Laptop\", \"Number Samples\": 55, \"index\": 31, \"Samples (%)\": 2.3778642455685257, \"Samples Cumulative (%)\": 63.9}, {\"Target Count\": 11, \"Dataset\": \"Restaurant\", \"Number Samples\": 55, \"index\": 32, \"Samples (%)\": 1.526929483620211, \"Samples Cumulative (%)\": 50.361}, {\"Target Count\": 12, \"Dataset\": \"Election\", \"Number Samples\": 108, \"index\": 33, \"Samples (%)\": 1.15409275486215, \"Samples Cumulative (%)\": 32.667}, {\"Target Count\": 12, \"Dataset\": \"Laptop\", \"Number Samples\": 24, \"index\": 34, \"Samples (%)\": 1.0376134889753565, \"Samples Cumulative (%)\": 64.937}, {\"Target Count\": 12, \"Dataset\": \"Restaurant\", \"Number Samples\": 48, \"index\": 35, \"Samples (%)\": 1.3325930038867295, \"Samples Cumulative (%)\": 51.694}, {\"Target Count\": 13, \"Dataset\": \"Election\", \"Number Samples\": 39, \"index\": 36, \"Samples (%)\": 0.41675571703355413, \"Samples Cumulative (%)\": 33.084}, {\"Target Count\": 13, \"Dataset\": \"Laptop\", \"Number Samples\": 78, \"index\": 37, \"Samples (%)\": 3.372243839169909, \"Samples Cumulative (%)\": 68.31}, {\"Target Count\": 13, \"Dataset\": \"Restaurant\", \"Number Samples\": 52, \"index\": 38, \"Samples (%)\": 1.4436424208772902, \"Samples Cumulative (%)\": 53.137}, {\"Target Count\": 14, \"Dataset\": \"Election\", \"Number Samples\": 98, \"index\": 39, \"Samples (%)\": 1.0472323145971363, \"Samples Cumulative (%)\": 34.131}, {\"Target Count\": 14, \"Dataset\": \"Laptop\", \"Number Samples\": 42, \"index\": 40, \"Samples (%)\": 1.8158236057068744, \"Samples Cumulative (%)\": 70.125}, {\"Target Count\": 14, \"Dataset\": \"Restaurant\", \"Number Samples\": 70, \"index\": 41, \"Samples (%)\": 1.943364797334814, \"Samples Cumulative (%)\": 55.081}, {\"Target Count\": 15, \"Dataset\": \"Election\", \"Number Samples\": 105, \"index\": 42, \"Samples (%)\": 1.1220346227826459, \"Samples Cumulative (%)\": 35.253}, {\"Target Count\": 15, \"Dataset\": \"Restaurant\", \"Number Samples\": 15, \"index\": 43, \"Samples (%)\": 0.41643531371460296, \"Samples Cumulative (%)\": 55.497}, {\"Target Count\": 16, \"Dataset\": \"Election\", \"Number Samples\": 80, \"index\": 44, \"Samples (%)\": 0.8548835221201111, \"Samples Cumulative (%)\": 36.108}, {\"Target Count\": 16, \"Dataset\": \"Laptop\", \"Number Samples\": 16, \"index\": 45, \"Samples (%)\": 0.6917423259835711, \"Samples Cumulative (%)\": 70.817}, {\"Target Count\": 16, \"Dataset\": \"Restaurant\", \"Number Samples\": 32, \"index\": 46, \"Samples (%)\": 0.8883953359244865, \"Samples Cumulative (%)\": 56.385}, {\"Target Count\": 17, \"Dataset\": \"Election\", \"Number Samples\": 119, \"index\": 47, \"Samples (%)\": 1.2716392391536653, \"Samples Cumulative (%)\": 37.38}, {\"Target Count\": 17, \"Dataset\": \"Laptop\", \"Number Samples\": 34, \"index\": 48, \"Samples (%)\": 1.4699524427150885, \"Samples Cumulative (%)\": 72.287}, {\"Target Count\": 17, \"Dataset\": \"Restaurant\", \"Number Samples\": 17, \"index\": 49, \"Samples (%)\": 0.4719600222098834, \"Samples Cumulative (%)\": 56.857}, {\"Target Count\": 18, \"Dataset\": \"Election\", \"Number Samples\": 54, \"index\": 50, \"Samples (%)\": 0.577046377431075, \"Samples Cumulative (%)\": 37.957}, {\"Target Count\": 18, \"Dataset\": \"Laptop\", \"Number Samples\": 36, \"index\": 51, \"Samples (%)\": 1.556420233463035, \"Samples Cumulative (%)\": 73.843}, {\"Target Count\": 18, \"Dataset\": \"Restaurant\", \"Number Samples\": 72, \"index\": 52, \"Samples (%)\": 1.9988895058300944, \"Samples Cumulative (%)\": 58.856}, {\"Target Count\": 19, \"Dataset\": \"Election\", \"Number Samples\": 76, \"index\": 53, \"Samples (%)\": 0.8121393460141056, \"Samples Cumulative (%)\": 38.769}, {\"Target Count\": 19, \"Dataset\": \"Restaurant\", \"Number Samples\": 38, \"index\": 54, \"Samples (%)\": 1.0549694614103275, \"Samples Cumulative (%)\": 59.911}, {\"Target Count\": 20, \"Dataset\": \"Election\", \"Number Samples\": 20, \"index\": 55, \"Samples (%)\": 0.21372088053002777, \"Samples Cumulative (%)\": 38.983}, {\"Target Count\": 20, \"Dataset\": \"Restaurant\", \"Number Samples\": 20, \"index\": 56, \"Samples (%)\": 0.5552470849528041, \"Samples Cumulative (%)\": 60.466}, {\"Target Count\": 21, \"Dataset\": \"Election\", \"Number Samples\": 42, \"index\": 57, \"Samples (%)\": 0.4488138491130583, \"Samples Cumulative (%)\": 39.432}, {\"Target Count\": 21, \"Dataset\": \"Laptop\", \"Number Samples\": 21, \"index\": 58, \"Samples (%)\": 0.9079118028534372, \"Samples Cumulative (%)\": 74.751}, {\"Target Count\": 21, \"Dataset\": \"Restaurant\", \"Number Samples\": 21, \"index\": 59, \"Samples (%)\": 0.5830094392004442, \"Samples Cumulative (%)\": 61.049}, {\"Target Count\": 22, \"Dataset\": \"Election\", \"Number Samples\": 88, \"index\": 60, \"Samples (%)\": 0.9403718743321222, \"Samples Cumulative (%)\": 40.372}, {\"Target Count\": 22, \"Dataset\": \"Restaurant\", \"Number Samples\": 22, \"index\": 61, \"Samples (%)\": 0.6107717934480844, \"Samples Cumulative (%)\": 61.66}, {\"Target Count\": 23, \"Dataset\": \"Election\", \"Number Samples\": 92, \"index\": 62, \"Samples (%)\": 0.9831160504381278, \"Samples Cumulative (%)\": 41.355}, {\"Target Count\": 23, \"Dataset\": \"Laptop\", \"Number Samples\": 46, \"index\": 63, \"Samples (%)\": 1.9887591872027668, \"Samples Cumulative (%)\": 76.74}, {\"Target Count\": 24, \"Dataset\": \"Election\", \"Number Samples\": 120, \"index\": 64, \"Samples (%)\": 1.2823252831801668, \"Samples Cumulative (%)\": 42.637}, {\"Target Count\": 24, \"Dataset\": \"Laptop\", \"Number Samples\": 24, \"index\": 65, \"Samples (%)\": 1.0376134889753565, \"Samples Cumulative (%)\": 77.778}, {\"Target Count\": 24, \"Dataset\": \"Restaurant\", \"Number Samples\": 24, \"index\": 66, \"Samples (%)\": 0.6662965019433648, \"Samples Cumulative (%)\": 62.326}, {\"Target Count\": 25, \"Dataset\": \"Election\", \"Number Samples\": 75, \"index\": 67, \"Samples (%)\": 0.8014533019876042, \"Samples Cumulative (%)\": 43.439}, {\"Target Count\": 25, \"Dataset\": \"Restaurant\", \"Number Samples\": 25, \"index\": 68, \"Samples (%)\": 0.6940588561910049, \"Samples Cumulative (%)\": 63.021}, {\"Target Count\": 26, \"Dataset\": \"Election\", \"Number Samples\": 52, \"index\": 69, \"Samples (%)\": 0.5556742893780722, \"Samples Cumulative (%)\": 43.994}, {\"Target Count\": 26, \"Dataset\": \"Restaurant\", \"Number Samples\": 52, \"index\": 70, \"Samples (%)\": 1.4436424208772902, \"Samples Cumulative (%)\": 64.464}, {\"Target Count\": 27, \"Dataset\": \"Election\", \"Number Samples\": 81, \"index\": 71, \"Samples (%)\": 0.8655695661466125, \"Samples Cumulative (%)\": 44.86}, {\"Target Count\": 27, \"Dataset\": \"Restaurant\", \"Number Samples\": 27, \"index\": 72, \"Samples (%)\": 0.7495835646862854, \"Samples Cumulative (%)\": 65.214}, {\"Target Count\": 28, \"Dataset\": \"Election\", \"Number Samples\": 84, \"index\": 73, \"Samples (%)\": 0.8976276982261167, \"Samples Cumulative (%)\": 45.758}, {\"Target Count\": 28, \"Dataset\": \"Restaurant\", \"Number Samples\": 28, \"index\": 74, \"Samples (%)\": 0.7773459189339256, \"Samples Cumulative (%)\": 65.991}, {\"Target Count\": 29, \"Dataset\": \"Restaurant\", \"Number Samples\": 29, \"index\": 75, \"Samples (%)\": 0.8051082731815657, \"Samples Cumulative (%)\": 66.796}, {\"Target Count\": 30, \"Dataset\": \"Election\", \"Number Samples\": 30, \"index\": 76, \"Samples (%)\": 0.3205813207950417, \"Samples Cumulative (%)\": 46.078}, {\"Target Count\": 30, \"Dataset\": \"Laptop\", \"Number Samples\": 60, \"index\": 77, \"Samples (%)\": 2.594033722438392, \"Samples Cumulative (%)\": 80.372}, {\"Target Count\": 31, \"Dataset\": \"Election\", \"Number Samples\": 31, \"index\": 78, \"Samples (%)\": 0.33126736482154306, \"Samples Cumulative (%)\": 46.409}, {\"Target Count\": 31, \"Dataset\": \"Laptop\", \"Number Samples\": 31, \"index\": 79, \"Samples (%)\": 1.340250756593169, \"Samples Cumulative (%)\": 81.712}, {\"Target Count\": 32, \"Dataset\": \"Election\", \"Number Samples\": 32, \"index\": 80, \"Samples (%)\": 0.3419534088480444, \"Samples Cumulative (%)\": 46.751}, {\"Target Count\": 32, \"Dataset\": \"Restaurant\", \"Number Samples\": 32, \"index\": 81, \"Samples (%)\": 0.8883953359244865, \"Samples Cumulative (%)\": 67.685}, {\"Target Count\": 33, \"Dataset\": \"Election\", \"Number Samples\": 33, \"index\": 82, \"Samples (%)\": 0.35263945287454584, \"Samples Cumulative (%)\": 47.104}, {\"Target Count\": 33, \"Dataset\": \"Laptop\", \"Number Samples\": 33, \"index\": 83, \"Samples (%)\": 1.4267185473411155, \"Samples Cumulative (%)\": 83.139}, {\"Target Count\": 34, \"Dataset\": \"Election\", \"Number Samples\": 102, \"index\": 84, \"Samples (%)\": 1.0899764907031417, \"Samples Cumulative (%)\": 48.194}, {\"Target Count\": 35, \"Dataset\": \"Election\", \"Number Samples\": 105, \"index\": 85, \"Samples (%)\": 1.1220346227826459, \"Samples Cumulative (%)\": 49.316}, {\"Target Count\": 35, \"Dataset\": \"Laptop\", \"Number Samples\": 35, \"index\": 86, \"Samples (%)\": 1.5131863380890618, \"Samples Cumulative (%)\": 84.652}, {\"Target Count\": 35, \"Dataset\": \"Restaurant\", \"Number Samples\": 35, \"index\": 87, \"Samples (%)\": 0.971682398667407, \"Samples Cumulative (%)\": 68.656}, {\"Target Count\": 36, \"Dataset\": \"Election\", \"Number Samples\": 72, \"index\": 88, \"Samples (%)\": 0.7693951699081001, \"Samples Cumulative (%)\": 50.085}, {\"Target Count\": 37, \"Dataset\": \"Election\", \"Number Samples\": 74, \"index\": 89, \"Samples (%)\": 0.7907672579611028, \"Samples Cumulative (%)\": 50.876}, {\"Target Count\": 37, \"Dataset\": \"Laptop\", \"Number Samples\": 37, \"index\": 90, \"Samples (%)\": 1.599654128837008, \"Samples Cumulative (%)\": 86.252}, {\"Target Count\": 37, \"Dataset\": \"Restaurant\", \"Number Samples\": 37, \"index\": 91, \"Samples (%)\": 1.0272071071626874, \"Samples Cumulative (%)\": 69.684}, {\"Target Count\": 38, \"Dataset\": \"Election\", \"Number Samples\": 114, \"index\": 92, \"Samples (%)\": 1.2182090190211583, \"Samples Cumulative (%)\": 52.094}, {\"Target Count\": 39, \"Dataset\": \"Election\", \"Number Samples\": 78, \"index\": 93, \"Samples (%)\": 0.8335114340671083, \"Samples Cumulative (%)\": 52.928}, {\"Target Count\": 40, \"Dataset\": \"Election\", \"Number Samples\": 80, \"index\": 94, \"Samples (%)\": 0.8548835221201111, \"Samples Cumulative (%)\": 53.783}, {\"Target Count\": 40, \"Dataset\": \"Restaurant\", \"Number Samples\": 40, \"index\": 95, \"Samples (%)\": 1.1104941699056081, \"Samples Cumulative (%)\": 70.794}, {\"Target Count\": 41, \"Dataset\": \"Restaurant\", \"Number Samples\": 82, \"index\": 96, \"Samples (%)\": 2.2765130483064966, \"Samples Cumulative (%)\": 73.071}, {\"Target Count\": 42, \"Dataset\": \"Election\", \"Number Samples\": 84, \"index\": 97, \"Samples (%)\": 0.8976276982261167, \"Samples Cumulative (%)\": 54.68}, {\"Target Count\": 43, \"Dataset\": \"Election\", \"Number Samples\": 43, \"index\": 98, \"Samples (%)\": 0.45949989313955975, \"Samples Cumulative (%)\": 55.14}, {\"Target Count\": 44, \"Dataset\": \"Election\", \"Number Samples\": 88, \"index\": 99, \"Samples (%)\": 0.9403718743321222, \"Samples Cumulative (%)\": 56.08}, {\"Target Count\": 46, \"Dataset\": \"Election\", \"Number Samples\": 46, \"index\": 100, \"Samples (%)\": 0.4915580252190639, \"Samples Cumulative (%)\": 56.572}, {\"Target Count\": 46, \"Dataset\": \"Restaurant\", \"Number Samples\": 46, \"index\": 101, \"Samples (%)\": 1.2770682953914492, \"Samples Cumulative (%)\": 74.348}, {\"Target Count\": 47, \"Dataset\": \"Election\", \"Number Samples\": 94, \"index\": 102, \"Samples (%)\": 1.0044881384911306, \"Samples Cumulative (%)\": 57.576}, {\"Target Count\": 47, \"Dataset\": \"Laptop\", \"Number Samples\": 47, \"index\": 103, \"Samples (%)\": 2.03199308257674, \"Samples Cumulative (%)\": 88.284}, {\"Target Count\": 48, \"Dataset\": \"Election\", \"Number Samples\": 48, \"index\": 104, \"Samples (%)\": 0.5129301132720667, \"Samples Cumulative (%)\": 58.089}, {\"Target Count\": 49, \"Dataset\": \"Election\", \"Number Samples\": 49, \"index\": 105, \"Samples (%)\": 0.5236161572985681, \"Samples Cumulative (%)\": 58.613}, {\"Target Count\": 50, \"Dataset\": \"Laptop\", \"Number Samples\": 50, \"index\": 106, \"Samples (%)\": 2.1616947686986596, \"Samples Cumulative (%)\": 90.445}, {\"Target Count\": 51, \"Dataset\": \"Restaurant\", \"Number Samples\": 51, \"index\": 107, \"Samples (%)\": 1.41588006662965, \"Samples Cumulative (%)\": 75.763}, {\"Target Count\": 52, \"Dataset\": \"Laptop\", \"Number Samples\": 52, \"index\": 108, \"Samples (%)\": 2.248162559446606, \"Samples Cumulative (%)\": 92.693}, {\"Target Count\": 53, \"Dataset\": \"Election\", \"Number Samples\": 53, \"index\": 109, \"Samples (%)\": 0.5663603334045736, \"Samples Cumulative (%)\": 59.179}, {\"Target Count\": 53, \"Dataset\": \"Laptop\", \"Number Samples\": 53, \"index\": 110, \"Samples (%)\": 2.291396454820579, \"Samples Cumulative (%)\": 94.985}, {\"Target Count\": 54, \"Dataset\": \"Election\", \"Number Samples\": 54, \"index\": 111, \"Samples (%)\": 0.577046377431075, \"Samples Cumulative (%)\": 59.756}, {\"Target Count\": 55, \"Dataset\": \"Election\", \"Number Samples\": 55, \"index\": 112, \"Samples (%)\": 0.5877324214575764, \"Samples Cumulative (%)\": 60.344}, {\"Target Count\": 55, \"Dataset\": \"Restaurant\", \"Number Samples\": 110, \"index\": 113, \"Samples (%)\": 3.053858967240422, \"Samples Cumulative (%)\": 78.817}, {\"Target Count\": 56, \"Dataset\": \"Election\", \"Number Samples\": 56, \"index\": 114, \"Samples (%)\": 0.5984184654840778, \"Samples Cumulative (%)\": 60.943}, {\"Target Count\": 56, \"Dataset\": \"Laptop\", \"Number Samples\": 56, \"index\": 115, \"Samples (%)\": 2.421098140942499, \"Samples Cumulative (%)\": 97.406}, {\"Target Count\": 56, \"Dataset\": \"Restaurant\", \"Number Samples\": 56, \"index\": 116, \"Samples (%)\": 1.5546918378678511, \"Samples Cumulative (%)\": 80.372}, {\"Target Count\": 59, \"Dataset\": \"Restaurant\", \"Number Samples\": 59, \"index\": 117, \"Samples (%)\": 1.6379789006107717, \"Samples Cumulative (%)\": 82.01}, {\"Target Count\": 60, \"Dataset\": \"Election\", \"Number Samples\": 60, \"index\": 118, \"Samples (%)\": 0.6411626415900834, \"Samples Cumulative (%)\": 61.584}, {\"Target Count\": 60, \"Dataset\": \"Laptop\", \"Number Samples\": 60, \"index\": 119, \"Samples (%)\": 2.594033722438392, \"Samples Cumulative (%)\": 100.0}, {\"Target Count\": 61, \"Dataset\": \"Election\", \"Number Samples\": 61, \"index\": 120, \"Samples (%)\": 0.6518486856165847, \"Samples Cumulative (%)\": 62.236}, {\"Target Count\": 63, \"Dataset\": \"Restaurant\", \"Number Samples\": 63, \"index\": 121, \"Samples (%)\": 1.7490283176013324, \"Samples Cumulative (%)\": 83.759}, {\"Target Count\": 71, \"Dataset\": \"Election\", \"Number Samples\": 71, \"index\": 122, \"Samples (%)\": 0.7587091258815987, \"Samples Cumulative (%)\": 62.994}, {\"Target Count\": 73, \"Dataset\": \"Election\", \"Number Samples\": 73, \"index\": 123, \"Samples (%)\": 0.7800812139346014, \"Samples Cumulative (%)\": 63.774}, {\"Target Count\": 86, \"Dataset\": \"Election\", \"Number Samples\": 86, \"index\": 124, \"Samples (%)\": 0.9189997862791195, \"Samples Cumulative (%)\": 64.693}, {\"Target Count\": 94, \"Dataset\": \"Election\", \"Number Samples\": 94, \"index\": 125, \"Samples (%)\": 1.0044881384911306, \"Samples Cumulative (%)\": 65.698}, {\"Target Count\": 95, \"Dataset\": \"Election\", \"Number Samples\": 190, \"index\": 126, \"Samples (%)\": 2.030348365035264, \"Samples Cumulative (%)\": 67.728}, {\"Target Count\": 100, \"Dataset\": \"Election\", \"Number Samples\": 200, \"index\": 127, \"Samples (%)\": 2.137208805300278, \"Samples Cumulative (%)\": 69.865}, {\"Target Count\": 109, \"Dataset\": \"Election\", \"Number Samples\": 109, \"index\": 128, \"Samples (%)\": 1.1647787988886513, \"Samples Cumulative (%)\": 71.03}, {\"Target Count\": 119, \"Dataset\": \"Election\", \"Number Samples\": 238, \"index\": 129, \"Samples (%)\": 2.5432784783073306, \"Samples Cumulative (%)\": 73.573}, {\"Target Count\": 122, \"Dataset\": \"Election\", \"Number Samples\": 122, \"index\": 130, \"Samples (%)\": 1.3036973712331694, \"Samples Cumulative (%)\": 74.877}, {\"Target Count\": 127, \"Dataset\": \"Election\", \"Number Samples\": 127, \"index\": 131, \"Samples (%)\": 1.3571275913656764, \"Samples Cumulative (%)\": 76.234}, {\"Target Count\": 139, \"Dataset\": \"Election\", \"Number Samples\": 139, \"index\": 132, \"Samples (%)\": 1.4853601196836932, \"Samples Cumulative (%)\": 77.72}, {\"Target Count\": 141, \"Dataset\": \"Election\", \"Number Samples\": 141, \"index\": 133, \"Samples (%)\": 1.506732207736696, \"Samples Cumulative (%)\": 79.226}, {\"Target Count\": 155, \"Dataset\": \"Election\", \"Number Samples\": 155, \"index\": 134, \"Samples (%)\": 1.6563368241077154, \"Samples Cumulative (%)\": 80.883}, {\"Target Count\": 170, \"Dataset\": \"Election\", \"Number Samples\": 170, \"index\": 135, \"Samples (%)\": 1.8166274845052361, \"Samples Cumulative (%)\": 82.699}, {\"Target Count\": 183, \"Dataset\": \"Election\", \"Number Samples\": 183, \"index\": 136, \"Samples (%)\": 1.955546056849754, \"Samples Cumulative (%)\": 84.655}, {\"Target Count\": 195, \"Dataset\": \"Election\", \"Number Samples\": 195, \"index\": 137, \"Samples (%)\": 2.083778585167771, \"Samples Cumulative (%)\": 86.739}, {\"Target Count\": 223, \"Dataset\": \"Election\", \"Number Samples\": 223, \"index\": 138, \"Samples (%)\": 2.3829878179098096, \"Samples Cumulative (%)\": 89.122}, {\"Target Count\": 225, \"Dataset\": \"Restaurant\", \"Number Samples\": 225, \"index\": 139, \"Samples (%)\": 6.246529705719045, \"Samples Cumulative (%)\": 90.006}, {\"Target Count\": 281, \"Dataset\": \"Election\", \"Number Samples\": 281, \"index\": 140, \"Samples (%)\": 3.0027783714468903, \"Samples Cumulative (%)\": 92.124}, {\"Target Count\": 304, \"Dataset\": \"Election\", \"Number Samples\": 304, \"index\": 141, \"Samples (%)\": 3.2485573840564226, \"Samples Cumulative (%)\": 95.373}, {\"Target Count\": 360, \"Dataset\": \"Restaurant\", \"Number Samples\": 360, \"index\": 142, \"Samples (%)\": 9.994447529150472, \"Samples Cumulative (%)\": 100.0}, {\"Target Count\": 433, \"Dataset\": \"Election\", \"Number Samples\": 433, \"index\": 143, \"Samples (%)\": 4.627057063475101, \"Samples Cumulative (%)\": 100.0}], \"data-42d9191c2be30f42332ed962bd2ce077\": [{\"Target Count\": 1, \"Dataset\": \"Election\", \"Number Samples\": 1276, \"index\": 0, \"Samples (%)\": 13.635392177815772, \"Samples Cumulative (%)\": 13.635}, {\"Target Count\": 1, \"Dataset\": \"Laptop\", \"Number Samples\": 692, \"index\": 1, \"Samples (%)\": 29.91785559878945, \"Samples Cumulative (%)\": 29.918}, {\"Target Count\": 1, \"Dataset\": \"Restaurant\", \"Number Samples\": 895, \"index\": 2, \"Samples (%)\": 24.84730705163798, \"Samples Cumulative (%)\": 24.847}, {\"Target Count\": 2, \"Dataset\": \"Election\", \"Number Samples\": 352, \"index\": 3, \"Samples (%)\": 3.761487497328489, \"Samples Cumulative (%)\": 17.397}, {\"Target Count\": 2, \"Dataset\": \"Laptop\", \"Number Samples\": 232, \"index\": 4, \"Samples (%)\": 10.030263726761781, \"Samples Cumulative (%)\": 39.948}, {\"Target Count\": 2, \"Dataset\": \"Restaurant\", \"Number Samples\": 250, \"index\": 5, \"Samples (%)\": 6.940588561910049, \"Samples Cumulative (%)\": 31.788}, {\"Target Count\": 3, \"Dataset\": \"Election\", \"Number Samples\": 270, \"index\": 6, \"Samples (%)\": 2.885231887155375, \"Samples Cumulative (%)\": 20.282}, {\"Target Count\": 3, \"Dataset\": \"Laptop\", \"Number Samples\": 93, \"index\": 7, \"Samples (%)\": 4.020752269779507, \"Samples Cumulative (%)\": 43.969}, {\"Target Count\": 3, \"Dataset\": \"Restaurant\", \"Number Samples\": 129, \"index\": 8, \"Samples (%)\": 3.581343697945586, \"Samples Cumulative (%)\": 35.369}, {\"Target Count\": 4, \"Dataset\": \"Election\", \"Number Samples\": 240, \"index\": 9, \"Samples (%)\": 2.5646505663603336, \"Samples Cumulative (%)\": 22.847}, {\"Target Count\": 4, \"Dataset\": \"Laptop\", \"Number Samples\": 100, \"index\": 10, \"Samples (%)\": 4.323389537397319, \"Samples Cumulative (%)\": 48.292}, {\"Target Count\": 4, \"Dataset\": \"Restaurant\", \"Number Samples\": 72, \"index\": 11, \"Samples (%)\": 1.9988895058300944, \"Samples Cumulative (%)\": 37.368}, {\"Target Count\": 5, \"Dataset\": \"Election\", \"Number Samples\": 150, \"index\": 12, \"Samples (%)\": 1.6029066039752085, \"Samples Cumulative (%)\": 24.45}, {\"Target Count\": 5, \"Dataset\": \"Laptop\", \"Number Samples\": 60, \"index\": 13, \"Samples (%)\": 2.594033722438392, \"Samples Cumulative (%)\": 50.886}, {\"Target Count\": 5, \"Dataset\": \"Restaurant\", \"Number Samples\": 95, \"index\": 14, \"Samples (%)\": 2.637423653525819, \"Samples Cumulative (%)\": 40.006}, {\"Target Count\": 6, \"Dataset\": \"Election\", \"Number Samples\": 114, \"index\": 15, \"Samples (%)\": 1.2182090190211583, \"Samples Cumulative (%)\": 25.668}, {\"Target Count\": 6, \"Dataset\": \"Restaurant\", \"Number Samples\": 102, \"index\": 17, \"Samples (%)\": 2.8317601332593, \"Samples Cumulative (%)\": 42.837}, {\"Target Count\": 7, \"Dataset\": \"Election\", \"Number Samples\": 175, \"index\": 18, \"Samples (%)\": 1.8700577046377433, \"Samples Cumulative (%)\": 27.538}, {\"Target Count\": 7, \"Dataset\": \"Restaurant\", \"Number Samples\": 28, \"index\": 20, \"Samples (%)\": 0.7773459189339256, \"Samples Cumulative (%)\": 43.615}, {\"Target Count\": 8, \"Dataset\": \"Election\", \"Number Samples\": 120, \"index\": 21, \"Samples (%)\": 1.2823252831801668, \"Samples Cumulative (%)\": 28.82}, {\"Target Count\": 8, \"Dataset\": \"Restaurant\", \"Number Samples\": 56, \"index\": 23, \"Samples (%)\": 1.5546918378678511, \"Samples Cumulative (%)\": 45.169}, {\"Target Count\": 9, \"Dataset\": \"Election\", \"Number Samples\": 126, \"index\": 24, \"Samples (%)\": 1.3464415473391749, \"Samples Cumulative (%)\": 30.167}, {\"Target Count\": 9, \"Dataset\": \"Restaurant\", \"Number Samples\": 72, \"index\": 26, \"Samples (%)\": 1.9988895058300944, \"Samples Cumulative (%)\": 47.168}, {\"Target Count\": 10, \"Dataset\": \"Election\", \"Number Samples\": 60, \"index\": 27, \"Samples (%)\": 0.6411626415900834, \"Samples Cumulative (%)\": 30.808}, {\"Target Count\": 10, \"Dataset\": \"Restaurant\", \"Number Samples\": 60, \"index\": 29, \"Samples (%)\": 1.6657412548584118, \"Samples Cumulative (%)\": 48.834}, {\"Target Count\": 11, \"Dataset\": \"Election\", \"Number Samples\": 66, \"index\": 30, \"Samples (%)\": 0.7052789057490917, \"Samples Cumulative (%)\": 31.513}, {\"Target Count\": 11, \"Dataset\": \"Restaurant\", \"Number Samples\": 55, \"index\": 32, \"Samples (%)\": 1.526929483620211, \"Samples Cumulative (%)\": 50.361}, {\"Target Count\": 12, \"Dataset\": \"Election\", \"Number Samples\": 108, \"index\": 33, \"Samples (%)\": 1.15409275486215, \"Samples Cumulative (%)\": 32.667}, {\"Target Count\": 13, \"Dataset\": \"Election\", \"Number Samples\": 39, \"index\": 36, \"Samples (%)\": 0.41675571703355413, \"Samples Cumulative (%)\": 33.084}, {\"Target Count\": 14, \"Dataset\": \"Election\", \"Number Samples\": 98, \"index\": 39, \"Samples (%)\": 1.0472323145971363, \"Samples Cumulative (%)\": 34.131}, {\"Target Count\": 15, \"Dataset\": \"Election\", \"Number Samples\": 105, \"index\": 42, \"Samples (%)\": 1.1220346227826459, \"Samples Cumulative (%)\": 35.253}, {\"Target Count\": 16, \"Dataset\": \"Election\", \"Number Samples\": 80, \"index\": 44, \"Samples (%)\": 0.8548835221201111, \"Samples Cumulative (%)\": 36.108}, {\"Target Count\": 17, \"Dataset\": \"Election\", \"Number Samples\": 119, \"index\": 47, \"Samples (%)\": 1.2716392391536653, \"Samples Cumulative (%)\": 37.38}, {\"Target Count\": 18, \"Dataset\": \"Election\", \"Number Samples\": 54, \"index\": 50, \"Samples (%)\": 0.577046377431075, \"Samples Cumulative (%)\": 37.957}, {\"Target Count\": 19, \"Dataset\": \"Election\", \"Number Samples\": 76, \"index\": 53, \"Samples (%)\": 0.8121393460141056, \"Samples Cumulative (%)\": 38.769}, {\"Target Count\": 20, \"Dataset\": \"Election\", \"Number Samples\": 20, \"index\": 55, \"Samples (%)\": 0.21372088053002777, \"Samples Cumulative (%)\": 38.983}, {\"Target Count\": 21, \"Dataset\": \"Election\", \"Number Samples\": 42, \"index\": 57, \"Samples (%)\": 0.4488138491130583, \"Samples Cumulative (%)\": 39.432}, {\"Target Count\": 22, \"Dataset\": \"Election\", \"Number Samples\": 88, \"index\": 60, \"Samples (%)\": 0.9403718743321222, \"Samples Cumulative (%)\": 40.372}, {\"Target Count\": 23, \"Dataset\": \"Election\", \"Number Samples\": 92, \"index\": 62, \"Samples (%)\": 0.9831160504381278, \"Samples Cumulative (%)\": 41.355}, {\"Target Count\": 24, \"Dataset\": \"Election\", \"Number Samples\": 120, \"index\": 64, \"Samples (%)\": 1.2823252831801668, \"Samples Cumulative (%)\": 42.637}, {\"Target Count\": 25, \"Dataset\": \"Election\", \"Number Samples\": 75, \"index\": 67, \"Samples (%)\": 0.8014533019876042, \"Samples Cumulative (%)\": 43.439}, {\"Target Count\": 26, \"Dataset\": \"Election\", \"Number Samples\": 52, \"index\": 69, \"Samples (%)\": 0.5556742893780722, \"Samples Cumulative (%)\": 43.994}, {\"Target Count\": 27, \"Dataset\": \"Election\", \"Number Samples\": 81, \"index\": 71, \"Samples (%)\": 0.8655695661466125, \"Samples Cumulative (%)\": 44.86}, {\"Target Count\": 28, \"Dataset\": \"Election\", \"Number Samples\": 84, \"index\": 73, \"Samples (%)\": 0.8976276982261167, \"Samples Cumulative (%)\": 45.758}, {\"Target Count\": 30, \"Dataset\": \"Election\", \"Number Samples\": 30, \"index\": 76, \"Samples (%)\": 0.3205813207950417, \"Samples Cumulative (%)\": 46.078}, {\"Target Count\": 31, \"Dataset\": \"Election\", \"Number Samples\": 31, \"index\": 78, \"Samples (%)\": 0.33126736482154306, \"Samples Cumulative (%)\": 46.409}, {\"Target Count\": 32, \"Dataset\": \"Election\", \"Number Samples\": 32, \"index\": 80, \"Samples (%)\": 0.3419534088480444, \"Samples Cumulative (%)\": 46.751}, {\"Target Count\": 33, \"Dataset\": \"Election\", \"Number Samples\": 33, \"index\": 82, \"Samples (%)\": 0.35263945287454584, \"Samples Cumulative (%)\": 47.104}, {\"Target Count\": 34, \"Dataset\": \"Election\", \"Number Samples\": 102, \"index\": 84, \"Samples (%)\": 1.0899764907031417, \"Samples Cumulative (%)\": 48.194}, {\"Target Count\": 35, \"Dataset\": \"Election\", \"Number Samples\": 105, \"index\": 85, \"Samples (%)\": 1.1220346227826459, \"Samples Cumulative (%)\": 49.316}, {\"Target Count\": 36, \"Dataset\": \"Election\", \"Number Samples\": 72, \"index\": 88, \"Samples (%)\": 0.7693951699081001, \"Samples Cumulative (%)\": 50.085}, {\"Target Count\": 37, \"Dataset\": \"Election\", \"Number Samples\": 74, \"index\": 89, \"Samples (%)\": 0.7907672579611028, \"Samples Cumulative (%)\": 50.876}], \"data-f1186b94df38ae955b91c2f3d17fbffe\": [{\"Dataset\": \"Election\", \"Target Count\": 36, \"Number Samples\": 72, \"index\": 88, \"Samples (%)\": 0.7693951699081001, \"Samples Cumulative (%)\": 50.085}, {\"Dataset\": \"Laptop\", \"Target Count\": 5, \"Number Samples\": 60, \"index\": 13, \"Samples (%)\": 2.594033722438392, \"Samples Cumulative (%)\": 50.886}, {\"Dataset\": \"Restaurant\", \"Target Count\": 11, \"Number Samples\": 55, \"index\": 32, \"Samples (%)\": 1.526929483620211, \"Samples Cumulative (%)\": 50.361}], \"data-b3b03ad40ad88855ce628428d210c2d1\": [{\"Target Count\": 1, \"Dataset\": \"Election\", \"Number Samples\": 1276, \"index\": 0, \"Samples (%)\": 13.635392177815772, \"Samples Cumulative (%)\": 13.635}, {\"Target Count\": 1, \"Dataset\": \"Laptop\", \"Number Samples\": 692, \"index\": 1, \"Samples (%)\": 29.91785559878945, \"Samples Cumulative (%)\": 29.918}, {\"Target Count\": 1, \"Dataset\": \"Restaurant\", \"Number Samples\": 895, \"index\": 2, \"Samples (%)\": 24.84730705163798, \"Samples Cumulative (%)\": 24.847}]}};\n",
              "      var embedOpt = {\"mode\": \"vega-lite\"};\n",
              "\n",
              "      function showError(el, error){\n",
              "          el.innerHTML = ('<div class=\"error\" style=\"color:red;\">'\n",
              "                          + '<p>JavaScript Error: ' + error.message + '</p>'\n",
              "                          + \"<p>This usually means there's a typo in your chart specification. \"\n",
              "                          + \"See the javascript console for the full traceback.</p>\"\n",
              "                          + '</div>');\n",
              "          throw error;\n",
              "      }\n",
              "      const el = document.getElementById('altair-viz');\n",
              "      vegaEmbed(\"#altair-viz\", spec, embedOpt)\n",
              "        .catch(error => showError(el, error));\n",
              "    })(vegaEmbed);\n",
              "\n",
              "  </script>\n",
              "</body>\n",
              "</html>"
            ]
          },
          "metadata": {
            "tags": []
          },
          "execution_count": 43
        }
      ]
    },
    {
      "cell_type": "markdown",
      "metadata": {
        "id": "J-IMxpBJngiF",
        "colab_type": "text"
      },
      "source": [
        "As we can see from the plots above there is a large difference again between the three datasets. The Laptop dataset is made up of mainly Samples that have Targets that occur very in-frequent compared to Election and Restaurant dataset. The left plot shows this best where 50% of the dataset for the Laptop, Restaurant, and Election datasets are made up of samples with targets that have only occured at most 5, 11, and 36 times respectively.\n",
        "\n",
        "This is not surpursing giving the Target Distribution we saw before where the Election and Restaurant datasets before had some target that occur very frequently.\n",
        "\n",
        "This shows another large difference in the datasets where in the case for the Laptop dataset we have very few samples to understand the sentiment of a specific target word in comparison to the Election and Restaurant datasets where for the most frequent targets we can have over 100 samples.\n",
        "\n",
        "Lastly as we can again see in the right hand plot a massive difference between the datasets in the number of samples that only contain tagrets that occur once: 13%, 24%, and 29% for the Election, Restaurant, and Laptop respectively.\n",
        "\n",
        "Having seen a target in very few contexts can make it very hard for a model to learn the complex relationship between the Target and the associated sentiment, further more it could lead to generlisation problems where the model learns only that a Target occurs with one sentiment as it has only ever seen that target associated with that one sentiment.\n",
        "\n",
        "### Splits that are \"local\" where they only take the test dataset into account\n",
        "\n",
        "Local splits are those that only use the data within a dataset and do not require another to create a split. Here we are going to show two local data splits; 1. Distinct Sentiment (*DS*), and 2. Number Targets (*NT*).\n",
        "\n",
        "The *DS* split by [Wang et al, 2017](https://aclweb.org/anthology/E17-1046) is based on the number of distinct sentiments that are within a text for example a sample would be $DS_1$ if the sample's text only contains one sentiment within it or $DS_2$ if it contains two sentiments.\n",
        "\n",
        "The premise of this is that the more distinct sentiments in a text the more difficult it is for the classifier, as it has to better match the sentiments to the correct target(s). Furthermore if the whole dataset is $DS_1$ then a sentence based sentiment classifier would probably work quite well on this dataset, as it would not have to learn the target sentiment relation explictly.\n",
        "\n",
        "Below we can see the different subsets within the *DS* split for: \n",
        "1. Test dataset.\n",
        "2. Train dataset.\n",
        "3. The combination of Train and Test datasets."
      ]
    },
    {
      "cell_type": "code",
      "metadata": {
        "id": "UQn3GWXkrYA8",
        "colab_type": "code",
        "outputId": "99999074-a2e1-4c55-f5b6-f2a511056c08",
        "colab": {
          "base_uri": "https://localhost:8080/",
          "height": 425
        }
      },
      "source": [
        "from target_extraction.error_analysis import distinct_sentiment\n",
        "\n",
        "test_dataset_name = [(test, name) for train, test, name in train_test_datasets]\n",
        "train_and_test_name = [(TargetTextCollection.combine(train, test), name) \n",
        "                       for train, test, name in train_test_datasets]\n",
        "ds_error_keys = [f'distinct_sentiment_{i}' for i in range(1,4)]\n",
        "train_ds_df = get_error_data(train_dataset_name, ds_error_keys, distinct_sentiment, separate_labels=True)\n",
        "test_ds_df = get_error_data(test_dataset_name, ds_error_keys, distinct_sentiment, separate_labels=True)\n",
        "train_test_ds_df = get_error_data(train_and_test_name, ds_error_keys, distinct_sentiment, separate_labels=True)\n",
        "\n",
        "train_ds_chart = subset_dist_chart(train_ds_df, \n",
        "                                   'DS Train data')\n",
        "test_ds_chart = subset_dist_chart(test_ds_df, \n",
        "                                  'DS Test data',\n",
        "                                  True)\n",
        "train_test_title = 'DS combination of Train and Test data'\n",
        "train_test_ds_chart = subset_dist_chart(train_test_ds_df, train_test_title,\n",
        "                                        True)\n",
        "\n",
        "train_ds_chart | test_ds_chart | train_test_ds_chart"
      ],
      "execution_count": 0,
      "outputs": [
        {
          "output_type": "execute_result",
          "data": {
            "text/plain": [
              "alt.HConcatChart(...)"
            ],
            "text/html": [
              "<!DOCTYPE html>\n",
              "<html>\n",
              "<head>\n",
              "  <style>\n",
              "    .vega-actions a {\n",
              "        margin-right: 12px;\n",
              "        color: #757575;\n",
              "        font-weight: normal;\n",
              "        font-size: 13px;\n",
              "    }\n",
              "    .error {\n",
              "        color: red;\n",
              "    }\n",
              "  </style>\n",
              "  <script type=\"text/javascript\" src=\"https://cdn.jsdelivr.net/npm//vega@5\"></script>\n",
              "  <script type=\"text/javascript\" src=\"https://cdn.jsdelivr.net/npm//vega-lite@3.4.0\"></script>\n",
              "  <script type=\"text/javascript\" src=\"https://cdn.jsdelivr.net/npm//vega-embed@4\"></script>\n",
              "</head>\n",
              "<body>\n",
              "  <div id=\"altair-viz\"></div>\n",
              "  <script>\n",
              "    (function(vegaEmbed) {\n",
              "      var spec = {\"config\": {\"view\": {\"width\": 400, \"height\": 300}, \"mark\": {\"tooltip\": null}}, \"hconcat\": [{\"data\": {\"name\": \"data-db1bcc37c420f973d3e3206f7943fae2\"}, \"mark\": \"bar\", \"encoding\": {\"color\": {\"type\": \"ordinal\", \"field\": \"Data Subset\", \"scale\": {\"scheme\": \"redyellowblue\"}}, \"tooltip\": [{\"type\": \"quantitative\", \"field\": \"Number Samples\"}, {\"type\": \"nominal\", \"field\": \"Data Subset\"}, {\"type\": \"quantitative\", \"field\": \"Number of Samples (%)\"}], \"x\": {\"type\": \"nominal\", \"field\": \"Dataset\"}, \"y\": {\"type\": \"quantitative\", \"field\": \"Number of Samples (%)\", \"scale\": {\"domain\": [0, 100]}}}, \"title\": \"DS Train data\", \"width\": 100}, {\"data\": {\"name\": \"data-cbcc244e4615e15d5f8a2ec1bbe30250\"}, \"mark\": \"bar\", \"encoding\": {\"color\": {\"type\": \"ordinal\", \"field\": \"Data Subset\", \"scale\": {\"scheme\": \"redyellowblue\"}}, \"tooltip\": [{\"type\": \"quantitative\", \"field\": \"Number Samples\"}, {\"type\": \"nominal\", \"field\": \"Data Subset\"}, {\"type\": \"quantitative\", \"field\": \"Number of Samples (%)\"}], \"x\": {\"type\": \"nominal\", \"field\": \"Dataset\"}, \"y\": {\"type\": \"quantitative\", \"axis\": {\"labels\": true, \"ticks\": false, \"title\": null}, \"field\": \"Number of Samples (%)\", \"scale\": {\"domain\": [0, 100]}}}, \"title\": \"DS Test data\", \"width\": 100}, {\"data\": {\"name\": \"data-391c9a4d482b69a6f3bbc8c86e9559a5\"}, \"mark\": \"bar\", \"encoding\": {\"color\": {\"type\": \"ordinal\", \"field\": \"Data Subset\", \"scale\": {\"scheme\": \"redyellowblue\"}}, \"tooltip\": [{\"type\": \"quantitative\", \"field\": \"Number Samples\"}, {\"type\": \"nominal\", \"field\": \"Data Subset\"}, {\"type\": \"quantitative\", \"field\": \"Number of Samples (%)\"}], \"x\": {\"type\": \"nominal\", \"field\": \"Dataset\"}, \"y\": {\"type\": \"quantitative\", \"axis\": {\"labels\": true, \"ticks\": false, \"title\": null}, \"field\": \"Number of Samples (%)\", \"scale\": {\"domain\": [0, 100]}}}, \"title\": \"DS combination of Train and Test data\", \"width\": 100}], \"$schema\": \"https://vega.github.io/schema/vega-lite/v3.4.0.json\", \"datasets\": {\"data-db1bcc37c420f973d3e3206f7943fae2\": [{\"Dataset\": \"Laptop\", \"Number Samples\": 1858, \"Number of Samples (%)\": 80.3285776048422, \"Data Subset\": \"distinct_sentiment_1\"}, {\"Dataset\": \"Laptop\", \"Number Samples\": 426, \"Number of Samples (%)\": 18.417639429312583, \"Data Subset\": \"distinct_sentiment_2\"}, {\"Dataset\": \"Laptop\", \"Number Samples\": 29, \"Number of Samples (%)\": 1.2537829658452226, \"Data Subset\": \"distinct_sentiment_3\"}, {\"Dataset\": \"Restaurant\", \"Number Samples\": 2662, \"Number of Samples (%)\": 73.90338700721821, \"Data Subset\": \"distinct_sentiment_1\"}, {\"Dataset\": \"Restaurant\", \"Number Samples\": 858, \"Number of Samples (%)\": 23.82009994447529, \"Data Subset\": \"distinct_sentiment_2\"}, {\"Dataset\": \"Restaurant\", \"Number Samples\": 82, \"Number of Samples (%)\": 2.2765130483064966, \"Data Subset\": \"distinct_sentiment_3\"}, {\"Dataset\": \"Election\", \"Number Samples\": 4131, \"Number of Samples (%)\": 44.14404787347724, \"Data Subset\": \"distinct_sentiment_1\"}, {\"Dataset\": \"Election\", \"Number Samples\": 4377, \"Number of Samples (%)\": 46.77281470399658, \"Data Subset\": \"distinct_sentiment_2\"}, {\"Dataset\": \"Election\", \"Number Samples\": 850, \"Number of Samples (%)\": 9.08313742252618, \"Data Subset\": \"distinct_sentiment_3\"}], \"data-cbcc244e4615e15d5f8a2ec1bbe30250\": [{\"Dataset\": \"Laptop\", \"Number Samples\": 535, \"Number of Samples (%)\": 83.85579937304075, \"Data Subset\": \"distinct_sentiment_1\"}, {\"Dataset\": \"Laptop\", \"Number Samples\": 94, \"Number of Samples (%)\": 14.733542319749215, \"Data Subset\": \"distinct_sentiment_2\"}, {\"Dataset\": \"Laptop\", \"Number Samples\": 9, \"Number of Samples (%)\": 1.4106583072100314, \"Data Subset\": \"distinct_sentiment_3\"}, {\"Dataset\": \"Restaurant\", \"Number Samples\": 892, \"Number of Samples (%)\": 79.64285714285714, \"Data Subset\": \"distinct_sentiment_1\"}, {\"Dataset\": \"Restaurant\", \"Number Samples\": 225, \"Number of Samples (%)\": 20.089285714285715, \"Data Subset\": \"distinct_sentiment_2\"}, {\"Dataset\": \"Restaurant\", \"Number Samples\": 3, \"Number of Samples (%)\": 0.26785714285714285, \"Data Subset\": \"distinct_sentiment_3\"}, {\"Dataset\": \"Election\", \"Number Samples\": 1164, \"Number of Samples (%)\": 45.80873671782763, \"Data Subset\": \"distinct_sentiment_1\"}, {\"Dataset\": \"Election\", \"Number Samples\": 1182, \"Number of Samples (%)\": 46.51711924439197, \"Data Subset\": \"distinct_sentiment_2\"}, {\"Dataset\": \"Election\", \"Number Samples\": 195, \"Number of Samples (%)\": 7.674144037780402, \"Data Subset\": \"distinct_sentiment_3\"}], \"data-391c9a4d482b69a6f3bbc8c86e9559a5\": [{\"Dataset\": \"Laptop\", \"Number Samples\": 2392, \"Number of Samples (%)\": 81.08474576271186, \"Data Subset\": \"distinct_sentiment_1\"}, {\"Dataset\": \"Laptop\", \"Number Samples\": 520, \"Number of Samples (%)\": 17.627118644067796, \"Data Subset\": \"distinct_sentiment_2\"}, {\"Dataset\": \"Laptop\", \"Number Samples\": 38, \"Number of Samples (%)\": 1.2881355932203389, \"Data Subset\": \"distinct_sentiment_3\"}, {\"Dataset\": \"Restaurant\", \"Number Samples\": 3554, \"Number of Samples (%)\": 75.26471833968658, \"Data Subset\": \"distinct_sentiment_1\"}, {\"Dataset\": \"Restaurant\", \"Number Samples\": 1083, \"Number of Samples (%)\": 22.935196950444727, \"Data Subset\": \"distinct_sentiment_2\"}, {\"Dataset\": \"Restaurant\", \"Number Samples\": 85, \"Number of Samples (%)\": 1.8000847098686996, \"Data Subset\": \"distinct_sentiment_3\"}, {\"Dataset\": \"Election\", \"Number Samples\": 5295, \"Number of Samples (%)\": 44.499537776283724, \"Data Subset\": \"distinct_sentiment_1\"}, {\"Dataset\": \"Election\", \"Number Samples\": 5559, \"Number of Samples (%)\": 46.71821161442138, \"Data Subset\": \"distinct_sentiment_2\"}, {\"Dataset\": \"Election\", \"Number Samples\": 1045, \"Number of Samples (%)\": 8.782250609294898, \"Data Subset\": \"distinct_sentiment_3\"}]}};\n",
              "      var embedOpt = {\"mode\": \"vega-lite\"};\n",
              "\n",
              "      function showError(el, error){\n",
              "          el.innerHTML = ('<div class=\"error\" style=\"color:red;\">'\n",
              "                          + '<p>JavaScript Error: ' + error.message + '</p>'\n",
              "                          + \"<p>This usually means there's a typo in your chart specification. \"\n",
              "                          + \"See the javascript console for the full traceback.</p>\"\n",
              "                          + '</div>');\n",
              "          throw error;\n",
              "      }\n",
              "      const el = document.getElementById('altair-viz');\n",
              "      vegaEmbed(\"#altair-viz\", spec, embedOpt)\n",
              "        .catch(error => showError(el, error));\n",
              "    })(vegaEmbed);\n",
              "\n",
              "  </script>\n",
              "</body>\n",
              "</html>"
            ]
          },
          "metadata": {
            "tags": []
          },
          "execution_count": 44
        }
      ]
    },
    {
      "cell_type": "code",
      "metadata": {
        "id": "81XvEZ1mo8tR",
        "colab_type": "code",
        "outputId": "bf870bdc-242c-4411-a426-1826a0850f82",
        "colab": {
          "base_uri": "https://localhost:8080/",
          "height": 173
        }
      },
      "source": [
        "ds_table = pd.pivot_table(test_ds_df, values='Number Samples', \n",
        "                          columns='Data Subset', index='Dataset')\n",
        "\n",
        "ds_table"
      ],
      "execution_count": 0,
      "outputs": [
        {
          "output_type": "execute_result",
          "data": {
            "text/html": [
              "<div>\n",
              "<style scoped>\n",
              "    .dataframe tbody tr th:only-of-type {\n",
              "        vertical-align: middle;\n",
              "    }\n",
              "\n",
              "    .dataframe tbody tr th {\n",
              "        vertical-align: top;\n",
              "    }\n",
              "\n",
              "    .dataframe thead th {\n",
              "        text-align: right;\n",
              "    }\n",
              "</style>\n",
              "<table border=\"1\" class=\"dataframe\">\n",
              "  <thead>\n",
              "    <tr style=\"text-align: right;\">\n",
              "      <th>Data Subset</th>\n",
              "      <th>distinct_sentiment_1</th>\n",
              "      <th>distinct_sentiment_2</th>\n",
              "      <th>distinct_sentiment_3</th>\n",
              "    </tr>\n",
              "    <tr>\n",
              "      <th>Dataset</th>\n",
              "      <th></th>\n",
              "      <th></th>\n",
              "      <th></th>\n",
              "    </tr>\n",
              "  </thead>\n",
              "  <tbody>\n",
              "    <tr>\n",
              "      <th>Election</th>\n",
              "      <td>1164</td>\n",
              "      <td>1182</td>\n",
              "      <td>195</td>\n",
              "    </tr>\n",
              "    <tr>\n",
              "      <th>Laptop</th>\n",
              "      <td>535</td>\n",
              "      <td>94</td>\n",
              "      <td>9</td>\n",
              "    </tr>\n",
              "    <tr>\n",
              "      <th>Restaurant</th>\n",
              "      <td>892</td>\n",
              "      <td>225</td>\n",
              "      <td>3</td>\n",
              "    </tr>\n",
              "  </tbody>\n",
              "</table>\n",
              "</div>"
            ],
            "text/plain": [
              "Data Subset  distinct_sentiment_1  distinct_sentiment_2  distinct_sentiment_3\n",
              "Dataset                                                                      \n",
              "Election                     1164                  1182                   195\n",
              "Laptop                        535                    94                     9\n",
              "Restaurant                    892                   225                     3"
            ]
          },
          "metadata": {
            "tags": []
          },
          "execution_count": 45
        }
      ]
    },
    {
      "cell_type": "markdown",
      "metadata": {
        "id": "V8CbFUbUpEJo",
        "colab_type": "text"
      },
      "source": [
        "As we can see only the Election dataset would appear to have almost an equal split between $DS_1$ and $DS_2$ but none of the three really have that many of the very difficult $DS_3$ samples and again only the Election dataset does. Further more the Restaurant dataset almost has no $DS_3$ samples in the test dataset. However the representation of *DS* samples seem to be comparable in the train and test datasets for all of the datasets.\n",
        "\n",
        "The $NT_i$ split creates subsets based on the number of targets ($i$) within a text e.g. $NT_1$ would be the subset of samples that only have 1 target in a text, of which this is always the lower bound for this split. Furthermore unlike the *DS* split the $NT_i$ does not have a fixed number of subsets as $i$ is determined by the dataset. To demonstrate this best below shows the number of samples per values of $i$ for each dataset."
      ]
    },
    {
      "cell_type": "code",
      "metadata": {
        "id": "xDIMYuwZrSa3",
        "colab_type": "code",
        "outputId": "e11ee21f-a18f-4f46-b97a-7d693539e9fb",
        "colab": {
          "base_uri": "https://localhost:8080/",
          "height": 369
        }
      },
      "source": [
        "num_targets_df = num_targets_per_samples(train_test_datasets)\n",
        "alt.Chart(num_targets_df).mark_line(point=True).encode(\n",
        "    x=alt.X(\"Targets:O\"),\n",
        "    y=alt.Y('Samples Norm', scale=alt.Scale(domain=(0, 45)), title='Number of Samples (%)'),\n",
        "    color='Dataset', tooltip=['Dataset', 'Samples', 'Samples Norm', 'Targets']\n",
        ")"
      ],
      "execution_count": 0,
      "outputs": [
        {
          "output_type": "execute_result",
          "data": {
            "text/plain": [
              "alt.Chart(...)"
            ],
            "text/html": [
              "<!DOCTYPE html>\n",
              "<html>\n",
              "<head>\n",
              "  <style>\n",
              "    .vega-actions a {\n",
              "        margin-right: 12px;\n",
              "        color: #757575;\n",
              "        font-weight: normal;\n",
              "        font-size: 13px;\n",
              "    }\n",
              "    .error {\n",
              "        color: red;\n",
              "    }\n",
              "  </style>\n",
              "  <script type=\"text/javascript\" src=\"https://cdn.jsdelivr.net/npm//vega@5\"></script>\n",
              "  <script type=\"text/javascript\" src=\"https://cdn.jsdelivr.net/npm//vega-lite@3.4.0\"></script>\n",
              "  <script type=\"text/javascript\" src=\"https://cdn.jsdelivr.net/npm//vega-embed@4\"></script>\n",
              "</head>\n",
              "<body>\n",
              "  <div id=\"altair-viz\"></div>\n",
              "  <script>\n",
              "    (function(vegaEmbed) {\n",
              "      var spec = {\"config\": {\"view\": {\"width\": 400, \"height\": 300}, \"mark\": {\"tooltip\": null}}, \"data\": {\"name\": \"data-a757fc7e25c7ccaf2a3220538fc783a7\"}, \"mark\": {\"type\": \"line\", \"point\": true}, \"encoding\": {\"color\": {\"type\": \"nominal\", \"field\": \"Dataset\"}, \"tooltip\": [{\"type\": \"nominal\", \"field\": \"Dataset\"}, {\"type\": \"quantitative\", \"field\": \"Samples\"}, {\"type\": \"quantitative\", \"field\": \"Samples Norm\"}, {\"type\": \"quantitative\", \"field\": \"Targets\"}], \"x\": {\"type\": \"ordinal\", \"field\": \"Targets\"}, \"y\": {\"type\": \"quantitative\", \"field\": \"Samples Norm\", \"scale\": {\"domain\": [0, 45]}, \"title\": \"Number of Samples (%)\"}}, \"$schema\": \"https://vega.github.io/schema/vega-lite/v3.4.0.json\", \"datasets\": {\"data-a757fc7e25c7ccaf2a3220538fc783a7\": [{\"Dataset\": \"Laptop\", \"Targets\": 1, \"Samples\": 259, \"Samples Norm\": 40.59561128526646}, {\"Dataset\": \"Laptop\", \"Targets\": 2, \"Samples\": 204, \"Samples Norm\": 31.974921630094045}, {\"Dataset\": \"Laptop\", \"Targets\": 3, \"Samples\": 99, \"Samples Norm\": 15.517241379310345}, {\"Dataset\": \"Laptop\", \"Targets\": 4, \"Samples\": 40, \"Samples Norm\": 6.269592476489027}, {\"Dataset\": \"Laptop\", \"Targets\": 5, \"Samples\": 30, \"Samples Norm\": 4.702194357366771}, {\"Dataset\": \"Laptop\", \"Targets\": 6, \"Samples\": 6, \"Samples Norm\": 0.9404388714733543}, {\"Dataset\": \"Restaurant\", \"Targets\": 1, \"Samples\": 285, \"Samples Norm\": 25.44642857142857}, {\"Dataset\": \"Restaurant\", \"Targets\": 2, \"Samples\": 384, \"Samples Norm\": 34.285714285714285}, {\"Dataset\": \"Restaurant\", \"Targets\": 3, \"Samples\": 219, \"Samples Norm\": 19.553571428571427}, {\"Dataset\": \"Restaurant\", \"Targets\": 5, \"Samples\": 70, \"Samples Norm\": 6.25}, {\"Dataset\": \"Restaurant\", \"Targets\": 4, \"Samples\": 124, \"Samples Norm\": 11.071428571428571}, {\"Dataset\": \"Restaurant\", \"Targets\": 6, \"Samples\": 18, \"Samples Norm\": 1.607142857142857}, {\"Dataset\": \"Restaurant\", \"Targets\": 13, \"Samples\": 13, \"Samples Norm\": 1.1607142857142858}, {\"Dataset\": \"Restaurant\", \"Targets\": 7, \"Samples\": 7, \"Samples Norm\": 0.625}, {\"Dataset\": \"Election\", \"Targets\": 2, \"Samples\": 496, \"Samples Norm\": 19.51987406532861}, {\"Dataset\": \"Election\", \"Targets\": 3, \"Samples\": 720, \"Samples Norm\": 28.33530106257379}, {\"Dataset\": \"Election\", \"Targets\": 1, \"Samples\": 102, \"Samples Norm\": 4.014167650531287}, {\"Dataset\": \"Election\", \"Targets\": 4, \"Samples\": 728, \"Samples Norm\": 28.650137741046834}, {\"Dataset\": \"Election\", \"Targets\": 5, \"Samples\": 330, \"Samples Norm\": 12.987012987012985}, {\"Dataset\": \"Election\", \"Targets\": 7, \"Samples\": 42, \"Samples Norm\": 1.6528925619834711}, {\"Dataset\": \"Election\", \"Targets\": 8, \"Samples\": 24, \"Samples Norm\": 0.9445100354191263}, {\"Dataset\": \"Election\", \"Targets\": 6, \"Samples\": 90, \"Samples Norm\": 3.541912632821724}, {\"Dataset\": \"Election\", \"Targets\": 9, \"Samples\": 9, \"Samples Norm\": 0.3541912632821724}]}};\n",
              "      var embedOpt = {\"mode\": \"vega-lite\"};\n",
              "\n",
              "      function showError(el, error){\n",
              "          el.innerHTML = ('<div class=\"error\" style=\"color:red;\">'\n",
              "                          + '<p>JavaScript Error: ' + error.message + '</p>'\n",
              "                          + \"<p>This usually means there's a typo in your chart specification. \"\n",
              "                          + \"See the javascript console for the full traceback.</p>\"\n",
              "                          + '</div>');\n",
              "          throw error;\n",
              "      }\n",
              "      const el = document.getElementById('altair-viz');\n",
              "      vegaEmbed(\"#altair-viz\", spec, embedOpt)\n",
              "        .catch(error => showError(el, error));\n",
              "    })(vegaEmbed);\n",
              "\n",
              "  </script>\n",
              "</body>\n",
              "</html>"
            ]
          },
          "metadata": {
            "tags": []
          },
          "execution_count": 46
        }
      ]
    },
    {
      "cell_type": "markdown",
      "metadata": {
        "id": "OhD6U8aksDwu",
        "colab_type": "text"
      },
      "source": [
        "As we can see the Restaurant and Laptop datasets are fairly similar but the Election dataset has far fewer samples with 1 and 2 targets than the other datasets. Furthermore the Election dataset peek number of samples when binned by number of targets in the text is 4 compared to 1, and 2 of the Laptop and Restaurant dataset which is at least double the number of targets per text. This shows that the Election dataset is most likely a more difficult dataset as more targets per text would more likely mean better modelling of inter target sentiment relations.\n",
        "\n",
        "Finally this graphs shows the problem described earlier where the value of $i$ for $NT_i$ is determined by the dataset. Therefore we have modified this split so that it only returns 4 subsets:\n",
        "1. 1-target -- Only contains samples that have only 1 target in the text.\n",
        "2. low-targets -- Contains 2-$n$ targets in the text where $n$ is determined by the first $1/3$ of samples that are between 2-$n$.\n",
        "3. med-targets -- Contains $n$-$m$ targets in the text where $m$ is determined by the second $1/3$ of samples that are between $n$-$m$ where $n$ < $m$.\n",
        "4. high-targets -- Contains $n$-$m$ targets in the text where $i$ is the largest number of targets per text.\n",
        "\n",
        "These subsets and the values of $n$, $m$, and $i$ are shown below for each of the datasets."
      ]
    },
    {
      "cell_type": "code",
      "metadata": {
        "id": "GmPqS0J2ubey",
        "colab_type": "code",
        "outputId": "929fd821-90b5-4e45-da57-0e3786b67ad4",
        "colab": {
          "base_uri": "https://localhost:8080/",
          "height": 423
        }
      },
      "source": [
        "from target_extraction.error_analysis import num_targets_subset\n",
        "\n",
        "test_dataset_name = [(test, name) for train, test, name in train_test_datasets]\n",
        "\n",
        "num_targets_error_keys = ['1-target', 'low-targets', 'med-targets', 'high-targets']\n",
        "num_target_samples = []\n",
        "norm_num_target_samples = []\n",
        "dataset_names = []\n",
        "data_subset_names = []\n",
        "all_n_values = []\n",
        "\n",
        "for dataset, name in test_dataset_name:\n",
        "  dataset, n_values = num_targets_subset(dataset, True)\n",
        "  dataset_size = dataset.number_targets()\n",
        "  for index, n_value in enumerate(n_values):\n",
        "    dataset_names.append(name)\n",
        "    error_key = num_targets_error_keys[index]\n",
        "    data_subset_names.append(error_key)\n",
        "    all_n_values.append(n_value)\n",
        "    num_samples = count_error_key_occurrence(dataset, error_key)\n",
        "    num_target_samples.append(num_samples)\n",
        "    norm_num_samples = (num_samples / dataset_size) * 100\n",
        "    norm_num_target_samples.append(norm_num_samples)\n",
        "test_num_targets_df = pd.DataFrame({'Target Range': all_n_values, \n",
        "                                    'Dataset': dataset_names, \n",
        "                                    'Data Subset': data_subset_names, \n",
        "                                    'Number Samples': num_target_samples, \n",
        "                                    'Number of Samples (%)': norm_num_target_samples})\n",
        "test_num_targets_chart = subset_dist_chart(test_num_targets_df, 'NT Subsets')\n",
        "num_targets_tooltip = ['Number Samples', 'Data Subset', 'Number of Samples (%)', \n",
        "                       'Target Range']\n",
        "test_num_targets_chart.encoding.tooltip = alt.Tooltip(num_targets_tooltip)\n",
        "test_num_targets_chart"
      ],
      "execution_count": 0,
      "outputs": [
        {
          "output_type": "execute_result",
          "data": {
            "text/plain": [
              "alt.Chart(...)"
            ],
            "text/html": [
              "<!DOCTYPE html>\n",
              "<html>\n",
              "<head>\n",
              "  <style>\n",
              "    .vega-actions a {\n",
              "        margin-right: 12px;\n",
              "        color: #757575;\n",
              "        font-weight: normal;\n",
              "        font-size: 13px;\n",
              "    }\n",
              "    .error {\n",
              "        color: red;\n",
              "    }\n",
              "  </style>\n",
              "  <script type=\"text/javascript\" src=\"https://cdn.jsdelivr.net/npm//vega@5\"></script>\n",
              "  <script type=\"text/javascript\" src=\"https://cdn.jsdelivr.net/npm//vega-lite@3.4.0\"></script>\n",
              "  <script type=\"text/javascript\" src=\"https://cdn.jsdelivr.net/npm//vega-embed@4\"></script>\n",
              "</head>\n",
              "<body>\n",
              "  <div id=\"altair-viz\"></div>\n",
              "  <script>\n",
              "    (function(vegaEmbed) {\n",
              "      var spec = {\"config\": {\"view\": {\"width\": 400, \"height\": 300}, \"mark\": {\"tooltip\": null}}, \"data\": {\"name\": \"data-45d4e882fa9f57f687fe7d8f13545945\"}, \"mark\": \"bar\", \"encoding\": {\"color\": {\"type\": \"ordinal\", \"field\": \"Data Subset\", \"scale\": {\"scheme\": \"redyellowblue\"}}, \"tooltip\": [{\"type\": \"quantitative\", \"field\": \"Number Samples\"}, {\"type\": \"nominal\", \"field\": \"Data Subset\"}, {\"type\": \"quantitative\", \"field\": \"Number of Samples (%)\"}, {\"type\": \"nominal\", \"field\": \"Target Range\"}], \"x\": {\"type\": \"nominal\", \"field\": \"Dataset\"}, \"y\": {\"type\": \"quantitative\", \"field\": \"Number of Samples (%)\", \"scale\": {\"domain\": [0, 100]}}}, \"title\": \"NT Subsets\", \"width\": 100, \"$schema\": \"https://vega.github.io/schema/vega-lite/v3.4.0.json\", \"datasets\": {\"data-45d4e882fa9f57f687fe7d8f13545945\": [{\"Target Range\": [1, 1], \"Dataset\": \"Laptop\", \"Data Subset\": \"1-target\", \"Number Samples\": 259, \"Number of Samples (%)\": 40.59561128526646}, {\"Target Range\": [2, 2], \"Dataset\": \"Laptop\", \"Data Subset\": \"low-targets\", \"Number Samples\": 204, \"Number of Samples (%)\": 31.974921630094045}, {\"Target Range\": [3, 3], \"Dataset\": \"Laptop\", \"Data Subset\": \"med-targets\", \"Number Samples\": 99, \"Number of Samples (%)\": 15.517241379310345}, {\"Target Range\": [4, 6], \"Dataset\": \"Laptop\", \"Data Subset\": \"high-targets\", \"Number Samples\": 76, \"Number of Samples (%)\": 11.912225705329153}, {\"Target Range\": [1, 1], \"Dataset\": \"Restaurant\", \"Data Subset\": \"1-target\", \"Number Samples\": 285, \"Number of Samples (%)\": 25.44642857142857}, {\"Target Range\": [2, 2], \"Dataset\": \"Restaurant\", \"Data Subset\": \"low-targets\", \"Number Samples\": 384, \"Number of Samples (%)\": 34.285714285714285}, {\"Target Range\": [3, 4], \"Dataset\": \"Restaurant\", \"Data Subset\": \"med-targets\", \"Number Samples\": 343, \"Number of Samples (%)\": 30.625000000000004}, {\"Target Range\": [5, 13], \"Dataset\": \"Restaurant\", \"Data Subset\": \"high-targets\", \"Number Samples\": 108, \"Number of Samples (%)\": 9.642857142857144}, {\"Target Range\": [1, 1], \"Dataset\": \"Election\", \"Data Subset\": \"1-target\", \"Number Samples\": 102, \"Number of Samples (%)\": 4.014167650531287}, {\"Target Range\": [2, 3], \"Dataset\": \"Election\", \"Data Subset\": \"low-targets\", \"Number Samples\": 1216, \"Number of Samples (%)\": 47.8551751279024}, {\"Target Range\": [4, 4], \"Dataset\": \"Election\", \"Data Subset\": \"med-targets\", \"Number Samples\": 728, \"Number of Samples (%)\": 28.650137741046834}, {\"Target Range\": [5, 9], \"Dataset\": \"Election\", \"Data Subset\": \"high-targets\", \"Number Samples\": 495, \"Number of Samples (%)\": 19.480519480519483}]}};\n",
              "      var embedOpt = {\"mode\": \"vega-lite\"};\n",
              "\n",
              "      function showError(el, error){\n",
              "          el.innerHTML = ('<div class=\"error\" style=\"color:red;\">'\n",
              "                          + '<p>JavaScript Error: ' + error.message + '</p>'\n",
              "                          + \"<p>This usually means there's a typo in your chart specification. \"\n",
              "                          + \"See the javascript console for the full traceback.</p>\"\n",
              "                          + '</div>');\n",
              "          throw error;\n",
              "      }\n",
              "      const el = document.getElementById('altair-viz');\n",
              "      vegaEmbed(\"#altair-viz\", spec, embedOpt)\n",
              "        .catch(error => showError(el, error));\n",
              "    })(vegaEmbed);\n",
              "\n",
              "  </script>\n",
              "</body>\n",
              "</html>"
            ]
          },
          "metadata": {
            "tags": []
          },
          "execution_count": 47
        }
      ]
    },
    {
      "cell_type": "code",
      "metadata": {
        "id": "m0Nv9sAY3pnR",
        "colab_type": "code",
        "outputId": "e697febf-4b04-40cd-8d95-f9c3f222e6ec",
        "colab": {
          "base_uri": "https://localhost:8080/",
          "height": 173
        }
      },
      "source": [
        "pd.pivot_table(test_num_targets_df, values='Number Samples', \n",
        "               columns='Data Subset', index='Dataset')"
      ],
      "execution_count": 0,
      "outputs": [
        {
          "output_type": "execute_result",
          "data": {
            "text/html": [
              "<div>\n",
              "<style scoped>\n",
              "    .dataframe tbody tr th:only-of-type {\n",
              "        vertical-align: middle;\n",
              "    }\n",
              "\n",
              "    .dataframe tbody tr th {\n",
              "        vertical-align: top;\n",
              "    }\n",
              "\n",
              "    .dataframe thead th {\n",
              "        text-align: right;\n",
              "    }\n",
              "</style>\n",
              "<table border=\"1\" class=\"dataframe\">\n",
              "  <thead>\n",
              "    <tr style=\"text-align: right;\">\n",
              "      <th>Data Subset</th>\n",
              "      <th>1-target</th>\n",
              "      <th>high-targets</th>\n",
              "      <th>low-targets</th>\n",
              "      <th>med-targets</th>\n",
              "    </tr>\n",
              "    <tr>\n",
              "      <th>Dataset</th>\n",
              "      <th></th>\n",
              "      <th></th>\n",
              "      <th></th>\n",
              "      <th></th>\n",
              "    </tr>\n",
              "  </thead>\n",
              "  <tbody>\n",
              "    <tr>\n",
              "      <th>Election</th>\n",
              "      <td>102</td>\n",
              "      <td>495</td>\n",
              "      <td>1216</td>\n",
              "      <td>728</td>\n",
              "    </tr>\n",
              "    <tr>\n",
              "      <th>Laptop</th>\n",
              "      <td>259</td>\n",
              "      <td>76</td>\n",
              "      <td>204</td>\n",
              "      <td>99</td>\n",
              "    </tr>\n",
              "    <tr>\n",
              "      <th>Restaurant</th>\n",
              "      <td>285</td>\n",
              "      <td>108</td>\n",
              "      <td>384</td>\n",
              "      <td>343</td>\n",
              "    </tr>\n",
              "  </tbody>\n",
              "</table>\n",
              "</div>"
            ],
            "text/plain": [
              "Data Subset  1-target  high-targets  low-targets  med-targets\n",
              "Dataset                                                      \n",
              "Election          102           495         1216          728\n",
              "Laptop            259            76          204           99\n",
              "Restaurant        285           108          384          343"
            ]
          },
          "metadata": {
            "tags": []
          },
          "execution_count": 48
        }
      ]
    },
    {
      "cell_type": "code",
      "metadata": {
        "id": "DeW-Btd-v2z4",
        "colab_type": "code",
        "outputId": "f1c34e29-e39c-432e-8796-6400a5be9098",
        "colab": {
          "base_uri": "https://localhost:8080/",
          "height": 173
        }
      },
      "source": [
        "pd.pivot_table(test_num_targets_df, values='Target Range', \n",
        "               columns='Data Subset', index='Dataset', aggfunc=lambda x: list(x))"
      ],
      "execution_count": 0,
      "outputs": [
        {
          "output_type": "execute_result",
          "data": {
            "text/html": [
              "<div>\n",
              "<style scoped>\n",
              "    .dataframe tbody tr th:only-of-type {\n",
              "        vertical-align: middle;\n",
              "    }\n",
              "\n",
              "    .dataframe tbody tr th {\n",
              "        vertical-align: top;\n",
              "    }\n",
              "\n",
              "    .dataframe thead th {\n",
              "        text-align: right;\n",
              "    }\n",
              "</style>\n",
              "<table border=\"1\" class=\"dataframe\">\n",
              "  <thead>\n",
              "    <tr style=\"text-align: right;\">\n",
              "      <th>Data Subset</th>\n",
              "      <th>1-target</th>\n",
              "      <th>high-targets</th>\n",
              "      <th>low-targets</th>\n",
              "      <th>med-targets</th>\n",
              "    </tr>\n",
              "    <tr>\n",
              "      <th>Dataset</th>\n",
              "      <th></th>\n",
              "      <th></th>\n",
              "      <th></th>\n",
              "      <th></th>\n",
              "    </tr>\n",
              "  </thead>\n",
              "  <tbody>\n",
              "    <tr>\n",
              "      <th>Election</th>\n",
              "      <td>[(1, 1)]</td>\n",
              "      <td>[(5, 9)]</td>\n",
              "      <td>[(2, 3)]</td>\n",
              "      <td>[(4, 4)]</td>\n",
              "    </tr>\n",
              "    <tr>\n",
              "      <th>Laptop</th>\n",
              "      <td>[(1, 1)]</td>\n",
              "      <td>[(4, 6)]</td>\n",
              "      <td>[(2, 2)]</td>\n",
              "      <td>[(3, 3)]</td>\n",
              "    </tr>\n",
              "    <tr>\n",
              "      <th>Restaurant</th>\n",
              "      <td>[(1, 1)]</td>\n",
              "      <td>[(5, 13)]</td>\n",
              "      <td>[(2, 2)]</td>\n",
              "      <td>[(3, 4)]</td>\n",
              "    </tr>\n",
              "  </tbody>\n",
              "</table>\n",
              "</div>"
            ],
            "text/plain": [
              "Data Subset  1-target high-targets low-targets med-targets\n",
              "Dataset                                                   \n",
              "Election     [(1, 1)]     [(5, 9)]    [(2, 3)]    [(4, 4)]\n",
              "Laptop       [(1, 1)]     [(4, 6)]    [(2, 2)]    [(3, 3)]\n",
              "Restaurant   [(1, 1)]    [(5, 13)]    [(2, 2)]    [(3, 4)]"
            ]
          },
          "metadata": {
            "tags": []
          },
          "execution_count": 49
        }
      ]
    },
    {
      "cell_type": "markdown",
      "metadata": {
        "id": "YnoqnaszPKDG",
        "colab_type": "text"
      },
      "source": [
        "As we can see above once we remove the 1-target subset all the other subsets contain at least 9% of the data which casn better inform us on which methods perform best with increasing number of targets within a text. Furthermore the closest table shows us the differences in the *n*, *m*, and *i* values for each of the datasets. As we can see they are all very similar apart from the *high-targets* subset where the *i* value can be between 6 and 13.\n",
        "\n",
        "## Splits that take into account global information\n",
        "Global information splits unlike there local counterparts use another dataset to create the splits. In all of these cases the other dataset used is the training dataset. There are three splits we are going to look at *n-shot*, *Target Sentiment Relation (TSR)*, and *Fine Grained Target Sentiment Subsets (FGTSS)*.\n",
        "\n",
        "The first split we are going to look at is the *n-shot* split which has been used/created in Multi-Entity sentiment analysis by [Yang et al. 2018](https://www.aaai.org/ocs/index.php/AAAI/AAAI18/paper/viewFile/17036/16171), where Multi-Entity sentiment analysis is the task of predicting the sentiment with respect to the target **and** the latent aspect category. In this split it creates *n* subsets where *n* represents the number of times a target has been seen in the training dataset. For instance in the test dataset if there are 2 samples where the first sample contains a target that has occured 5 times in the training and second samples contains a targets that has occured 0 times in the training then they will be binned in the *5* and *0* *shot* subsets respectively.\n",
        "\n",
        "This split is similar to the *NT* split as depending on the dataset the value of *n* can vary therefore below we show for each of the datasets the number of samples in each *n-shot* subset\n"
      ]
    },
    {
      "cell_type": "code",
      "metadata": {
        "id": "z0gSfCiN7uM4",
        "colab_type": "code",
        "outputId": "6eb66840-3359-4f27-e783-aa622c4cf3e7",
        "colab": {
          "base_uri": "https://localhost:8080/",
          "height": 391
        }
      },
      "source": [
        "norm_n_shot_time_df = n_shot_time_series_df(train_test_datasets, True)\n",
        "\n",
        "x = alt.X('N-Shot:O', title=None)\n",
        "y = alt.Y('Number Samples', title='Number Samples (%)')\n",
        "color = 'Dataset'\n",
        "start_filter = (alt.datum['N-Shot'] > -1) & (alt.datum['N-Shot'] < 6)\n",
        "n_shot_low_chart = alt.Chart(norm_n_shot_time_df).mark_line(point=True)\\\n",
        "                                              .encode(x=x, y=y, color=color)\\\n",
        "                                              .transform_filter(start_filter)\n",
        "\n",
        "y = alt.Y('Number Samples', title=None)\n",
        "x = alt.X('N-Shot:O')\n",
        "middle_filter = (alt.datum['N-Shot'] > 5) & (alt.datum['N-Shot'] < 56)\n",
        "n_shot_middle_chart = alt.Chart(norm_n_shot_time_df).mark_line(point=True)\\\n",
        "                                            .encode(x=x, y=y, color=color)\\\n",
        "                                            .transform_filter(middle_filter)\n",
        "end_filter = alt.datum['N-Shot'] > 55\n",
        "x = alt.X('N-Shot:O', title=None)\n",
        "n_shot_high_chart = alt.Chart(norm_n_shot_time_df).mark_line(point=True)\\\n",
        "                                             .encode(x=x, y=y, color=color)\\\n",
        "                                             .transform_filter(end_filter)\n",
        "n_shot_low_chart | n_shot_middle_chart | n_shot_high_chart"
      ],
      "execution_count": 0,
      "outputs": [
        {
          "output_type": "execute_result",
          "data": {
            "text/plain": [
              "alt.HConcatChart(...)"
            ],
            "text/html": [
              "<!DOCTYPE html>\n",
              "<html>\n",
              "<head>\n",
              "  <style>\n",
              "    .vega-actions a {\n",
              "        margin-right: 12px;\n",
              "        color: #757575;\n",
              "        font-weight: normal;\n",
              "        font-size: 13px;\n",
              "    }\n",
              "    .error {\n",
              "        color: red;\n",
              "    }\n",
              "  </style>\n",
              "  <script type=\"text/javascript\" src=\"https://cdn.jsdelivr.net/npm//vega@5\"></script>\n",
              "  <script type=\"text/javascript\" src=\"https://cdn.jsdelivr.net/npm//vega-lite@3.4.0\"></script>\n",
              "  <script type=\"text/javascript\" src=\"https://cdn.jsdelivr.net/npm//vega-embed@4\"></script>\n",
              "</head>\n",
              "<body>\n",
              "  <div id=\"altair-viz\"></div>\n",
              "  <script>\n",
              "    (function(vegaEmbed) {\n",
              "      var spec = {\"config\": {\"view\": {\"width\": 400, \"height\": 300}, \"mark\": {\"tooltip\": null}}, \"hconcat\": [{\"mark\": {\"type\": \"line\", \"point\": true}, \"encoding\": {\"color\": {\"type\": \"nominal\", \"field\": \"Dataset\"}, \"x\": {\"type\": \"ordinal\", \"field\": \"N-Shot\", \"title\": null}, \"y\": {\"type\": \"quantitative\", \"field\": \"Number Samples\", \"title\": \"Number Samples (%)\"}}, \"transform\": [{\"filter\": \"((datum['N-Shot'] > -1) && (datum['N-Shot'] < 6))\"}]}, {\"mark\": {\"type\": \"line\", \"point\": true}, \"encoding\": {\"color\": {\"type\": \"nominal\", \"field\": \"Dataset\"}, \"x\": {\"type\": \"ordinal\", \"field\": \"N-Shot\"}, \"y\": {\"type\": \"quantitative\", \"field\": \"Number Samples\", \"title\": null}}, \"transform\": [{\"filter\": \"((datum['N-Shot'] > 5) && (datum['N-Shot'] < 56))\"}]}, {\"mark\": {\"type\": \"line\", \"point\": true}, \"encoding\": {\"color\": {\"type\": \"nominal\", \"field\": \"Dataset\"}, \"x\": {\"type\": \"ordinal\", \"field\": \"N-Shot\", \"title\": null}, \"y\": {\"type\": \"quantitative\", \"field\": \"Number Samples\", \"title\": null}}, \"transform\": [{\"filter\": \"(datum['N-Shot'] > 55)\"}]}], \"data\": {\"name\": \"data-7acc08f69fdaf3edb3602a30b5d86e04\"}, \"$schema\": \"https://vega.github.io/schema/vega-lite/v3.4.0.json\", \"datasets\": {\"data-7acc08f69fdaf3edb3602a30b5d86e04\": [{\"N-Shot\": 0, \"Dataset\": \"Laptop\", \"Number Samples\": 42.16300940438871, \"Number Samples (Cumulative)\": 42.16300940438871}, {\"N-Shot\": 7, \"Dataset\": \"Laptop\", \"Number Samples\": 1.2539184952978055, \"Number Samples (Cumulative)\": 68.9655172413793}, {\"N-Shot\": 4, \"Dataset\": \"Laptop\", \"Number Samples\": 4.231974921630094, \"Number Samples (Cumulative)\": 65.98746081504702}, {\"N-Shot\": 1, \"Dataset\": \"Laptop\", \"Number Samples\": 10.18808777429467, \"Number Samples (Cumulative)\": 52.35109717868338}, {\"N-Shot\": 53, \"Dataset\": \"Laptop\", \"Number Samples\": 1.4106583072100314, \"Number Samples (Cumulative)\": 96.2382445141066}, {\"N-Shot\": 13, \"Dataset\": \"Laptop\", \"Number Samples\": 3.761755485893417, \"Number Samples (Cumulative)\": 79.7805642633229}, {\"N-Shot\": 35, \"Dataset\": \"Laptop\", \"Number Samples\": 1.7241379310344827, \"Number Samples (Cumulative)\": 91.84952978056428}, {\"N-Shot\": 52, \"Dataset\": \"Laptop\", \"Number Samples\": 0.9404388714733543, \"Number Samples (Cumulative)\": 94.82758620689657}, {\"N-Shot\": 2, \"Dataset\": \"Laptop\", \"Number Samples\": 5.799373040752351, \"Number Samples (Cumulative)\": 58.15047021943573}, {\"N-Shot\": 17, \"Dataset\": \"Laptop\", \"Number Samples\": 1.4106583072100314, \"Number Samples (Cumulative)\": 82.44514106583074}, {\"N-Shot\": 24, \"Dataset\": \"Laptop\", \"Number Samples\": 1.2539184952978055, \"Number Samples (Cumulative)\": 87.93103448275865}, {\"N-Shot\": 23, \"Dataset\": \"Laptop\", \"Number Samples\": 2.8213166144200628, \"Number Samples (Cumulative)\": 86.67711598746084}, {\"N-Shot\": 21, \"Dataset\": \"Laptop\", \"Number Samples\": 0.7836990595611284, \"Number Samples (Cumulative)\": 83.85579937304077}, {\"N-Shot\": 60, \"Dataset\": \"Laptop\", \"Number Samples\": 1.4106583072100314, \"Number Samples (Cumulative)\": 100.00000000000001}, {\"N-Shot\": 56, \"Dataset\": \"Laptop\", \"Number Samples\": 2.3510971786833856, \"Number Samples (Cumulative)\": 98.58934169278999}, {\"N-Shot\": 50, \"Dataset\": \"Laptop\", \"Number Samples\": 1.09717868338558, \"Number Samples (Cumulative)\": 93.88714733542321}, {\"N-Shot\": 9, \"Dataset\": \"Laptop\", \"Number Samples\": 3.918495297805643, \"Number Samples (Cumulative)\": 73.82445141065831}, {\"N-Shot\": 5, \"Dataset\": \"Laptop\", \"Number Samples\": 0.9404388714733543, \"Number Samples (Cumulative)\": 66.92789968652036}, {\"N-Shot\": 3, \"Dataset\": \"Laptop\", \"Number Samples\": 3.605015673981191, \"Number Samples (Cumulative)\": 61.755485893416925}, {\"N-Shot\": 11, \"Dataset\": \"Laptop\", \"Number Samples\": 1.5673981191222568, \"Number Samples (Cumulative)\": 75.86206896551725}, {\"N-Shot\": 30, \"Dataset\": \"Laptop\", \"Number Samples\": 1.4106583072100314, \"Number Samples (Cumulative)\": 89.34169278996868}, {\"N-Shot\": 47, \"Dataset\": \"Laptop\", \"Number Samples\": 0.9404388714733543, \"Number Samples (Cumulative)\": 92.78996865203763}, {\"N-Shot\": 14, \"Dataset\": \"Laptop\", \"Number Samples\": 1.2539184952978055, \"Number Samples (Cumulative)\": 81.03448275862071}, {\"N-Shot\": 6, \"Dataset\": \"Laptop\", \"Number Samples\": 0.7836990595611284, \"Number Samples (Cumulative)\": 67.71159874608149}, {\"N-Shot\": 10, \"Dataset\": \"Laptop\", \"Number Samples\": 0.4702194357366771, \"Number Samples (Cumulative)\": 74.294670846395}, {\"N-Shot\": 8, \"Dataset\": \"Laptop\", \"Number Samples\": 0.9404388714733543, \"Number Samples (Cumulative)\": 69.90595611285266}, {\"N-Shot\": 18, \"Dataset\": \"Laptop\", \"Number Samples\": 0.6269592476489028, \"Number Samples (Cumulative)\": 83.07210031347964}, {\"N-Shot\": 33, \"Dataset\": \"Laptop\", \"Number Samples\": 0.6269592476489028, \"Number Samples (Cumulative)\": 90.1253918495298}, {\"N-Shot\": 31, \"Dataset\": \"Laptop\", \"Number Samples\": 0.1567398119122257, \"Number Samples (Cumulative)\": 89.4984326018809}, {\"N-Shot\": 12, \"Dataset\": \"Laptop\", \"Number Samples\": 0.1567398119122257, \"Number Samples (Cumulative)\": 76.01880877742948}, {\"N-Shot\": 9, \"Dataset\": \"Restaurant\", \"Number Samples\": 2.410714285714286, \"Number Samples (Cumulative)\": 51.78571428571427}, {\"N-Shot\": 0, \"Dataset\": \"Restaurant\", \"Number Samples\": 31.428571428571427, \"Number Samples (Cumulative)\": 31.428571428571427}, {\"N-Shot\": 360, \"Dataset\": \"Restaurant\", \"Number Samples\": 11.160714285714286, \"Number Samples (Cumulative)\": 99.99999999999999}, {\"N-Shot\": 2, \"Dataset\": \"Restaurant\", \"Number Samples\": 2.3214285714285716, \"Number Samples (Cumulative)\": 38.92857142857142}, {\"N-Shot\": 59, \"Dataset\": \"Restaurant\", \"Number Samples\": 1.6964285714285714, \"Number Samples (Cumulative)\": 80.62499999999997}, {\"N-Shot\": 10, \"Dataset\": \"Restaurant\", \"Number Samples\": 2.410714285714286, \"Number Samples (Cumulative)\": 54.196428571428555}, {\"N-Shot\": 55, \"Dataset\": \"Restaurant\", \"Number Samples\": 3.8392857142857144, \"Number Samples (Cumulative)\": 78.3035714285714}, {\"N-Shot\": 35, \"Dataset\": \"Restaurant\", \"Number Samples\": 1.1607142857142858, \"Number Samples (Cumulative)\": 68.12499999999999}, {\"N-Shot\": 1, \"Dataset\": \"Restaurant\", \"Number Samples\": 5.178571428571429, \"Number Samples (Cumulative)\": 36.607142857142854}, {\"N-Shot\": 26, \"Dataset\": \"Restaurant\", \"Number Samples\": 1.4285714285714286, \"Number Samples (Cumulative)\": 64.82142857142856}, {\"N-Shot\": 3, \"Dataset\": \"Restaurant\", \"Number Samples\": 2.857142857142857, \"Number Samples (Cumulative)\": 41.78571428571428}, {\"N-Shot\": 37, \"Dataset\": \"Restaurant\", \"Number Samples\": 1.25, \"Number Samples (Cumulative)\": 69.37499999999999}, {\"N-Shot\": 27, \"Dataset\": \"Restaurant\", \"Number Samples\": 0.5357142857142857, \"Number Samples (Cumulative)\": 65.35714285714285}, {\"N-Shot\": 41, \"Dataset\": \"Restaurant\", \"Number Samples\": 1.25, \"Number Samples (Cumulative)\": 71.87499999999999}, {\"N-Shot\": 225, \"Dataset\": \"Restaurant\", \"Number Samples\": 6.607142857142858, \"Number Samples (Cumulative)\": 88.8392857142857}, {\"N-Shot\": 24, \"Dataset\": \"Restaurant\", \"Number Samples\": 0.7142857142857143, \"Number Samples (Cumulative)\": 62.946428571428555}, {\"N-Shot\": 11, \"Dataset\": \"Restaurant\", \"Number Samples\": 1.0714285714285714, \"Number Samples (Cumulative)\": 55.267857142857125}, {\"N-Shot\": 6, \"Dataset\": \"Restaurant\", \"Number Samples\": 1.875, \"Number Samples (Cumulative)\": 46.428571428571416}, {\"N-Shot\": 7, \"Dataset\": \"Restaurant\", \"Number Samples\": 0.9821428571428571, \"Number Samples (Cumulative)\": 47.41071428571427}, {\"N-Shot\": 21, \"Dataset\": \"Restaurant\", \"Number Samples\": 0.35714285714285715, \"Number Samples (Cumulative)\": 62.05357142857141}, {\"N-Shot\": 14, \"Dataset\": \"Restaurant\", \"Number Samples\": 1.6964285714285714, \"Number Samples (Cumulative)\": 58.749999999999986}, {\"N-Shot\": 8, \"Dataset\": \"Restaurant\", \"Number Samples\": 1.9642857142857142, \"Number Samples (Cumulative)\": 49.374999999999986}, {\"N-Shot\": 25, \"Dataset\": \"Restaurant\", \"Number Samples\": 0.4464285714285714, \"Number Samples (Cumulative)\": 63.392857142857125}, {\"N-Shot\": 29, \"Dataset\": \"Restaurant\", \"Number Samples\": 0.7142857142857143, \"Number Samples (Cumulative)\": 66.51785714285712}, {\"N-Shot\": 40, \"Dataset\": \"Restaurant\", \"Number Samples\": 1.25, \"Number Samples (Cumulative)\": 70.62499999999999}, {\"N-Shot\": 46, \"Dataset\": \"Restaurant\", \"Number Samples\": 1.875, \"Number Samples (Cumulative)\": 73.74999999999999}, {\"N-Shot\": 18, \"Dataset\": \"Restaurant\", \"Number Samples\": 1.5178571428571428, \"Number Samples (Cumulative)\": 61.249999999999986}, {\"N-Shot\": 12, \"Dataset\": \"Restaurant\", \"Number Samples\": 0.8928571428571428, \"Number Samples (Cumulative)\": 56.16071428571427}, {\"N-Shot\": 63, \"Dataset\": \"Restaurant\", \"Number Samples\": 1.607142857142857, \"Number Samples (Cumulative)\": 82.23214285714283}, {\"N-Shot\": 5, \"Dataset\": \"Restaurant\", \"Number Samples\": 1.1607142857142858, \"Number Samples (Cumulative)\": 44.553571428571416}, {\"N-Shot\": 32, \"Dataset\": \"Restaurant\", \"Number Samples\": 0.4464285714285714, \"Number Samples (Cumulative)\": 66.9642857142857}, {\"N-Shot\": 4, \"Dataset\": \"Restaurant\", \"Number Samples\": 1.607142857142857, \"Number Samples (Cumulative)\": 43.39285714285713}, {\"N-Shot\": 51, \"Dataset\": \"Restaurant\", \"Number Samples\": 0.7142857142857143, \"Number Samples (Cumulative)\": 74.4642857142857}, {\"N-Shot\": 13, \"Dataset\": \"Restaurant\", \"Number Samples\": 0.8928571428571428, \"Number Samples (Cumulative)\": 57.053571428571416}, {\"N-Shot\": 20, \"Dataset\": \"Restaurant\", \"Number Samples\": 0.35714285714285715, \"Number Samples (Cumulative)\": 61.696428571428555}, {\"N-Shot\": 56, \"Dataset\": \"Restaurant\", \"Number Samples\": 0.625, \"Number Samples (Cumulative)\": 78.9285714285714}, {\"N-Shot\": 17, \"Dataset\": \"Restaurant\", \"Number Samples\": 0.17857142857142858, \"Number Samples (Cumulative)\": 59.73214285714284}, {\"N-Shot\": 15, \"Dataset\": \"Restaurant\", \"Number Samples\": 0.4464285714285714, \"Number Samples (Cumulative)\": 59.196428571428555}, {\"N-Shot\": 16, \"Dataset\": \"Restaurant\", \"Number Samples\": 0.35714285714285715, \"Number Samples (Cumulative)\": 59.55357142857141}, {\"N-Shot\": 19, \"Dataset\": \"Restaurant\", \"Number Samples\": 0.08928571428571429, \"Number Samples (Cumulative)\": 61.3392857142857}, {\"N-Shot\": 28, \"Dataset\": \"Restaurant\", \"Number Samples\": 0.4464285714285714, \"Number Samples (Cumulative)\": 65.80357142857142}, {\"N-Shot\": 22, \"Dataset\": \"Restaurant\", \"Number Samples\": 0.17857142857142858, \"Number Samples (Cumulative)\": 62.23214285714284}, {\"N-Shot\": 95, \"Dataset\": \"Election\", \"Number Samples\": 2.046438410074774, \"Number Samples (Cumulative)\": 69.57890594254232}, {\"N-Shot\": 139, \"Dataset\": \"Election\", \"Number Samples\": 1.5741833923652107, \"Number Samples (Cumulative)\": 79.10271546635185}, {\"N-Shot\": 1, \"Dataset\": \"Election\", \"Number Samples\": 3.463203463203463, \"Number Samples (Cumulative)\": 17.394726485635577}, {\"N-Shot\": 25, \"Dataset\": \"Election\", \"Number Samples\": 0.747737111373475, \"Number Samples (Cumulative)\": 44.98229043683589}, {\"N-Shot\": 141, \"Dataset\": \"Election\", \"Number Samples\": 1.4561196379378198, \"Number Samples (Cumulative)\": 80.55883510428967}, {\"N-Shot\": 48, \"Dataset\": \"Election\", \"Number Samples\": 0.5116096025186935, \"Number Samples (Cumulative)\": 59.661550570641495}, {\"N-Shot\": 109, \"Dataset\": \"Election\", \"Number Samples\": 1.1412829594647778, \"Number Samples (Cumulative)\": 73.16017316017317}, {\"N-Shot\": 0, \"Dataset\": \"Election\", \"Number Samples\": 13.931523022432113, \"Number Samples (Cumulative)\": 13.931523022432113}, {\"N-Shot\": 100, \"Dataset\": \"Election\", \"Number Samples\": 2.4399842581660764, \"Number Samples (Cumulative)\": 72.0188902007084}, {\"N-Shot\": 56, \"Dataset\": \"Election\", \"Number Samples\": 0.7083825265643447, \"Number Samples (Cumulative)\": 62.691853600944526}, {\"N-Shot\": 2, \"Dataset\": \"Election\", \"Number Samples\": 1.8496654860291224, \"Number Samples (Cumulative)\": 19.244391971664697}, {\"N-Shot\": 23, \"Dataset\": \"Election\", \"Number Samples\": 1.1019283746556474, \"Number Samples (Cumulative)\": 43.05391578118851}, {\"N-Shot\": 433, \"Dataset\": \"Election\", \"Number Samples\": 4.210940574576938, \"Number Samples (Cumulative)\": 100.00000000000001}, {\"N-Shot\": 43, \"Dataset\": \"Election\", \"Number Samples\": 0.6296733569460842, \"Number Samples (Cumulative)\": 56.70995670995672}, {\"N-Shot\": 5, \"Dataset\": \"Election\", \"Number Samples\": 2.1645021645021645, \"Number Samples (Cumulative)\": 25.58048012593467}, {\"N-Shot\": 281, \"Dataset\": \"Election\", \"Number Samples\": 3.541912632821724, \"Number Samples (Cumulative)\": 92.87682014954744}, {\"N-Shot\": 73, \"Dataset\": \"Election\", \"Number Samples\": 0.8658008658008658, \"Number Samples (Cumulative)\": 65.40731995277451}, {\"N-Shot\": 53, \"Dataset\": \"Election\", \"Number Samples\": 0.5116096025186935, \"Number Samples (Cumulative)\": 60.56670602125149}, {\"N-Shot\": 9, \"Dataset\": \"Election\", \"Number Samples\": 1.4167650531286895, \"Number Samples (Cumulative)\": 31.286894923258558}, {\"N-Shot\": 16, \"Dataset\": \"Election\", \"Number Samples\": 0.7870916961826053, \"Number Samples (Cumulative)\": 37.34750098386462}, {\"N-Shot\": 71, \"Dataset\": \"Election\", \"Number Samples\": 0.6296733569460842, \"Number Samples (Cumulative)\": 64.54151908697365}, {\"N-Shot\": 3, \"Dataset\": \"Election\", \"Number Samples\": 2.046438410074774, \"Number Samples (Cumulative)\": 21.29083038173947}, {\"N-Shot\": 54, \"Dataset\": \"Election\", \"Number Samples\": 0.8264462809917356, \"Number Samples (Cumulative)\": 61.39315230224323}, {\"N-Shot\": 27, \"Dataset\": \"Election\", \"Number Samples\": 0.905155450609996, \"Number Samples (Cumulative)\": 46.24163715072806}, {\"N-Shot\": 304, \"Dataset\": \"Election\", \"Number Samples\": 2.9122392758756397, \"Number Samples (Cumulative)\": 95.78905942542308}, {\"N-Shot\": 7, \"Dataset\": \"Election\", \"Number Samples\": 1.7316017316017316, \"Number Samples (Cumulative)\": 28.72884691066509}, {\"N-Shot\": 223, \"Dataset\": \"Election\", \"Number Samples\": 2.2825659189295555, \"Number Samples (Cumulative)\": 89.33490751672572}, {\"N-Shot\": 14, \"Dataset\": \"Election\", \"Number Samples\": 0.9445100354191263, \"Number Samples (Cumulative)\": 35.18299881936245}, {\"N-Shot\": 4, \"Dataset\": \"Election\", \"Number Samples\": 2.125147579693034, \"Number Samples (Cumulative)\": 23.415977961432507}, {\"N-Shot\": 35, \"Dataset\": \"Election\", \"Number Samples\": 0.9445100354191263, \"Number Samples (Cumulative)\": 50.60999606454153}, {\"N-Shot\": 119, \"Dataset\": \"Election\", \"Number Samples\": 1.8496654860291224, \"Number Samples (Cumulative)\": 75.0098386462023}, {\"N-Shot\": 170, \"Dataset\": \"Election\", \"Number Samples\": 1.6528925619834711, \"Number Samples (Cumulative)\": 83.51042896497445}, {\"N-Shot\": 17, \"Dataset\": \"Election\", \"Number Samples\": 1.2987012987012987, \"Number Samples (Cumulative)\": 38.646202282565916}, {\"N-Shot\": 155, \"Dataset\": \"Election\", \"Number Samples\": 1.2987012987012987, \"Number Samples (Cumulative)\": 81.85753640299097}, {\"N-Shot\": 94, \"Dataset\": \"Election\", \"Number Samples\": 1.1806375442739079, \"Number Samples (Cumulative)\": 67.53246753246755}, {\"N-Shot\": 46, \"Dataset\": \"Election\", \"Number Samples\": 0.47225501770956313, \"Number Samples (Cumulative)\": 58.284140102321935}, {\"N-Shot\": 55, \"Dataset\": \"Election\", \"Number Samples\": 0.5903187721369539, \"Number Samples (Cumulative)\": 61.98347107438018}, {\"N-Shot\": 39, \"Dataset\": \"Election\", \"Number Samples\": 0.7870916961826053, \"Number Samples (Cumulative)\": 54.073199527745}, {\"N-Shot\": 6, \"Dataset\": \"Election\", \"Number Samples\": 1.4167650531286895, \"Number Samples (Cumulative)\": 26.99724517906336}, {\"N-Shot\": 24, \"Dataset\": \"Election\", \"Number Samples\": 1.1806375442739079, \"Number Samples (Cumulative)\": 44.234553325462414}, {\"N-Shot\": 183, \"Dataset\": \"Election\", \"Number Samples\": 1.6922471467926012, \"Number Samples (Cumulative)\": 85.20267611176705}, {\"N-Shot\": 18, \"Dataset\": \"Election\", \"Number Samples\": 0.8264462809917356, \"Number Samples (Cumulative)\": 39.472648563557655}, {\"N-Shot\": 195, \"Dataset\": \"Election\", \"Number Samples\": 1.8496654860291224, \"Number Samples (Cumulative)\": 87.05234159779617}, {\"N-Shot\": 44, \"Dataset\": \"Election\", \"Number Samples\": 1.1019283746556474, \"Number Samples (Cumulative)\": 57.81188508461237}, {\"N-Shot\": 15, \"Dataset\": \"Election\", \"Number Samples\": 1.3774104683195594, \"Number Samples (Cumulative)\": 36.56040928768201}, {\"N-Shot\": 38, \"Dataset\": \"Election\", \"Number Samples\": 1.2199921290830382, \"Number Samples (Cumulative)\": 53.28610783156239}, {\"N-Shot\": 22, \"Dataset\": \"Election\", \"Number Samples\": 0.747737111373475, \"Number Samples (Cumulative)\": 41.95198740653286}, {\"N-Shot\": 61, \"Dataset\": \"Election\", \"Number Samples\": 0.6296733569460842, \"Number Samples (Cumulative)\": 63.911845730027565}, {\"N-Shot\": 10, \"Dataset\": \"Election\", \"Number Samples\": 0.5509641873278237, \"Number Samples (Cumulative)\": 31.837859110586383}, {\"N-Shot\": 122, \"Dataset\": \"Election\", \"Number Samples\": 1.49547422274695, \"Number Samples (Cumulative)\": 76.50531286894925}, {\"N-Shot\": 127, \"Dataset\": \"Election\", \"Number Samples\": 1.023219205037387, \"Number Samples (Cumulative)\": 77.52853207398664}, {\"N-Shot\": 36, \"Dataset\": \"Election\", \"Number Samples\": 0.7870916961826053, \"Number Samples (Cumulative)\": 51.39708776072413}, {\"N-Shot\": 86, \"Dataset\": \"Election\", \"Number Samples\": 0.9445100354191263, \"Number Samples (Cumulative)\": 66.35182998819364}, {\"N-Shot\": 19, \"Dataset\": \"Election\", \"Number Samples\": 1.062573789846517, \"Number Samples (Cumulative)\": 40.53522235340417}, {\"N-Shot\": 8, \"Dataset\": \"Election\", \"Number Samples\": 1.1412829594647778, \"Number Samples (Cumulative)\": 29.87012987012987}, {\"N-Shot\": 37, \"Dataset\": \"Election\", \"Number Samples\": 0.6690279417552145, \"Number Samples (Cumulative)\": 52.06611570247935}, {\"N-Shot\": 13, \"Dataset\": \"Election\", \"Number Samples\": 0.3541912632821724, \"Number Samples (Cumulative)\": 34.238488783943325}, {\"N-Shot\": 28, \"Dataset\": \"Election\", \"Number Samples\": 0.9445100354191263, \"Number Samples (Cumulative)\": 47.18614718614719}, {\"N-Shot\": 60, \"Dataset\": \"Election\", \"Number Samples\": 0.5903187721369539, \"Number Samples (Cumulative)\": 63.28217237308148}, {\"N-Shot\": 34, \"Dataset\": \"Election\", \"Number Samples\": 0.8264462809917356, \"Number Samples (Cumulative)\": 49.6654860291224}, {\"N-Shot\": 40, \"Dataset\": \"Election\", \"Number Samples\": 0.9838646202282565, \"Number Samples (Cumulative)\": 55.05706414797325}, {\"N-Shot\": 12, \"Dataset\": \"Election\", \"Number Samples\": 1.1412829594647778, \"Number Samples (Cumulative)\": 33.88429752066115}, {\"N-Shot\": 20, \"Dataset\": \"Election\", \"Number Samples\": 0.27548209366391185, \"Number Samples (Cumulative)\": 40.81070444706808}, {\"N-Shot\": 33, \"Dataset\": \"Election\", \"Number Samples\": 0.3541912632821724, \"Number Samples (Cumulative)\": 48.83903974813066}, {\"N-Shot\": 42, \"Dataset\": \"Election\", \"Number Samples\": 1.023219205037387, \"Number Samples (Cumulative)\": 56.080283353010635}, {\"N-Shot\": 31, \"Dataset\": \"Election\", \"Number Samples\": 0.39354584809130266, \"Number Samples (Cumulative)\": 47.89452971271153}, {\"N-Shot\": 11, \"Dataset\": \"Election\", \"Number Samples\": 0.905155450609996, \"Number Samples (Cumulative)\": 32.743014561196375}, {\"N-Shot\": 32, \"Dataset\": \"Election\", \"Number Samples\": 0.5903187721369539, \"Number Samples (Cumulative)\": 48.484848484848484}, {\"N-Shot\": 47, \"Dataset\": \"Election\", \"Number Samples\": 0.8658008658008658, \"Number Samples (Cumulative)\": 59.1499409681228}, {\"N-Shot\": 21, \"Dataset\": \"Election\", \"Number Samples\": 0.39354584809130266, \"Number Samples (Cumulative)\": 41.20425029515938}, {\"N-Shot\": 26, \"Dataset\": \"Election\", \"Number Samples\": 0.3541912632821724, \"Number Samples (Cumulative)\": 45.336481700118064}, {\"N-Shot\": 49, \"Dataset\": \"Election\", \"Number Samples\": 0.39354584809130266, \"Number Samples (Cumulative)\": 60.055096418732795}, {\"N-Shot\": 30, \"Dataset\": \"Election\", \"Number Samples\": 0.3148366784730421, \"Number Samples (Cumulative)\": 47.50098386462023}]}};\n",
              "      var embedOpt = {\"mode\": \"vega-lite\"};\n",
              "\n",
              "      function showError(el, error){\n",
              "          el.innerHTML = ('<div class=\"error\" style=\"color:red;\">'\n",
              "                          + '<p>JavaScript Error: ' + error.message + '</p>'\n",
              "                          + \"<p>This usually means there's a typo in your chart specification. \"\n",
              "                          + \"See the javascript console for the full traceback.</p>\"\n",
              "                          + '</div>');\n",
              "          throw error;\n",
              "      }\n",
              "      const el = document.getElementById('altair-viz');\n",
              "      vegaEmbed(\"#altair-viz\", spec, embedOpt)\n",
              "        .catch(error => showError(el, error));\n",
              "    })(vegaEmbed);\n",
              "\n",
              "  </script>\n",
              "</body>\n",
              "</html>"
            ]
          },
          "metadata": {
            "tags": []
          },
          "execution_count": 50
        }
      ]
    },
    {
      "cell_type": "markdown",
      "metadata": {
        "id": "jX5PqHuO74wn",
        "colab_type": "text"
      },
      "source": [
        "As we can see subset that has the largest number of samples is the *zero-shot* or *Unknown Target*, which is much larger for the smaller datasets. Interestingly though there are targets that occur both very frequently in the train and test for both the election and the restaurant datasets as shown by the upward tail in the far right plot. This split is mainly to focus on the affect the number of times a target needs to be seen for the method to correctly represent it. Thus a general method should be able to handle the *zero-shot* cases well, as it could rely on other similar targets to help represent it.\n",
        "\n",
        "To better see how much of these datasets are made up of zero to very highly frequently seen targets we plot the cummulative sample counts with respect to increasing values of *n*"
      ]
    },
    {
      "cell_type": "code",
      "metadata": {
        "id": "i1oiAzk374O4",
        "colab_type": "code",
        "outputId": "bef8b70a-c303-45d2-c77b-66bc2acc71ac",
        "colab": {
          "base_uri": "https://localhost:8080/",
          "height": 389
        }
      },
      "source": [
        "n_shot_time_df = n_shot_time_series_df(train_test_datasets, False)\n",
        "x = 'N-Shot'\n",
        "norm_y = alt.Y('Number Samples (Cumulative)', scale=alt.Scale(domain=(0,100)), \n",
        "                title='Number Samples (Cumulative) %')\n",
        "y = alt.Y('Number Samples (Cumulative)')\n",
        "color = 'Dataset'\n",
        "\n",
        "norm_cuml_line = alt.Chart(norm_n_shot_time_df).mark_line(point=True)\\\n",
        "                                               .encode(x=x, y=norm_y, color=color)\n",
        "cuml_line = alt.Chart(n_shot_time_df).mark_line(point=True)\\\n",
        "                                     .encode(x=x, y=y, color=color)\n",
        "norm_cuml_line | cuml_line"
      ],
      "execution_count": 0,
      "outputs": [
        {
          "output_type": "execute_result",
          "data": {
            "text/plain": [
              "alt.HConcatChart(...)"
            ],
            "text/html": [
              "<!DOCTYPE html>\n",
              "<html>\n",
              "<head>\n",
              "  <style>\n",
              "    .vega-actions a {\n",
              "        margin-right: 12px;\n",
              "        color: #757575;\n",
              "        font-weight: normal;\n",
              "        font-size: 13px;\n",
              "    }\n",
              "    .error {\n",
              "        color: red;\n",
              "    }\n",
              "  </style>\n",
              "  <script type=\"text/javascript\" src=\"https://cdn.jsdelivr.net/npm//vega@5\"></script>\n",
              "  <script type=\"text/javascript\" src=\"https://cdn.jsdelivr.net/npm//vega-lite@3.4.0\"></script>\n",
              "  <script type=\"text/javascript\" src=\"https://cdn.jsdelivr.net/npm//vega-embed@4\"></script>\n",
              "</head>\n",
              "<body>\n",
              "  <div id=\"altair-viz\"></div>\n",
              "  <script>\n",
              "    (function(vegaEmbed) {\n",
              "      var spec = {\"config\": {\"view\": {\"width\": 400, \"height\": 300}, \"mark\": {\"tooltip\": null}}, \"hconcat\": [{\"data\": {\"name\": \"data-7acc08f69fdaf3edb3602a30b5d86e04\"}, \"mark\": {\"type\": \"line\", \"point\": true}, \"encoding\": {\"color\": {\"type\": \"nominal\", \"field\": \"Dataset\"}, \"x\": {\"type\": \"quantitative\", \"field\": \"N-Shot\"}, \"y\": {\"type\": \"quantitative\", \"field\": \"Number Samples (Cumulative)\", \"scale\": {\"domain\": [0, 100]}, \"title\": \"Number Samples (Cumulative) %\"}}}, {\"data\": {\"name\": \"data-a9448d2ea058628b45bed4facedda755\"}, \"mark\": {\"type\": \"line\", \"point\": true}, \"encoding\": {\"color\": {\"type\": \"nominal\", \"field\": \"Dataset\"}, \"x\": {\"type\": \"quantitative\", \"field\": \"N-Shot\"}, \"y\": {\"type\": \"quantitative\", \"field\": \"Number Samples (Cumulative)\"}}}], \"$schema\": \"https://vega.github.io/schema/vega-lite/v3.4.0.json\", \"datasets\": {\"data-7acc08f69fdaf3edb3602a30b5d86e04\": [{\"N-Shot\": 0, \"Dataset\": \"Laptop\", \"Number Samples\": 42.16300940438871, \"Number Samples (Cumulative)\": 42.16300940438871}, {\"N-Shot\": 7, \"Dataset\": \"Laptop\", \"Number Samples\": 1.2539184952978055, \"Number Samples (Cumulative)\": 68.9655172413793}, {\"N-Shot\": 4, \"Dataset\": \"Laptop\", \"Number Samples\": 4.231974921630094, \"Number Samples (Cumulative)\": 65.98746081504702}, {\"N-Shot\": 1, \"Dataset\": \"Laptop\", \"Number Samples\": 10.18808777429467, \"Number Samples (Cumulative)\": 52.35109717868338}, {\"N-Shot\": 53, \"Dataset\": \"Laptop\", \"Number Samples\": 1.4106583072100314, \"Number Samples (Cumulative)\": 96.2382445141066}, {\"N-Shot\": 13, \"Dataset\": \"Laptop\", \"Number Samples\": 3.761755485893417, \"Number Samples (Cumulative)\": 79.7805642633229}, {\"N-Shot\": 35, \"Dataset\": \"Laptop\", \"Number Samples\": 1.7241379310344827, \"Number Samples (Cumulative)\": 91.84952978056428}, {\"N-Shot\": 52, \"Dataset\": \"Laptop\", \"Number Samples\": 0.9404388714733543, \"Number Samples (Cumulative)\": 94.82758620689657}, {\"N-Shot\": 2, \"Dataset\": \"Laptop\", \"Number Samples\": 5.799373040752351, \"Number Samples (Cumulative)\": 58.15047021943573}, {\"N-Shot\": 17, \"Dataset\": \"Laptop\", \"Number Samples\": 1.4106583072100314, \"Number Samples (Cumulative)\": 82.44514106583074}, {\"N-Shot\": 24, \"Dataset\": \"Laptop\", \"Number Samples\": 1.2539184952978055, \"Number Samples (Cumulative)\": 87.93103448275865}, {\"N-Shot\": 23, \"Dataset\": \"Laptop\", \"Number Samples\": 2.8213166144200628, \"Number Samples (Cumulative)\": 86.67711598746084}, {\"N-Shot\": 21, \"Dataset\": \"Laptop\", \"Number Samples\": 0.7836990595611284, \"Number Samples (Cumulative)\": 83.85579937304077}, {\"N-Shot\": 60, \"Dataset\": \"Laptop\", \"Number Samples\": 1.4106583072100314, \"Number Samples (Cumulative)\": 100.00000000000001}, {\"N-Shot\": 56, \"Dataset\": \"Laptop\", \"Number Samples\": 2.3510971786833856, \"Number Samples (Cumulative)\": 98.58934169278999}, {\"N-Shot\": 50, \"Dataset\": \"Laptop\", \"Number Samples\": 1.09717868338558, \"Number Samples (Cumulative)\": 93.88714733542321}, {\"N-Shot\": 9, \"Dataset\": \"Laptop\", \"Number Samples\": 3.918495297805643, \"Number Samples (Cumulative)\": 73.82445141065831}, {\"N-Shot\": 5, \"Dataset\": \"Laptop\", \"Number Samples\": 0.9404388714733543, \"Number Samples (Cumulative)\": 66.92789968652036}, {\"N-Shot\": 3, \"Dataset\": \"Laptop\", \"Number Samples\": 3.605015673981191, \"Number Samples (Cumulative)\": 61.755485893416925}, {\"N-Shot\": 11, \"Dataset\": \"Laptop\", \"Number Samples\": 1.5673981191222568, \"Number Samples (Cumulative)\": 75.86206896551725}, {\"N-Shot\": 30, \"Dataset\": \"Laptop\", \"Number Samples\": 1.4106583072100314, \"Number Samples (Cumulative)\": 89.34169278996868}, {\"N-Shot\": 47, \"Dataset\": \"Laptop\", \"Number Samples\": 0.9404388714733543, \"Number Samples (Cumulative)\": 92.78996865203763}, {\"N-Shot\": 14, \"Dataset\": \"Laptop\", \"Number Samples\": 1.2539184952978055, \"Number Samples (Cumulative)\": 81.03448275862071}, {\"N-Shot\": 6, \"Dataset\": \"Laptop\", \"Number Samples\": 0.7836990595611284, \"Number Samples (Cumulative)\": 67.71159874608149}, {\"N-Shot\": 10, \"Dataset\": \"Laptop\", \"Number Samples\": 0.4702194357366771, \"Number Samples (Cumulative)\": 74.294670846395}, {\"N-Shot\": 8, \"Dataset\": \"Laptop\", \"Number Samples\": 0.9404388714733543, \"Number Samples (Cumulative)\": 69.90595611285266}, {\"N-Shot\": 18, \"Dataset\": \"Laptop\", \"Number Samples\": 0.6269592476489028, \"Number Samples (Cumulative)\": 83.07210031347964}, {\"N-Shot\": 33, \"Dataset\": \"Laptop\", \"Number Samples\": 0.6269592476489028, \"Number Samples (Cumulative)\": 90.1253918495298}, {\"N-Shot\": 31, \"Dataset\": \"Laptop\", \"Number Samples\": 0.1567398119122257, \"Number Samples (Cumulative)\": 89.4984326018809}, {\"N-Shot\": 12, \"Dataset\": \"Laptop\", \"Number Samples\": 0.1567398119122257, \"Number Samples (Cumulative)\": 76.01880877742948}, {\"N-Shot\": 9, \"Dataset\": \"Restaurant\", \"Number Samples\": 2.410714285714286, \"Number Samples (Cumulative)\": 51.78571428571427}, {\"N-Shot\": 0, \"Dataset\": \"Restaurant\", \"Number Samples\": 31.428571428571427, \"Number Samples (Cumulative)\": 31.428571428571427}, {\"N-Shot\": 360, \"Dataset\": \"Restaurant\", \"Number Samples\": 11.160714285714286, \"Number Samples (Cumulative)\": 99.99999999999999}, {\"N-Shot\": 2, \"Dataset\": \"Restaurant\", \"Number Samples\": 2.3214285714285716, \"Number Samples (Cumulative)\": 38.92857142857142}, {\"N-Shot\": 59, \"Dataset\": \"Restaurant\", \"Number Samples\": 1.6964285714285714, \"Number Samples (Cumulative)\": 80.62499999999997}, {\"N-Shot\": 10, \"Dataset\": \"Restaurant\", \"Number Samples\": 2.410714285714286, \"Number Samples (Cumulative)\": 54.196428571428555}, {\"N-Shot\": 55, \"Dataset\": \"Restaurant\", \"Number Samples\": 3.8392857142857144, \"Number Samples (Cumulative)\": 78.3035714285714}, {\"N-Shot\": 35, \"Dataset\": \"Restaurant\", \"Number Samples\": 1.1607142857142858, \"Number Samples (Cumulative)\": 68.12499999999999}, {\"N-Shot\": 1, \"Dataset\": \"Restaurant\", \"Number Samples\": 5.178571428571429, \"Number Samples (Cumulative)\": 36.607142857142854}, {\"N-Shot\": 26, \"Dataset\": \"Restaurant\", \"Number Samples\": 1.4285714285714286, \"Number Samples (Cumulative)\": 64.82142857142856}, {\"N-Shot\": 3, \"Dataset\": \"Restaurant\", \"Number Samples\": 2.857142857142857, \"Number Samples (Cumulative)\": 41.78571428571428}, {\"N-Shot\": 37, \"Dataset\": \"Restaurant\", \"Number Samples\": 1.25, \"Number Samples (Cumulative)\": 69.37499999999999}, {\"N-Shot\": 27, \"Dataset\": \"Restaurant\", \"Number Samples\": 0.5357142857142857, \"Number Samples (Cumulative)\": 65.35714285714285}, {\"N-Shot\": 41, \"Dataset\": \"Restaurant\", \"Number Samples\": 1.25, \"Number Samples (Cumulative)\": 71.87499999999999}, {\"N-Shot\": 225, \"Dataset\": \"Restaurant\", \"Number Samples\": 6.607142857142858, \"Number Samples (Cumulative)\": 88.8392857142857}, {\"N-Shot\": 24, \"Dataset\": \"Restaurant\", \"Number Samples\": 0.7142857142857143, \"Number Samples (Cumulative)\": 62.946428571428555}, {\"N-Shot\": 11, \"Dataset\": \"Restaurant\", \"Number Samples\": 1.0714285714285714, \"Number Samples (Cumulative)\": 55.267857142857125}, {\"N-Shot\": 6, \"Dataset\": \"Restaurant\", \"Number Samples\": 1.875, \"Number Samples (Cumulative)\": 46.428571428571416}, {\"N-Shot\": 7, \"Dataset\": \"Restaurant\", \"Number Samples\": 0.9821428571428571, \"Number Samples (Cumulative)\": 47.41071428571427}, {\"N-Shot\": 21, \"Dataset\": \"Restaurant\", \"Number Samples\": 0.35714285714285715, \"Number Samples (Cumulative)\": 62.05357142857141}, {\"N-Shot\": 14, \"Dataset\": \"Restaurant\", \"Number Samples\": 1.6964285714285714, \"Number Samples (Cumulative)\": 58.749999999999986}, {\"N-Shot\": 8, \"Dataset\": \"Restaurant\", \"Number Samples\": 1.9642857142857142, \"Number Samples (Cumulative)\": 49.374999999999986}, {\"N-Shot\": 25, \"Dataset\": \"Restaurant\", \"Number Samples\": 0.4464285714285714, \"Number Samples (Cumulative)\": 63.392857142857125}, {\"N-Shot\": 29, \"Dataset\": \"Restaurant\", \"Number Samples\": 0.7142857142857143, \"Number Samples (Cumulative)\": 66.51785714285712}, {\"N-Shot\": 40, \"Dataset\": \"Restaurant\", \"Number Samples\": 1.25, \"Number Samples (Cumulative)\": 70.62499999999999}, {\"N-Shot\": 46, \"Dataset\": \"Restaurant\", \"Number Samples\": 1.875, \"Number Samples (Cumulative)\": 73.74999999999999}, {\"N-Shot\": 18, \"Dataset\": \"Restaurant\", \"Number Samples\": 1.5178571428571428, \"Number Samples (Cumulative)\": 61.249999999999986}, {\"N-Shot\": 12, \"Dataset\": \"Restaurant\", \"Number Samples\": 0.8928571428571428, \"Number Samples (Cumulative)\": 56.16071428571427}, {\"N-Shot\": 63, \"Dataset\": \"Restaurant\", \"Number Samples\": 1.607142857142857, \"Number Samples (Cumulative)\": 82.23214285714283}, {\"N-Shot\": 5, \"Dataset\": \"Restaurant\", \"Number Samples\": 1.1607142857142858, \"Number Samples (Cumulative)\": 44.553571428571416}, {\"N-Shot\": 32, \"Dataset\": \"Restaurant\", \"Number Samples\": 0.4464285714285714, \"Number Samples (Cumulative)\": 66.9642857142857}, {\"N-Shot\": 4, \"Dataset\": \"Restaurant\", \"Number Samples\": 1.607142857142857, \"Number Samples (Cumulative)\": 43.39285714285713}, {\"N-Shot\": 51, \"Dataset\": \"Restaurant\", \"Number Samples\": 0.7142857142857143, \"Number Samples (Cumulative)\": 74.4642857142857}, {\"N-Shot\": 13, \"Dataset\": \"Restaurant\", \"Number Samples\": 0.8928571428571428, \"Number Samples (Cumulative)\": 57.053571428571416}, {\"N-Shot\": 20, \"Dataset\": \"Restaurant\", \"Number Samples\": 0.35714285714285715, \"Number Samples (Cumulative)\": 61.696428571428555}, {\"N-Shot\": 56, \"Dataset\": \"Restaurant\", \"Number Samples\": 0.625, \"Number Samples (Cumulative)\": 78.9285714285714}, {\"N-Shot\": 17, \"Dataset\": \"Restaurant\", \"Number Samples\": 0.17857142857142858, \"Number Samples (Cumulative)\": 59.73214285714284}, {\"N-Shot\": 15, \"Dataset\": \"Restaurant\", \"Number Samples\": 0.4464285714285714, \"Number Samples (Cumulative)\": 59.196428571428555}, {\"N-Shot\": 16, \"Dataset\": \"Restaurant\", \"Number Samples\": 0.35714285714285715, \"Number Samples (Cumulative)\": 59.55357142857141}, {\"N-Shot\": 19, \"Dataset\": \"Restaurant\", \"Number Samples\": 0.08928571428571429, \"Number Samples (Cumulative)\": 61.3392857142857}, {\"N-Shot\": 28, \"Dataset\": \"Restaurant\", \"Number Samples\": 0.4464285714285714, \"Number Samples (Cumulative)\": 65.80357142857142}, {\"N-Shot\": 22, \"Dataset\": \"Restaurant\", \"Number Samples\": 0.17857142857142858, \"Number Samples (Cumulative)\": 62.23214285714284}, {\"N-Shot\": 95, \"Dataset\": \"Election\", \"Number Samples\": 2.046438410074774, \"Number Samples (Cumulative)\": 69.57890594254232}, {\"N-Shot\": 139, \"Dataset\": \"Election\", \"Number Samples\": 1.5741833923652107, \"Number Samples (Cumulative)\": 79.10271546635185}, {\"N-Shot\": 1, \"Dataset\": \"Election\", \"Number Samples\": 3.463203463203463, \"Number Samples (Cumulative)\": 17.394726485635577}, {\"N-Shot\": 25, \"Dataset\": \"Election\", \"Number Samples\": 0.747737111373475, \"Number Samples (Cumulative)\": 44.98229043683589}, {\"N-Shot\": 141, \"Dataset\": \"Election\", \"Number Samples\": 1.4561196379378198, \"Number Samples (Cumulative)\": 80.55883510428967}, {\"N-Shot\": 48, \"Dataset\": \"Election\", \"Number Samples\": 0.5116096025186935, \"Number Samples (Cumulative)\": 59.661550570641495}, {\"N-Shot\": 109, \"Dataset\": \"Election\", \"Number Samples\": 1.1412829594647778, \"Number Samples (Cumulative)\": 73.16017316017317}, {\"N-Shot\": 0, \"Dataset\": \"Election\", \"Number Samples\": 13.931523022432113, \"Number Samples (Cumulative)\": 13.931523022432113}, {\"N-Shot\": 100, \"Dataset\": \"Election\", \"Number Samples\": 2.4399842581660764, \"Number Samples (Cumulative)\": 72.0188902007084}, {\"N-Shot\": 56, \"Dataset\": \"Election\", \"Number Samples\": 0.7083825265643447, \"Number Samples (Cumulative)\": 62.691853600944526}, {\"N-Shot\": 2, \"Dataset\": \"Election\", \"Number Samples\": 1.8496654860291224, \"Number Samples (Cumulative)\": 19.244391971664697}, {\"N-Shot\": 23, \"Dataset\": \"Election\", \"Number Samples\": 1.1019283746556474, \"Number Samples (Cumulative)\": 43.05391578118851}, {\"N-Shot\": 433, \"Dataset\": \"Election\", \"Number Samples\": 4.210940574576938, \"Number Samples (Cumulative)\": 100.00000000000001}, {\"N-Shot\": 43, \"Dataset\": \"Election\", \"Number Samples\": 0.6296733569460842, \"Number Samples (Cumulative)\": 56.70995670995672}, {\"N-Shot\": 5, \"Dataset\": \"Election\", \"Number Samples\": 2.1645021645021645, \"Number Samples (Cumulative)\": 25.58048012593467}, {\"N-Shot\": 281, \"Dataset\": \"Election\", \"Number Samples\": 3.541912632821724, \"Number Samples (Cumulative)\": 92.87682014954744}, {\"N-Shot\": 73, \"Dataset\": \"Election\", \"Number Samples\": 0.8658008658008658, \"Number Samples (Cumulative)\": 65.40731995277451}, {\"N-Shot\": 53, \"Dataset\": \"Election\", \"Number Samples\": 0.5116096025186935, \"Number Samples (Cumulative)\": 60.56670602125149}, {\"N-Shot\": 9, \"Dataset\": \"Election\", \"Number Samples\": 1.4167650531286895, \"Number Samples (Cumulative)\": 31.286894923258558}, {\"N-Shot\": 16, \"Dataset\": \"Election\", \"Number Samples\": 0.7870916961826053, \"Number Samples (Cumulative)\": 37.34750098386462}, {\"N-Shot\": 71, \"Dataset\": \"Election\", \"Number Samples\": 0.6296733569460842, \"Number Samples (Cumulative)\": 64.54151908697365}, {\"N-Shot\": 3, \"Dataset\": \"Election\", \"Number Samples\": 2.046438410074774, \"Number Samples (Cumulative)\": 21.29083038173947}, {\"N-Shot\": 54, \"Dataset\": \"Election\", \"Number Samples\": 0.8264462809917356, \"Number Samples (Cumulative)\": 61.39315230224323}, {\"N-Shot\": 27, \"Dataset\": \"Election\", \"Number Samples\": 0.905155450609996, \"Number Samples (Cumulative)\": 46.24163715072806}, {\"N-Shot\": 304, \"Dataset\": \"Election\", \"Number Samples\": 2.9122392758756397, \"Number Samples (Cumulative)\": 95.78905942542308}, {\"N-Shot\": 7, \"Dataset\": \"Election\", \"Number Samples\": 1.7316017316017316, \"Number Samples (Cumulative)\": 28.72884691066509}, {\"N-Shot\": 223, \"Dataset\": \"Election\", \"Number Samples\": 2.2825659189295555, \"Number Samples (Cumulative)\": 89.33490751672572}, {\"N-Shot\": 14, \"Dataset\": \"Election\", \"Number Samples\": 0.9445100354191263, \"Number Samples (Cumulative)\": 35.18299881936245}, {\"N-Shot\": 4, \"Dataset\": \"Election\", \"Number Samples\": 2.125147579693034, \"Number Samples (Cumulative)\": 23.415977961432507}, {\"N-Shot\": 35, \"Dataset\": \"Election\", \"Number Samples\": 0.9445100354191263, \"Number Samples (Cumulative)\": 50.60999606454153}, {\"N-Shot\": 119, \"Dataset\": \"Election\", \"Number Samples\": 1.8496654860291224, \"Number Samples (Cumulative)\": 75.0098386462023}, {\"N-Shot\": 170, \"Dataset\": \"Election\", \"Number Samples\": 1.6528925619834711, \"Number Samples (Cumulative)\": 83.51042896497445}, {\"N-Shot\": 17, \"Dataset\": \"Election\", \"Number Samples\": 1.2987012987012987, \"Number Samples (Cumulative)\": 38.646202282565916}, {\"N-Shot\": 155, \"Dataset\": \"Election\", \"Number Samples\": 1.2987012987012987, \"Number Samples (Cumulative)\": 81.85753640299097}, {\"N-Shot\": 94, \"Dataset\": \"Election\", \"Number Samples\": 1.1806375442739079, \"Number Samples (Cumulative)\": 67.53246753246755}, {\"N-Shot\": 46, \"Dataset\": \"Election\", \"Number Samples\": 0.47225501770956313, \"Number Samples (Cumulative)\": 58.284140102321935}, {\"N-Shot\": 55, \"Dataset\": \"Election\", \"Number Samples\": 0.5903187721369539, \"Number Samples (Cumulative)\": 61.98347107438018}, {\"N-Shot\": 39, \"Dataset\": \"Election\", \"Number Samples\": 0.7870916961826053, \"Number Samples (Cumulative)\": 54.073199527745}, {\"N-Shot\": 6, \"Dataset\": \"Election\", \"Number Samples\": 1.4167650531286895, \"Number Samples (Cumulative)\": 26.99724517906336}, {\"N-Shot\": 24, \"Dataset\": \"Election\", \"Number Samples\": 1.1806375442739079, \"Number Samples (Cumulative)\": 44.234553325462414}, {\"N-Shot\": 183, \"Dataset\": \"Election\", \"Number Samples\": 1.6922471467926012, \"Number Samples (Cumulative)\": 85.20267611176705}, {\"N-Shot\": 18, \"Dataset\": \"Election\", \"Number Samples\": 0.8264462809917356, \"Number Samples (Cumulative)\": 39.472648563557655}, {\"N-Shot\": 195, \"Dataset\": \"Election\", \"Number Samples\": 1.8496654860291224, \"Number Samples (Cumulative)\": 87.05234159779617}, {\"N-Shot\": 44, \"Dataset\": \"Election\", \"Number Samples\": 1.1019283746556474, \"Number Samples (Cumulative)\": 57.81188508461237}, {\"N-Shot\": 15, \"Dataset\": \"Election\", \"Number Samples\": 1.3774104683195594, \"Number Samples (Cumulative)\": 36.56040928768201}, {\"N-Shot\": 38, \"Dataset\": \"Election\", \"Number Samples\": 1.2199921290830382, \"Number Samples (Cumulative)\": 53.28610783156239}, {\"N-Shot\": 22, \"Dataset\": \"Election\", \"Number Samples\": 0.747737111373475, \"Number Samples (Cumulative)\": 41.95198740653286}, {\"N-Shot\": 61, \"Dataset\": \"Election\", \"Number Samples\": 0.6296733569460842, \"Number Samples (Cumulative)\": 63.911845730027565}, {\"N-Shot\": 10, \"Dataset\": \"Election\", \"Number Samples\": 0.5509641873278237, \"Number Samples (Cumulative)\": 31.837859110586383}, {\"N-Shot\": 122, \"Dataset\": \"Election\", \"Number Samples\": 1.49547422274695, \"Number Samples (Cumulative)\": 76.50531286894925}, {\"N-Shot\": 127, \"Dataset\": \"Election\", \"Number Samples\": 1.023219205037387, \"Number Samples (Cumulative)\": 77.52853207398664}, {\"N-Shot\": 36, \"Dataset\": \"Election\", \"Number Samples\": 0.7870916961826053, \"Number Samples (Cumulative)\": 51.39708776072413}, {\"N-Shot\": 86, \"Dataset\": \"Election\", \"Number Samples\": 0.9445100354191263, \"Number Samples (Cumulative)\": 66.35182998819364}, {\"N-Shot\": 19, \"Dataset\": \"Election\", \"Number Samples\": 1.062573789846517, \"Number Samples (Cumulative)\": 40.53522235340417}, {\"N-Shot\": 8, \"Dataset\": \"Election\", \"Number Samples\": 1.1412829594647778, \"Number Samples (Cumulative)\": 29.87012987012987}, {\"N-Shot\": 37, \"Dataset\": \"Election\", \"Number Samples\": 0.6690279417552145, \"Number Samples (Cumulative)\": 52.06611570247935}, {\"N-Shot\": 13, \"Dataset\": \"Election\", \"Number Samples\": 0.3541912632821724, \"Number Samples (Cumulative)\": 34.238488783943325}, {\"N-Shot\": 28, \"Dataset\": \"Election\", \"Number Samples\": 0.9445100354191263, \"Number Samples (Cumulative)\": 47.18614718614719}, {\"N-Shot\": 60, \"Dataset\": \"Election\", \"Number Samples\": 0.5903187721369539, \"Number Samples (Cumulative)\": 63.28217237308148}, {\"N-Shot\": 34, \"Dataset\": \"Election\", \"Number Samples\": 0.8264462809917356, \"Number Samples (Cumulative)\": 49.6654860291224}, {\"N-Shot\": 40, \"Dataset\": \"Election\", \"Number Samples\": 0.9838646202282565, \"Number Samples (Cumulative)\": 55.05706414797325}, {\"N-Shot\": 12, \"Dataset\": \"Election\", \"Number Samples\": 1.1412829594647778, \"Number Samples (Cumulative)\": 33.88429752066115}, {\"N-Shot\": 20, \"Dataset\": \"Election\", \"Number Samples\": 0.27548209366391185, \"Number Samples (Cumulative)\": 40.81070444706808}, {\"N-Shot\": 33, \"Dataset\": \"Election\", \"Number Samples\": 0.3541912632821724, \"Number Samples (Cumulative)\": 48.83903974813066}, {\"N-Shot\": 42, \"Dataset\": \"Election\", \"Number Samples\": 1.023219205037387, \"Number Samples (Cumulative)\": 56.080283353010635}, {\"N-Shot\": 31, \"Dataset\": \"Election\", \"Number Samples\": 0.39354584809130266, \"Number Samples (Cumulative)\": 47.89452971271153}, {\"N-Shot\": 11, \"Dataset\": \"Election\", \"Number Samples\": 0.905155450609996, \"Number Samples (Cumulative)\": 32.743014561196375}, {\"N-Shot\": 32, \"Dataset\": \"Election\", \"Number Samples\": 0.5903187721369539, \"Number Samples (Cumulative)\": 48.484848484848484}, {\"N-Shot\": 47, \"Dataset\": \"Election\", \"Number Samples\": 0.8658008658008658, \"Number Samples (Cumulative)\": 59.1499409681228}, {\"N-Shot\": 21, \"Dataset\": \"Election\", \"Number Samples\": 0.39354584809130266, \"Number Samples (Cumulative)\": 41.20425029515938}, {\"N-Shot\": 26, \"Dataset\": \"Election\", \"Number Samples\": 0.3541912632821724, \"Number Samples (Cumulative)\": 45.336481700118064}, {\"N-Shot\": 49, \"Dataset\": \"Election\", \"Number Samples\": 0.39354584809130266, \"Number Samples (Cumulative)\": 60.055096418732795}, {\"N-Shot\": 30, \"Dataset\": \"Election\", \"Number Samples\": 0.3148366784730421, \"Number Samples (Cumulative)\": 47.50098386462023}], \"data-a9448d2ea058628b45bed4facedda755\": [{\"N-Shot\": 0, \"Dataset\": \"Laptop\", \"Number Samples\": 269, \"Number Samples (Cumulative)\": 269}, {\"N-Shot\": 7, \"Dataset\": \"Laptop\", \"Number Samples\": 8, \"Number Samples (Cumulative)\": 440}, {\"N-Shot\": 4, \"Dataset\": \"Laptop\", \"Number Samples\": 27, \"Number Samples (Cumulative)\": 421}, {\"N-Shot\": 1, \"Dataset\": \"Laptop\", \"Number Samples\": 65, \"Number Samples (Cumulative)\": 334}, {\"N-Shot\": 53, \"Dataset\": \"Laptop\", \"Number Samples\": 9, \"Number Samples (Cumulative)\": 614}, {\"N-Shot\": 13, \"Dataset\": \"Laptop\", \"Number Samples\": 24, \"Number Samples (Cumulative)\": 509}, {\"N-Shot\": 35, \"Dataset\": \"Laptop\", \"Number Samples\": 11, \"Number Samples (Cumulative)\": 586}, {\"N-Shot\": 52, \"Dataset\": \"Laptop\", \"Number Samples\": 6, \"Number Samples (Cumulative)\": 605}, {\"N-Shot\": 2, \"Dataset\": \"Laptop\", \"Number Samples\": 37, \"Number Samples (Cumulative)\": 371}, {\"N-Shot\": 17, \"Dataset\": \"Laptop\", \"Number Samples\": 9, \"Number Samples (Cumulative)\": 526}, {\"N-Shot\": 24, \"Dataset\": \"Laptop\", \"Number Samples\": 8, \"Number Samples (Cumulative)\": 561}, {\"N-Shot\": 23, \"Dataset\": \"Laptop\", \"Number Samples\": 18, \"Number Samples (Cumulative)\": 553}, {\"N-Shot\": 21, \"Dataset\": \"Laptop\", \"Number Samples\": 5, \"Number Samples (Cumulative)\": 535}, {\"N-Shot\": 60, \"Dataset\": \"Laptop\", \"Number Samples\": 9, \"Number Samples (Cumulative)\": 638}, {\"N-Shot\": 56, \"Dataset\": \"Laptop\", \"Number Samples\": 15, \"Number Samples (Cumulative)\": 629}, {\"N-Shot\": 50, \"Dataset\": \"Laptop\", \"Number Samples\": 7, \"Number Samples (Cumulative)\": 599}, {\"N-Shot\": 9, \"Dataset\": \"Laptop\", \"Number Samples\": 25, \"Number Samples (Cumulative)\": 471}, {\"N-Shot\": 5, \"Dataset\": \"Laptop\", \"Number Samples\": 6, \"Number Samples (Cumulative)\": 427}, {\"N-Shot\": 3, \"Dataset\": \"Laptop\", \"Number Samples\": 23, \"Number Samples (Cumulative)\": 394}, {\"N-Shot\": 11, \"Dataset\": \"Laptop\", \"Number Samples\": 10, \"Number Samples (Cumulative)\": 484}, {\"N-Shot\": 30, \"Dataset\": \"Laptop\", \"Number Samples\": 9, \"Number Samples (Cumulative)\": 570}, {\"N-Shot\": 47, \"Dataset\": \"Laptop\", \"Number Samples\": 6, \"Number Samples (Cumulative)\": 592}, {\"N-Shot\": 14, \"Dataset\": \"Laptop\", \"Number Samples\": 8, \"Number Samples (Cumulative)\": 517}, {\"N-Shot\": 6, \"Dataset\": \"Laptop\", \"Number Samples\": 5, \"Number Samples (Cumulative)\": 432}, {\"N-Shot\": 10, \"Dataset\": \"Laptop\", \"Number Samples\": 3, \"Number Samples (Cumulative)\": 474}, {\"N-Shot\": 8, \"Dataset\": \"Laptop\", \"Number Samples\": 6, \"Number Samples (Cumulative)\": 446}, {\"N-Shot\": 18, \"Dataset\": \"Laptop\", \"Number Samples\": 4, \"Number Samples (Cumulative)\": 530}, {\"N-Shot\": 33, \"Dataset\": \"Laptop\", \"Number Samples\": 4, \"Number Samples (Cumulative)\": 575}, {\"N-Shot\": 31, \"Dataset\": \"Laptop\", \"Number Samples\": 1, \"Number Samples (Cumulative)\": 571}, {\"N-Shot\": 12, \"Dataset\": \"Laptop\", \"Number Samples\": 1, \"Number Samples (Cumulative)\": 485}, {\"N-Shot\": 9, \"Dataset\": \"Restaurant\", \"Number Samples\": 27, \"Number Samples (Cumulative)\": 580}, {\"N-Shot\": 0, \"Dataset\": \"Restaurant\", \"Number Samples\": 352, \"Number Samples (Cumulative)\": 352}, {\"N-Shot\": 360, \"Dataset\": \"Restaurant\", \"Number Samples\": 125, \"Number Samples (Cumulative)\": 1120}, {\"N-Shot\": 2, \"Dataset\": \"Restaurant\", \"Number Samples\": 26, \"Number Samples (Cumulative)\": 436}, {\"N-Shot\": 59, \"Dataset\": \"Restaurant\", \"Number Samples\": 19, \"Number Samples (Cumulative)\": 903}, {\"N-Shot\": 10, \"Dataset\": \"Restaurant\", \"Number Samples\": 27, \"Number Samples (Cumulative)\": 607}, {\"N-Shot\": 55, \"Dataset\": \"Restaurant\", \"Number Samples\": 43, \"Number Samples (Cumulative)\": 877}, {\"N-Shot\": 35, \"Dataset\": \"Restaurant\", \"Number Samples\": 13, \"Number Samples (Cumulative)\": 763}, {\"N-Shot\": 1, \"Dataset\": \"Restaurant\", \"Number Samples\": 58, \"Number Samples (Cumulative)\": 410}, {\"N-Shot\": 26, \"Dataset\": \"Restaurant\", \"Number Samples\": 16, \"Number Samples (Cumulative)\": 726}, {\"N-Shot\": 3, \"Dataset\": \"Restaurant\", \"Number Samples\": 32, \"Number Samples (Cumulative)\": 468}, {\"N-Shot\": 37, \"Dataset\": \"Restaurant\", \"Number Samples\": 14, \"Number Samples (Cumulative)\": 777}, {\"N-Shot\": 27, \"Dataset\": \"Restaurant\", \"Number Samples\": 6, \"Number Samples (Cumulative)\": 732}, {\"N-Shot\": 41, \"Dataset\": \"Restaurant\", \"Number Samples\": 14, \"Number Samples (Cumulative)\": 805}, {\"N-Shot\": 225, \"Dataset\": \"Restaurant\", \"Number Samples\": 74, \"Number Samples (Cumulative)\": 995}, {\"N-Shot\": 24, \"Dataset\": \"Restaurant\", \"Number Samples\": 8, \"Number Samples (Cumulative)\": 705}, {\"N-Shot\": 11, \"Dataset\": \"Restaurant\", \"Number Samples\": 12, \"Number Samples (Cumulative)\": 619}, {\"N-Shot\": 6, \"Dataset\": \"Restaurant\", \"Number Samples\": 21, \"Number Samples (Cumulative)\": 520}, {\"N-Shot\": 7, \"Dataset\": \"Restaurant\", \"Number Samples\": 11, \"Number Samples (Cumulative)\": 531}, {\"N-Shot\": 21, \"Dataset\": \"Restaurant\", \"Number Samples\": 4, \"Number Samples (Cumulative)\": 695}, {\"N-Shot\": 14, \"Dataset\": \"Restaurant\", \"Number Samples\": 19, \"Number Samples (Cumulative)\": 658}, {\"N-Shot\": 8, \"Dataset\": \"Restaurant\", \"Number Samples\": 22, \"Number Samples (Cumulative)\": 553}, {\"N-Shot\": 25, \"Dataset\": \"Restaurant\", \"Number Samples\": 5, \"Number Samples (Cumulative)\": 710}, {\"N-Shot\": 29, \"Dataset\": \"Restaurant\", \"Number Samples\": 8, \"Number Samples (Cumulative)\": 745}, {\"N-Shot\": 40, \"Dataset\": \"Restaurant\", \"Number Samples\": 14, \"Number Samples (Cumulative)\": 791}, {\"N-Shot\": 46, \"Dataset\": \"Restaurant\", \"Number Samples\": 21, \"Number Samples (Cumulative)\": 826}, {\"N-Shot\": 18, \"Dataset\": \"Restaurant\", \"Number Samples\": 17, \"Number Samples (Cumulative)\": 686}, {\"N-Shot\": 12, \"Dataset\": \"Restaurant\", \"Number Samples\": 10, \"Number Samples (Cumulative)\": 629}, {\"N-Shot\": 63, \"Dataset\": \"Restaurant\", \"Number Samples\": 18, \"Number Samples (Cumulative)\": 921}, {\"N-Shot\": 5, \"Dataset\": \"Restaurant\", \"Number Samples\": 13, \"Number Samples (Cumulative)\": 499}, {\"N-Shot\": 32, \"Dataset\": \"Restaurant\", \"Number Samples\": 5, \"Number Samples (Cumulative)\": 750}, {\"N-Shot\": 4, \"Dataset\": \"Restaurant\", \"Number Samples\": 18, \"Number Samples (Cumulative)\": 486}, {\"N-Shot\": 51, \"Dataset\": \"Restaurant\", \"Number Samples\": 8, \"Number Samples (Cumulative)\": 834}, {\"N-Shot\": 13, \"Dataset\": \"Restaurant\", \"Number Samples\": 10, \"Number Samples (Cumulative)\": 639}, {\"N-Shot\": 20, \"Dataset\": \"Restaurant\", \"Number Samples\": 4, \"Number Samples (Cumulative)\": 691}, {\"N-Shot\": 56, \"Dataset\": \"Restaurant\", \"Number Samples\": 7, \"Number Samples (Cumulative)\": 884}, {\"N-Shot\": 17, \"Dataset\": \"Restaurant\", \"Number Samples\": 2, \"Number Samples (Cumulative)\": 669}, {\"N-Shot\": 15, \"Dataset\": \"Restaurant\", \"Number Samples\": 5, \"Number Samples (Cumulative)\": 663}, {\"N-Shot\": 16, \"Dataset\": \"Restaurant\", \"Number Samples\": 4, \"Number Samples (Cumulative)\": 667}, {\"N-Shot\": 19, \"Dataset\": \"Restaurant\", \"Number Samples\": 1, \"Number Samples (Cumulative)\": 687}, {\"N-Shot\": 28, \"Dataset\": \"Restaurant\", \"Number Samples\": 5, \"Number Samples (Cumulative)\": 737}, {\"N-Shot\": 22, \"Dataset\": \"Restaurant\", \"Number Samples\": 2, \"Number Samples (Cumulative)\": 697}, {\"N-Shot\": 95, \"Dataset\": \"Election\", \"Number Samples\": 52, \"Number Samples (Cumulative)\": 1768}, {\"N-Shot\": 139, \"Dataset\": \"Election\", \"Number Samples\": 40, \"Number Samples (Cumulative)\": 2010}, {\"N-Shot\": 1, \"Dataset\": \"Election\", \"Number Samples\": 88, \"Number Samples (Cumulative)\": 442}, {\"N-Shot\": 25, \"Dataset\": \"Election\", \"Number Samples\": 19, \"Number Samples (Cumulative)\": 1143}, {\"N-Shot\": 141, \"Dataset\": \"Election\", \"Number Samples\": 37, \"Number Samples (Cumulative)\": 2047}, {\"N-Shot\": 48, \"Dataset\": \"Election\", \"Number Samples\": 13, \"Number Samples (Cumulative)\": 1516}, {\"N-Shot\": 109, \"Dataset\": \"Election\", \"Number Samples\": 29, \"Number Samples (Cumulative)\": 1859}, {\"N-Shot\": 0, \"Dataset\": \"Election\", \"Number Samples\": 354, \"Number Samples (Cumulative)\": 354}, {\"N-Shot\": 100, \"Dataset\": \"Election\", \"Number Samples\": 62, \"Number Samples (Cumulative)\": 1830}, {\"N-Shot\": 56, \"Dataset\": \"Election\", \"Number Samples\": 18, \"Number Samples (Cumulative)\": 1593}, {\"N-Shot\": 2, \"Dataset\": \"Election\", \"Number Samples\": 47, \"Number Samples (Cumulative)\": 489}, {\"N-Shot\": 23, \"Dataset\": \"Election\", \"Number Samples\": 28, \"Number Samples (Cumulative)\": 1094}, {\"N-Shot\": 433, \"Dataset\": \"Election\", \"Number Samples\": 107, \"Number Samples (Cumulative)\": 2541}, {\"N-Shot\": 43, \"Dataset\": \"Election\", \"Number Samples\": 16, \"Number Samples (Cumulative)\": 1441}, {\"N-Shot\": 5, \"Dataset\": \"Election\", \"Number Samples\": 55, \"Number Samples (Cumulative)\": 650}, {\"N-Shot\": 281, \"Dataset\": \"Election\", \"Number Samples\": 90, \"Number Samples (Cumulative)\": 2360}, {\"N-Shot\": 73, \"Dataset\": \"Election\", \"Number Samples\": 22, \"Number Samples (Cumulative)\": 1662}, {\"N-Shot\": 53, \"Dataset\": \"Election\", \"Number Samples\": 13, \"Number Samples (Cumulative)\": 1539}, {\"N-Shot\": 9, \"Dataset\": \"Election\", \"Number Samples\": 36, \"Number Samples (Cumulative)\": 795}, {\"N-Shot\": 16, \"Dataset\": \"Election\", \"Number Samples\": 20, \"Number Samples (Cumulative)\": 949}, {\"N-Shot\": 71, \"Dataset\": \"Election\", \"Number Samples\": 16, \"Number Samples (Cumulative)\": 1640}, {\"N-Shot\": 3, \"Dataset\": \"Election\", \"Number Samples\": 52, \"Number Samples (Cumulative)\": 541}, {\"N-Shot\": 54, \"Dataset\": \"Election\", \"Number Samples\": 21, \"Number Samples (Cumulative)\": 1560}, {\"N-Shot\": 27, \"Dataset\": \"Election\", \"Number Samples\": 23, \"Number Samples (Cumulative)\": 1175}, {\"N-Shot\": 304, \"Dataset\": \"Election\", \"Number Samples\": 74, \"Number Samples (Cumulative)\": 2434}, {\"N-Shot\": 7, \"Dataset\": \"Election\", \"Number Samples\": 44, \"Number Samples (Cumulative)\": 730}, {\"N-Shot\": 223, \"Dataset\": \"Election\", \"Number Samples\": 58, \"Number Samples (Cumulative)\": 2270}, {\"N-Shot\": 14, \"Dataset\": \"Election\", \"Number Samples\": 24, \"Number Samples (Cumulative)\": 894}, {\"N-Shot\": 4, \"Dataset\": \"Election\", \"Number Samples\": 54, \"Number Samples (Cumulative)\": 595}, {\"N-Shot\": 35, \"Dataset\": \"Election\", \"Number Samples\": 24, \"Number Samples (Cumulative)\": 1286}, {\"N-Shot\": 119, \"Dataset\": \"Election\", \"Number Samples\": 47, \"Number Samples (Cumulative)\": 1906}, {\"N-Shot\": 170, \"Dataset\": \"Election\", \"Number Samples\": 42, \"Number Samples (Cumulative)\": 2122}, {\"N-Shot\": 17, \"Dataset\": \"Election\", \"Number Samples\": 33, \"Number Samples (Cumulative)\": 982}, {\"N-Shot\": 155, \"Dataset\": \"Election\", \"Number Samples\": 33, \"Number Samples (Cumulative)\": 2080}, {\"N-Shot\": 94, \"Dataset\": \"Election\", \"Number Samples\": 30, \"Number Samples (Cumulative)\": 1716}, {\"N-Shot\": 46, \"Dataset\": \"Election\", \"Number Samples\": 12, \"Number Samples (Cumulative)\": 1481}, {\"N-Shot\": 55, \"Dataset\": \"Election\", \"Number Samples\": 15, \"Number Samples (Cumulative)\": 1575}, {\"N-Shot\": 39, \"Dataset\": \"Election\", \"Number Samples\": 20, \"Number Samples (Cumulative)\": 1374}, {\"N-Shot\": 6, \"Dataset\": \"Election\", \"Number Samples\": 36, \"Number Samples (Cumulative)\": 686}, {\"N-Shot\": 24, \"Dataset\": \"Election\", \"Number Samples\": 30, \"Number Samples (Cumulative)\": 1124}, {\"N-Shot\": 183, \"Dataset\": \"Election\", \"Number Samples\": 43, \"Number Samples (Cumulative)\": 2165}, {\"N-Shot\": 18, \"Dataset\": \"Election\", \"Number Samples\": 21, \"Number Samples (Cumulative)\": 1003}, {\"N-Shot\": 195, \"Dataset\": \"Election\", \"Number Samples\": 47, \"Number Samples (Cumulative)\": 2212}, {\"N-Shot\": 44, \"Dataset\": \"Election\", \"Number Samples\": 28, \"Number Samples (Cumulative)\": 1469}, {\"N-Shot\": 15, \"Dataset\": \"Election\", \"Number Samples\": 35, \"Number Samples (Cumulative)\": 929}, {\"N-Shot\": 38, \"Dataset\": \"Election\", \"Number Samples\": 31, \"Number Samples (Cumulative)\": 1354}, {\"N-Shot\": 22, \"Dataset\": \"Election\", \"Number Samples\": 19, \"Number Samples (Cumulative)\": 1066}, {\"N-Shot\": 61, \"Dataset\": \"Election\", \"Number Samples\": 16, \"Number Samples (Cumulative)\": 1624}, {\"N-Shot\": 10, \"Dataset\": \"Election\", \"Number Samples\": 14, \"Number Samples (Cumulative)\": 809}, {\"N-Shot\": 122, \"Dataset\": \"Election\", \"Number Samples\": 38, \"Number Samples (Cumulative)\": 1944}, {\"N-Shot\": 127, \"Dataset\": \"Election\", \"Number Samples\": 26, \"Number Samples (Cumulative)\": 1970}, {\"N-Shot\": 36, \"Dataset\": \"Election\", \"Number Samples\": 20, \"Number Samples (Cumulative)\": 1306}, {\"N-Shot\": 86, \"Dataset\": \"Election\", \"Number Samples\": 24, \"Number Samples (Cumulative)\": 1686}, {\"N-Shot\": 19, \"Dataset\": \"Election\", \"Number Samples\": 27, \"Number Samples (Cumulative)\": 1030}, {\"N-Shot\": 8, \"Dataset\": \"Election\", \"Number Samples\": 29, \"Number Samples (Cumulative)\": 759}, {\"N-Shot\": 37, \"Dataset\": \"Election\", \"Number Samples\": 17, \"Number Samples (Cumulative)\": 1323}, {\"N-Shot\": 13, \"Dataset\": \"Election\", \"Number Samples\": 9, \"Number Samples (Cumulative)\": 870}, {\"N-Shot\": 28, \"Dataset\": \"Election\", \"Number Samples\": 24, \"Number Samples (Cumulative)\": 1199}, {\"N-Shot\": 60, \"Dataset\": \"Election\", \"Number Samples\": 15, \"Number Samples (Cumulative)\": 1608}, {\"N-Shot\": 34, \"Dataset\": \"Election\", \"Number Samples\": 21, \"Number Samples (Cumulative)\": 1262}, {\"N-Shot\": 40, \"Dataset\": \"Election\", \"Number Samples\": 25, \"Number Samples (Cumulative)\": 1399}, {\"N-Shot\": 12, \"Dataset\": \"Election\", \"Number Samples\": 29, \"Number Samples (Cumulative)\": 861}, {\"N-Shot\": 20, \"Dataset\": \"Election\", \"Number Samples\": 7, \"Number Samples (Cumulative)\": 1037}, {\"N-Shot\": 33, \"Dataset\": \"Election\", \"Number Samples\": 9, \"Number Samples (Cumulative)\": 1241}, {\"N-Shot\": 42, \"Dataset\": \"Election\", \"Number Samples\": 26, \"Number Samples (Cumulative)\": 1425}, {\"N-Shot\": 31, \"Dataset\": \"Election\", \"Number Samples\": 10, \"Number Samples (Cumulative)\": 1217}, {\"N-Shot\": 11, \"Dataset\": \"Election\", \"Number Samples\": 23, \"Number Samples (Cumulative)\": 832}, {\"N-Shot\": 32, \"Dataset\": \"Election\", \"Number Samples\": 15, \"Number Samples (Cumulative)\": 1232}, {\"N-Shot\": 47, \"Dataset\": \"Election\", \"Number Samples\": 22, \"Number Samples (Cumulative)\": 1503}, {\"N-Shot\": 21, \"Dataset\": \"Election\", \"Number Samples\": 10, \"Number Samples (Cumulative)\": 1047}, {\"N-Shot\": 26, \"Dataset\": \"Election\", \"Number Samples\": 9, \"Number Samples (Cumulative)\": 1152}, {\"N-Shot\": 49, \"Dataset\": \"Election\", \"Number Samples\": 10, \"Number Samples (Cumulative)\": 1526}, {\"N-Shot\": 30, \"Dataset\": \"Election\", \"Number Samples\": 8, \"Number Samples (Cumulative)\": 1207}]}};\n",
              "      var embedOpt = {\"mode\": \"vega-lite\"};\n",
              "\n",
              "      function showError(el, error){\n",
              "          el.innerHTML = ('<div class=\"error\" style=\"color:red;\">'\n",
              "                          + '<p>JavaScript Error: ' + error.message + '</p>'\n",
              "                          + \"<p>This usually means there's a typo in your chart specification. \"\n",
              "                          + \"See the javascript console for the full traceback.</p>\"\n",
              "                          + '</div>');\n",
              "          throw error;\n",
              "      }\n",
              "      const el = document.getElementById('altair-viz');\n",
              "      vegaEmbed(\"#altair-viz\", spec, embedOpt)\n",
              "        .catch(error => showError(el, error));\n",
              "    })(vegaEmbed);\n",
              "\n",
              "  </script>\n",
              "</body>\n",
              "</html>"
            ]
          },
          "metadata": {
            "tags": []
          },
          "execution_count": 51
        }
      ]
    },
    {
      "cell_type": "markdown",
      "metadata": {
        "id": "rNL7N43p9ajm",
        "colab_type": "text"
      },
      "source": [
        "As we can see and expect the smaller dataset have very sharp curves suggesting that they have a lot of sparsly seen targets where as the larger datasets do have a sharp curve to start but then flatten suggesting that they have a few targets that have been seen a lot in training and represent a large portion of the test data. We would expect that for larger values of *n* a method should perform very well and to some extent set the upper limit on performance for all values of *n*.\n",
        "\n",
        "Just like with the *NT* split as these subsets are continous and different with each of the datasets, we have split it into 4 different subsets just like the *NT* split, which are:\n",
        "1. *zero-shot* -- Targets that only appear in the test and never in the train\n",
        "2. *low-shot* -- After removing all the *zero-shot* samples the first 1/3 samples that are within the lowest *n* vaules\n",
        "3. *med-shot* -- The next 1/3 on from the *low-shot*\n",
        "4. *high-shot* -- The last 1/3 that contain the largest values of *n*\n",
        "\n",
        "The break down with there associated values of *n* can be seen below\n"
      ]
    },
    {
      "cell_type": "code",
      "metadata": {
        "id": "To5DlGncpcHH",
        "colab_type": "code",
        "outputId": "bef13687-330f-4cb8-c386-b231857ca513",
        "colab": {
          "base_uri": "https://localhost:8080/",
          "height": 423
        }
      },
      "source": [
        "from target_extraction.error_analysis import n_shot_subsets\n",
        "\n",
        "n_shot_error_keys = ['zero-shot', 'low-shot', 'med-shot', 'high-shot']\n",
        "num_n_shot_samples = []\n",
        "norm_n_shot_samples = []\n",
        "dataset_names = []\n",
        "data_subset_names = []\n",
        "all_n_values = []\n",
        "\n",
        "for train_dataset, test_dataset, name in train_test_datasets:\n",
        "  test_dataset, n_values = n_shot_subsets(test_dataset, train_dataset, lower=True, \n",
        "                                          return_n_values=True)\n",
        "  dataset_size = test_dataset.number_targets()\n",
        "  for index, n_value in enumerate(n_values):\n",
        "    dataset_names.append(name)\n",
        "    error_key = n_shot_error_keys[index]\n",
        "    data_subset_names.append(error_key)\n",
        "    all_n_values.append(n_value)\n",
        "    num_samples = count_error_key_occurrence(test_dataset, error_key)\n",
        "    num_n_shot_samples.append(num_samples)\n",
        "    norm_num_samples = (num_samples / dataset_size) * 100\n",
        "    norm_n_shot_samples.append(norm_num_samples)\n",
        "test_n_shot_df = pd.DataFrame({'N Range': all_n_values, \n",
        "                               'Dataset': dataset_names, \n",
        "                               'Data Subset': data_subset_names, \n",
        "                               'Number Samples': num_n_shot_samples, \n",
        "                               'Number of Samples (%)': norm_n_shot_samples})\n",
        "test_n_shot_chart = subset_dist_chart(test_n_shot_df, 'N-Shot Subsets')\n",
        "n_shot_tooltip = ['Number Samples', 'Data Subset', 'Number of Samples (%)', \n",
        "                  'N Range']\n",
        "test_n_shot_chart.encoding.tooltip = alt.Tooltip(n_shot_tooltip)\n",
        "test_n_shot_chart"
      ],
      "execution_count": 0,
      "outputs": [
        {
          "output_type": "execute_result",
          "data": {
            "text/plain": [
              "alt.Chart(...)"
            ],
            "text/html": [
              "<!DOCTYPE html>\n",
              "<html>\n",
              "<head>\n",
              "  <style>\n",
              "    .vega-actions a {\n",
              "        margin-right: 12px;\n",
              "        color: #757575;\n",
              "        font-weight: normal;\n",
              "        font-size: 13px;\n",
              "    }\n",
              "    .error {\n",
              "        color: red;\n",
              "    }\n",
              "  </style>\n",
              "  <script type=\"text/javascript\" src=\"https://cdn.jsdelivr.net/npm//vega@5\"></script>\n",
              "  <script type=\"text/javascript\" src=\"https://cdn.jsdelivr.net/npm//vega-lite@3.4.0\"></script>\n",
              "  <script type=\"text/javascript\" src=\"https://cdn.jsdelivr.net/npm//vega-embed@4\"></script>\n",
              "</head>\n",
              "<body>\n",
              "  <div id=\"altair-viz\"></div>\n",
              "  <script>\n",
              "    (function(vegaEmbed) {\n",
              "      var spec = {\"config\": {\"view\": {\"width\": 400, \"height\": 300}, \"mark\": {\"tooltip\": null}}, \"data\": {\"name\": \"data-addcf9490bb35f4c73d4d205388a2836\"}, \"mark\": \"bar\", \"encoding\": {\"color\": {\"type\": \"ordinal\", \"field\": \"Data Subset\", \"scale\": {\"scheme\": \"redyellowblue\"}}, \"tooltip\": [{\"type\": \"quantitative\", \"field\": \"Number Samples\"}, {\"type\": \"nominal\", \"field\": \"Data Subset\"}, {\"type\": \"quantitative\", \"field\": \"Number of Samples (%)\"}, {\"type\": \"nominal\", \"field\": \"N Range\"}], \"x\": {\"type\": \"nominal\", \"field\": \"Dataset\"}, \"y\": {\"type\": \"quantitative\", \"field\": \"Number of Samples (%)\", \"scale\": {\"domain\": [0, 100]}}}, \"title\": \"N-Shot Subsets\", \"width\": 100, \"$schema\": \"https://vega.github.io/schema/vega-lite/v3.4.0.json\", \"datasets\": {\"data-addcf9490bb35f4c73d4d205388a2836\": [{\"N Range\": [0, 0], \"Dataset\": \"Laptop\", \"Data Subset\": \"zero-shot\", \"Number Samples\": 269, \"Number of Samples (%)\": 42.16300940438871}, {\"N Range\": [1, 3], \"Dataset\": \"Laptop\", \"Data Subset\": \"low-shot\", \"Number Samples\": 125, \"Number of Samples (%)\": 19.59247648902821}, {\"N Range\": [4, 14], \"Dataset\": \"Laptop\", \"Data Subset\": \"med-shot\", \"Number Samples\": 123, \"Number of Samples (%)\": 19.278996865203762}, {\"N Range\": [17, 60], \"Dataset\": \"Laptop\", \"Data Subset\": \"high-shot\", \"Number Samples\": 121, \"Number of Samples (%)\": 18.96551724137931}, {\"N Range\": [0, 0], \"Dataset\": \"Restaurant\", \"Data Subset\": \"zero-shot\", \"Number Samples\": 352, \"Number of Samples (%)\": 31.428571428571427}, {\"N Range\": [1, 11], \"Dataset\": \"Restaurant\", \"Data Subset\": \"low-shot\", \"Number Samples\": 267, \"Number of Samples (%)\": 23.839285714285715}, {\"N Range\": [12, 55], \"Dataset\": \"Restaurant\", \"Data Subset\": \"med-shot\", \"Number Samples\": 258, \"Number of Samples (%)\": 23.035714285714285}, {\"N Range\": [56, 360], \"Dataset\": \"Restaurant\", \"Data Subset\": \"high-shot\", \"Number Samples\": 243, \"Number of Samples (%)\": 21.696428571428573}, {\"N Range\": [0, 0], \"Dataset\": \"Election\", \"Data Subset\": \"zero-shot\", \"Number Samples\": 354, \"Number of Samples (%)\": 13.931523022432113}, {\"N Range\": [1, 23], \"Dataset\": \"Election\", \"Data Subset\": \"low-shot\", \"Number Samples\": 740, \"Number of Samples (%)\": 29.122392758756394}, {\"N Range\": [24, 100], \"Dataset\": \"Election\", \"Data Subset\": \"med-shot\", \"Number Samples\": 736, \"Number of Samples (%)\": 28.964974419519873}, {\"N Range\": [109, 433], \"Dataset\": \"Election\", \"Data Subset\": \"high-shot\", \"Number Samples\": 711, \"Number of Samples (%)\": 27.98110979929162}]}};\n",
              "      var embedOpt = {\"mode\": \"vega-lite\"};\n",
              "\n",
              "      function showError(el, error){\n",
              "          el.innerHTML = ('<div class=\"error\" style=\"color:red;\">'\n",
              "                          + '<p>JavaScript Error: ' + error.message + '</p>'\n",
              "                          + \"<p>This usually means there's a typo in your chart specification. \"\n",
              "                          + \"See the javascript console for the full traceback.</p>\"\n",
              "                          + '</div>');\n",
              "          throw error;\n",
              "      }\n",
              "      const el = document.getElementById('altair-viz');\n",
              "      vegaEmbed(\"#altair-viz\", spec, embedOpt)\n",
              "        .catch(error => showError(el, error));\n",
              "    })(vegaEmbed);\n",
              "\n",
              "  </script>\n",
              "</body>\n",
              "</html>"
            ]
          },
          "metadata": {
            "tags": []
          },
          "execution_count": 52
        }
      ]
    },
    {
      "cell_type": "code",
      "metadata": {
        "id": "Q9P1uvMOtpAO",
        "colab_type": "code",
        "outputId": "ed3bddea-a21c-49d9-d5ef-6dca673312a9",
        "colab": {
          "base_uri": "https://localhost:8080/",
          "height": 173
        }
      },
      "source": [
        "pd.pivot_table(test_n_shot_df, values='Number Samples', columns='Data Subset', \n",
        "               index='Dataset')"
      ],
      "execution_count": 0,
      "outputs": [
        {
          "output_type": "execute_result",
          "data": {
            "text/html": [
              "<div>\n",
              "<style scoped>\n",
              "    .dataframe tbody tr th:only-of-type {\n",
              "        vertical-align: middle;\n",
              "    }\n",
              "\n",
              "    .dataframe tbody tr th {\n",
              "        vertical-align: top;\n",
              "    }\n",
              "\n",
              "    .dataframe thead th {\n",
              "        text-align: right;\n",
              "    }\n",
              "</style>\n",
              "<table border=\"1\" class=\"dataframe\">\n",
              "  <thead>\n",
              "    <tr style=\"text-align: right;\">\n",
              "      <th>Data Subset</th>\n",
              "      <th>high-shot</th>\n",
              "      <th>low-shot</th>\n",
              "      <th>med-shot</th>\n",
              "      <th>zero-shot</th>\n",
              "    </tr>\n",
              "    <tr>\n",
              "      <th>Dataset</th>\n",
              "      <th></th>\n",
              "      <th></th>\n",
              "      <th></th>\n",
              "      <th></th>\n",
              "    </tr>\n",
              "  </thead>\n",
              "  <tbody>\n",
              "    <tr>\n",
              "      <th>Election</th>\n",
              "      <td>711</td>\n",
              "      <td>740</td>\n",
              "      <td>736</td>\n",
              "      <td>354</td>\n",
              "    </tr>\n",
              "    <tr>\n",
              "      <th>Laptop</th>\n",
              "      <td>121</td>\n",
              "      <td>125</td>\n",
              "      <td>123</td>\n",
              "      <td>269</td>\n",
              "    </tr>\n",
              "    <tr>\n",
              "      <th>Restaurant</th>\n",
              "      <td>243</td>\n",
              "      <td>267</td>\n",
              "      <td>258</td>\n",
              "      <td>352</td>\n",
              "    </tr>\n",
              "  </tbody>\n",
              "</table>\n",
              "</div>"
            ],
            "text/plain": [
              "Data Subset  high-shot  low-shot  med-shot  zero-shot\n",
              "Dataset                                              \n",
              "Election           711       740       736        354\n",
              "Laptop             121       125       123        269\n",
              "Restaurant         243       267       258        352"
            ]
          },
          "metadata": {
            "tags": []
          },
          "execution_count": 53
        }
      ]
    },
    {
      "cell_type": "code",
      "metadata": {
        "id": "b4uttMZVufZJ",
        "colab_type": "code",
        "outputId": "0c947768-d525-4e88-e4ad-e1cb8d32f999",
        "colab": {
          "base_uri": "https://localhost:8080/",
          "height": 173
        }
      },
      "source": [
        "pd.pivot_table(test_n_shot_df, values='N Range', columns='Data Subset', \n",
        "               index='Dataset', aggfunc=lambda x: list(x))"
      ],
      "execution_count": 0,
      "outputs": [
        {
          "output_type": "execute_result",
          "data": {
            "text/html": [
              "<div>\n",
              "<style scoped>\n",
              "    .dataframe tbody tr th:only-of-type {\n",
              "        vertical-align: middle;\n",
              "    }\n",
              "\n",
              "    .dataframe tbody tr th {\n",
              "        vertical-align: top;\n",
              "    }\n",
              "\n",
              "    .dataframe thead th {\n",
              "        text-align: right;\n",
              "    }\n",
              "</style>\n",
              "<table border=\"1\" class=\"dataframe\">\n",
              "  <thead>\n",
              "    <tr style=\"text-align: right;\">\n",
              "      <th>Data Subset</th>\n",
              "      <th>high-shot</th>\n",
              "      <th>low-shot</th>\n",
              "      <th>med-shot</th>\n",
              "      <th>zero-shot</th>\n",
              "    </tr>\n",
              "    <tr>\n",
              "      <th>Dataset</th>\n",
              "      <th></th>\n",
              "      <th></th>\n",
              "      <th></th>\n",
              "      <th></th>\n",
              "    </tr>\n",
              "  </thead>\n",
              "  <tbody>\n",
              "    <tr>\n",
              "      <th>Election</th>\n",
              "      <td>[(109, 433)]</td>\n",
              "      <td>[(1, 23)]</td>\n",
              "      <td>[(24, 100)]</td>\n",
              "      <td>[(0, 0)]</td>\n",
              "    </tr>\n",
              "    <tr>\n",
              "      <th>Laptop</th>\n",
              "      <td>[(17, 60)]</td>\n",
              "      <td>[(1, 3)]</td>\n",
              "      <td>[(4, 14)]</td>\n",
              "      <td>[(0, 0)]</td>\n",
              "    </tr>\n",
              "    <tr>\n",
              "      <th>Restaurant</th>\n",
              "      <td>[(56, 360)]</td>\n",
              "      <td>[(1, 11)]</td>\n",
              "      <td>[(12, 55)]</td>\n",
              "      <td>[(0, 0)]</td>\n",
              "    </tr>\n",
              "  </tbody>\n",
              "</table>\n",
              "</div>"
            ],
            "text/plain": [
              "Data Subset     high-shot   low-shot     med-shot zero-shot\n",
              "Dataset                                                    \n",
              "Election     [(109, 433)]  [(1, 23)]  [(24, 100)]  [(0, 0)]\n",
              "Laptop         [(17, 60)]   [(1, 3)]    [(4, 14)]  [(0, 0)]\n",
              "Restaurant    [(56, 360)]  [(1, 11)]   [(12, 55)]  [(0, 0)]"
            ]
          },
          "metadata": {
            "tags": []
          },
          "execution_count": 54
        }
      ]
    },
    {
      "cell_type": "markdown",
      "metadata": {
        "id": "EoPE3WaHv-q_",
        "colab_type": "text"
      },
      "source": [
        "As we can see once broken down into these 4 subsets that values of *n* vary a lot depending on the dataset, where it would appear the larger the dataset the more spread out the *n* values are in the subsets. Thus showing that with more data the more likely you are to have more samples to represent a target. Therefore in the low setting one has to think about the problem of generlising to unseen or low sampled targets.\n",
        "\n",
        "\n",
        "The *TRS* subset explores the idea of generlisation to unseen targets like the *zero-shot* setting as well as seen targets but with unseen sentiment relations. These are then compared to the last subset in this split which is the \"typical\" and full data case of seen target with seen sentiment relation. These three subsets are called:\n",
        "1. Unknown Target (UT)\n",
        "2. Unknown Sentiment Known Target (USKT)\n",
        "3. Known Sentiment Known Target (KSKT)"
      ]
    },
    {
      "cell_type": "code",
      "metadata": {
        "id": "ktNDVBsr59bM",
        "colab_type": "code",
        "outputId": "d5acaacf-184f-48e1-e520-011ce6c134b9",
        "colab": {
          "base_uri": "https://localhost:8080/",
          "height": 423
        }
      },
      "source": [
        "from target_extraction.error_analysis import unknown_targets, unknown_sentiment_known_target, known_sentiment_known_target\n",
        "\n",
        "subset_functions = [unknown_targets, unknown_sentiment_known_target, \n",
        "                    known_sentiment_known_target]\n",
        "known_unknown_df = get_subset_data(train_test_datasets, \n",
        "                                   subset_functions=subset_functions, \n",
        "                                   lower_target=True)\n",
        "subset_dist_chart(known_unknown_df, 'TRS')"
      ],
      "execution_count": 0,
      "outputs": [
        {
          "output_type": "execute_result",
          "data": {
            "text/plain": [
              "alt.Chart(...)"
            ],
            "text/html": [
              "<!DOCTYPE html>\n",
              "<html>\n",
              "<head>\n",
              "  <style>\n",
              "    .vega-actions a {\n",
              "        margin-right: 12px;\n",
              "        color: #757575;\n",
              "        font-weight: normal;\n",
              "        font-size: 13px;\n",
              "    }\n",
              "    .error {\n",
              "        color: red;\n",
              "    }\n",
              "  </style>\n",
              "  <script type=\"text/javascript\" src=\"https://cdn.jsdelivr.net/npm//vega@5\"></script>\n",
              "  <script type=\"text/javascript\" src=\"https://cdn.jsdelivr.net/npm//vega-lite@3.4.0\"></script>\n",
              "  <script type=\"text/javascript\" src=\"https://cdn.jsdelivr.net/npm//vega-embed@4\"></script>\n",
              "</head>\n",
              "<body>\n",
              "  <div id=\"altair-viz\"></div>\n",
              "  <script>\n",
              "    (function(vegaEmbed) {\n",
              "      var spec = {\"config\": {\"view\": {\"width\": 400, \"height\": 300}, \"mark\": {\"tooltip\": null}}, \"data\": {\"name\": \"data-d333869a7c906ff618614b74fe65ff80\"}, \"mark\": \"bar\", \"encoding\": {\"color\": {\"type\": \"ordinal\", \"field\": \"Data Subset\", \"scale\": {\"scheme\": \"redyellowblue\"}}, \"tooltip\": [{\"type\": \"quantitative\", \"field\": \"Number Samples\"}, {\"type\": \"nominal\", \"field\": \"Data Subset\"}, {\"type\": \"quantitative\", \"field\": \"Number of Samples (%)\"}], \"x\": {\"type\": \"nominal\", \"field\": \"Dataset\"}, \"y\": {\"type\": \"quantitative\", \"field\": \"Number of Samples (%)\", \"scale\": {\"domain\": [0, 100]}}}, \"title\": \"TRS\", \"width\": 100, \"$schema\": \"https://vega.github.io/schema/vega-lite/v3.4.0.json\", \"datasets\": {\"data-d333869a7c906ff618614b74fe65ff80\": [{\"Dataset\": \"Laptop\", \"Number Samples\": 269, \"Number of Samples (%)\": 42.16300940438871, \"Data Subset\": \"Unknown Targets\"}, {\"Dataset\": \"Laptop\", \"Number Samples\": 67, \"Number of Samples (%)\": 10.501567398119123, \"Data Subset\": \"Unknown Sentiment Known Target\"}, {\"Dataset\": \"Laptop\", \"Number Samples\": 302, \"Number of Samples (%)\": 47.33542319749217, \"Data Subset\": \"Known Sentiment Known Target\"}, {\"Dataset\": \"Restaurant\", \"Number Samples\": 352, \"Number of Samples (%)\": 31.428571428571427, \"Data Subset\": \"Unknown Targets\"}, {\"Dataset\": \"Restaurant\", \"Number Samples\": 60, \"Number of Samples (%)\": 5.357142857142857, \"Data Subset\": \"Unknown Sentiment Known Target\"}, {\"Dataset\": \"Restaurant\", \"Number Samples\": 708, \"Number of Samples (%)\": 63.21428571428571, \"Data Subset\": \"Known Sentiment Known Target\"}, {\"Dataset\": \"Election\", \"Number Samples\": 354, \"Number of Samples (%)\": 13.931523022432113, \"Data Subset\": \"Unknown Targets\"}, {\"Dataset\": \"Election\", \"Number Samples\": 94, \"Number of Samples (%)\": 3.699330972058245, \"Data Subset\": \"Unknown Sentiment Known Target\"}, {\"Dataset\": \"Election\", \"Number Samples\": 2093, \"Number of Samples (%)\": 82.36914600550963, \"Data Subset\": \"Known Sentiment Known Target\"}]}};\n",
              "      var embedOpt = {\"mode\": \"vega-lite\"};\n",
              "\n",
              "      function showError(el, error){\n",
              "          el.innerHTML = ('<div class=\"error\" style=\"color:red;\">'\n",
              "                          + '<p>JavaScript Error: ' + error.message + '</p>'\n",
              "                          + \"<p>This usually means there's a typo in your chart specification. \"\n",
              "                          + \"See the javascript console for the full traceback.</p>\"\n",
              "                          + '</div>');\n",
              "          throw error;\n",
              "      }\n",
              "      const el = document.getElementById('altair-viz');\n",
              "      vegaEmbed(\"#altair-viz\", spec, embedOpt)\n",
              "        .catch(error => showError(el, error));\n",
              "    })(vegaEmbed);\n",
              "\n",
              "  </script>\n",
              "</body>\n",
              "</html>"
            ]
          },
          "metadata": {
            "tags": []
          },
          "execution_count": 55
        }
      ]
    },
    {
      "cell_type": "code",
      "metadata": {
        "id": "wir8jPl2QXIh",
        "colab_type": "code",
        "outputId": "5a03773a-fd9d-46b7-8fb2-93a0f4602ea1",
        "colab": {
          "base_uri": "https://localhost:8080/",
          "height": 173
        }
      },
      "source": [
        "trs_table = pd.pivot_table(known_unknown_df, values='Number Samples', \n",
        "                           index='Dataset', columns='Data Subset')\n",
        "trs_table"
      ],
      "execution_count": 0,
      "outputs": [
        {
          "output_type": "execute_result",
          "data": {
            "text/html": [
              "<div>\n",
              "<style scoped>\n",
              "    .dataframe tbody tr th:only-of-type {\n",
              "        vertical-align: middle;\n",
              "    }\n",
              "\n",
              "    .dataframe tbody tr th {\n",
              "        vertical-align: top;\n",
              "    }\n",
              "\n",
              "    .dataframe thead th {\n",
              "        text-align: right;\n",
              "    }\n",
              "</style>\n",
              "<table border=\"1\" class=\"dataframe\">\n",
              "  <thead>\n",
              "    <tr style=\"text-align: right;\">\n",
              "      <th>Data Subset</th>\n",
              "      <th>Known Sentiment Known Target</th>\n",
              "      <th>Unknown Sentiment Known Target</th>\n",
              "      <th>Unknown Targets</th>\n",
              "    </tr>\n",
              "    <tr>\n",
              "      <th>Dataset</th>\n",
              "      <th></th>\n",
              "      <th></th>\n",
              "      <th></th>\n",
              "    </tr>\n",
              "  </thead>\n",
              "  <tbody>\n",
              "    <tr>\n",
              "      <th>Election</th>\n",
              "      <td>2093</td>\n",
              "      <td>94</td>\n",
              "      <td>354</td>\n",
              "    </tr>\n",
              "    <tr>\n",
              "      <th>Laptop</th>\n",
              "      <td>302</td>\n",
              "      <td>67</td>\n",
              "      <td>269</td>\n",
              "    </tr>\n",
              "    <tr>\n",
              "      <th>Restaurant</th>\n",
              "      <td>708</td>\n",
              "      <td>60</td>\n",
              "      <td>352</td>\n",
              "    </tr>\n",
              "  </tbody>\n",
              "</table>\n",
              "</div>"
            ],
            "text/plain": [
              "Data Subset  Known Sentiment Known Target  ...  Unknown Targets\n",
              "Dataset                                    ...                 \n",
              "Election                             2093  ...              354\n",
              "Laptop                                302  ...              269\n",
              "Restaurant                            708  ...              352\n",
              "\n",
              "[3 rows x 3 columns]"
            ]
          },
          "metadata": {
            "tags": []
          },
          "execution_count": 56
        }
      ]
    },
    {
      "cell_type": "markdown",
      "metadata": {
        "id": "72bJsS0HCCYT",
        "colab_type": "text"
      },
      "source": [
        "Again like in the *n-shot* setting the smaller datasets and thus low resource setting contain more *UT* but also more *USKT* thus showing that the lower resource datasets require methods that are better at generlisation.\n",
        "\n",
        "The last split is the *FGTSS*, this is similar to the *TRS* split but we break the *KSKT* and *USKT* subsets down into more fine grained subsets while keeping the *UT* subset. The description of this fine grain sentiment subsets:\n",
        "1. Different Sentiment (*DS*) - The sentiment label(s) assigned to the target word is different in the train compared to the test.\n",
        "2. Same Once (*SO*) - The single sentiment label assigned to the target word in the train is the same in the test.\n",
        "3. Same Multi (*SM*) - The multiple sentiment labels assigned to the target in the train are the same in the test.\n",
        "4. Similar (*S*) - At least one of the multiple sentiment labels assigned to the target word in the train are the same as in the test but not all.\n",
        "\n",
        "The premise of these subsets are the following:\n",
        "1. *DS* - Is a more difficult subset as it would require the classifier to make a prediction for a sentiment class never seen for that target.\n",
        "2. *SO* - Can be seen as a metric for Target overfitting if the classifier performs really well on this subset more so than the other.\n",
        "3. *SM* and *S* - Is the more generally and common case but the Similar subset to be more difficult as it can have cases of Targets with sentiments never seen before.\n",
        "\n",
        "These subsets relate a lot to the *KSKT* and *USKT*. The *USKT* are a mix of the *S* and *DS* subsets and the *KSKT* are a max of the *S*, *SM* and *SO* subsets."
      ]
    },
    {
      "cell_type": "code",
      "metadata": {
        "id": "RMFXUiyDEj58",
        "colab_type": "code",
        "outputId": "b5d69c9c-9be7-4cb6-ebe9-78792ab33d3d",
        "colab": {
          "base_uri": "https://localhost:8080/",
          "height": 423
        }
      },
      "source": [
        "from target_extraction.error_analysis import same_one_sentiment, same_multi_sentiment\n",
        "from target_extraction.error_analysis import similar_sentiment, different_sentiment\n",
        "\n",
        "subset_functions = [same_one_sentiment, same_multi_sentiment, \n",
        "                    similar_sentiment, different_sentiment, unknown_targets]\n",
        "fgtss_df = get_subset_data(train_test_datasets, \n",
        "                           subset_functions=subset_functions, \n",
        "                           lower_target=True)\n",
        "subset_dist_chart(fgtss_df, 'FGTSS in the Test data')"
      ],
      "execution_count": 0,
      "outputs": [
        {
          "output_type": "execute_result",
          "data": {
            "text/plain": [
              "alt.Chart(...)"
            ],
            "text/html": [
              "<!DOCTYPE html>\n",
              "<html>\n",
              "<head>\n",
              "  <style>\n",
              "    .vega-actions a {\n",
              "        margin-right: 12px;\n",
              "        color: #757575;\n",
              "        font-weight: normal;\n",
              "        font-size: 13px;\n",
              "    }\n",
              "    .error {\n",
              "        color: red;\n",
              "    }\n",
              "  </style>\n",
              "  <script type=\"text/javascript\" src=\"https://cdn.jsdelivr.net/npm//vega@5\"></script>\n",
              "  <script type=\"text/javascript\" src=\"https://cdn.jsdelivr.net/npm//vega-lite@3.4.0\"></script>\n",
              "  <script type=\"text/javascript\" src=\"https://cdn.jsdelivr.net/npm//vega-embed@4\"></script>\n",
              "</head>\n",
              "<body>\n",
              "  <div id=\"altair-viz\"></div>\n",
              "  <script>\n",
              "    (function(vegaEmbed) {\n",
              "      var spec = {\"config\": {\"view\": {\"width\": 400, \"height\": 300}, \"mark\": {\"tooltip\": null}}, \"data\": {\"name\": \"data-44cfff8dcb6e4073548f7c3aec9c126e\"}, \"mark\": \"bar\", \"encoding\": {\"color\": {\"type\": \"ordinal\", \"field\": \"Data Subset\", \"scale\": {\"scheme\": \"redyellowblue\"}}, \"tooltip\": [{\"type\": \"quantitative\", \"field\": \"Number Samples\"}, {\"type\": \"nominal\", \"field\": \"Data Subset\"}, {\"type\": \"quantitative\", \"field\": \"Number of Samples (%)\"}], \"x\": {\"type\": \"nominal\", \"field\": \"Dataset\"}, \"y\": {\"type\": \"quantitative\", \"field\": \"Number of Samples (%)\", \"scale\": {\"domain\": [0, 100]}}}, \"title\": \"FGTSS in the Test data\", \"width\": 100, \"$schema\": \"https://vega.github.io/schema/vega-lite/v3.4.0.json\", \"datasets\": {\"data-44cfff8dcb6e4073548f7c3aec9c126e\": [{\"Dataset\": \"Laptop\", \"Number Samples\": 50, \"Number of Samples (%)\": 7.836990595611286, \"Data Subset\": \"Same One Sentiment\"}, {\"Dataset\": \"Laptop\", \"Number Samples\": 84, \"Number of Samples (%)\": 13.166144200626958, \"Data Subset\": \"Same Multi Sentiment\"}, {\"Dataset\": \"Laptop\", \"Number Samples\": 189, \"Number of Samples (%)\": 29.62382445141066, \"Data Subset\": \"Similar Sentiment\"}, {\"Dataset\": \"Laptop\", \"Number Samples\": 46, \"Number of Samples (%)\": 7.210031347962382, \"Data Subset\": \"Different Sentiment\"}, {\"Dataset\": \"Laptop\", \"Number Samples\": 269, \"Number of Samples (%)\": 42.16300940438871, \"Data Subset\": \"Unknown Targets\"}, {\"Dataset\": \"Restaurant\", \"Number Samples\": 45, \"Number of Samples (%)\": 4.017857142857143, \"Data Subset\": \"Same One Sentiment\"}, {\"Dataset\": \"Restaurant\", \"Number Samples\": 333, \"Number of Samples (%)\": 29.732142857142858, \"Data Subset\": \"Same Multi Sentiment\"}, {\"Dataset\": \"Restaurant\", \"Number Samples\": 346, \"Number of Samples (%)\": 30.892857142857146, \"Data Subset\": \"Similar Sentiment\"}, {\"Dataset\": \"Restaurant\", \"Number Samples\": 44, \"Number of Samples (%)\": 3.9285714285714284, \"Data Subset\": \"Different Sentiment\"}, {\"Dataset\": \"Restaurant\", \"Number Samples\": 352, \"Number of Samples (%)\": 31.428571428571427, \"Data Subset\": \"Unknown Targets\"}, {\"Dataset\": \"Election\", \"Number Samples\": 79, \"Number of Samples (%)\": 3.109012199921291, \"Data Subset\": \"Same One Sentiment\"}, {\"Dataset\": \"Election\", \"Number Samples\": 1454, \"Number of Samples (%)\": 57.2215663124754, \"Data Subset\": \"Same Multi Sentiment\"}, {\"Dataset\": \"Election\", \"Number Samples\": 592, \"Number of Samples (%)\": 23.297914207005118, \"Data Subset\": \"Similar Sentiment\"}, {\"Dataset\": \"Election\", \"Number Samples\": 62, \"Number of Samples (%)\": 2.4399842581660764, \"Data Subset\": \"Different Sentiment\"}, {\"Dataset\": \"Election\", \"Number Samples\": 354, \"Number of Samples (%)\": 13.931523022432113, \"Data Subset\": \"Unknown Targets\"}]}};\n",
              "      var embedOpt = {\"mode\": \"vega-lite\"};\n",
              "\n",
              "      function showError(el, error){\n",
              "          el.innerHTML = ('<div class=\"error\" style=\"color:red;\">'\n",
              "                          + '<p>JavaScript Error: ' + error.message + '</p>'\n",
              "                          + \"<p>This usually means there's a typo in your chart specification. \"\n",
              "                          + \"See the javascript console for the full traceback.</p>\"\n",
              "                          + '</div>');\n",
              "          throw error;\n",
              "      }\n",
              "      const el = document.getElementById('altair-viz');\n",
              "      vegaEmbed(\"#altair-viz\", spec, embedOpt)\n",
              "        .catch(error => showError(el, error));\n",
              "    })(vegaEmbed);\n",
              "\n",
              "  </script>\n",
              "</body>\n",
              "</html>"
            ]
          },
          "metadata": {
            "tags": []
          },
          "execution_count": 57
        }
      ]
    },
    {
      "cell_type": "markdown",
      "metadata": {
        "id": "xYmgO5WO1RuX",
        "colab_type": "text"
      },
      "source": [
        "Again we can see that the low resource datasets (laptop) contains the most samples with respect to itself in the more difficult class of *DS* and has the most samples to show overfitting (*SO* subset).\n",
        "\n",
        "## Summarise\n",
        "Below we show for each of the datasets all of the splits stated above apart from the *FGTSS*"
      ]
    },
    {
      "cell_type": "code",
      "metadata": {
        "id": "uoL8pqL_rM3X",
        "colab_type": "code",
        "outputId": "f322fd39-36a4-44db-da28-db460c4e2d78",
        "colab": {
          "base_uri": "https://localhost:8080/",
          "height": 514
        }
      },
      "source": [
        "known_unknown_mapper = {'Unknown Targets': 'UT', \n",
        "                        'Unknown Sentiment Known Target': 'USKT', \n",
        "                        'Known Sentiment Known Target': 'KTKS'}\n",
        "if 'UT' not in known_unknown_df['Data Subset'].unique():\n",
        "  known_unknown_df['Data Subset'] = known_unknown_df['Data Subset'].map(known_unknown_mapper)\n",
        "known_unknown_df['Data Split'] = 'TRS'\n",
        "test_n_shot_df['Data Split'] = 'n-shot'\n",
        "test_num_targets_df['Data Split'] = 'NT'\n",
        "ds_mapper = {'distinct_sentiment_1': 'DS1', 'distinct_sentiment_2': 'DS2', \n",
        "             'distinct_sentiment_3': 'DS3'}\n",
        "if 'DS3' not in test_ds_df['Data Subset'].unique():\n",
        "  test_ds_df['Data Subset'] = test_ds_df['Data Subset'].map(ds_mapper)\n",
        "test_ds_df['Data Split'] = 'DS'\n",
        "dataset_size_df['Data Split'] = 'Total Samples'\n",
        "dataset_size_df['Data Subset'] = ''\n",
        "dataset_size_df['Number of Samples (%)'] = dataset_size_df['Number of Samples']\n",
        "all_dfs = [test_ds_df, test_n_shot_df, test_num_targets_df, known_unknown_df]\n",
        "all_dfs = pd.concat(all_dfs, ignore_index=True, sort=False)\n",
        "pd.pivot_table(all_dfs, values='Number of Samples (%)', columns=['Data Split', 'Data Subset'], \n",
        "               index='Dataset').T.round(1)"
      ],
      "execution_count": 0,
      "outputs": [
        {
          "output_type": "execute_result",
          "data": {
            "text/html": [
              "<div>\n",
              "<style scoped>\n",
              "    .dataframe tbody tr th:only-of-type {\n",
              "        vertical-align: middle;\n",
              "    }\n",
              "\n",
              "    .dataframe tbody tr th {\n",
              "        vertical-align: top;\n",
              "    }\n",
              "\n",
              "    .dataframe thead th {\n",
              "        text-align: right;\n",
              "    }\n",
              "</style>\n",
              "<table border=\"1\" class=\"dataframe\">\n",
              "  <thead>\n",
              "    <tr style=\"text-align: right;\">\n",
              "      <th></th>\n",
              "      <th>Dataset</th>\n",
              "      <th>Election</th>\n",
              "      <th>Laptop</th>\n",
              "      <th>Restaurant</th>\n",
              "    </tr>\n",
              "    <tr>\n",
              "      <th>Data Split</th>\n",
              "      <th>Data Subset</th>\n",
              "      <th></th>\n",
              "      <th></th>\n",
              "      <th></th>\n",
              "    </tr>\n",
              "  </thead>\n",
              "  <tbody>\n",
              "    <tr>\n",
              "      <th rowspan=\"3\" valign=\"top\">DS</th>\n",
              "      <th>DS1</th>\n",
              "      <td>45.8</td>\n",
              "      <td>83.9</td>\n",
              "      <td>79.6</td>\n",
              "    </tr>\n",
              "    <tr>\n",
              "      <th>DS2</th>\n",
              "      <td>46.5</td>\n",
              "      <td>14.7</td>\n",
              "      <td>20.1</td>\n",
              "    </tr>\n",
              "    <tr>\n",
              "      <th>DS3</th>\n",
              "      <td>7.7</td>\n",
              "      <td>1.4</td>\n",
              "      <td>0.3</td>\n",
              "    </tr>\n",
              "    <tr>\n",
              "      <th rowspan=\"4\" valign=\"top\">NT</th>\n",
              "      <th>1-target</th>\n",
              "      <td>4.0</td>\n",
              "      <td>40.6</td>\n",
              "      <td>25.4</td>\n",
              "    </tr>\n",
              "    <tr>\n",
              "      <th>high-targets</th>\n",
              "      <td>19.5</td>\n",
              "      <td>11.9</td>\n",
              "      <td>9.6</td>\n",
              "    </tr>\n",
              "    <tr>\n",
              "      <th>low-targets</th>\n",
              "      <td>47.9</td>\n",
              "      <td>32.0</td>\n",
              "      <td>34.3</td>\n",
              "    </tr>\n",
              "    <tr>\n",
              "      <th>med-targets</th>\n",
              "      <td>28.7</td>\n",
              "      <td>15.5</td>\n",
              "      <td>30.6</td>\n",
              "    </tr>\n",
              "    <tr>\n",
              "      <th rowspan=\"3\" valign=\"top\">TRS</th>\n",
              "      <th>KTKS</th>\n",
              "      <td>82.4</td>\n",
              "      <td>47.3</td>\n",
              "      <td>63.2</td>\n",
              "    </tr>\n",
              "    <tr>\n",
              "      <th>USKT</th>\n",
              "      <td>3.7</td>\n",
              "      <td>10.5</td>\n",
              "      <td>5.4</td>\n",
              "    </tr>\n",
              "    <tr>\n",
              "      <th>UT</th>\n",
              "      <td>13.9</td>\n",
              "      <td>42.2</td>\n",
              "      <td>31.4</td>\n",
              "    </tr>\n",
              "    <tr>\n",
              "      <th rowspan=\"4\" valign=\"top\">n-shot</th>\n",
              "      <th>high-shot</th>\n",
              "      <td>28.0</td>\n",
              "      <td>19.0</td>\n",
              "      <td>21.7</td>\n",
              "    </tr>\n",
              "    <tr>\n",
              "      <th>low-shot</th>\n",
              "      <td>29.1</td>\n",
              "      <td>19.6</td>\n",
              "      <td>23.8</td>\n",
              "    </tr>\n",
              "    <tr>\n",
              "      <th>med-shot</th>\n",
              "      <td>29.0</td>\n",
              "      <td>19.3</td>\n",
              "      <td>23.0</td>\n",
              "    </tr>\n",
              "    <tr>\n",
              "      <th>zero-shot</th>\n",
              "      <td>13.9</td>\n",
              "      <td>42.2</td>\n",
              "      <td>31.4</td>\n",
              "    </tr>\n",
              "  </tbody>\n",
              "</table>\n",
              "</div>"
            ],
            "text/plain": [
              "Dataset                  Election  Laptop  Restaurant\n",
              "Data Split Data Subset                               \n",
              "DS         DS1               45.8    83.9        79.6\n",
              "           DS2               46.5    14.7        20.1\n",
              "           DS3                7.7     1.4         0.3\n",
              "NT         1-target           4.0    40.6        25.4\n",
              "           high-targets      19.5    11.9         9.6\n",
              "           low-targets       47.9    32.0        34.3\n",
              "           med-targets       28.7    15.5        30.6\n",
              "TRS        KTKS              82.4    47.3        63.2\n",
              "           USKT               3.7    10.5         5.4\n",
              "           UT                13.9    42.2        31.4\n",
              "n-shot     high-shot         28.0    19.0        21.7\n",
              "           low-shot          29.1    19.6        23.8\n",
              "           med-shot          29.0    19.3        23.0\n",
              "           zero-shot         13.9    42.2        31.4"
            ]
          },
          "metadata": {
            "tags": []
          },
          "execution_count": 58
        }
      ]
    },
    {
      "cell_type": "code",
      "metadata": {
        "id": "seUeXukH0BFA",
        "colab_type": "code",
        "outputId": "214e9e8e-c621-4aea-d890-55707fc58e08",
        "colab": {
          "base_uri": "https://localhost:8080/",
          "height": 80
        }
      },
      "source": [
        "pd.pivot_table(dataset_size_df, values='Number of Samples', index='Dataset').T"
      ],
      "execution_count": 0,
      "outputs": [
        {
          "output_type": "execute_result",
          "data": {
            "text/html": [
              "<div>\n",
              "<style scoped>\n",
              "    .dataframe tbody tr th:only-of-type {\n",
              "        vertical-align: middle;\n",
              "    }\n",
              "\n",
              "    .dataframe tbody tr th {\n",
              "        vertical-align: top;\n",
              "    }\n",
              "\n",
              "    .dataframe thead th {\n",
              "        text-align: right;\n",
              "    }\n",
              "</style>\n",
              "<table border=\"1\" class=\"dataframe\">\n",
              "  <thead>\n",
              "    <tr style=\"text-align: right;\">\n",
              "      <th>Dataset</th>\n",
              "      <th>Election</th>\n",
              "      <th>Laptop</th>\n",
              "      <th>Restaurant</th>\n",
              "    </tr>\n",
              "  </thead>\n",
              "  <tbody>\n",
              "    <tr>\n",
              "      <th>Number of Samples</th>\n",
              "      <td>9358</td>\n",
              "      <td>2313</td>\n",
              "      <td>3602</td>\n",
              "    </tr>\n",
              "  </tbody>\n",
              "</table>\n",
              "</div>"
            ],
            "text/plain": [
              "Dataset            Election  Laptop  Restaurant\n",
              "Number of Samples      9358    2313        3602"
            ]
          },
          "metadata": {
            "tags": []
          },
          "execution_count": 73
        }
      ]
    },
    {
      "cell_type": "markdown",
      "metadata": {
        "id": "WUQFiySl19lK",
        "colab_type": "text"
      },
      "source": [
        "# Extra, differences in standard train, test split and when you split the train into train and validation\n",
        "\n",
        "This part of the notebook looks at the differences in error splits between the official train and test splits compared to when you split the train into a new train and validation split.\n",
        "\n",
        "Below we upload the split train, validation and the standard test dataset from JSON files created using this [script](https://github.com/apmoore1/target-extraction/blob/master/create_splits.py) for the Laptop, Restaurant and Election datasets."
      ]
    },
    {
      "cell_type": "code",
      "metadata": {
        "id": "6UaL_a2VLOVv",
        "colab_type": "code",
        "outputId": "af5a2213-0225-4ddd-a1a7-02133653ab0e",
        "colab": {
          "resources": {
            "http://localhost:8080/nbextensions/google.colab/files.js": {
              "data": "Ly8gQ29weXJpZ2h0IDIwMTcgR29vZ2xlIExMQwovLwovLyBMaWNlbnNlZCB1bmRlciB0aGUgQXBhY2hlIExpY2Vuc2UsIFZlcnNpb24gMi4wICh0aGUgIkxpY2Vuc2UiKTsKLy8geW91IG1heSBub3QgdXNlIHRoaXMgZmlsZSBleGNlcHQgaW4gY29tcGxpYW5jZSB3aXRoIHRoZSBMaWNlbnNlLgovLyBZb3UgbWF5IG9idGFpbiBhIGNvcHkgb2YgdGhlIExpY2Vuc2UgYXQKLy8KLy8gICAgICBodHRwOi8vd3d3LmFwYWNoZS5vcmcvbGljZW5zZXMvTElDRU5TRS0yLjAKLy8KLy8gVW5sZXNzIHJlcXVpcmVkIGJ5IGFwcGxpY2FibGUgbGF3IG9yIGFncmVlZCB0byBpbiB3cml0aW5nLCBzb2Z0d2FyZQovLyBkaXN0cmlidXRlZCB1bmRlciB0aGUgTGljZW5zZSBpcyBkaXN0cmlidXRlZCBvbiBhbiAiQVMgSVMiIEJBU0lTLAovLyBXSVRIT1VUIFdBUlJBTlRJRVMgT1IgQ09ORElUSU9OUyBPRiBBTlkgS0lORCwgZWl0aGVyIGV4cHJlc3Mgb3IgaW1wbGllZC4KLy8gU2VlIHRoZSBMaWNlbnNlIGZvciB0aGUgc3BlY2lmaWMgbGFuZ3VhZ2UgZ292ZXJuaW5nIHBlcm1pc3Npb25zIGFuZAovLyBsaW1pdGF0aW9ucyB1bmRlciB0aGUgTGljZW5zZS4KCi8qKgogKiBAZmlsZW92ZXJ2aWV3IEhlbHBlcnMgZm9yIGdvb2dsZS5jb2xhYiBQeXRob24gbW9kdWxlLgogKi8KKGZ1bmN0aW9uKHNjb3BlKSB7CmZ1bmN0aW9uIHNwYW4odGV4dCwgc3R5bGVBdHRyaWJ1dGVzID0ge30pIHsKICBjb25zdCBlbGVtZW50ID0gZG9jdW1lbnQuY3JlYXRlRWxlbWVudCgnc3BhbicpOwogIGVsZW1lbnQudGV4dENvbnRlbnQgPSB0ZXh0OwogIGZvciAoY29uc3Qga2V5IG9mIE9iamVjdC5rZXlzKHN0eWxlQXR0cmlidXRlcykpIHsKICAgIGVsZW1lbnQuc3R5bGVba2V5XSA9IHN0eWxlQXR0cmlidXRlc1trZXldOwogIH0KICByZXR1cm4gZWxlbWVudDsKfQoKLy8gTWF4IG51bWJlciBvZiBieXRlcyB3aGljaCB3aWxsIGJlIHVwbG9hZGVkIGF0IGEgdGltZS4KY29uc3QgTUFYX1BBWUxPQURfU0laRSA9IDEwMCAqIDEwMjQ7Ci8vIE1heCBhbW91bnQgb2YgdGltZSB0byBibG9jayB3YWl0aW5nIGZvciB0aGUgdXNlci4KY29uc3QgRklMRV9DSEFOR0VfVElNRU9VVF9NUyA9IDMwICogMTAwMDsKCmZ1bmN0aW9uIF91cGxvYWRGaWxlcyhpbnB1dElkLCBvdXRwdXRJZCkgewogIGNvbnN0IHN0ZXBzID0gdXBsb2FkRmlsZXNTdGVwKGlucHV0SWQsIG91dHB1dElkKTsKICBjb25zdCBvdXRwdXRFbGVtZW50ID0gZG9jdW1lbnQuZ2V0RWxlbWVudEJ5SWQob3V0cHV0SWQpOwogIC8vIENhY2hlIHN0ZXBzIG9uIHRoZSBvdXRwdXRFbGVtZW50IHRvIG1ha2UgaXQgYXZhaWxhYmxlIGZvciB0aGUgbmV4dCBjYWxsCiAgLy8gdG8gdXBsb2FkRmlsZXNDb250aW51ZSBmcm9tIFB5dGhvbi4KICBvdXRwdXRFbGVtZW50LnN0ZXBzID0gc3RlcHM7CgogIHJldHVybiBfdXBsb2FkRmlsZXNDb250aW51ZShvdXRwdXRJZCk7Cn0KCi8vIFRoaXMgaXMgcm91Z2hseSBhbiBhc3luYyBnZW5lcmF0b3IgKG5vdCBzdXBwb3J0ZWQgaW4gdGhlIGJyb3dzZXIgeWV0KSwKLy8gd2hlcmUgdGhlcmUgYXJlIG11bHRpcGxlIGFzeW5jaHJvbm91cyBzdGVwcyBhbmQgdGhlIFB5dGhvbiBzaWRlIGlzIGdvaW5nCi8vIHRvIHBvbGwgZm9yIGNvbXBsZXRpb24gb2YgZWFjaCBzdGVwLgovLyBUaGlzIHVzZXMgYSBQcm9taXNlIHRvIGJsb2NrIHRoZSBweXRob24gc2lkZSBvbiBjb21wbGV0aW9uIG9mIGVhY2ggc3RlcCwKLy8gdGhlbiBwYXNzZXMgdGhlIHJlc3VsdCBvZiB0aGUgcHJldmlvdXMgc3RlcCBhcyB0aGUgaW5wdXQgdG8gdGhlIG5leHQgc3RlcC4KZnVuY3Rpb24gX3VwbG9hZEZpbGVzQ29udGludWUob3V0cHV0SWQpIHsKICBjb25zdCBvdXRwdXRFbGVtZW50ID0gZG9jdW1lbnQuZ2V0RWxlbWVudEJ5SWQob3V0cHV0SWQpOwogIGNvbnN0IHN0ZXBzID0gb3V0cHV0RWxlbWVudC5zdGVwczsKCiAgY29uc3QgbmV4dCA9IHN0ZXBzLm5leHQob3V0cHV0RWxlbWVudC5sYXN0UHJvbWlzZVZhbHVlKTsKICByZXR1cm4gUHJvbWlzZS5yZXNvbHZlKG5leHQudmFsdWUucHJvbWlzZSkudGhlbigodmFsdWUpID0+IHsKICAgIC8vIENhY2hlIHRoZSBsYXN0IHByb21pc2UgdmFsdWUgdG8gbWFrZSBpdCBhdmFpbGFibGUgdG8gdGhlIG5leHQKICAgIC8vIHN0ZXAgb2YgdGhlIGdlbmVyYXRvci4KICAgIG91dHB1dEVsZW1lbnQubGFzdFByb21pc2VWYWx1ZSA9IHZhbHVlOwogICAgcmV0dXJuIG5leHQudmFsdWUucmVzcG9uc2U7CiAgfSk7Cn0KCi8qKgogKiBHZW5lcmF0b3IgZnVuY3Rpb24gd2hpY2ggaXMgY2FsbGVkIGJldHdlZW4gZWFjaCBhc3luYyBzdGVwIG9mIHRoZSB1cGxvYWQKICogcHJvY2Vzcy4KICogQHBhcmFtIHtzdHJpbmd9IGlucHV0SWQgRWxlbWVudCBJRCBvZiB0aGUgaW5wdXQgZmlsZSBwaWNrZXIgZWxlbWVudC4KICogQHBhcmFtIHtzdHJpbmd9IG91dHB1dElkIEVsZW1lbnQgSUQgb2YgdGhlIG91dHB1dCBkaXNwbGF5LgogKiBAcmV0dXJuIHshSXRlcmFibGU8IU9iamVjdD59IEl0ZXJhYmxlIG9mIG5leHQgc3RlcHMuCiAqLwpmdW5jdGlvbiogdXBsb2FkRmlsZXNTdGVwKGlucHV0SWQsIG91dHB1dElkKSB7CiAgY29uc3QgaW5wdXRFbGVtZW50ID0gZG9jdW1lbnQuZ2V0RWxlbWVudEJ5SWQoaW5wdXRJZCk7CiAgaW5wdXRFbGVtZW50LmRpc2FibGVkID0gZmFsc2U7CgogIGNvbnN0IG91dHB1dEVsZW1lbnQgPSBkb2N1bWVudC5nZXRFbGVtZW50QnlJZChvdXRwdXRJZCk7CiAgb3V0cHV0RWxlbWVudC5pbm5lckhUTUwgPSAnJzsKCiAgY29uc3QgcGlja2VkUHJvbWlzZSA9IG5ldyBQcm9taXNlKChyZXNvbHZlKSA9PiB7CiAgICBpbnB1dEVsZW1lbnQuYWRkRXZlbnRMaXN0ZW5lcignY2hhbmdlJywgKGUpID0+IHsKICAgICAgcmVzb2x2ZShlLnRhcmdldC5maWxlcyk7CiAgICB9KTsKICB9KTsKCiAgY29uc3QgY2FuY2VsID0gZG9jdW1lbnQuY3JlYXRlRWxlbWVudCgnYnV0dG9uJyk7CiAgaW5wdXRFbGVtZW50LnBhcmVudEVsZW1lbnQuYXBwZW5kQ2hpbGQoY2FuY2VsKTsKICBjYW5jZWwudGV4dENvbnRlbnQgPSAnQ2FuY2VsIHVwbG9hZCc7CiAgY29uc3QgY2FuY2VsUHJvbWlzZSA9IG5ldyBQcm9taXNlKChyZXNvbHZlKSA9PiB7CiAgICBjYW5jZWwub25jbGljayA9ICgpID0+IHsKICAgICAgcmVzb2x2ZShudWxsKTsKICAgIH07CiAgfSk7CgogIC8vIENhbmNlbCB1cGxvYWQgaWYgdXNlciBoYXNuJ3QgcGlja2VkIGFueXRoaW5nIGluIHRpbWVvdXQuCiAgY29uc3QgdGltZW91dFByb21pc2UgPSBuZXcgUHJvbWlzZSgocmVzb2x2ZSkgPT4gewogICAgc2V0VGltZW91dCgoKSA9PiB7CiAgICAgIHJlc29sdmUobnVsbCk7CiAgICB9LCBGSUxFX0NIQU5HRV9USU1FT1VUX01TKTsKICB9KTsKCiAgLy8gV2FpdCBmb3IgdGhlIHVzZXIgdG8gcGljayB0aGUgZmlsZXMuCiAgY29uc3QgZmlsZXMgPSB5aWVsZCB7CiAgICBwcm9taXNlOiBQcm9taXNlLnJhY2UoW3BpY2tlZFByb21pc2UsIHRpbWVvdXRQcm9taXNlLCBjYW5jZWxQcm9taXNlXSksCiAgICByZXNwb25zZTogewogICAgICBhY3Rpb246ICdzdGFydGluZycsCiAgICB9CiAgfTsKCiAgaWYgKCFmaWxlcykgewogICAgcmV0dXJuIHsKICAgICAgcmVzcG9uc2U6IHsKICAgICAgICBhY3Rpb246ICdjb21wbGV0ZScsCiAgICAgIH0KICAgIH07CiAgfQoKICBjYW5jZWwucmVtb3ZlKCk7CgogIC8vIERpc2FibGUgdGhlIGlucHV0IGVsZW1lbnQgc2luY2UgZnVydGhlciBwaWNrcyBhcmUgbm90IGFsbG93ZWQuCiAgaW5wdXRFbGVtZW50LmRpc2FibGVkID0gdHJ1ZTsKCiAgZm9yIChjb25zdCBmaWxlIG9mIGZpbGVzKSB7CiAgICBjb25zdCBsaSA9IGRvY3VtZW50LmNyZWF0ZUVsZW1lbnQoJ2xpJyk7CiAgICBsaS5hcHBlbmQoc3BhbihmaWxlLm5hbWUsIHtmb250V2VpZ2h0OiAnYm9sZCd9KSk7CiAgICBsaS5hcHBlbmQoc3BhbigKICAgICAgICBgKCR7ZmlsZS50eXBlIHx8ICduL2EnfSkgLSAke2ZpbGUuc2l6ZX0gYnl0ZXMsIGAgKwogICAgICAgIGBsYXN0IG1vZGlmaWVkOiAkewogICAgICAgICAgICBmaWxlLmxhc3RNb2RpZmllZERhdGUgPyBmaWxlLmxhc3RNb2RpZmllZERhdGUudG9Mb2NhbGVEYXRlU3RyaW5nKCkgOgogICAgICAgICAgICAgICAgICAgICAgICAgICAgICAgICAgICAnbi9hJ30gLSBgKSk7CiAgICBjb25zdCBwZXJjZW50ID0gc3BhbignMCUgZG9uZScpOwogICAgbGkuYXBwZW5kQ2hpbGQocGVyY2VudCk7CgogICAgb3V0cHV0RWxlbWVudC5hcHBlbmRDaGlsZChsaSk7CgogICAgY29uc3QgZmlsZURhdGFQcm9taXNlID0gbmV3IFByb21pc2UoKHJlc29sdmUpID0+IHsKICAgICAgY29uc3QgcmVhZGVyID0gbmV3IEZpbGVSZWFkZXIoKTsKICAgICAgcmVhZGVyLm9ubG9hZCA9IChlKSA9PiB7CiAgICAgICAgcmVzb2x2ZShlLnRhcmdldC5yZXN1bHQpOwogICAgICB9OwogICAgICByZWFkZXIucmVhZEFzQXJyYXlCdWZmZXIoZmlsZSk7CiAgICB9KTsKICAgIC8vIFdhaXQgZm9yIHRoZSBkYXRhIHRvIGJlIHJlYWR5LgogICAgbGV0IGZpbGVEYXRhID0geWllbGQgewogICAgICBwcm9taXNlOiBmaWxlRGF0YVByb21pc2UsCiAgICAgIHJlc3BvbnNlOiB7CiAgICAgICAgYWN0aW9uOiAnY29udGludWUnLAogICAgICB9CiAgICB9OwoKICAgIC8vIFVzZSBhIGNodW5rZWQgc2VuZGluZyB0byBhdm9pZCBtZXNzYWdlIHNpemUgbGltaXRzLiBTZWUgYi82MjExNTY2MC4KICAgIGxldCBwb3NpdGlvbiA9IDA7CiAgICB3aGlsZSAocG9zaXRpb24gPCBmaWxlRGF0YS5ieXRlTGVuZ3RoKSB7CiAgICAgIGNvbnN0IGxlbmd0aCA9IE1hdGgubWluKGZpbGVEYXRhLmJ5dGVMZW5ndGggLSBwb3NpdGlvbiwgTUFYX1BBWUxPQURfU0laRSk7CiAgICAgIGNvbnN0IGNodW5rID0gbmV3IFVpbnQ4QXJyYXkoZmlsZURhdGEsIHBvc2l0aW9uLCBsZW5ndGgpOwogICAgICBwb3NpdGlvbiArPSBsZW5ndGg7CgogICAgICBjb25zdCBiYXNlNjQgPSBidG9hKFN0cmluZy5mcm9tQ2hhckNvZGUuYXBwbHkobnVsbCwgY2h1bmspKTsKICAgICAgeWllbGQgewogICAgICAgIHJlc3BvbnNlOiB7CiAgICAgICAgICBhY3Rpb246ICdhcHBlbmQnLAogICAgICAgICAgZmlsZTogZmlsZS5uYW1lLAogICAgICAgICAgZGF0YTogYmFzZTY0LAogICAgICAgIH0sCiAgICAgIH07CiAgICAgIHBlcmNlbnQudGV4dENvbnRlbnQgPQogICAgICAgICAgYCR7TWF0aC5yb3VuZCgocG9zaXRpb24gLyBmaWxlRGF0YS5ieXRlTGVuZ3RoKSAqIDEwMCl9JSBkb25lYDsKICAgIH0KICB9CgogIC8vIEFsbCBkb25lLgogIHlpZWxkIHsKICAgIHJlc3BvbnNlOiB7CiAgICAgIGFjdGlvbjogJ2NvbXBsZXRlJywKICAgIH0KICB9Owp9CgpzY29wZS5nb29nbGUgPSBzY29wZS5nb29nbGUgfHwge307CnNjb3BlLmdvb2dsZS5jb2xhYiA9IHNjb3BlLmdvb2dsZS5jb2xhYiB8fCB7fTsKc2NvcGUuZ29vZ2xlLmNvbGFiLl9maWxlcyA9IHsKICBfdXBsb2FkRmlsZXMsCiAgX3VwbG9hZEZpbGVzQ29udGludWUsCn07Cn0pKHNlbGYpOwo=",
              "ok": true,
              "headers": [
                [
                  "content-type",
                  "application/javascript"
                ]
              ],
              "status": 200,
              "status_text": ""
            }
          },
          "base_uri": "https://localhost:8080/",
          "height": 701
        }
      },
      "source": [
        "train_val_test_datasets = []\n",
        "for dataset_name in ['Laptop', 'Restaurant', 'Election']:\n",
        "  dataset_info = []\n",
        "  for split_name in ['train', 'validation', 'test']:\n",
        "    print(f'Upload the {dataset_name} {split_name} dataset')\n",
        "    temp_uploaded = files.upload()\n",
        "    dataset_str = list(temp_uploaded.values())[0].decode('utf-8')\n",
        "    dataset = TargetTextCollection.from_json(dataset_str)\n",
        "    dataset_info.append(dataset)\n",
        "  dataset_info.append(dataset_name)\n",
        "  dataset_info = tuple(dataset_info)\n",
        "  train_val_test_datasets.append(dataset_info)\n",
        "alt_train_test_datasets = [(train, test, name) for train, _, test, name in train_val_test_datasets]\n",
        "train_val_datasets = [(train, val, name) for train, val, _, name in train_val_test_datasets]"
      ],
      "execution_count": 0,
      "outputs": [
        {
          "output_type": "stream",
          "text": [
            "Upload the Laptop train dataset\n"
          ],
          "name": "stdout"
        },
        {
          "output_type": "display_data",
          "data": {
            "text/html": [
              "\n",
              "     <input type=\"file\" id=\"files-e8958239-c03f-4f35-98d0-352821537fd1\" name=\"files[]\" multiple disabled />\n",
              "     <output id=\"result-e8958239-c03f-4f35-98d0-352821537fd1\">\n",
              "      Upload widget is only available when the cell has been executed in the\n",
              "      current browser session. Please rerun this cell to enable.\n",
              "      </output>\n",
              "      <script src=\"/nbextensions/google.colab/files.js\"></script> "
            ],
            "text/plain": [
              "<IPython.core.display.HTML object>"
            ]
          },
          "metadata": {
            "tags": []
          }
        },
        {
          "output_type": "stream",
          "text": [
            "Saving train.json to train.json\n",
            "Upload the Laptop validation dataset\n"
          ],
          "name": "stdout"
        },
        {
          "output_type": "display_data",
          "data": {
            "text/html": [
              "\n",
              "     <input type=\"file\" id=\"files-72226e80-682e-4048-bc33-ce906a2fd72e\" name=\"files[]\" multiple disabled />\n",
              "     <output id=\"result-72226e80-682e-4048-bc33-ce906a2fd72e\">\n",
              "      Upload widget is only available when the cell has been executed in the\n",
              "      current browser session. Please rerun this cell to enable.\n",
              "      </output>\n",
              "      <script src=\"/nbextensions/google.colab/files.js\"></script> "
            ],
            "text/plain": [
              "<IPython.core.display.HTML object>"
            ]
          },
          "metadata": {
            "tags": []
          }
        },
        {
          "output_type": "stream",
          "text": [
            "Saving val.json to val.json\n",
            "Upload the Laptop test dataset\n"
          ],
          "name": "stdout"
        },
        {
          "output_type": "display_data",
          "data": {
            "text/html": [
              "\n",
              "     <input type=\"file\" id=\"files-dc96fee6-2658-4f4c-91bd-b1a6105139e3\" name=\"files[]\" multiple disabled />\n",
              "     <output id=\"result-dc96fee6-2658-4f4c-91bd-b1a6105139e3\">\n",
              "      Upload widget is only available when the cell has been executed in the\n",
              "      current browser session. Please rerun this cell to enable.\n",
              "      </output>\n",
              "      <script src=\"/nbextensions/google.colab/files.js\"></script> "
            ],
            "text/plain": [
              "<IPython.core.display.HTML object>"
            ]
          },
          "metadata": {
            "tags": []
          }
        },
        {
          "output_type": "stream",
          "text": [
            "Saving test.json to test.json\n",
            "Upload the Restaurant train dataset\n"
          ],
          "name": "stdout"
        },
        {
          "output_type": "display_data",
          "data": {
            "text/html": [
              "\n",
              "     <input type=\"file\" id=\"files-7d11defb-38dc-4dc4-af5c-e363677f6ef0\" name=\"files[]\" multiple disabled />\n",
              "     <output id=\"result-7d11defb-38dc-4dc4-af5c-e363677f6ef0\">\n",
              "      Upload widget is only available when the cell has been executed in the\n",
              "      current browser session. Please rerun this cell to enable.\n",
              "      </output>\n",
              "      <script src=\"/nbextensions/google.colab/files.js\"></script> "
            ],
            "text/plain": [
              "<IPython.core.display.HTML object>"
            ]
          },
          "metadata": {
            "tags": []
          }
        },
        {
          "output_type": "stream",
          "text": [
            "Saving train.json to train (1).json\n",
            "Upload the Restaurant validation dataset\n"
          ],
          "name": "stdout"
        },
        {
          "output_type": "display_data",
          "data": {
            "text/html": [
              "\n",
              "     <input type=\"file\" id=\"files-d8c8765c-9fdd-4537-9f5c-1a31ab34445c\" name=\"files[]\" multiple disabled />\n",
              "     <output id=\"result-d8c8765c-9fdd-4537-9f5c-1a31ab34445c\">\n",
              "      Upload widget is only available when the cell has been executed in the\n",
              "      current browser session. Please rerun this cell to enable.\n",
              "      </output>\n",
              "      <script src=\"/nbextensions/google.colab/files.js\"></script> "
            ],
            "text/plain": [
              "<IPython.core.display.HTML object>"
            ]
          },
          "metadata": {
            "tags": []
          }
        },
        {
          "output_type": "stream",
          "text": [
            "Saving val.json to val (1).json\n",
            "Upload the Restaurant test dataset\n"
          ],
          "name": "stdout"
        },
        {
          "output_type": "display_data",
          "data": {
            "text/html": [
              "\n",
              "     <input type=\"file\" id=\"files-7e48b34d-7a64-426e-b095-1fdad70a59b5\" name=\"files[]\" multiple disabled />\n",
              "     <output id=\"result-7e48b34d-7a64-426e-b095-1fdad70a59b5\">\n",
              "      Upload widget is only available when the cell has been executed in the\n",
              "      current browser session. Please rerun this cell to enable.\n",
              "      </output>\n",
              "      <script src=\"/nbextensions/google.colab/files.js\"></script> "
            ],
            "text/plain": [
              "<IPython.core.display.HTML object>"
            ]
          },
          "metadata": {
            "tags": []
          }
        },
        {
          "output_type": "stream",
          "text": [
            "Saving test.json to test (1).json\n",
            "Upload the Election train dataset\n"
          ],
          "name": "stdout"
        },
        {
          "output_type": "display_data",
          "data": {
            "text/html": [
              "\n",
              "     <input type=\"file\" id=\"files-0a039784-4542-493b-b0aa-f89f37b9420b\" name=\"files[]\" multiple disabled />\n",
              "     <output id=\"result-0a039784-4542-493b-b0aa-f89f37b9420b\">\n",
              "      Upload widget is only available when the cell has been executed in the\n",
              "      current browser session. Please rerun this cell to enable.\n",
              "      </output>\n",
              "      <script src=\"/nbextensions/google.colab/files.js\"></script> "
            ],
            "text/plain": [
              "<IPython.core.display.HTML object>"
            ]
          },
          "metadata": {
            "tags": []
          }
        },
        {
          "output_type": "stream",
          "text": [
            "Saving train.json to train (2).json\n",
            "Upload the Election validation dataset\n"
          ],
          "name": "stdout"
        },
        {
          "output_type": "display_data",
          "data": {
            "text/html": [
              "\n",
              "     <input type=\"file\" id=\"files-89efb60c-1bba-43a4-9e17-526e8a8c6e04\" name=\"files[]\" multiple disabled />\n",
              "     <output id=\"result-89efb60c-1bba-43a4-9e17-526e8a8c6e04\">\n",
              "      Upload widget is only available when the cell has been executed in the\n",
              "      current browser session. Please rerun this cell to enable.\n",
              "      </output>\n",
              "      <script src=\"/nbextensions/google.colab/files.js\"></script> "
            ],
            "text/plain": [
              "<IPython.core.display.HTML object>"
            ]
          },
          "metadata": {
            "tags": []
          }
        },
        {
          "output_type": "stream",
          "text": [
            "Saving val.json to val (2).json\n",
            "Upload the Election test dataset\n"
          ],
          "name": "stdout"
        },
        {
          "output_type": "display_data",
          "data": {
            "text/html": [
              "\n",
              "     <input type=\"file\" id=\"files-86be6d3f-bbde-4103-9635-56c02718af87\" name=\"files[]\" multiple disabled />\n",
              "     <output id=\"result-86be6d3f-bbde-4103-9635-56c02718af87\">\n",
              "      Upload widget is only available when the cell has been executed in the\n",
              "      current browser session. Please rerun this cell to enable.\n",
              "      </output>\n",
              "      <script src=\"/nbextensions/google.colab/files.js\"></script> "
            ],
            "text/plain": [
              "<IPython.core.display.HTML object>"
            ]
          },
          "metadata": {
            "tags": []
          }
        },
        {
          "output_type": "stream",
          "text": [
            "Saving test.json to test (2).json\n"
          ],
          "name": "stdout"
        }
      ]
    },
    {
      "cell_type": "markdown",
      "metadata": {
        "id": "q1jQGn0rzTtR",
        "colab_type": "text"
      },
      "source": [
        "Below we compare the standard train and test split to that of the new train and validation split as well as the new train and standard test split. The comparison is only done here for the global error analysis splits."
      ]
    },
    {
      "cell_type": "code",
      "metadata": {
        "id": "mCq63WiAMnVv",
        "colab_type": "code",
        "colab": {}
      },
      "source": [
        "all_dfs = []\n",
        "for datasets_data, split_name in [(alt_train_test_datasets, 'ST'), \n",
        "                                  (train_val_datasets, 'V')]:\n",
        "  n_shot_error_keys = ['zero-shot', 'low-shot', 'med-shot', 'high-shot']\n",
        "  num_n_shot_samples = []\n",
        "  norm_n_shot_samples = []\n",
        "  dataset_names = []\n",
        "  data_subset_names = []\n",
        "  all_n_values = []\n",
        "\n",
        "  for train_dataset, test_dataset, name in datasets_data:\n",
        "    test_dataset, n_values = n_shot_subsets(test_dataset, train_dataset, lower=True, \n",
        "                                            return_n_values=True)\n",
        "    dataset_size = test_dataset.number_targets()\n",
        "    for index, n_value in enumerate(n_values):\n",
        "      dataset_names.append(name)\n",
        "      error_key = n_shot_error_keys[index]\n",
        "      data_subset_names.append(error_key)\n",
        "      all_n_values.append(n_value)\n",
        "      num_samples = count_error_key_occurrence(test_dataset, error_key)\n",
        "      num_n_shot_samples.append(num_samples)\n",
        "      norm_num_samples = (num_samples / dataset_size) * 100\n",
        "      norm_n_shot_samples.append(norm_num_samples)\n",
        "  df = pd.DataFrame({'N Range': all_n_values, \n",
        "                     'Dataset': dataset_names, \n",
        "                     'Data Subset': data_subset_names, \n",
        "                     'Number Samples': num_n_shot_samples, \n",
        "                     'Number of Samples (%)': norm_n_shot_samples})\n",
        "  df['Split'] = split_name\n",
        "  df['Data Split'] = 'n-shot'\n",
        "  all_dfs.append(df)\n",
        "\n",
        "  subset_functions = [unknown_targets, unknown_sentiment_known_target, \n",
        "                      known_sentiment_known_target]\n",
        "  alt_known_unknown_df = get_subset_data(datasets_data, \n",
        "                                         subset_functions=subset_functions, \n",
        "                                         lower_target=True)\n",
        "  alt_known_unknown_df['Data Subset'] = alt_known_unknown_df['Data Subset'].map(known_unknown_mapper)\n",
        "  alt_known_unknown_df['Split'] = split_name\n",
        "  alt_known_unknown_df['Data Split'] = 'TRS'\n",
        "  all_dfs.append(alt_known_unknown_df)\n",
        "\n",
        "known_unknown_df['Split'] = 'OT'\n",
        "test_n_shot_df['Split'] = 'OT'\n",
        "all_dfs.extend([known_unknown_df, test_n_shot_df])\n",
        "all_dfs = pd.concat(all_dfs, sort=False)"
      ],
      "execution_count": 0,
      "outputs": []
    },
    {
      "cell_type": "code",
      "metadata": {
        "id": "phMNriA6OyJL",
        "colab_type": "code",
        "outputId": "6864ad14-1555-4251-ea0e-0ff6d7188e8b",
        "colab": {
          "base_uri": "https://localhost:8080/",
          "height": 328
        }
      },
      "source": [
        "pd.pivot_table(all_dfs, values='Number of Samples (%)', \n",
        "               columns=['Data Split', 'Data Subset'], \n",
        "               index=['Dataset', 'Split']).T.round(1)"
      ],
      "execution_count": 0,
      "outputs": [
        {
          "output_type": "execute_result",
          "data": {
            "text/html": [
              "<div>\n",
              "<style scoped>\n",
              "    .dataframe tbody tr th:only-of-type {\n",
              "        vertical-align: middle;\n",
              "    }\n",
              "\n",
              "    .dataframe tbody tr th {\n",
              "        vertical-align: top;\n",
              "    }\n",
              "\n",
              "    .dataframe thead tr th {\n",
              "        text-align: left;\n",
              "    }\n",
              "\n",
              "    .dataframe thead tr:last-of-type th {\n",
              "        text-align: right;\n",
              "    }\n",
              "</style>\n",
              "<table border=\"1\" class=\"dataframe\">\n",
              "  <thead>\n",
              "    <tr>\n",
              "      <th></th>\n",
              "      <th>Dataset</th>\n",
              "      <th colspan=\"3\" halign=\"left\">Election</th>\n",
              "      <th colspan=\"3\" halign=\"left\">Laptop</th>\n",
              "      <th colspan=\"3\" halign=\"left\">Restaurant</th>\n",
              "    </tr>\n",
              "    <tr>\n",
              "      <th></th>\n",
              "      <th>Split</th>\n",
              "      <th>OT</th>\n",
              "      <th>ST</th>\n",
              "      <th>V</th>\n",
              "      <th>OT</th>\n",
              "      <th>ST</th>\n",
              "      <th>V</th>\n",
              "      <th>OT</th>\n",
              "      <th>ST</th>\n",
              "      <th>V</th>\n",
              "    </tr>\n",
              "    <tr>\n",
              "      <th>Data Split</th>\n",
              "      <th>Data Subset</th>\n",
              "      <th></th>\n",
              "      <th></th>\n",
              "      <th></th>\n",
              "      <th></th>\n",
              "      <th></th>\n",
              "      <th></th>\n",
              "      <th></th>\n",
              "      <th></th>\n",
              "      <th></th>\n",
              "    </tr>\n",
              "  </thead>\n",
              "  <tbody>\n",
              "    <tr>\n",
              "      <th rowspan=\"3\" valign=\"top\">TRS</th>\n",
              "      <th>KTKS</th>\n",
              "      <td>82.4</td>\n",
              "      <td>80.8</td>\n",
              "      <td>80.9</td>\n",
              "      <td>47.3</td>\n",
              "      <td>42.5</td>\n",
              "      <td>58.6</td>\n",
              "      <td>63.2</td>\n",
              "      <td>60.4</td>\n",
              "      <td>67.9</td>\n",
              "    </tr>\n",
              "    <tr>\n",
              "      <th>USKT</th>\n",
              "      <td>3.7</td>\n",
              "      <td>4.1</td>\n",
              "      <td>4.4</td>\n",
              "      <td>10.5</td>\n",
              "      <td>10.8</td>\n",
              "      <td>8.4</td>\n",
              "      <td>5.4</td>\n",
              "      <td>6.2</td>\n",
              "      <td>5.8</td>\n",
              "    </tr>\n",
              "    <tr>\n",
              "      <th>UT</th>\n",
              "      <td>13.9</td>\n",
              "      <td>15.1</td>\n",
              "      <td>14.7</td>\n",
              "      <td>42.2</td>\n",
              "      <td>46.7</td>\n",
              "      <td>33.0</td>\n",
              "      <td>31.4</td>\n",
              "      <td>33.4</td>\n",
              "      <td>26.3</td>\n",
              "    </tr>\n",
              "    <tr>\n",
              "      <th rowspan=\"4\" valign=\"top\">n-shot</th>\n",
              "      <th>high-shot</th>\n",
              "      <td>28.0</td>\n",
              "      <td>28.0</td>\n",
              "      <td>27.6</td>\n",
              "      <td>19.0</td>\n",
              "      <td>15.7</td>\n",
              "      <td>19.9</td>\n",
              "      <td>21.7</td>\n",
              "      <td>21.1</td>\n",
              "      <td>18.3</td>\n",
              "    </tr>\n",
              "    <tr>\n",
              "      <th>low-shot</th>\n",
              "      <td>29.1</td>\n",
              "      <td>28.3</td>\n",
              "      <td>28.9</td>\n",
              "      <td>19.6</td>\n",
              "      <td>19.9</td>\n",
              "      <td>23.6</td>\n",
              "      <td>23.8</td>\n",
              "      <td>23.1</td>\n",
              "      <td>25.9</td>\n",
              "    </tr>\n",
              "    <tr>\n",
              "      <th>med-shot</th>\n",
              "      <td>29.0</td>\n",
              "      <td>28.7</td>\n",
              "      <td>28.8</td>\n",
              "      <td>19.3</td>\n",
              "      <td>17.7</td>\n",
              "      <td>23.5</td>\n",
              "      <td>23.0</td>\n",
              "      <td>22.4</td>\n",
              "      <td>29.5</td>\n",
              "    </tr>\n",
              "    <tr>\n",
              "      <th>zero-shot</th>\n",
              "      <td>13.9</td>\n",
              "      <td>15.1</td>\n",
              "      <td>14.7</td>\n",
              "      <td>42.2</td>\n",
              "      <td>46.7</td>\n",
              "      <td>33.0</td>\n",
              "      <td>31.4</td>\n",
              "      <td>33.4</td>\n",
              "      <td>26.3</td>\n",
              "    </tr>\n",
              "  </tbody>\n",
              "</table>\n",
              "</div>"
            ],
            "text/plain": [
              "Dataset                Election             Laptop  ...       Restaurant            \n",
              "Split                        OT    ST     V     OT  ...     V         OT    ST     V\n",
              "Data Split Data Subset                              ...                             \n",
              "TRS        KTKS            82.4  80.8  80.9   47.3  ...  58.6       63.2  60.4  67.9\n",
              "           USKT             3.7   4.1   4.4   10.5  ...   8.4        5.4   6.2   5.8\n",
              "           UT              13.9  15.1  14.7   42.2  ...  33.0       31.4  33.4  26.3\n",
              "n-shot     high-shot       28.0  28.0  27.6   19.0  ...  19.9       21.7  21.1  18.3\n",
              "           low-shot        29.1  28.3  28.9   19.6  ...  23.6       23.8  23.1  25.9\n",
              "           med-shot        29.0  28.7  28.8   19.3  ...  23.5       23.0  22.4  29.5\n",
              "           zero-shot       13.9  15.1  14.7   42.2  ...  33.0       31.4  33.4  26.3\n",
              "\n",
              "[7 rows x 9 columns]"
            ]
          },
          "metadata": {
            "tags": []
          },
          "execution_count": 75
        }
      ]
    },
    {
      "cell_type": "markdown",
      "metadata": {
        "id": "o_xxssInzlh4",
        "colab_type": "text"
      },
      "source": [
        "Below we compare the validation and standard test split with respect to the local error analysis splits."
      ]
    },
    {
      "cell_type": "code",
      "metadata": {
        "id": "4_8AzfJ0Oz8E",
        "colab_type": "code",
        "colab": {}
      },
      "source": [
        "local_val_dfs = []\n",
        "val_name = [(val, name) for train, val, name in train_val_datasets]\n",
        "val_ds_df = get_error_data(val_name, ds_error_keys, distinct_sentiment, separate_labels=True)\n",
        "val_ds_df['Data Subset'] = val_ds_df['Data Subset'].map(ds_mapper)\n",
        "val_ds_df['Data Split'] = 'DS'\n",
        "val_ds_df['Split'] = 'V'\n",
        "test_ds_df['Split'] = 'OT'\n",
        "val_nt_df = get_error_data(val_name, num_targets_error_keys, num_targets_subset)\n",
        "val_nt_df['Data Split'] = 'NT'\n",
        "val_nt_df['Split'] = 'V'\n",
        "test_num_targets_df['Split'] = 'OT'\n",
        "local_val_dfs = [val_ds_df, val_nt_df, test_num_targets_df, test_ds_df]\n",
        "local_val_df = pd.concat(local_val_dfs, sort=False)"
      ],
      "execution_count": 0,
      "outputs": []
    },
    {
      "cell_type": "code",
      "metadata": {
        "id": "wk0uGySCXAv0",
        "colab_type": "code",
        "outputId": "020a4e43-6b8a-4b4d-f611-96e209382228",
        "colab": {
          "base_uri": "https://localhost:8080/",
          "height": 328
        }
      },
      "source": [
        "pd.pivot_table(local_val_df, values='Number of Samples (%)', \n",
        "               columns=['Data Split', 'Data Subset'], \n",
        "               index=['Dataset', 'Split']).T.round(1)"
      ],
      "execution_count": 0,
      "outputs": [
        {
          "output_type": "execute_result",
          "data": {
            "text/html": [
              "<div>\n",
              "<style scoped>\n",
              "    .dataframe tbody tr th:only-of-type {\n",
              "        vertical-align: middle;\n",
              "    }\n",
              "\n",
              "    .dataframe tbody tr th {\n",
              "        vertical-align: top;\n",
              "    }\n",
              "\n",
              "    .dataframe thead tr th {\n",
              "        text-align: left;\n",
              "    }\n",
              "\n",
              "    .dataframe thead tr:last-of-type th {\n",
              "        text-align: right;\n",
              "    }\n",
              "</style>\n",
              "<table border=\"1\" class=\"dataframe\">\n",
              "  <thead>\n",
              "    <tr>\n",
              "      <th></th>\n",
              "      <th>Dataset</th>\n",
              "      <th colspan=\"2\" halign=\"left\">Election</th>\n",
              "      <th colspan=\"2\" halign=\"left\">Laptop</th>\n",
              "      <th colspan=\"2\" halign=\"left\">Restaurant</th>\n",
              "    </tr>\n",
              "    <tr>\n",
              "      <th></th>\n",
              "      <th>Split</th>\n",
              "      <th>OT</th>\n",
              "      <th>V</th>\n",
              "      <th>OT</th>\n",
              "      <th>V</th>\n",
              "      <th>OT</th>\n",
              "      <th>V</th>\n",
              "    </tr>\n",
              "    <tr>\n",
              "      <th>Data Split</th>\n",
              "      <th>Data Subset</th>\n",
              "      <th></th>\n",
              "      <th></th>\n",
              "      <th></th>\n",
              "      <th></th>\n",
              "      <th></th>\n",
              "      <th></th>\n",
              "    </tr>\n",
              "  </thead>\n",
              "  <tbody>\n",
              "    <tr>\n",
              "      <th rowspan=\"3\" valign=\"top\">DS</th>\n",
              "      <th>DS1</th>\n",
              "      <td>45.8</td>\n",
              "      <td>44.6</td>\n",
              "      <td>83.9</td>\n",
              "      <td>80.4</td>\n",
              "      <td>79.6</td>\n",
              "      <td>72.0</td>\n",
              "    </tr>\n",
              "    <tr>\n",
              "      <th>DS2</th>\n",
              "      <td>46.5</td>\n",
              "      <td>47.2</td>\n",
              "      <td>14.7</td>\n",
              "      <td>19.2</td>\n",
              "      <td>20.1</td>\n",
              "      <td>25.3</td>\n",
              "    </tr>\n",
              "    <tr>\n",
              "      <th>DS3</th>\n",
              "      <td>7.7</td>\n",
              "      <td>8.2</td>\n",
              "      <td>1.4</td>\n",
              "      <td>0.5</td>\n",
              "      <td>0.3</td>\n",
              "      <td>2.7</td>\n",
              "    </tr>\n",
              "    <tr>\n",
              "      <th rowspan=\"4\" valign=\"top\">NT</th>\n",
              "      <th>1-target</th>\n",
              "      <td>4.0</td>\n",
              "      <td>4.3</td>\n",
              "      <td>40.6</td>\n",
              "      <td>38.0</td>\n",
              "      <td>25.4</td>\n",
              "      <td>26.4</td>\n",
              "    </tr>\n",
              "    <tr>\n",
              "      <th>high-targets</th>\n",
              "      <td>19.5</td>\n",
              "      <td>23.5</td>\n",
              "      <td>11.9</td>\n",
              "      <td>11.2</td>\n",
              "      <td>9.6</td>\n",
              "      <td>19.4</td>\n",
              "    </tr>\n",
              "    <tr>\n",
              "      <th>low-targets</th>\n",
              "      <td>47.9</td>\n",
              "      <td>46.8</td>\n",
              "      <td>32.0</td>\n",
              "      <td>33.7</td>\n",
              "      <td>34.3</td>\n",
              "      <td>31.5</td>\n",
              "    </tr>\n",
              "    <tr>\n",
              "      <th>med-targets</th>\n",
              "      <td>28.7</td>\n",
              "      <td>25.4</td>\n",
              "      <td>15.5</td>\n",
              "      <td>17.0</td>\n",
              "      <td>30.6</td>\n",
              "      <td>22.7</td>\n",
              "    </tr>\n",
              "  </tbody>\n",
              "</table>\n",
              "</div>"
            ],
            "text/plain": [
              "Dataset                 Election       Laptop       Restaurant      \n",
              "Split                         OT     V     OT     V         OT     V\n",
              "Data Split Data Subset                                              \n",
              "DS         DS1              45.8  44.6   83.9  80.4       79.6  72.0\n",
              "           DS2              46.5  47.2   14.7  19.2       20.1  25.3\n",
              "           DS3               7.7   8.2    1.4   0.5        0.3   2.7\n",
              "NT         1-target          4.0   4.3   40.6  38.0       25.4  26.4\n",
              "           high-targets     19.5  23.5   11.9  11.2        9.6  19.4\n",
              "           low-targets      47.9  46.8   32.0  33.7       34.3  31.5\n",
              "           med-targets      28.7  25.4   15.5  17.0       30.6  22.7"
            ]
          },
          "metadata": {
            "tags": []
          },
          "execution_count": 73
        }
      ]
    },
    {
      "cell_type": "markdown",
      "metadata": {
        "id": "LfGCO0JEFwrV",
        "colab_type": "text"
      },
      "source": [
        "All of this analysis shows that even when splitting the training dataset into a new train and validation splits the data distribution is kept realtively similar to the original train and standard test split."
      ]
    }
  ]
}