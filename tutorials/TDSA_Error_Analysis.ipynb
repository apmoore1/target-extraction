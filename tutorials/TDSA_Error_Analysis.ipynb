{
  "nbformat": 4,
  "nbformat_minor": 0,
  "metadata": {
    "colab": {
      "name": "TDSA_Error_Analysis.ipynb",
      "version": "0.3.2",
      "provenance": [],
      "collapsed_sections": [],
      "include_colab_link": true
    },
    "kernelspec": {
      "name": "python3",
      "display_name": "Python 3"
    }
  },
  "cells": [
    {
      "cell_type": "markdown",
      "metadata": {
        "id": "view-in-github",
        "colab_type": "text"
      },
      "source": [
        "<a href=\"https://colab.research.google.com/github/apmoore1/target-extraction/blob/master/tutorials/TDSA_Error_Analysis.ipynb\" target=\"_parent\"><img src=\"https://colab.research.google.com/assets/colab-badge.svg\" alt=\"Open In Colab\"/></a>"
      ]
    },
    {
      "cell_type": "code",
      "metadata": {
        "id": "l230j0lX2k85",
        "colab_type": "code",
        "colab": {}
      },
      "source": [
        "%%capture\n",
        "!pip install git+git://github.com/apmoore1/target-extraction.git@master#egg=target-extraction\n",
        "!pip install altair"
      ],
      "execution_count": 0,
      "outputs": []
    },
    {
      "cell_type": "code",
      "metadata": {
        "id": "xDrfDiWA2ma8",
        "colab_type": "code",
        "outputId": "b67717fc-0390-49c2-fd2b-66c1e6e8f85d",
        "colab": {
          "base_uri": "https://localhost:8080/",
          "height": 88
        }
      },
      "source": [
        "from typing import List, Tuple, Callable\n",
        "\n",
        "import altair as alt\n",
        "import pandas as pd\n",
        "from target_extraction.dataset_parsers import semeval_2014, wang_2017_election_twitter_test, wang_2017_election_twitter_train\n",
        "from target_extraction.data_types import TargetTextCollection\n",
        "\n",
        "alt.renderers.enable('colab')"
      ],
      "execution_count": 2,
      "outputs": [
        {
          "output_type": "stream",
          "text": [
            "/usr/local/lib/python3.6/dist-packages/sklearn/utils/linear_assignment_.py:21: DeprecationWarning: The linear_assignment_ module is deprecated in 0.21 and will be removed from 0.23. Use scipy.optimize.linear_sum_assignment instead.\n",
            "  DeprecationWarning)\n"
          ],
          "name": "stderr"
        },
        {
          "output_type": "execute_result",
          "data": {
            "text/plain": [
              "RendererRegistry.enable('colab')"
            ]
          },
          "metadata": {
            "tags": []
          },
          "execution_count": 2
        }
      ]
    },
    {
      "cell_type": "code",
      "metadata": {
        "id": "M4YPN-L47lOS",
        "colab_type": "code",
        "colab": {}
      },
      "source": [
        "def subset_dist_chart(subset_frame: pd.DataFrame, title: str,\n",
        "                      no_labels: bool = False) -> alt.vegalite.v3.api.Chart:\n",
        "  '''\n",
        "  :param subset_frame: A DataFrame containing the following columns: \n",
        "                       1. Data Subset, 2. Number of Samples (%),\n",
        "                       3. Number of Samples, 4. Dataset\n",
        "  :param title: A title to give to the generated plot\n",
        "  :param no_labels: Whether the Y-axis should have a label displayed\n",
        "  :returns: A plot that displays for each of the datasets the percentage of the \n",
        "            subsets in that dataset as stacked coloured coloumns.\n",
        "  '''\n",
        "  font_size = 14\n",
        "  y_axis_color = alt.Color('Data Subset', \n",
        "                           scale=alt.Scale(scheme='redyellowblue'))\n",
        "  y_axis = alt.Axis(title=None, labels=True, ticks=False)\n",
        "  y_col = alt.Y('Number of Samples (%)',\n",
        "                scale=alt.Scale(domain=[0, 100]))\n",
        "  if no_labels:\n",
        "    y_axis = alt.Axis(title=None, labels=True, ticks=False)\n",
        "    y_col = alt.Y('Number of Samples (%)', axis=y_axis,\n",
        "                  scale=alt.Scale(domain=[0, 100]))\n",
        "        \n",
        "  tooltip=['Number Samples', 'Data Subset',\n",
        "           'Number of Samples (%)']\n",
        "  subset_bar_data = {'x': 'Dataset', 'y': y_col, \n",
        "                     'color': y_axis_color, 'tooltip': tooltip}\n",
        "  chart= alt.Chart(subset_frame).mark_bar()\\\n",
        "                                .encode(**subset_bar_data)\\\n",
        "                                .properties(width=100)\n",
        "  chart.title = title\n",
        "  return chart\n",
        "\n",
        "def get_subset_data(train_test_name_datasets: List[Tuple[TargetTextCollection,TargetTextCollection,str]],\n",
        "                    subset_functions: Callable[[TargetTextCollection, TargetTextCollection, bool], TargetTextCollection],\n",
        "                    lower_target: bool) -> pd.DataFrame:\n",
        "  data_subset_names = []\n",
        "  number_samples = []\n",
        "  number_samples_percentage = []\n",
        "  dataset_names = []\n",
        "\n",
        "  for train, test, name in train_test_name_datasets:\n",
        "    test_size = test.number_targets()\n",
        "    for subset_func in subset_functions:\n",
        "      test = subset_func(test, train, lower_target)\n",
        "      subset_name = subset_func.__name__\n",
        "      num_in_subset = count_error_key_occurence(test, subset_name)\n",
        "      percentage_subset = (num_in_subset / test_size) * 100\n",
        "\n",
        "      subset_name = ' '.join([word.capitalize() for word in subset_name.split('_')])\n",
        "      data_subset_names.append(subset_name)\n",
        "      number_samples.append(num_in_subset)\n",
        "      number_samples_percentage.append(percentage_subset)\n",
        "      dataset_names.append(name)\n",
        "  return pd.DataFrame({'Dataset': dataset_names, \n",
        "                       'Number Samples': number_samples, \n",
        "                       'Number of Samples (%)': number_samples_percentage, \n",
        "                       'Data Subset': data_subset_names})\n",
        "\n",
        "def get_distinct_data(dataset_name: List[Tuple[TargetTextCollection,str]]\n",
        "                      ) -> pd.DataFrame:\n",
        "  data_subset_names = []\n",
        "  number_samples = []\n",
        "  number_samples_percentage = []\n",
        "  dataset_names = []\n",
        "  # Max number of distinct sentiments\n",
        "  max_distinct_sentiments = 3\n",
        "  \n",
        "  for dataset, name in dataset_name:\n",
        "    dataset_size = dataset.number_targets()\n",
        "    dataset = distinct_sentiment(dataset)\n",
        "    for i in range(1, max_distinct_sentiments + 1):\n",
        "      data_subset_name = f'DS {i}'\n",
        "      num_in_subset = 0\n",
        "      for target_object in dataset.values():\n",
        "        distinct_sentiment_number = target_object['distinct_sentiment']\n",
        "        if i in distinct_sentiment_number:\n",
        "          num_in_subset += len(distinct_sentiment_number)\n",
        "      percentage_subset = (num_in_subset / dataset_size) * 100\n",
        "\n",
        "      data_subset_names.append(data_subset_name)\n",
        "      number_samples.append(num_in_subset)\n",
        "      number_samples_percentage.append(percentage_subset)\n",
        "      dataset_names.append(name)\n",
        "  return pd.DataFrame({'Dataset': dataset_names, \n",
        "                       'Number Samples': number_samples, \n",
        "                       'Number of Samples (%)': number_samples_percentage, \n",
        "                       'Data Subset': data_subset_names})\n",
        "\n",
        "def get_target_distribution_data(sample_distribution: bool, \n",
        "                                 dataset_name: List[Tuple[TargetTextCollection, str]]\n",
        "                                 ) -> pd.DataFrame:\n",
        "  '''\n",
        "  :param sample_distribution: If true will return the Target count with respect\n",
        "                              to the dataset sample distribution. Else it will \n",
        "                              return the Target Count with respect to the \n",
        "                              target distribution\n",
        "  :param dataset_name: A list of tuples containing (TargetTextCollection, \n",
        "                       dataset name) where each datasets statistics will be \n",
        "                       created and returned together in the Pandas DataFrame.\n",
        "  :return: Pandas DataFrame containing statistics to create graphs that can \n",
        "           plot both the same and target distribution with respect to Target \n",
        "           count.\n",
        "  '''\n",
        "  target_counts = []\n",
        "  dataset = []\n",
        "  for target_dataset, name in dataset_name:\n",
        "    target_count = target_dataset.target_count(lower=True).values()\n",
        "    target_counts.extend(list(target_count))\n",
        "    dataset.extend([name] * len(target_count))\n",
        "  distribution_name = 'Targets'\n",
        "  if sample_distribution:\n",
        "    distribution_name = 'Samples'\n",
        "  column_name = f'Number {distribution_name}'\n",
        "  column_percentage = f'{distribution_name} (%)'\n",
        "  column_cumulative = f'{distribution_name} Cumulative (%)'\n",
        "\n",
        "  target_count_df = pd.DataFrame({'Target Count': target_counts,\n",
        "                                  'Dataset': dataset})\n",
        "  target_count_df = target_count_df.groupby(['Target Count', 'Dataset'])\n",
        "  if sample_distribution:\n",
        "    target_count_df = target_count_df['Target Count'].sum()\n",
        "  else:\n",
        "    target_count_df = target_count_df['Target Count'].count()\n",
        "  target_count_df = pd.DataFrame(target_count_df)\n",
        "  target_count_df = target_count_df.rename(columns={'Target Count': column_name})\n",
        "  target_count_df = target_count_df.reset_index()\n",
        "  target_count_df['index'] = target_count_df.index\n",
        "\n",
        "  targets_datasets = target_count_df.groupby(['Dataset'])\n",
        "  dataset_target_count = target_count_df.set_index(['Dataset', 'index'])[column_name]\n",
        "  dataset_num_targets = targets_datasets[column_name].sum()\n",
        "  targets_percentage = (dataset_target_count / dataset_num_targets) * 100\n",
        "  target_count_df[column_percentage] = targets_percentage.reset_index()[column_name]\n",
        "\n",
        "  target_count_df[column_cumulative] = target_count_df.groupby('Dataset')[column_percentage].cumsum()\n",
        "  target_count_df[column_cumulative] = target_count_df[column_cumulative].round(3)\n",
        "  return target_count_df"
      ],
      "execution_count": 0,
      "outputs": []
    },
    {
      "cell_type": "markdown",
      "metadata": {
        "id": "6uc-oes-dcyA",
        "colab_type": "text"
      },
      "source": [
        "# The different sentiment specific data subsets within Target/Aspect Dependent Sentiment Analysis (TDSA)\n",
        "In this notebook we will explore the different ways the TDSA datasets can be broken down via their sentiment and target specific properties. These subsets will come from related work in the field as well as new subsets.\n",
        "\n",
        "Before exploring any of these subsets I think we should first explore the distribution of Targets within the Training datasets and then the distribution of these targets with respect to the number of samples.\n",
        "\n",
        "## Target Distributions within the Training datasets\n",
        "Before any of this can happen we must first upload the 3 different datasets that we are going to explore, as to save room in this notebook look at the following notebook on details of how to run these cells. [NOTEBOOK](https://github.com/apmoore1/target-extraction/blob/master/tutorials/Load_and_Explore_Target_Extraction.ipynb)"
      ]
    },
    {
      "cell_type": "code",
      "metadata": {
        "id": "Kw7gzUuF2uGI",
        "colab_type": "code",
        "outputId": "e1a0f768-8a2d-4104-f389-8f5a1778f820",
        "colab": {
          "resources": {
            "http://localhost:8080/nbextensions/google.colab/files.js": {
              "data": "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",
              "ok": true,
              "headers": [
                [
                  "content-type",
                  "application/javascript"
                ]
              ],
              "status": 200,
              "status_text": ""
            }
          },
          "base_uri": "https://localhost:8080/",
          "height": 313
        }
      },
      "source": [
        "from pathlib import Path\n",
        "from google.colab import files\n",
        "uploaded = {}\n",
        "for i in range(4):\n",
        "  temp_uploaded = files.upload()\n",
        "  uploaded = {**uploaded, **temp_uploaded}\n",
        "semeval_fps = [Path(key).resolve() for key in uploaded.keys()]\n",
        "semeval_fps = {semeval_path.name: semeval_path for semeval_path in semeval_fps}\n",
        "del uploaded\n",
        "# Paths to the files uploaded\n",
        "for file_name, fp in semeval_fps.items():\n",
        "  print(f'SemEval file name: {file_name}. File Path {fp}')\n",
        "  \n",
        "laptop_train = semeval_2014(semeval_fps['Laptop_Train_v2.xml'], conflict=False)\n",
        "laptop_test = semeval_2014(semeval_fps['Laptops_Test_Gold.xml'], conflict=False)\n",
        "rest_train = semeval_2014(semeval_fps['Restaurants_Train_v2.xml'], conflict=False)\n",
        "rest_test = semeval_2014(semeval_fps['Restaurants_Test_Gold.xml'], conflict=False)\n",
        "elec_dir = Path('/tmp', 'elec_dir')\n",
        "elec_train = wang_2017_election_twitter_train(elec_dir)\n",
        "elec_test = wang_2017_election_twitter_test(elec_dir)\n",
        "\n",
        "train_test_datasets = [(laptop_train, laptop_test, 'Laptop'),\n",
        "                       (rest_train, rest_test, 'Restaurant'),\n",
        "                       (elec_train, elec_test, 'Election')]"
      ],
      "execution_count": 5,
      "outputs": [
        {
          "output_type": "display_data",
          "data": {
            "text/html": [
              "\n",
              "     <input type=\"file\" id=\"files-462398ce-6bd4-4dce-a057-b822bb2e74ee\" name=\"files[]\" multiple disabled />\n",
              "     <output id=\"result-462398ce-6bd4-4dce-a057-b822bb2e74ee\">\n",
              "      Upload widget is only available when the cell has been executed in the\n",
              "      current browser session. Please rerun this cell to enable.\n",
              "      </output>\n",
              "      <script src=\"/nbextensions/google.colab/files.js\"></script> "
            ],
            "text/plain": [
              "<IPython.core.display.HTML object>"
            ]
          },
          "metadata": {
            "tags": []
          }
        },
        {
          "output_type": "stream",
          "text": [
            "Saving Laptops_Test_Gold.xml to Laptops_Test_Gold.xml\n"
          ],
          "name": "stdout"
        },
        {
          "output_type": "display_data",
          "data": {
            "text/html": [
              "\n",
              "     <input type=\"file\" id=\"files-7bc15835-2740-4b74-a252-e2693995ac45\" name=\"files[]\" multiple disabled />\n",
              "     <output id=\"result-7bc15835-2740-4b74-a252-e2693995ac45\">\n",
              "      Upload widget is only available when the cell has been executed in the\n",
              "      current browser session. Please rerun this cell to enable.\n",
              "      </output>\n",
              "      <script src=\"/nbextensions/google.colab/files.js\"></script> "
            ],
            "text/plain": [
              "<IPython.core.display.HTML object>"
            ]
          },
          "metadata": {
            "tags": []
          }
        },
        {
          "output_type": "stream",
          "text": [
            "Saving Restaurants_Test_Gold.xml to Restaurants_Test_Gold.xml\n"
          ],
          "name": "stdout"
        },
        {
          "output_type": "display_data",
          "data": {
            "text/html": [
              "\n",
              "     <input type=\"file\" id=\"files-2c704c74-5bec-446e-a44b-bf83feeca8cf\" name=\"files[]\" multiple disabled />\n",
              "     <output id=\"result-2c704c74-5bec-446e-a44b-bf83feeca8cf\">\n",
              "      Upload widget is only available when the cell has been executed in the\n",
              "      current browser session. Please rerun this cell to enable.\n",
              "      </output>\n",
              "      <script src=\"/nbextensions/google.colab/files.js\"></script> "
            ],
            "text/plain": [
              "<IPython.core.display.HTML object>"
            ]
          },
          "metadata": {
            "tags": []
          }
        },
        {
          "output_type": "stream",
          "text": [
            "Saving Laptop_Train_v2.xml to Laptop_Train_v2.xml\n"
          ],
          "name": "stdout"
        },
        {
          "output_type": "display_data",
          "data": {
            "text/html": [
              "\n",
              "     <input type=\"file\" id=\"files-daff9921-52ad-4134-88c8-22d8c219eacd\" name=\"files[]\" multiple disabled />\n",
              "     <output id=\"result-daff9921-52ad-4134-88c8-22d8c219eacd\">\n",
              "      Upload widget is only available when the cell has been executed in the\n",
              "      current browser session. Please rerun this cell to enable.\n",
              "      </output>\n",
              "      <script src=\"/nbextensions/google.colab/files.js\"></script> "
            ],
            "text/plain": [
              "<IPython.core.display.HTML object>"
            ]
          },
          "metadata": {
            "tags": []
          }
        },
        {
          "output_type": "stream",
          "text": [
            "Saving Restaurants_Train_v2.xml to Restaurants_Train_v2.xml\n",
            "SemEval file name: Laptops_Test_Gold.xml. File Path /content/Laptops_Test_Gold.xml\n",
            "SemEval file name: Restaurants_Test_Gold.xml. File Path /content/Restaurants_Test_Gold.xml\n",
            "SemEval file name: Laptop_Train_v2.xml. File Path /content/Laptop_Train_v2.xml\n",
            "SemEval file name: Restaurants_Train_v2.xml. File Path /content/Restaurants_Train_v2.xml\n"
          ],
          "name": "stdout"
        }
      ]
    },
    {
      "cell_type": "markdown",
      "metadata": {
        "id": "Hy5vm6r9Twvg",
        "colab_type": "text"
      },
      "source": [
        "Now that we have the data we are going to plot the target distribution for each of the training datasets. To do this first we are going to manipulate the data within the TargetTextCollections to create a pandas dataframe in long form where we have the number of times a target has occured (Target Count) and the number of targets that have occurred that frequently as a percentage of all targets (Target (%)). This data can be seen below where we have printed the first 5 rows of the DataFrame.  "
      ]
    },
    {
      "cell_type": "code",
      "metadata": {
        "id": "zUtj6wBgAmXF",
        "colab_type": "code",
        "outputId": "ada09d95-9491-447b-bdb5-8b5f5a921c51",
        "colab": {
          "base_uri": "https://localhost:8080/",
          "height": 204
        }
      },
      "source": [
        "train_dataset_name = [(train, name) for train, test, name in train_test_datasets]\n",
        "target_count_df = get_target_distribution_data(sample_distribution=False,\n",
        "                                               dataset_name=train_dataset_name)\n",
        "target_count_df.head(5)"
      ],
      "execution_count": 6,
      "outputs": [
        {
          "output_type": "execute_result",
          "data": {
            "text/html": [
              "<div>\n",
              "<style scoped>\n",
              "    .dataframe tbody tr th:only-of-type {\n",
              "        vertical-align: middle;\n",
              "    }\n",
              "\n",
              "    .dataframe tbody tr th {\n",
              "        vertical-align: top;\n",
              "    }\n",
              "\n",
              "    .dataframe thead th {\n",
              "        text-align: right;\n",
              "    }\n",
              "</style>\n",
              "<table border=\"1\" class=\"dataframe\">\n",
              "  <thead>\n",
              "    <tr style=\"text-align: right;\">\n",
              "      <th></th>\n",
              "      <th>Target Count</th>\n",
              "      <th>Dataset</th>\n",
              "      <th>Number Targets</th>\n",
              "      <th>index</th>\n",
              "      <th>Targets (%)</th>\n",
              "      <th>Targets Cumulative (%)</th>\n",
              "    </tr>\n",
              "  </thead>\n",
              "  <tbody>\n",
              "    <tr>\n",
              "      <th>0</th>\n",
              "      <td>1</td>\n",
              "      <td>Election</td>\n",
              "      <td>1276</td>\n",
              "      <td>0</td>\n",
              "      <td>69.010276</td>\n",
              "      <td>69.010</td>\n",
              "    </tr>\n",
              "    <tr>\n",
              "      <th>1</th>\n",
              "      <td>1</td>\n",
              "      <td>Laptop</td>\n",
              "      <td>692</td>\n",
              "      <td>1</td>\n",
              "      <td>73.227513</td>\n",
              "      <td>73.228</td>\n",
              "    </tr>\n",
              "    <tr>\n",
              "      <th>2</th>\n",
              "      <td>1</td>\n",
              "      <td>Restaurant</td>\n",
              "      <td>895</td>\n",
              "      <td>2</td>\n",
              "      <td>74.895397</td>\n",
              "      <td>74.895</td>\n",
              "    </tr>\n",
              "    <tr>\n",
              "      <th>3</th>\n",
              "      <td>2</td>\n",
              "      <td>Election</td>\n",
              "      <td>176</td>\n",
              "      <td>3</td>\n",
              "      <td>9.518659</td>\n",
              "      <td>78.529</td>\n",
              "    </tr>\n",
              "    <tr>\n",
              "      <th>4</th>\n",
              "      <td>2</td>\n",
              "      <td>Laptop</td>\n",
              "      <td>116</td>\n",
              "      <td>4</td>\n",
              "      <td>12.275132</td>\n",
              "      <td>85.503</td>\n",
              "    </tr>\n",
              "  </tbody>\n",
              "</table>\n",
              "</div>"
            ],
            "text/plain": [
              "   Target Count     Dataset  ...  Targets (%)  Targets Cumulative (%)\n",
              "0             1    Election  ...    69.010276                  69.010\n",
              "1             1      Laptop  ...    73.227513                  73.228\n",
              "2             1  Restaurant  ...    74.895397                  74.895\n",
              "3             2    Election  ...     9.518659                  78.529\n",
              "4             2      Laptop  ...    12.275132                  85.503\n",
              "\n",
              "[5 rows x 6 columns]"
            ]
          },
          "metadata": {
            "tags": []
          },
          "execution_count": 6
        }
      ]
    },
    {
      "cell_type": "markdown",
      "metadata": {
        "id": "XZPhS5y7-J7a",
        "colab_type": "text"
      },
      "source": [
        "Below we are going to plot the Cumulative Target frequency:"
      ]
    },
    {
      "cell_type": "code",
      "metadata": {
        "id": "9N2X65Tb6YPI",
        "colab_type": "code",
        "outputId": "9230ed62-b82b-4acd-ad3c-169668905e4c",
        "colab": {
          "base_uri": "https://localhost:8080/",
          "height": 426
        }
      },
      "source": [
        "target_dist_chart = alt.Chart(target_count_df).mark_line(point=True).encode(\n",
        "    x=alt.X(\"Target Count:Q\"),\n",
        "    y=alt.Y('Targets Cumulative (%)', scale=alt.Scale(domain=(65, 100))),\n",
        "    color='Dataset',\n",
        "    tooltip=['Target Count', 'Targets Cumulative (%)', 'Dataset']\n",
        ")\n",
        "target_dist_chart.title = 'Target distribution'\n",
        "\n",
        "target_dist_chart_60 = target_dist_chart.transform_filter((alt.datum['Target Count'] <= 60))\n",
        "target_dist_chart_60.title = 'Target distribution (Up to count 60)'\n",
        "\n",
        "dataset_size = {'Dataset': [name for _, name in train_dataset_name],\n",
        "                'Number of Samples': [dataset.number_targets() \n",
        "                                      for dataset, _ in train_dataset_name]}\n",
        "dataset_size_df = pd.DataFrame(dataset_size)\n",
        "dataset_size_chart = alt.Chart(dataset_size_df).mark_bar().encode(\n",
        "    x='Dataset', y='Number of Samples', color='Dataset', \n",
        "    tooltip=['Dataset', 'Number of Samples'])\n",
        "\n",
        "target_dist_chart | target_dist_chart_60 | dataset_size_chart"
      ],
      "execution_count": 0,
      "outputs": [
        {
          "output_type": "execute_result",
          "data": {
            "text/plain": [
              "alt.HConcatChart(...)"
            ],
            "text/html": [
              "<!DOCTYPE html>\n",
              "<html>\n",
              "<head>\n",
              "  <style>\n",
              "    .vega-actions a {\n",
              "        margin-right: 12px;\n",
              "        color: #757575;\n",
              "        font-weight: normal;\n",
              "        font-size: 13px;\n",
              "    }\n",
              "    .error {\n",
              "        color: red;\n",
              "    }\n",
              "  </style>\n",
              "  <script type=\"text/javascript\" src=\"https://cdn.jsdelivr.net/npm//vega@5\"></script>\n",
              "  <script type=\"text/javascript\" src=\"https://cdn.jsdelivr.net/npm//vega-lite@3.4.0\"></script>\n",
              "  <script type=\"text/javascript\" src=\"https://cdn.jsdelivr.net/npm//vega-embed@4\"></script>\n",
              "</head>\n",
              "<body>\n",
              "  <div id=\"altair-viz\"></div>\n",
              "  <script>\n",
              "    (function(vegaEmbed) {\n",
              "      var spec = {\"config\": {\"view\": {\"width\": 400, \"height\": 300}, \"mark\": {\"tooltip\": null}}, \"hconcat\": [{\"mark\": {\"type\": \"line\", \"point\": true}, \"encoding\": {\"color\": {\"type\": \"nominal\", \"field\": \"Dataset\"}, \"tooltip\": [{\"type\": \"quantitative\", \"field\": \"Target Count\"}, {\"type\": \"quantitative\", \"field\": \"Targets Cumulative (%)\"}, {\"type\": \"nominal\", \"field\": \"Dataset\"}], \"x\": {\"type\": \"quantitative\", \"field\": \"Target Count\"}, \"y\": {\"type\": \"quantitative\", \"field\": \"Targets Cumulative (%)\", \"scale\": {\"domain\": [65, 100]}}}, \"title\": \"Target distribution\"}, {\"mark\": {\"type\": \"line\", \"point\": true}, \"encoding\": {\"color\": {\"type\": \"nominal\", \"field\": \"Dataset\"}, \"tooltip\": [{\"type\": \"quantitative\", \"field\": \"Target Count\"}, {\"type\": \"quantitative\", \"field\": \"Targets Cumulative (%)\"}, {\"type\": \"nominal\", \"field\": \"Dataset\"}], \"x\": {\"type\": \"quantitative\", \"field\": \"Target Count\"}, \"y\": {\"type\": \"quantitative\", \"field\": \"Targets Cumulative (%)\", \"scale\": {\"domain\": [65, 100]}}}, \"title\": \"Target distribution (Up to count 60)\", \"transform\": [{\"filter\": \"(datum['Target Count'] <= 60)\"}]}, {\"data\": {\"name\": \"data-97c1493f78dd420f6e90570c6f6633f2\"}, \"mark\": \"bar\", \"encoding\": {\"color\": {\"type\": \"nominal\", \"field\": \"Dataset\"}, \"tooltip\": [{\"type\": \"nominal\", \"field\": \"Dataset\"}, {\"type\": \"quantitative\", \"field\": \"Number of Samples\"}], \"x\": {\"type\": \"nominal\", \"field\": \"Dataset\"}, \"y\": {\"type\": \"quantitative\", \"field\": \"Number of Samples\"}}}], \"data\": {\"name\": \"data-35b4479f23ed25d225136e776edf910e\"}, \"$schema\": \"https://vega.github.io/schema/vega-lite/v3.4.0.json\", \"datasets\": {\"data-35b4479f23ed25d225136e776edf910e\": [{\"Target Count\": 1, \"Dataset\": \"Election\", \"Number Targets\": 1276, \"index\": 0, \"Targets (%)\": 69.01027582477015, \"Targets Cumulative (%)\": 69.01}, {\"Target Count\": 1, \"Dataset\": \"Laptop\", \"Number Targets\": 692, \"index\": 1, \"Targets (%)\": 73.22751322751323, \"Targets Cumulative (%)\": 73.228}, {\"Target Count\": 1, \"Dataset\": \"Restaurant\", \"Number Targets\": 895, \"index\": 2, \"Targets (%)\": 74.89539748953975, \"Targets Cumulative (%)\": 74.895}, {\"Target Count\": 2, \"Dataset\": \"Election\", \"Number Targets\": 176, \"index\": 3, \"Targets (%)\": 9.518658734451055, \"Targets Cumulative (%)\": 78.529}, {\"Target Count\": 2, \"Dataset\": \"Laptop\", \"Number Targets\": 116, \"index\": 4, \"Targets (%)\": 12.275132275132275, \"Targets Cumulative (%)\": 85.503}, {\"Target Count\": 2, \"Dataset\": \"Restaurant\", \"Number Targets\": 125, \"index\": 5, \"Targets (%)\": 10.460251046025103, \"Targets Cumulative (%)\": 85.356}, {\"Target Count\": 3, \"Dataset\": \"Election\", \"Number Targets\": 90, \"index\": 6, \"Targets (%)\": 4.86749594375338, \"Targets Cumulative (%)\": 83.396}, {\"Target Count\": 3, \"Dataset\": \"Laptop\", \"Number Targets\": 31, \"index\": 7, \"Targets (%)\": 3.28042328042328, \"Targets Cumulative (%)\": 88.783}, {\"Target Count\": 3, \"Dataset\": \"Restaurant\", \"Number Targets\": 43, \"index\": 8, \"Targets (%)\": 3.5983263598326363, \"Targets Cumulative (%)\": 88.954}, {\"Target Count\": 4, \"Dataset\": \"Election\", \"Number Targets\": 60, \"index\": 9, \"Targets (%)\": 3.244997295835587, \"Targets Cumulative (%)\": 86.641}, {\"Target Count\": 4, \"Dataset\": \"Laptop\", \"Number Targets\": 25, \"index\": 10, \"Targets (%)\": 2.6455026455026456, \"Targets Cumulative (%)\": 91.429}, {\"Target Count\": 4, \"Dataset\": \"Restaurant\", \"Number Targets\": 18, \"index\": 11, \"Targets (%)\": 1.506276150627615, \"Targets Cumulative (%)\": 90.46}, {\"Target Count\": 5, \"Dataset\": \"Election\", \"Number Targets\": 30, \"index\": 12, \"Targets (%)\": 1.6224986479177934, \"Targets Cumulative (%)\": 88.264}, {\"Target Count\": 5, \"Dataset\": \"Laptop\", \"Number Targets\": 12, \"index\": 13, \"Targets (%)\": 1.2698412698412698, \"Targets Cumulative (%)\": 92.698}, {\"Target Count\": 5, \"Dataset\": \"Restaurant\", \"Number Targets\": 19, \"index\": 14, \"Targets (%)\": 1.5899581589958158, \"Targets Cumulative (%)\": 92.05}, {\"Target Count\": 6, \"Dataset\": \"Election\", \"Number Targets\": 19, \"index\": 15, \"Targets (%)\": 1.0275824770146025, \"Targets Cumulative (%)\": 89.292}, {\"Target Count\": 6, \"Dataset\": \"Laptop\", \"Number Targets\": 7, \"index\": 16, \"Targets (%)\": 0.7407407407407408, \"Targets Cumulative (%)\": 93.439}, {\"Target Count\": 6, \"Dataset\": \"Restaurant\", \"Number Targets\": 17, \"index\": 17, \"Targets (%)\": 1.4225941422594142, \"Targets Cumulative (%)\": 93.473}, {\"Target Count\": 7, \"Dataset\": \"Election\", \"Number Targets\": 25, \"index\": 18, \"Targets (%)\": 1.352082206598161, \"Targets Cumulative (%)\": 90.644}, {\"Target Count\": 7, \"Dataset\": \"Laptop\", \"Number Targets\": 10, \"index\": 19, \"Targets (%)\": 1.0582010582010581, \"Targets Cumulative (%)\": 94.497}, {\"Target Count\": 7, \"Dataset\": \"Restaurant\", \"Number Targets\": 4, \"index\": 20, \"Targets (%)\": 0.33472803347280333, \"Targets Cumulative (%)\": 93.808}, {\"Target Count\": 8, \"Dataset\": \"Election\", \"Number Targets\": 15, \"index\": 21, \"Targets (%)\": 0.8112493239588967, \"Targets Cumulative (%)\": 91.455}, {\"Target Count\": 8, \"Dataset\": \"Laptop\", \"Number Targets\": 4, \"index\": 22, \"Targets (%)\": 0.4232804232804233, \"Targets Cumulative (%)\": 94.921}, {\"Target Count\": 8, \"Dataset\": \"Restaurant\", \"Number Targets\": 7, \"index\": 23, \"Targets (%)\": 0.5857740585774058, \"Targets Cumulative (%)\": 94.393}, {\"Target Count\": 9, \"Dataset\": \"Election\", \"Number Targets\": 14, \"index\": 24, \"Targets (%)\": 0.7571660356949702, \"Targets Cumulative (%)\": 92.212}, {\"Target Count\": 9, \"Dataset\": \"Laptop\", \"Number Targets\": 8, \"index\": 25, \"Targets (%)\": 0.8465608465608466, \"Targets Cumulative (%)\": 95.767}, {\"Target Count\": 9, \"Dataset\": \"Restaurant\", \"Number Targets\": 8, \"index\": 26, \"Targets (%)\": 0.6694560669456067, \"Targets Cumulative (%)\": 95.063}, {\"Target Count\": 10, \"Dataset\": \"Election\", \"Number Targets\": 6, \"index\": 27, \"Targets (%)\": 0.32449972958355866, \"Targets Cumulative (%)\": 92.537}, {\"Target Count\": 10, \"Dataset\": \"Laptop\", \"Number Targets\": 3, \"index\": 28, \"Targets (%)\": 0.31746031746031744, \"Targets Cumulative (%)\": 96.085}, {\"Target Count\": 10, \"Dataset\": \"Restaurant\", \"Number Targets\": 6, \"index\": 29, \"Targets (%)\": 0.502092050209205, \"Targets Cumulative (%)\": 95.565}, {\"Target Count\": 11, \"Dataset\": \"Election\", \"Number Targets\": 6, \"index\": 30, \"Targets (%)\": 0.32449972958355866, \"Targets Cumulative (%)\": 92.861}, {\"Target Count\": 11, \"Dataset\": \"Laptop\", \"Number Targets\": 5, \"index\": 31, \"Targets (%)\": 0.5291005291005291, \"Targets Cumulative (%)\": 96.614}, {\"Target Count\": 11, \"Dataset\": \"Restaurant\", \"Number Targets\": 5, \"index\": 32, \"Targets (%)\": 0.41841004184100417, \"Targets Cumulative (%)\": 95.983}, {\"Target Count\": 12, \"Dataset\": \"Election\", \"Number Targets\": 9, \"index\": 33, \"Targets (%)\": 0.48674959437533805, \"Targets Cumulative (%)\": 93.348}, {\"Target Count\": 12, \"Dataset\": \"Laptop\", \"Number Targets\": 2, \"index\": 34, \"Targets (%)\": 0.21164021164021166, \"Targets Cumulative (%)\": 96.825}, {\"Target Count\": 12, \"Dataset\": \"Restaurant\", \"Number Targets\": 4, \"index\": 35, \"Targets (%)\": 0.33472803347280333, \"Targets Cumulative (%)\": 96.318}, {\"Target Count\": 13, \"Dataset\": \"Election\", \"Number Targets\": 3, \"index\": 36, \"Targets (%)\": 0.16224986479177933, \"Targets Cumulative (%)\": 93.51}, {\"Target Count\": 13, \"Dataset\": \"Laptop\", \"Number Targets\": 6, \"index\": 37, \"Targets (%)\": 0.6349206349206349, \"Targets Cumulative (%)\": 97.46}, {\"Target Count\": 13, \"Dataset\": \"Restaurant\", \"Number Targets\": 4, \"index\": 38, \"Targets (%)\": 0.33472803347280333, \"Targets Cumulative (%)\": 96.653}, {\"Target Count\": 14, \"Dataset\": \"Election\", \"Number Targets\": 7, \"index\": 39, \"Targets (%)\": 0.3785830178474851, \"Targets Cumulative (%)\": 93.889}, {\"Target Count\": 14, \"Dataset\": \"Laptop\", \"Number Targets\": 3, \"index\": 40, \"Targets (%)\": 0.31746031746031744, \"Targets Cumulative (%)\": 97.778}, {\"Target Count\": 14, \"Dataset\": \"Restaurant\", \"Number Targets\": 5, \"index\": 41, \"Targets (%)\": 0.41841004184100417, \"Targets Cumulative (%)\": 97.071}, {\"Target Count\": 15, \"Dataset\": \"Election\", \"Number Targets\": 7, \"index\": 42, \"Targets (%)\": 0.3785830178474851, \"Targets Cumulative (%)\": 94.267}, {\"Target Count\": 15, \"Dataset\": \"Restaurant\", \"Number Targets\": 1, \"index\": 43, \"Targets (%)\": 0.08368200836820083, \"Targets Cumulative (%)\": 97.155}, {\"Target Count\": 16, \"Dataset\": \"Election\", \"Number Targets\": 5, \"index\": 44, \"Targets (%)\": 0.2704164413196322, \"Targets Cumulative (%)\": 94.538}, {\"Target Count\": 16, \"Dataset\": \"Laptop\", \"Number Targets\": 1, \"index\": 45, \"Targets (%)\": 0.10582010582010583, \"Targets Cumulative (%)\": 97.884}, {\"Target Count\": 16, \"Dataset\": \"Restaurant\", \"Number Targets\": 2, \"index\": 46, \"Targets (%)\": 0.16736401673640167, \"Targets Cumulative (%)\": 97.322}, {\"Target Count\": 17, \"Dataset\": \"Election\", \"Number Targets\": 7, \"index\": 47, \"Targets (%)\": 0.3785830178474851, \"Targets Cumulative (%)\": 94.916}, {\"Target Count\": 17, \"Dataset\": \"Laptop\", \"Number Targets\": 2, \"index\": 48, \"Targets (%)\": 0.21164021164021166, \"Targets Cumulative (%)\": 98.095}, {\"Target Count\": 17, \"Dataset\": \"Restaurant\", \"Number Targets\": 1, \"index\": 49, \"Targets (%)\": 0.08368200836820083, \"Targets Cumulative (%)\": 97.406}, {\"Target Count\": 18, \"Dataset\": \"Election\", \"Number Targets\": 3, \"index\": 50, \"Targets (%)\": 0.16224986479177933, \"Targets Cumulative (%)\": 95.078}, {\"Target Count\": 18, \"Dataset\": \"Laptop\", \"Number Targets\": 2, \"index\": 51, \"Targets (%)\": 0.21164021164021166, \"Targets Cumulative (%)\": 98.307}, {\"Target Count\": 18, \"Dataset\": \"Restaurant\", \"Number Targets\": 4, \"index\": 52, \"Targets (%)\": 0.33472803347280333, \"Targets Cumulative (%)\": 97.741}, {\"Target Count\": 19, \"Dataset\": \"Election\", \"Number Targets\": 4, \"index\": 53, \"Targets (%)\": 0.2163331530557058, \"Targets Cumulative (%)\": 95.295}, {\"Target Count\": 19, \"Dataset\": \"Restaurant\", \"Number Targets\": 2, \"index\": 54, \"Targets (%)\": 0.16736401673640167, \"Targets Cumulative (%)\": 97.908}, {\"Target Count\": 20, \"Dataset\": \"Election\", \"Number Targets\": 1, \"index\": 55, \"Targets (%)\": 0.05408328826392645, \"Targets Cumulative (%)\": 95.349}, {\"Target Count\": 20, \"Dataset\": \"Restaurant\", \"Number Targets\": 1, \"index\": 56, \"Targets (%)\": 0.08368200836820083, \"Targets Cumulative (%)\": 97.992}, {\"Target Count\": 21, \"Dataset\": \"Election\", \"Number Targets\": 2, \"index\": 57, \"Targets (%)\": 0.1081665765278529, \"Targets Cumulative (%)\": 95.457}, {\"Target Count\": 21, \"Dataset\": \"Laptop\", \"Number Targets\": 1, \"index\": 58, \"Targets (%)\": 0.10582010582010583, \"Targets Cumulative (%)\": 98.413}, {\"Target Count\": 21, \"Dataset\": \"Restaurant\", \"Number Targets\": 1, \"index\": 59, \"Targets (%)\": 0.08368200836820083, \"Targets Cumulative (%)\": 98.075}, {\"Target Count\": 22, \"Dataset\": \"Election\", \"Number Targets\": 4, \"index\": 60, \"Targets (%)\": 0.2163331530557058, \"Targets Cumulative (%)\": 95.673}, {\"Target Count\": 22, \"Dataset\": \"Restaurant\", \"Number Targets\": 1, \"index\": 61, \"Targets (%)\": 0.08368200836820083, \"Targets Cumulative (%)\": 98.159}, {\"Target Count\": 23, \"Dataset\": \"Election\", \"Number Targets\": 4, \"index\": 62, \"Targets (%)\": 0.2163331530557058, \"Targets Cumulative (%)\": 95.89}, {\"Target Count\": 23, \"Dataset\": \"Laptop\", \"Number Targets\": 2, \"index\": 63, \"Targets (%)\": 0.21164021164021166, \"Targets Cumulative (%)\": 98.624}, {\"Target Count\": 24, \"Dataset\": \"Election\", \"Number Targets\": 5, \"index\": 64, \"Targets (%)\": 0.2704164413196322, \"Targets Cumulative (%)\": 96.16}, {\"Target Count\": 24, \"Dataset\": \"Laptop\", \"Number Targets\": 1, \"index\": 65, \"Targets (%)\": 0.10582010582010583, \"Targets Cumulative (%)\": 98.73}, {\"Target Count\": 24, \"Dataset\": \"Restaurant\", \"Number Targets\": 1, \"index\": 66, \"Targets (%)\": 0.08368200836820083, \"Targets Cumulative (%)\": 98.243}, {\"Target Count\": 25, \"Dataset\": \"Election\", \"Number Targets\": 3, \"index\": 67, \"Targets (%)\": 0.16224986479177933, \"Targets Cumulative (%)\": 96.322}, {\"Target Count\": 25, \"Dataset\": \"Restaurant\", \"Number Targets\": 1, \"index\": 68, \"Targets (%)\": 0.08368200836820083, \"Targets Cumulative (%)\": 98.326}, {\"Target Count\": 26, \"Dataset\": \"Election\", \"Number Targets\": 2, \"index\": 69, \"Targets (%)\": 0.1081665765278529, \"Targets Cumulative (%)\": 96.431}, {\"Target Count\": 26, \"Dataset\": \"Restaurant\", \"Number Targets\": 2, \"index\": 70, \"Targets (%)\": 0.16736401673640167, \"Targets Cumulative (%)\": 98.494}, {\"Target Count\": 27, \"Dataset\": \"Election\", \"Number Targets\": 3, \"index\": 71, \"Targets (%)\": 0.16224986479177933, \"Targets Cumulative (%)\": 96.593}, {\"Target Count\": 27, \"Dataset\": \"Restaurant\", \"Number Targets\": 1, \"index\": 72, \"Targets (%)\": 0.08368200836820083, \"Targets Cumulative (%)\": 98.577}, {\"Target Count\": 28, \"Dataset\": \"Election\", \"Number Targets\": 3, \"index\": 73, \"Targets (%)\": 0.16224986479177933, \"Targets Cumulative (%)\": 96.755}, {\"Target Count\": 28, \"Dataset\": \"Restaurant\", \"Number Targets\": 1, \"index\": 74, \"Targets (%)\": 0.08368200836820083, \"Targets Cumulative (%)\": 98.661}, {\"Target Count\": 29, \"Dataset\": \"Restaurant\", \"Number Targets\": 1, \"index\": 75, \"Targets (%)\": 0.08368200836820083, \"Targets Cumulative (%)\": 98.745}, {\"Target Count\": 30, \"Dataset\": \"Election\", \"Number Targets\": 1, \"index\": 76, \"Targets (%)\": 0.05408328826392645, \"Targets Cumulative (%)\": 96.809}, {\"Target Count\": 30, \"Dataset\": \"Laptop\", \"Number Targets\": 2, \"index\": 77, \"Targets (%)\": 0.21164021164021166, \"Targets Cumulative (%)\": 98.942}, {\"Target Count\": 31, \"Dataset\": \"Election\", \"Number Targets\": 1, \"index\": 78, \"Targets (%)\": 0.05408328826392645, \"Targets Cumulative (%)\": 96.863}, {\"Target Count\": 31, \"Dataset\": \"Laptop\", \"Number Targets\": 1, \"index\": 79, \"Targets (%)\": 0.10582010582010583, \"Targets Cumulative (%)\": 99.048}, {\"Target Count\": 32, \"Dataset\": \"Election\", \"Number Targets\": 1, \"index\": 80, \"Targets (%)\": 0.05408328826392645, \"Targets Cumulative (%)\": 96.917}, {\"Target Count\": 32, \"Dataset\": \"Restaurant\", \"Number Targets\": 1, \"index\": 81, \"Targets (%)\": 0.08368200836820083, \"Targets Cumulative (%)\": 98.828}, {\"Target Count\": 33, \"Dataset\": \"Election\", \"Number Targets\": 1, \"index\": 82, \"Targets (%)\": 0.05408328826392645, \"Targets Cumulative (%)\": 96.971}, {\"Target Count\": 33, \"Dataset\": \"Laptop\", \"Number Targets\": 1, \"index\": 83, \"Targets (%)\": 0.10582010582010583, \"Targets Cumulative (%)\": 99.153}, {\"Target Count\": 34, \"Dataset\": \"Election\", \"Number Targets\": 3, \"index\": 84, \"Targets (%)\": 0.16224986479177933, \"Targets Cumulative (%)\": 97.134}, {\"Target Count\": 35, \"Dataset\": \"Election\", \"Number Targets\": 3, \"index\": 85, \"Targets (%)\": 0.16224986479177933, \"Targets Cumulative (%)\": 97.296}, {\"Target Count\": 35, \"Dataset\": \"Laptop\", \"Number Targets\": 1, \"index\": 86, \"Targets (%)\": 0.10582010582010583, \"Targets Cumulative (%)\": 99.259}, {\"Target Count\": 35, \"Dataset\": \"Restaurant\", \"Number Targets\": 1, \"index\": 87, \"Targets (%)\": 0.08368200836820083, \"Targets Cumulative (%)\": 98.912}, {\"Target Count\": 36, \"Dataset\": \"Election\", \"Number Targets\": 2, \"index\": 88, \"Targets (%)\": 0.1081665765278529, \"Targets Cumulative (%)\": 97.404}, {\"Target Count\": 37, \"Dataset\": \"Election\", \"Number Targets\": 2, \"index\": 89, \"Targets (%)\": 0.1081665765278529, \"Targets Cumulative (%)\": 97.512}, {\"Target Count\": 37, \"Dataset\": \"Laptop\", \"Number Targets\": 1, \"index\": 90, \"Targets (%)\": 0.10582010582010583, \"Targets Cumulative (%)\": 99.365}, {\"Target Count\": 37, \"Dataset\": \"Restaurant\", \"Number Targets\": 1, \"index\": 91, \"Targets (%)\": 0.08368200836820083, \"Targets Cumulative (%)\": 98.996}, {\"Target Count\": 38, \"Dataset\": \"Election\", \"Number Targets\": 3, \"index\": 92, \"Targets (%)\": 0.16224986479177933, \"Targets Cumulative (%)\": 97.674}, {\"Target Count\": 39, \"Dataset\": \"Election\", \"Number Targets\": 2, \"index\": 93, \"Targets (%)\": 0.1081665765278529, \"Targets Cumulative (%)\": 97.783}, {\"Target Count\": 40, \"Dataset\": \"Election\", \"Number Targets\": 2, \"index\": 94, \"Targets (%)\": 0.1081665765278529, \"Targets Cumulative (%)\": 97.891}, {\"Target Count\": 40, \"Dataset\": \"Restaurant\", \"Number Targets\": 1, \"index\": 95, \"Targets (%)\": 0.08368200836820083, \"Targets Cumulative (%)\": 99.079}, {\"Target Count\": 41, \"Dataset\": \"Restaurant\", \"Number Targets\": 2, \"index\": 96, \"Targets (%)\": 0.16736401673640167, \"Targets Cumulative (%)\": 99.247}, {\"Target Count\": 42, \"Dataset\": \"Election\", \"Number Targets\": 2, \"index\": 97, \"Targets (%)\": 0.1081665765278529, \"Targets Cumulative (%)\": 97.999}, {\"Target Count\": 43, \"Dataset\": \"Election\", \"Number Targets\": 1, \"index\": 98, \"Targets (%)\": 0.05408328826392645, \"Targets Cumulative (%)\": 98.053}, {\"Target Count\": 44, \"Dataset\": \"Election\", \"Number Targets\": 2, \"index\": 99, \"Targets (%)\": 0.1081665765278529, \"Targets Cumulative (%)\": 98.161}, {\"Target Count\": 46, \"Dataset\": \"Election\", \"Number Targets\": 1, \"index\": 100, \"Targets (%)\": 0.05408328826392645, \"Targets Cumulative (%)\": 98.215}, {\"Target Count\": 46, \"Dataset\": \"Restaurant\", \"Number Targets\": 1, \"index\": 101, \"Targets (%)\": 0.08368200836820083, \"Targets Cumulative (%)\": 99.331}, {\"Target Count\": 47, \"Dataset\": \"Election\", \"Number Targets\": 2, \"index\": 102, \"Targets (%)\": 0.1081665765278529, \"Targets Cumulative (%)\": 98.323}, {\"Target Count\": 47, \"Dataset\": \"Laptop\", \"Number Targets\": 1, \"index\": 103, \"Targets (%)\": 0.10582010582010583, \"Targets Cumulative (%)\": 99.471}, {\"Target Count\": 48, \"Dataset\": \"Election\", \"Number Targets\": 1, \"index\": 104, \"Targets (%)\": 0.05408328826392645, \"Targets Cumulative (%)\": 98.378}, {\"Target Count\": 49, \"Dataset\": \"Election\", \"Number Targets\": 1, \"index\": 105, \"Targets (%)\": 0.05408328826392645, \"Targets Cumulative (%)\": 98.432}, {\"Target Count\": 50, \"Dataset\": \"Laptop\", \"Number Targets\": 1, \"index\": 106, \"Targets (%)\": 0.10582010582010583, \"Targets Cumulative (%)\": 99.577}, {\"Target Count\": 51, \"Dataset\": \"Restaurant\", \"Number Targets\": 1, \"index\": 107, \"Targets (%)\": 0.08368200836820083, \"Targets Cumulative (%)\": 99.414}, {\"Target Count\": 52, \"Dataset\": \"Laptop\", \"Number Targets\": 1, \"index\": 108, \"Targets (%)\": 0.10582010582010583, \"Targets Cumulative (%)\": 99.683}, {\"Target Count\": 53, \"Dataset\": \"Election\", \"Number Targets\": 1, \"index\": 109, \"Targets (%)\": 0.05408328826392645, \"Targets Cumulative (%)\": 98.486}, {\"Target Count\": 53, \"Dataset\": \"Laptop\", \"Number Targets\": 1, \"index\": 110, \"Targets (%)\": 0.10582010582010583, \"Targets Cumulative (%)\": 99.788}, {\"Target Count\": 54, \"Dataset\": \"Election\", \"Number Targets\": 1, \"index\": 111, \"Targets (%)\": 0.05408328826392645, \"Targets Cumulative (%)\": 98.54}, {\"Target Count\": 55, \"Dataset\": \"Election\", \"Number Targets\": 1, \"index\": 112, \"Targets (%)\": 0.05408328826392645, \"Targets Cumulative (%)\": 98.594}, {\"Target Count\": 55, \"Dataset\": \"Restaurant\", \"Number Targets\": 2, \"index\": 113, \"Targets (%)\": 0.16736401673640167, \"Targets Cumulative (%)\": 99.582}, {\"Target Count\": 56, \"Dataset\": \"Election\", \"Number Targets\": 1, \"index\": 114, \"Targets (%)\": 0.05408328826392645, \"Targets Cumulative (%)\": 98.648}, {\"Target Count\": 56, \"Dataset\": \"Laptop\", \"Number Targets\": 1, \"index\": 115, \"Targets (%)\": 0.10582010582010583, \"Targets Cumulative (%)\": 99.894}, {\"Target Count\": 56, \"Dataset\": \"Restaurant\", \"Number Targets\": 1, \"index\": 116, \"Targets (%)\": 0.08368200836820083, \"Targets Cumulative (%)\": 99.665}, {\"Target Count\": 59, \"Dataset\": \"Restaurant\", \"Number Targets\": 1, \"index\": 117, \"Targets (%)\": 0.08368200836820083, \"Targets Cumulative (%)\": 99.749}, {\"Target Count\": 60, \"Dataset\": \"Election\", \"Number Targets\": 1, \"index\": 118, \"Targets (%)\": 0.05408328826392645, \"Targets Cumulative (%)\": 98.702}, {\"Target Count\": 60, \"Dataset\": \"Laptop\", \"Number Targets\": 1, \"index\": 119, \"Targets (%)\": 0.10582010582010583, \"Targets Cumulative (%)\": 100.0}, {\"Target Count\": 61, \"Dataset\": \"Election\", \"Number Targets\": 1, \"index\": 120, \"Targets (%)\": 0.05408328826392645, \"Targets Cumulative (%)\": 98.756}, {\"Target Count\": 63, \"Dataset\": \"Restaurant\", \"Number Targets\": 1, \"index\": 121, \"Targets (%)\": 0.08368200836820083, \"Targets Cumulative (%)\": 99.833}, {\"Target Count\": 71, \"Dataset\": \"Election\", \"Number Targets\": 1, \"index\": 122, \"Targets (%)\": 0.05408328826392645, \"Targets Cumulative (%)\": 98.81}, {\"Target Count\": 73, \"Dataset\": \"Election\", \"Number Targets\": 1, \"index\": 123, \"Targets (%)\": 0.05408328826392645, \"Targets Cumulative (%)\": 98.864}, {\"Target Count\": 86, \"Dataset\": \"Election\", \"Number Targets\": 1, \"index\": 124, \"Targets (%)\": 0.05408328826392645, \"Targets Cumulative (%)\": 98.918}, {\"Target Count\": 94, \"Dataset\": \"Election\", \"Number Targets\": 1, \"index\": 125, \"Targets (%)\": 0.05408328826392645, \"Targets Cumulative (%)\": 98.972}, {\"Target Count\": 95, \"Dataset\": \"Election\", \"Number Targets\": 2, \"index\": 126, \"Targets (%)\": 0.1081665765278529, \"Targets Cumulative (%)\": 99.081}, {\"Target Count\": 100, \"Dataset\": \"Election\", \"Number Targets\": 2, \"index\": 127, \"Targets (%)\": 0.1081665765278529, \"Targets Cumulative (%)\": 99.189}, {\"Target Count\": 109, \"Dataset\": \"Election\", \"Number Targets\": 1, \"index\": 128, \"Targets (%)\": 0.05408328826392645, \"Targets Cumulative (%)\": 99.243}, {\"Target Count\": 119, \"Dataset\": \"Election\", \"Number Targets\": 2, \"index\": 129, \"Targets (%)\": 0.1081665765278529, \"Targets Cumulative (%)\": 99.351}, {\"Target Count\": 122, \"Dataset\": \"Election\", \"Number Targets\": 1, \"index\": 130, \"Targets (%)\": 0.05408328826392645, \"Targets Cumulative (%)\": 99.405}, {\"Target Count\": 127, \"Dataset\": \"Election\", \"Number Targets\": 1, \"index\": 131, \"Targets (%)\": 0.05408328826392645, \"Targets Cumulative (%)\": 99.459}, {\"Target Count\": 139, \"Dataset\": \"Election\", \"Number Targets\": 1, \"index\": 132, \"Targets (%)\": 0.05408328826392645, \"Targets Cumulative (%)\": 99.513}, {\"Target Count\": 141, \"Dataset\": \"Election\", \"Number Targets\": 1, \"index\": 133, \"Targets (%)\": 0.05408328826392645, \"Targets Cumulative (%)\": 99.567}, {\"Target Count\": 155, \"Dataset\": \"Election\", \"Number Targets\": 1, \"index\": 134, \"Targets (%)\": 0.05408328826392645, \"Targets Cumulative (%)\": 99.621}, {\"Target Count\": 170, \"Dataset\": \"Election\", \"Number Targets\": 1, \"index\": 135, \"Targets (%)\": 0.05408328826392645, \"Targets Cumulative (%)\": 99.676}, {\"Target Count\": 183, \"Dataset\": \"Election\", \"Number Targets\": 1, \"index\": 136, \"Targets (%)\": 0.05408328826392645, \"Targets Cumulative (%)\": 99.73}, {\"Target Count\": 195, \"Dataset\": \"Election\", \"Number Targets\": 1, \"index\": 137, \"Targets (%)\": 0.05408328826392645, \"Targets Cumulative (%)\": 99.784}, {\"Target Count\": 223, \"Dataset\": \"Election\", \"Number Targets\": 1, \"index\": 138, \"Targets (%)\": 0.05408328826392645, \"Targets Cumulative (%)\": 99.838}, {\"Target Count\": 225, \"Dataset\": \"Restaurant\", \"Number Targets\": 1, \"index\": 139, \"Targets (%)\": 0.08368200836820083, \"Targets Cumulative (%)\": 99.916}, {\"Target Count\": 281, \"Dataset\": \"Election\", \"Number Targets\": 1, \"index\": 140, \"Targets (%)\": 0.05408328826392645, \"Targets Cumulative (%)\": 99.892}, {\"Target Count\": 304, \"Dataset\": \"Election\", \"Number Targets\": 1, \"index\": 141, \"Targets (%)\": 0.05408328826392645, \"Targets Cumulative (%)\": 99.946}, {\"Target Count\": 360, \"Dataset\": \"Restaurant\", \"Number Targets\": 1, \"index\": 142, \"Targets (%)\": 0.08368200836820083, \"Targets Cumulative (%)\": 100.0}, {\"Target Count\": 433, \"Dataset\": \"Election\", \"Number Targets\": 1, \"index\": 143, \"Targets (%)\": 0.05408328826392645, \"Targets Cumulative (%)\": 100.0}], \"data-97c1493f78dd420f6e90570c6f6633f2\": [{\"Dataset\": \"Laptop\", \"Number of Samples\": 2313}, {\"Dataset\": \"Restaurant\", \"Number of Samples\": 3602}, {\"Dataset\": \"Election\", \"Number of Samples\": 9358}]}};\n",
              "      var embedOpt = {\"mode\": \"vega-lite\"};\n",
              "\n",
              "      function showError(el, error){\n",
              "          el.innerHTML = ('<div class=\"error\" style=\"color:red;\">'\n",
              "                          + '<p>JavaScript Error: ' + error.message + '</p>'\n",
              "                          + \"<p>This usually means there's a typo in your chart specification. \"\n",
              "                          + \"See the javascript console for the full traceback.</p>\"\n",
              "                          + '</div>');\n",
              "          throw error;\n",
              "      }\n",
              "      const el = document.getElementById('altair-viz');\n",
              "      vegaEmbed(\"#altair-viz\", spec, embedOpt)\n",
              "        .catch(error => showError(el, error));\n",
              "    })(vegaEmbed);\n",
              "\n",
              "  </script>\n",
              "</body>\n",
              "</html>"
            ]
          },
          "metadata": {
            "tags": []
          },
          "execution_count": 7
        }
      ]
    },
    {
      "cell_type": "markdown",
      "metadata": {
        "id": "MuL8g57--VxP",
        "colab_type": "text"
      },
      "source": [
        "As we can see from above at least 69% of all Targets occur only once in the Dataset showing that the dataset has a rather large number of targets where we only have a One-Shot learning setup to understand the potentially non-trival target specific sentiment e.g. `a long battery` is a good sentiment for battery but if the target was `movie` then this would be negative.\n",
        "\n",
        "On the opposite end of the scale we see the differences in the datasets where the Laptop dataset more targets occuring less often, where the most frequent targets occur only 60 times in comparison to the Restaurant and Election datasets which have targets occuring up to 360 and 433 times.\n",
        "\n",
        "These differences in frequencies can be due to the differences in dataset sizes as shown by the far right bar plot.\n",
        "\n",
        "## Target Distributions with respect to the number of samples within the Training datasets\n",
        "Again like before we first need to create the data to plot which is done below. The function creates a dataframe that cotains the number of time a target occurs (Target Count) as well as the number of samples that contain those targets that occur for that number of times (Number Samples) e.g. below for the Election dataset for the Target Count of 1 there are 1276 samples in the dataset that contain target that have only occured 1 further more for the Target Count 2 there are 352 samples that contain targets that have occured twice. "
      ]
    },
    {
      "cell_type": "code",
      "metadata": {
        "id": "uCERVqVt8UCe",
        "colab_type": "code",
        "outputId": "23878431-610a-4c10-915d-2178a24473fa",
        "colab": {
          "base_uri": "https://localhost:8080/",
          "height": 204
        }
      },
      "source": [
        "target_sample_df = get_target_distribution_data(sample_distribution=True,\n",
        "                                                dataset_name=train_dataset_name)\n",
        "target_sample_df.head(5)"
      ],
      "execution_count": 0,
      "outputs": [
        {
          "output_type": "execute_result",
          "data": {
            "text/html": [
              "<div>\n",
              "<style scoped>\n",
              "    .dataframe tbody tr th:only-of-type {\n",
              "        vertical-align: middle;\n",
              "    }\n",
              "\n",
              "    .dataframe tbody tr th {\n",
              "        vertical-align: top;\n",
              "    }\n",
              "\n",
              "    .dataframe thead th {\n",
              "        text-align: right;\n",
              "    }\n",
              "</style>\n",
              "<table border=\"1\" class=\"dataframe\">\n",
              "  <thead>\n",
              "    <tr style=\"text-align: right;\">\n",
              "      <th></th>\n",
              "      <th>Target Count</th>\n",
              "      <th>Dataset</th>\n",
              "      <th>Number Samples</th>\n",
              "      <th>index</th>\n",
              "      <th>Samples (%)</th>\n",
              "      <th>Samples Cumulative (%)</th>\n",
              "    </tr>\n",
              "  </thead>\n",
              "  <tbody>\n",
              "    <tr>\n",
              "      <th>0</th>\n",
              "      <td>1</td>\n",
              "      <td>Election</td>\n",
              "      <td>1276</td>\n",
              "      <td>0</td>\n",
              "      <td>13.635392</td>\n",
              "      <td>13.635</td>\n",
              "    </tr>\n",
              "    <tr>\n",
              "      <th>1</th>\n",
              "      <td>1</td>\n",
              "      <td>Laptop</td>\n",
              "      <td>692</td>\n",
              "      <td>1</td>\n",
              "      <td>29.917856</td>\n",
              "      <td>29.918</td>\n",
              "    </tr>\n",
              "    <tr>\n",
              "      <th>2</th>\n",
              "      <td>1</td>\n",
              "      <td>Restaurant</td>\n",
              "      <td>895</td>\n",
              "      <td>2</td>\n",
              "      <td>24.847307</td>\n",
              "      <td>24.847</td>\n",
              "    </tr>\n",
              "    <tr>\n",
              "      <th>3</th>\n",
              "      <td>2</td>\n",
              "      <td>Election</td>\n",
              "      <td>352</td>\n",
              "      <td>3</td>\n",
              "      <td>3.761487</td>\n",
              "      <td>17.397</td>\n",
              "    </tr>\n",
              "    <tr>\n",
              "      <th>4</th>\n",
              "      <td>2</td>\n",
              "      <td>Laptop</td>\n",
              "      <td>232</td>\n",
              "      <td>4</td>\n",
              "      <td>10.030264</td>\n",
              "      <td>39.948</td>\n",
              "    </tr>\n",
              "  </tbody>\n",
              "</table>\n",
              "</div>"
            ],
            "text/plain": [
              "   Target Count     Dataset  ...  Samples (%)  Samples Cumulative (%)\n",
              "0             1    Election  ...    13.635392                  13.635\n",
              "1             1      Laptop  ...    29.917856                  29.918\n",
              "2             1  Restaurant  ...    24.847307                  24.847\n",
              "3             2    Election  ...     3.761487                  17.397\n",
              "4             2      Laptop  ...    10.030264                  39.948\n",
              "\n",
              "[5 rows x 6 columns]"
            ]
          },
          "metadata": {
            "tags": []
          },
          "execution_count": 8
        }
      ]
    },
    {
      "cell_type": "markdown",
      "metadata": {
        "id": "OTV6VEwhO1BH",
        "colab_type": "text"
      },
      "source": [
        "Below we plot the Target count against the cumulative number of samples."
      ]
    },
    {
      "cell_type": "code",
      "metadata": {
        "id": "hDGgiknZ5evb",
        "colab_type": "code",
        "outputId": "752ed61d-95e7-438c-b564-09b8dfbaa2b9",
        "colab": {
          "base_uri": "https://localhost:8080/",
          "height": 387
        }
      },
      "source": [
        "chart = alt.Chart(target_sample_df).mark_line(point=True).encode(\n",
        "    x=alt.X(\"Target Count:Q\"),\n",
        "    y=alt.Y('Samples Cumulative (%)'),\n",
        "    color='Dataset',\n",
        "    tooltip=['Target Count', 'Samples Cumulative (%)', 'Dataset']\n",
        ")\n",
        "chart.title = 'Data distribution through target count'\n",
        "\n",
        "cumulative_data_51 = target_sample_df[target_sample_df['Samples Cumulative (%)']<=51]\n",
        "chart_50 = alt.Chart(cumulative_data_51).mark_area(opacity=0.4).encode(\n",
        "    x=alt.X(\"Target Count:Q\"),\n",
        "    y=alt.Y('Samples Cumulative (%)'),\n",
        "    color='Dataset'\n",
        ")\n",
        "# Plotting the points for the Target Count where the Samples Cumulative (%) \n",
        "# is at least 50%\n",
        "data_50_points = target_sample_df[target_sample_df['Samples Cumulative (%)'] >= 50]\n",
        "data_50_points = data_50_points.groupby('Dataset').first().reset_index()\n",
        "chart_50_point = alt.Chart(data_50_points).mark_circle(color='black').encode(\n",
        "    x=alt.X(\"Target Count:Q\"),\n",
        "    y=alt.Y('Samples Cumulative (%)')\n",
        ")\n",
        "text = chart_50_point.mark_text(\n",
        "    align='left',\n",
        "    baseline='middle',\n",
        "    dx=10\n",
        ").encode(\n",
        "    text='Target Count:Q'\n",
        ")\n",
        "# Plotting the points where Target Count is 1 and displaying the text\n",
        "# for the Samples Cumulative (%) score.\n",
        "target_1_points = target_sample_df[target_sample_df['Target Count'] == 1]\n",
        "chart_1_point = alt.Chart(target_1_points).mark_circle(color='gray').encode(\n",
        "    x=alt.X(\"Target Count:Q\"),\n",
        "    y=alt.Y('Samples Cumulative (%)')\n",
        ")\n",
        "text_1_point = chart_1_point.mark_text(\n",
        "    align='left',\n",
        "    baseline='middle',\n",
        "    dx=10\n",
        ").encode(\n",
        "    text='Samples Cumulative (%)'\n",
        ")\n",
        "\n",
        "chart_50.title = 'Data distribution through target count (Samples Cumulative <=51)'\n",
        "chart | chart_50 + chart_50_point + text + chart_1_point + text_1_point"
      ],
      "execution_count": 0,
      "outputs": [
        {
          "output_type": "execute_result",
          "data": {
            "text/plain": [
              "alt.HConcatChart(...)"
            ],
            "text/html": [
              "<!DOCTYPE html>\n",
              "<html>\n",
              "<head>\n",
              "  <style>\n",
              "    .vega-actions a {\n",
              "        margin-right: 12px;\n",
              "        color: #757575;\n",
              "        font-weight: normal;\n",
              "        font-size: 13px;\n",
              "    }\n",
              "    .error {\n",
              "        color: red;\n",
              "    }\n",
              "  </style>\n",
              "  <script type=\"text/javascript\" src=\"https://cdn.jsdelivr.net/npm//vega@5\"></script>\n",
              "  <script type=\"text/javascript\" src=\"https://cdn.jsdelivr.net/npm//vega-lite@3.4.0\"></script>\n",
              "  <script type=\"text/javascript\" src=\"https://cdn.jsdelivr.net/npm//vega-embed@4\"></script>\n",
              "</head>\n",
              "<body>\n",
              "  <div id=\"altair-viz\"></div>\n",
              "  <script>\n",
              "    (function(vegaEmbed) {\n",
              "      var spec = {\"config\": {\"view\": {\"width\": 400, \"height\": 300}, \"mark\": {\"tooltip\": null}}, \"hconcat\": [{\"data\": {\"name\": \"data-5a75a7ad5710c817f29588e4411a99c3\"}, \"mark\": {\"type\": \"line\", \"point\": true}, \"encoding\": {\"color\": {\"type\": \"nominal\", \"field\": \"Dataset\"}, \"tooltip\": [{\"type\": \"quantitative\", \"field\": \"Target Count\"}, {\"type\": \"quantitative\", \"field\": \"Samples Cumulative (%)\"}, {\"type\": \"nominal\", \"field\": \"Dataset\"}], \"x\": {\"type\": \"quantitative\", \"field\": \"Target Count\"}, \"y\": {\"type\": \"quantitative\", \"field\": \"Samples Cumulative (%)\"}}, \"title\": \"Data distribution through target count\"}, {\"layer\": [{\"data\": {\"name\": \"data-42d9191c2be30f42332ed962bd2ce077\"}, \"mark\": {\"type\": \"area\", \"opacity\": 0.4}, \"encoding\": {\"color\": {\"type\": \"nominal\", \"field\": \"Dataset\"}, \"x\": {\"type\": \"quantitative\", \"field\": \"Target Count\"}, \"y\": {\"type\": \"quantitative\", \"field\": \"Samples Cumulative (%)\"}}, \"title\": \"Data distribution through target count (Samples Cumulative <=51)\"}, {\"data\": {\"name\": \"data-f1186b94df38ae955b91c2f3d17fbffe\"}, \"mark\": {\"type\": \"circle\", \"color\": \"black\"}, \"encoding\": {\"x\": {\"type\": \"quantitative\", \"field\": \"Target Count\"}, \"y\": {\"type\": \"quantitative\", \"field\": \"Samples Cumulative (%)\"}}}, {\"data\": {\"name\": \"data-f1186b94df38ae955b91c2f3d17fbffe\"}, \"mark\": {\"type\": \"text\", \"align\": \"left\", \"baseline\": \"middle\", \"dx\": 10}, \"encoding\": {\"text\": {\"type\": \"quantitative\", \"field\": \"Target Count\"}, \"x\": {\"type\": \"quantitative\", \"field\": \"Target Count\"}, \"y\": {\"type\": \"quantitative\", \"field\": \"Samples Cumulative (%)\"}}}, {\"data\": {\"name\": \"data-b3b03ad40ad88855ce628428d210c2d1\"}, \"mark\": {\"type\": \"circle\", \"color\": \"gray\"}, \"encoding\": {\"x\": {\"type\": \"quantitative\", \"field\": \"Target Count\"}, \"y\": {\"type\": \"quantitative\", \"field\": \"Samples Cumulative (%)\"}}}, {\"data\": {\"name\": \"data-b3b03ad40ad88855ce628428d210c2d1\"}, \"mark\": {\"type\": \"text\", \"align\": \"left\", \"baseline\": \"middle\", \"dx\": 10}, \"encoding\": {\"text\": {\"type\": \"quantitative\", \"field\": \"Samples Cumulative (%)\"}, \"x\": {\"type\": \"quantitative\", \"field\": \"Target Count\"}, \"y\": {\"type\": \"quantitative\", \"field\": \"Samples Cumulative (%)\"}}}]}], \"$schema\": \"https://vega.github.io/schema/vega-lite/v3.4.0.json\", \"datasets\": {\"data-5a75a7ad5710c817f29588e4411a99c3\": [{\"Target Count\": 1, \"Dataset\": \"Election\", \"Number Samples\": 1276, \"index\": 0, \"Samples (%)\": 13.635392177815772, \"Samples Cumulative (%)\": 13.635}, {\"Target Count\": 1, \"Dataset\": \"Laptop\", \"Number Samples\": 692, \"index\": 1, \"Samples (%)\": 29.91785559878945, \"Samples Cumulative (%)\": 29.918}, {\"Target Count\": 1, \"Dataset\": \"Restaurant\", \"Number Samples\": 895, \"index\": 2, \"Samples (%)\": 24.84730705163798, \"Samples Cumulative (%)\": 24.847}, {\"Target Count\": 2, \"Dataset\": \"Election\", \"Number Samples\": 352, \"index\": 3, \"Samples (%)\": 3.761487497328489, \"Samples Cumulative (%)\": 17.397}, {\"Target Count\": 2, \"Dataset\": \"Laptop\", \"Number Samples\": 232, \"index\": 4, \"Samples (%)\": 10.030263726761781, \"Samples Cumulative (%)\": 39.948}, {\"Target Count\": 2, \"Dataset\": \"Restaurant\", \"Number Samples\": 250, \"index\": 5, \"Samples (%)\": 6.940588561910049, \"Samples Cumulative (%)\": 31.788}, {\"Target Count\": 3, \"Dataset\": \"Election\", \"Number Samples\": 270, \"index\": 6, \"Samples (%)\": 2.885231887155375, \"Samples Cumulative (%)\": 20.282}, {\"Target Count\": 3, \"Dataset\": \"Laptop\", \"Number Samples\": 93, \"index\": 7, \"Samples (%)\": 4.020752269779507, \"Samples Cumulative (%)\": 43.969}, {\"Target Count\": 3, \"Dataset\": \"Restaurant\", \"Number Samples\": 129, \"index\": 8, \"Samples (%)\": 3.581343697945586, \"Samples Cumulative (%)\": 35.369}, {\"Target Count\": 4, \"Dataset\": \"Election\", \"Number Samples\": 240, \"index\": 9, \"Samples (%)\": 2.5646505663603336, \"Samples Cumulative (%)\": 22.847}, {\"Target Count\": 4, \"Dataset\": \"Laptop\", \"Number Samples\": 100, \"index\": 10, \"Samples (%)\": 4.323389537397319, \"Samples Cumulative (%)\": 48.292}, {\"Target Count\": 4, \"Dataset\": \"Restaurant\", \"Number Samples\": 72, \"index\": 11, \"Samples (%)\": 1.9988895058300944, \"Samples Cumulative (%)\": 37.368}, {\"Target Count\": 5, \"Dataset\": \"Election\", \"Number Samples\": 150, \"index\": 12, \"Samples (%)\": 1.6029066039752085, \"Samples Cumulative (%)\": 24.45}, {\"Target Count\": 5, \"Dataset\": \"Laptop\", \"Number Samples\": 60, \"index\": 13, \"Samples (%)\": 2.594033722438392, \"Samples Cumulative (%)\": 50.886}, {\"Target Count\": 5, \"Dataset\": \"Restaurant\", \"Number Samples\": 95, \"index\": 14, \"Samples (%)\": 2.637423653525819, \"Samples Cumulative (%)\": 40.006}, {\"Target Count\": 6, \"Dataset\": \"Election\", \"Number Samples\": 114, \"index\": 15, \"Samples (%)\": 1.2182090190211583, \"Samples Cumulative (%)\": 25.668}, {\"Target Count\": 6, \"Dataset\": \"Laptop\", \"Number Samples\": 42, \"index\": 16, \"Samples (%)\": 1.8158236057068744, \"Samples Cumulative (%)\": 52.702}, {\"Target Count\": 6, \"Dataset\": \"Restaurant\", \"Number Samples\": 102, \"index\": 17, \"Samples (%)\": 2.8317601332593, \"Samples Cumulative (%)\": 42.837}, {\"Target Count\": 7, \"Dataset\": \"Election\", \"Number Samples\": 175, \"index\": 18, \"Samples (%)\": 1.8700577046377433, \"Samples Cumulative (%)\": 27.538}, {\"Target Count\": 7, \"Dataset\": \"Laptop\", \"Number Samples\": 70, \"index\": 19, \"Samples (%)\": 3.0263726761781236, \"Samples Cumulative (%)\": 55.728}, {\"Target Count\": 7, \"Dataset\": \"Restaurant\", \"Number Samples\": 28, \"index\": 20, \"Samples (%)\": 0.7773459189339256, \"Samples Cumulative (%)\": 43.615}, {\"Target Count\": 8, \"Dataset\": \"Election\", \"Number Samples\": 120, \"index\": 21, \"Samples (%)\": 1.2823252831801668, \"Samples Cumulative (%)\": 28.82}, {\"Target Count\": 8, \"Dataset\": \"Laptop\", \"Number Samples\": 32, \"index\": 22, \"Samples (%)\": 1.3834846519671422, \"Samples Cumulative (%)\": 57.112}, {\"Target Count\": 8, \"Dataset\": \"Restaurant\", \"Number Samples\": 56, \"index\": 23, \"Samples (%)\": 1.5546918378678511, \"Samples Cumulative (%)\": 45.169}, {\"Target Count\": 9, \"Dataset\": \"Election\", \"Number Samples\": 126, \"index\": 24, \"Samples (%)\": 1.3464415473391749, \"Samples Cumulative (%)\": 30.167}, {\"Target Count\": 9, \"Dataset\": \"Laptop\", \"Number Samples\": 72, \"index\": 25, \"Samples (%)\": 3.11284046692607, \"Samples Cumulative (%)\": 60.225}, {\"Target Count\": 9, \"Dataset\": \"Restaurant\", \"Number Samples\": 72, \"index\": 26, \"Samples (%)\": 1.9988895058300944, \"Samples Cumulative (%)\": 47.168}, {\"Target Count\": 10, \"Dataset\": \"Election\", \"Number Samples\": 60, \"index\": 27, \"Samples (%)\": 0.6411626415900834, \"Samples Cumulative (%)\": 30.808}, {\"Target Count\": 10, \"Dataset\": \"Laptop\", \"Number Samples\": 30, \"index\": 28, \"Samples (%)\": 1.297016861219196, \"Samples Cumulative (%)\": 61.522}, {\"Target Count\": 10, \"Dataset\": \"Restaurant\", \"Number Samples\": 60, \"index\": 29, \"Samples (%)\": 1.6657412548584118, \"Samples Cumulative (%)\": 48.834}, {\"Target Count\": 11, \"Dataset\": \"Election\", \"Number Samples\": 66, \"index\": 30, \"Samples (%)\": 0.7052789057490917, \"Samples Cumulative (%)\": 31.513}, {\"Target Count\": 11, \"Dataset\": \"Laptop\", \"Number Samples\": 55, \"index\": 31, \"Samples (%)\": 2.3778642455685257, \"Samples Cumulative (%)\": 63.9}, {\"Target Count\": 11, \"Dataset\": \"Restaurant\", \"Number Samples\": 55, \"index\": 32, \"Samples (%)\": 1.526929483620211, \"Samples Cumulative (%)\": 50.361}, {\"Target Count\": 12, \"Dataset\": \"Election\", \"Number Samples\": 108, \"index\": 33, \"Samples (%)\": 1.15409275486215, \"Samples Cumulative (%)\": 32.667}, {\"Target Count\": 12, \"Dataset\": \"Laptop\", \"Number Samples\": 24, \"index\": 34, \"Samples (%)\": 1.0376134889753565, \"Samples Cumulative (%)\": 64.937}, {\"Target Count\": 12, \"Dataset\": \"Restaurant\", \"Number Samples\": 48, \"index\": 35, \"Samples (%)\": 1.3325930038867295, \"Samples Cumulative (%)\": 51.694}, {\"Target Count\": 13, \"Dataset\": \"Election\", \"Number Samples\": 39, \"index\": 36, \"Samples (%)\": 0.41675571703355413, \"Samples Cumulative (%)\": 33.084}, {\"Target Count\": 13, \"Dataset\": \"Laptop\", \"Number Samples\": 78, \"index\": 37, \"Samples (%)\": 3.372243839169909, \"Samples Cumulative (%)\": 68.31}, {\"Target Count\": 13, \"Dataset\": \"Restaurant\", \"Number Samples\": 52, \"index\": 38, \"Samples (%)\": 1.4436424208772902, \"Samples Cumulative (%)\": 53.137}, {\"Target Count\": 14, \"Dataset\": \"Election\", \"Number Samples\": 98, \"index\": 39, \"Samples (%)\": 1.0472323145971363, \"Samples Cumulative (%)\": 34.131}, {\"Target Count\": 14, \"Dataset\": \"Laptop\", \"Number Samples\": 42, \"index\": 40, \"Samples (%)\": 1.8158236057068744, \"Samples Cumulative (%)\": 70.125}, {\"Target Count\": 14, \"Dataset\": \"Restaurant\", \"Number Samples\": 70, \"index\": 41, \"Samples (%)\": 1.943364797334814, \"Samples Cumulative (%)\": 55.081}, {\"Target Count\": 15, \"Dataset\": \"Election\", \"Number Samples\": 105, \"index\": 42, \"Samples (%)\": 1.1220346227826459, \"Samples Cumulative (%)\": 35.253}, {\"Target Count\": 15, \"Dataset\": \"Restaurant\", \"Number Samples\": 15, \"index\": 43, \"Samples (%)\": 0.41643531371460296, \"Samples Cumulative (%)\": 55.497}, {\"Target Count\": 16, \"Dataset\": \"Election\", \"Number Samples\": 80, \"index\": 44, \"Samples (%)\": 0.8548835221201111, \"Samples Cumulative (%)\": 36.108}, {\"Target Count\": 16, \"Dataset\": \"Laptop\", \"Number Samples\": 16, \"index\": 45, \"Samples (%)\": 0.6917423259835711, \"Samples Cumulative (%)\": 70.817}, {\"Target Count\": 16, \"Dataset\": \"Restaurant\", \"Number Samples\": 32, \"index\": 46, \"Samples (%)\": 0.8883953359244865, \"Samples Cumulative (%)\": 56.385}, {\"Target Count\": 17, \"Dataset\": \"Election\", \"Number Samples\": 119, \"index\": 47, \"Samples (%)\": 1.2716392391536653, \"Samples Cumulative (%)\": 37.38}, {\"Target Count\": 17, \"Dataset\": \"Laptop\", \"Number Samples\": 34, \"index\": 48, \"Samples (%)\": 1.4699524427150885, \"Samples Cumulative (%)\": 72.287}, {\"Target Count\": 17, \"Dataset\": \"Restaurant\", \"Number Samples\": 17, \"index\": 49, \"Samples (%)\": 0.4719600222098834, \"Samples Cumulative (%)\": 56.857}, {\"Target Count\": 18, \"Dataset\": \"Election\", \"Number Samples\": 54, \"index\": 50, \"Samples (%)\": 0.577046377431075, \"Samples Cumulative (%)\": 37.957}, {\"Target Count\": 18, \"Dataset\": \"Laptop\", \"Number Samples\": 36, \"index\": 51, \"Samples (%)\": 1.556420233463035, \"Samples Cumulative (%)\": 73.843}, {\"Target Count\": 18, \"Dataset\": \"Restaurant\", \"Number Samples\": 72, \"index\": 52, \"Samples (%)\": 1.9988895058300944, \"Samples Cumulative (%)\": 58.856}, {\"Target Count\": 19, \"Dataset\": \"Election\", \"Number Samples\": 76, \"index\": 53, \"Samples (%)\": 0.8121393460141056, \"Samples Cumulative (%)\": 38.769}, {\"Target Count\": 19, \"Dataset\": \"Restaurant\", \"Number Samples\": 38, \"index\": 54, \"Samples (%)\": 1.0549694614103275, \"Samples Cumulative (%)\": 59.911}, {\"Target Count\": 20, \"Dataset\": \"Election\", \"Number Samples\": 20, \"index\": 55, \"Samples (%)\": 0.21372088053002777, \"Samples Cumulative (%)\": 38.983}, {\"Target Count\": 20, \"Dataset\": \"Restaurant\", \"Number Samples\": 20, \"index\": 56, \"Samples (%)\": 0.5552470849528041, \"Samples Cumulative (%)\": 60.466}, {\"Target Count\": 21, \"Dataset\": \"Election\", \"Number Samples\": 42, \"index\": 57, \"Samples (%)\": 0.4488138491130583, \"Samples Cumulative (%)\": 39.432}, {\"Target Count\": 21, \"Dataset\": \"Laptop\", \"Number Samples\": 21, \"index\": 58, \"Samples (%)\": 0.9079118028534372, \"Samples Cumulative (%)\": 74.751}, {\"Target Count\": 21, \"Dataset\": \"Restaurant\", \"Number Samples\": 21, \"index\": 59, \"Samples (%)\": 0.5830094392004442, \"Samples Cumulative (%)\": 61.049}, {\"Target Count\": 22, \"Dataset\": \"Election\", \"Number Samples\": 88, \"index\": 60, \"Samples (%)\": 0.9403718743321222, \"Samples Cumulative (%)\": 40.372}, {\"Target Count\": 22, \"Dataset\": \"Restaurant\", \"Number Samples\": 22, \"index\": 61, \"Samples (%)\": 0.6107717934480844, \"Samples Cumulative (%)\": 61.66}, {\"Target Count\": 23, \"Dataset\": \"Election\", \"Number Samples\": 92, \"index\": 62, \"Samples (%)\": 0.9831160504381278, \"Samples Cumulative (%)\": 41.355}, {\"Target Count\": 23, \"Dataset\": \"Laptop\", \"Number Samples\": 46, \"index\": 63, \"Samples (%)\": 1.9887591872027668, \"Samples Cumulative (%)\": 76.74}, {\"Target Count\": 24, \"Dataset\": \"Election\", \"Number Samples\": 120, \"index\": 64, \"Samples (%)\": 1.2823252831801668, \"Samples Cumulative (%)\": 42.637}, {\"Target Count\": 24, \"Dataset\": \"Laptop\", \"Number Samples\": 24, \"index\": 65, \"Samples (%)\": 1.0376134889753565, \"Samples Cumulative (%)\": 77.778}, {\"Target Count\": 24, \"Dataset\": \"Restaurant\", \"Number Samples\": 24, \"index\": 66, \"Samples (%)\": 0.6662965019433648, \"Samples Cumulative (%)\": 62.326}, {\"Target Count\": 25, \"Dataset\": \"Election\", \"Number Samples\": 75, \"index\": 67, \"Samples (%)\": 0.8014533019876042, \"Samples Cumulative (%)\": 43.439}, {\"Target Count\": 25, \"Dataset\": \"Restaurant\", \"Number Samples\": 25, \"index\": 68, \"Samples (%)\": 0.6940588561910049, \"Samples Cumulative (%)\": 63.021}, {\"Target Count\": 26, \"Dataset\": \"Election\", \"Number Samples\": 52, \"index\": 69, \"Samples (%)\": 0.5556742893780722, \"Samples Cumulative (%)\": 43.994}, {\"Target Count\": 26, \"Dataset\": \"Restaurant\", \"Number Samples\": 52, \"index\": 70, \"Samples (%)\": 1.4436424208772902, \"Samples Cumulative (%)\": 64.464}, {\"Target Count\": 27, \"Dataset\": \"Election\", \"Number Samples\": 81, \"index\": 71, \"Samples (%)\": 0.8655695661466125, \"Samples Cumulative (%)\": 44.86}, {\"Target Count\": 27, \"Dataset\": \"Restaurant\", \"Number Samples\": 27, \"index\": 72, \"Samples (%)\": 0.7495835646862854, \"Samples Cumulative (%)\": 65.214}, {\"Target Count\": 28, \"Dataset\": \"Election\", \"Number Samples\": 84, \"index\": 73, \"Samples (%)\": 0.8976276982261167, \"Samples Cumulative (%)\": 45.758}, {\"Target Count\": 28, \"Dataset\": \"Restaurant\", \"Number Samples\": 28, \"index\": 74, \"Samples (%)\": 0.7773459189339256, \"Samples Cumulative (%)\": 65.991}, {\"Target Count\": 29, \"Dataset\": \"Restaurant\", \"Number Samples\": 29, \"index\": 75, \"Samples (%)\": 0.8051082731815657, \"Samples Cumulative (%)\": 66.796}, {\"Target Count\": 30, \"Dataset\": \"Election\", \"Number Samples\": 30, \"index\": 76, \"Samples (%)\": 0.3205813207950417, \"Samples Cumulative (%)\": 46.078}, {\"Target Count\": 30, \"Dataset\": \"Laptop\", \"Number Samples\": 60, \"index\": 77, \"Samples (%)\": 2.594033722438392, \"Samples Cumulative (%)\": 80.372}, {\"Target Count\": 31, \"Dataset\": \"Election\", \"Number Samples\": 31, \"index\": 78, \"Samples (%)\": 0.33126736482154306, \"Samples Cumulative (%)\": 46.409}, {\"Target Count\": 31, \"Dataset\": \"Laptop\", \"Number Samples\": 31, \"index\": 79, \"Samples (%)\": 1.340250756593169, \"Samples Cumulative (%)\": 81.712}, {\"Target Count\": 32, \"Dataset\": \"Election\", \"Number Samples\": 32, \"index\": 80, \"Samples (%)\": 0.3419534088480444, \"Samples Cumulative (%)\": 46.751}, {\"Target Count\": 32, \"Dataset\": \"Restaurant\", \"Number Samples\": 32, \"index\": 81, \"Samples (%)\": 0.8883953359244865, \"Samples Cumulative (%)\": 67.685}, {\"Target Count\": 33, \"Dataset\": \"Election\", \"Number Samples\": 33, \"index\": 82, \"Samples (%)\": 0.35263945287454584, \"Samples Cumulative (%)\": 47.104}, {\"Target Count\": 33, \"Dataset\": \"Laptop\", \"Number Samples\": 33, \"index\": 83, \"Samples (%)\": 1.4267185473411155, \"Samples Cumulative (%)\": 83.139}, {\"Target Count\": 34, \"Dataset\": \"Election\", \"Number Samples\": 102, \"index\": 84, \"Samples (%)\": 1.0899764907031417, \"Samples Cumulative (%)\": 48.194}, {\"Target Count\": 35, \"Dataset\": \"Election\", \"Number Samples\": 105, \"index\": 85, \"Samples (%)\": 1.1220346227826459, \"Samples Cumulative (%)\": 49.316}, {\"Target Count\": 35, \"Dataset\": \"Laptop\", \"Number Samples\": 35, \"index\": 86, \"Samples (%)\": 1.5131863380890618, \"Samples Cumulative (%)\": 84.652}, {\"Target Count\": 35, \"Dataset\": \"Restaurant\", \"Number Samples\": 35, \"index\": 87, \"Samples (%)\": 0.971682398667407, \"Samples Cumulative (%)\": 68.656}, {\"Target Count\": 36, \"Dataset\": \"Election\", \"Number Samples\": 72, \"index\": 88, \"Samples (%)\": 0.7693951699081001, \"Samples Cumulative (%)\": 50.085}, {\"Target Count\": 37, \"Dataset\": \"Election\", \"Number Samples\": 74, \"index\": 89, \"Samples (%)\": 0.7907672579611028, \"Samples Cumulative (%)\": 50.876}, {\"Target Count\": 37, \"Dataset\": \"Laptop\", \"Number Samples\": 37, \"index\": 90, \"Samples (%)\": 1.599654128837008, \"Samples Cumulative (%)\": 86.252}, {\"Target Count\": 37, \"Dataset\": \"Restaurant\", \"Number Samples\": 37, \"index\": 91, \"Samples (%)\": 1.0272071071626874, \"Samples Cumulative (%)\": 69.684}, {\"Target Count\": 38, \"Dataset\": \"Election\", \"Number Samples\": 114, \"index\": 92, \"Samples (%)\": 1.2182090190211583, \"Samples Cumulative (%)\": 52.094}, {\"Target Count\": 39, \"Dataset\": \"Election\", \"Number Samples\": 78, \"index\": 93, \"Samples (%)\": 0.8335114340671083, \"Samples Cumulative (%)\": 52.928}, {\"Target Count\": 40, \"Dataset\": \"Election\", \"Number Samples\": 80, \"index\": 94, \"Samples (%)\": 0.8548835221201111, \"Samples Cumulative (%)\": 53.783}, {\"Target Count\": 40, \"Dataset\": \"Restaurant\", \"Number Samples\": 40, \"index\": 95, \"Samples (%)\": 1.1104941699056081, \"Samples Cumulative (%)\": 70.794}, {\"Target Count\": 41, \"Dataset\": \"Restaurant\", \"Number Samples\": 82, \"index\": 96, \"Samples (%)\": 2.2765130483064966, \"Samples Cumulative (%)\": 73.071}, {\"Target Count\": 42, \"Dataset\": \"Election\", \"Number Samples\": 84, \"index\": 97, \"Samples (%)\": 0.8976276982261167, \"Samples Cumulative (%)\": 54.68}, {\"Target Count\": 43, \"Dataset\": \"Election\", \"Number Samples\": 43, \"index\": 98, \"Samples (%)\": 0.45949989313955975, \"Samples Cumulative (%)\": 55.14}, {\"Target Count\": 44, \"Dataset\": \"Election\", \"Number Samples\": 88, \"index\": 99, \"Samples (%)\": 0.9403718743321222, \"Samples Cumulative (%)\": 56.08}, {\"Target Count\": 46, \"Dataset\": \"Election\", \"Number Samples\": 46, \"index\": 100, \"Samples (%)\": 0.4915580252190639, \"Samples Cumulative (%)\": 56.572}, {\"Target Count\": 46, \"Dataset\": \"Restaurant\", \"Number Samples\": 46, \"index\": 101, \"Samples (%)\": 1.2770682953914492, \"Samples Cumulative (%)\": 74.348}, {\"Target Count\": 47, \"Dataset\": \"Election\", \"Number Samples\": 94, \"index\": 102, \"Samples (%)\": 1.0044881384911306, \"Samples Cumulative (%)\": 57.576}, {\"Target Count\": 47, \"Dataset\": \"Laptop\", \"Number Samples\": 47, \"index\": 103, \"Samples (%)\": 2.03199308257674, \"Samples Cumulative (%)\": 88.284}, {\"Target Count\": 48, \"Dataset\": \"Election\", \"Number Samples\": 48, \"index\": 104, \"Samples (%)\": 0.5129301132720667, \"Samples Cumulative (%)\": 58.089}, {\"Target Count\": 49, \"Dataset\": \"Election\", \"Number Samples\": 49, \"index\": 105, \"Samples (%)\": 0.5236161572985681, \"Samples Cumulative (%)\": 58.613}, {\"Target Count\": 50, \"Dataset\": \"Laptop\", \"Number Samples\": 50, \"index\": 106, \"Samples (%)\": 2.1616947686986596, \"Samples Cumulative (%)\": 90.445}, {\"Target Count\": 51, \"Dataset\": \"Restaurant\", \"Number Samples\": 51, \"index\": 107, \"Samples (%)\": 1.41588006662965, \"Samples Cumulative (%)\": 75.763}, {\"Target Count\": 52, \"Dataset\": \"Laptop\", \"Number Samples\": 52, \"index\": 108, \"Samples (%)\": 2.248162559446606, \"Samples Cumulative (%)\": 92.693}, {\"Target Count\": 53, \"Dataset\": \"Election\", \"Number Samples\": 53, \"index\": 109, \"Samples (%)\": 0.5663603334045736, \"Samples Cumulative (%)\": 59.179}, {\"Target Count\": 53, \"Dataset\": \"Laptop\", \"Number Samples\": 53, \"index\": 110, \"Samples (%)\": 2.291396454820579, \"Samples Cumulative (%)\": 94.985}, {\"Target Count\": 54, \"Dataset\": \"Election\", \"Number Samples\": 54, \"index\": 111, \"Samples (%)\": 0.577046377431075, \"Samples Cumulative (%)\": 59.756}, {\"Target Count\": 55, \"Dataset\": \"Election\", \"Number Samples\": 55, \"index\": 112, \"Samples (%)\": 0.5877324214575764, \"Samples Cumulative (%)\": 60.344}, {\"Target Count\": 55, \"Dataset\": \"Restaurant\", \"Number Samples\": 110, \"index\": 113, \"Samples (%)\": 3.053858967240422, \"Samples Cumulative (%)\": 78.817}, {\"Target Count\": 56, \"Dataset\": \"Election\", \"Number Samples\": 56, \"index\": 114, \"Samples (%)\": 0.5984184654840778, \"Samples Cumulative (%)\": 60.943}, {\"Target Count\": 56, \"Dataset\": \"Laptop\", \"Number Samples\": 56, \"index\": 115, \"Samples (%)\": 2.421098140942499, \"Samples Cumulative (%)\": 97.406}, {\"Target Count\": 56, \"Dataset\": \"Restaurant\", \"Number Samples\": 56, \"index\": 116, \"Samples (%)\": 1.5546918378678511, \"Samples Cumulative (%)\": 80.372}, {\"Target Count\": 59, \"Dataset\": \"Restaurant\", \"Number Samples\": 59, \"index\": 117, \"Samples (%)\": 1.6379789006107717, \"Samples Cumulative (%)\": 82.01}, {\"Target Count\": 60, \"Dataset\": \"Election\", \"Number Samples\": 60, \"index\": 118, \"Samples (%)\": 0.6411626415900834, \"Samples Cumulative (%)\": 61.584}, {\"Target Count\": 60, \"Dataset\": \"Laptop\", \"Number Samples\": 60, \"index\": 119, \"Samples (%)\": 2.594033722438392, \"Samples Cumulative (%)\": 100.0}, {\"Target Count\": 61, \"Dataset\": \"Election\", \"Number Samples\": 61, \"index\": 120, \"Samples (%)\": 0.6518486856165847, \"Samples Cumulative (%)\": 62.236}, {\"Target Count\": 63, \"Dataset\": \"Restaurant\", \"Number Samples\": 63, \"index\": 121, \"Samples (%)\": 1.7490283176013324, \"Samples Cumulative (%)\": 83.759}, {\"Target Count\": 71, \"Dataset\": \"Election\", \"Number Samples\": 71, \"index\": 122, \"Samples (%)\": 0.7587091258815987, \"Samples Cumulative (%)\": 62.994}, {\"Target Count\": 73, \"Dataset\": \"Election\", \"Number Samples\": 73, \"index\": 123, \"Samples (%)\": 0.7800812139346014, \"Samples Cumulative (%)\": 63.774}, {\"Target Count\": 86, \"Dataset\": \"Election\", \"Number Samples\": 86, \"index\": 124, \"Samples (%)\": 0.9189997862791195, \"Samples Cumulative (%)\": 64.693}, {\"Target Count\": 94, \"Dataset\": \"Election\", \"Number Samples\": 94, \"index\": 125, \"Samples (%)\": 1.0044881384911306, \"Samples Cumulative (%)\": 65.698}, {\"Target Count\": 95, \"Dataset\": \"Election\", \"Number Samples\": 190, \"index\": 126, \"Samples (%)\": 2.030348365035264, \"Samples Cumulative (%)\": 67.728}, {\"Target Count\": 100, \"Dataset\": \"Election\", \"Number Samples\": 200, \"index\": 127, \"Samples (%)\": 2.137208805300278, \"Samples Cumulative (%)\": 69.865}, {\"Target Count\": 109, \"Dataset\": \"Election\", \"Number Samples\": 109, \"index\": 128, \"Samples (%)\": 1.1647787988886513, \"Samples Cumulative (%)\": 71.03}, {\"Target Count\": 119, \"Dataset\": \"Election\", \"Number Samples\": 238, \"index\": 129, \"Samples (%)\": 2.5432784783073306, \"Samples Cumulative (%)\": 73.573}, {\"Target Count\": 122, \"Dataset\": \"Election\", \"Number Samples\": 122, \"index\": 130, \"Samples (%)\": 1.3036973712331694, \"Samples Cumulative (%)\": 74.877}, {\"Target Count\": 127, \"Dataset\": \"Election\", \"Number Samples\": 127, \"index\": 131, \"Samples (%)\": 1.3571275913656764, \"Samples Cumulative (%)\": 76.234}, {\"Target Count\": 139, \"Dataset\": \"Election\", \"Number Samples\": 139, \"index\": 132, \"Samples (%)\": 1.4853601196836932, \"Samples Cumulative (%)\": 77.72}, {\"Target Count\": 141, \"Dataset\": \"Election\", \"Number Samples\": 141, \"index\": 133, \"Samples (%)\": 1.506732207736696, \"Samples Cumulative (%)\": 79.226}, {\"Target Count\": 155, \"Dataset\": \"Election\", \"Number Samples\": 155, \"index\": 134, \"Samples (%)\": 1.6563368241077154, \"Samples Cumulative (%)\": 80.883}, {\"Target Count\": 170, \"Dataset\": \"Election\", \"Number Samples\": 170, \"index\": 135, \"Samples (%)\": 1.8166274845052361, \"Samples Cumulative (%)\": 82.699}, {\"Target Count\": 183, \"Dataset\": \"Election\", \"Number Samples\": 183, \"index\": 136, \"Samples (%)\": 1.955546056849754, \"Samples Cumulative (%)\": 84.655}, {\"Target Count\": 195, \"Dataset\": \"Election\", \"Number Samples\": 195, \"index\": 137, \"Samples (%)\": 2.083778585167771, \"Samples Cumulative (%)\": 86.739}, {\"Target Count\": 223, \"Dataset\": \"Election\", \"Number Samples\": 223, \"index\": 138, \"Samples (%)\": 2.3829878179098096, \"Samples Cumulative (%)\": 89.122}, {\"Target Count\": 225, \"Dataset\": \"Restaurant\", \"Number Samples\": 225, \"index\": 139, \"Samples (%)\": 6.246529705719045, \"Samples Cumulative (%)\": 90.006}, {\"Target Count\": 281, \"Dataset\": \"Election\", \"Number Samples\": 281, \"index\": 140, \"Samples (%)\": 3.0027783714468903, \"Samples Cumulative (%)\": 92.124}, {\"Target Count\": 304, \"Dataset\": \"Election\", \"Number Samples\": 304, \"index\": 141, \"Samples (%)\": 3.2485573840564226, \"Samples Cumulative (%)\": 95.373}, {\"Target Count\": 360, \"Dataset\": \"Restaurant\", \"Number Samples\": 360, \"index\": 142, \"Samples (%)\": 9.994447529150472, \"Samples Cumulative (%)\": 100.0}, {\"Target Count\": 433, \"Dataset\": \"Election\", \"Number Samples\": 433, \"index\": 143, \"Samples (%)\": 4.627057063475101, \"Samples Cumulative (%)\": 100.0}], \"data-42d9191c2be30f42332ed962bd2ce077\": [{\"Target Count\": 1, \"Dataset\": \"Election\", \"Number Samples\": 1276, \"index\": 0, \"Samples (%)\": 13.635392177815772, \"Samples Cumulative (%)\": 13.635}, {\"Target Count\": 1, \"Dataset\": \"Laptop\", \"Number Samples\": 692, \"index\": 1, \"Samples (%)\": 29.91785559878945, \"Samples Cumulative (%)\": 29.918}, {\"Target Count\": 1, \"Dataset\": \"Restaurant\", \"Number Samples\": 895, \"index\": 2, \"Samples (%)\": 24.84730705163798, \"Samples Cumulative (%)\": 24.847}, {\"Target Count\": 2, \"Dataset\": \"Election\", \"Number Samples\": 352, \"index\": 3, \"Samples (%)\": 3.761487497328489, \"Samples Cumulative (%)\": 17.397}, {\"Target Count\": 2, \"Dataset\": \"Laptop\", \"Number Samples\": 232, \"index\": 4, \"Samples (%)\": 10.030263726761781, \"Samples Cumulative (%)\": 39.948}, {\"Target Count\": 2, \"Dataset\": \"Restaurant\", \"Number Samples\": 250, \"index\": 5, \"Samples (%)\": 6.940588561910049, \"Samples Cumulative (%)\": 31.788}, {\"Target Count\": 3, \"Dataset\": \"Election\", \"Number Samples\": 270, \"index\": 6, \"Samples (%)\": 2.885231887155375, \"Samples Cumulative (%)\": 20.282}, {\"Target Count\": 3, \"Dataset\": \"Laptop\", \"Number Samples\": 93, \"index\": 7, \"Samples (%)\": 4.020752269779507, \"Samples Cumulative (%)\": 43.969}, {\"Target Count\": 3, \"Dataset\": \"Restaurant\", \"Number Samples\": 129, \"index\": 8, \"Samples (%)\": 3.581343697945586, \"Samples Cumulative (%)\": 35.369}, {\"Target Count\": 4, \"Dataset\": \"Election\", \"Number Samples\": 240, \"index\": 9, \"Samples (%)\": 2.5646505663603336, \"Samples Cumulative (%)\": 22.847}, {\"Target Count\": 4, \"Dataset\": \"Laptop\", \"Number Samples\": 100, \"index\": 10, \"Samples (%)\": 4.323389537397319, \"Samples Cumulative (%)\": 48.292}, {\"Target Count\": 4, \"Dataset\": \"Restaurant\", \"Number Samples\": 72, \"index\": 11, \"Samples (%)\": 1.9988895058300944, \"Samples Cumulative (%)\": 37.368}, {\"Target Count\": 5, \"Dataset\": \"Election\", \"Number Samples\": 150, \"index\": 12, \"Samples (%)\": 1.6029066039752085, \"Samples Cumulative (%)\": 24.45}, {\"Target Count\": 5, \"Dataset\": \"Laptop\", \"Number Samples\": 60, \"index\": 13, \"Samples (%)\": 2.594033722438392, \"Samples Cumulative (%)\": 50.886}, {\"Target Count\": 5, \"Dataset\": \"Restaurant\", \"Number Samples\": 95, \"index\": 14, \"Samples (%)\": 2.637423653525819, \"Samples Cumulative (%)\": 40.006}, {\"Target Count\": 6, \"Dataset\": \"Election\", \"Number Samples\": 114, \"index\": 15, \"Samples (%)\": 1.2182090190211583, \"Samples Cumulative (%)\": 25.668}, {\"Target Count\": 6, \"Dataset\": \"Restaurant\", \"Number Samples\": 102, \"index\": 17, \"Samples (%)\": 2.8317601332593, \"Samples Cumulative (%)\": 42.837}, {\"Target Count\": 7, \"Dataset\": \"Election\", \"Number Samples\": 175, \"index\": 18, \"Samples (%)\": 1.8700577046377433, \"Samples Cumulative (%)\": 27.538}, {\"Target Count\": 7, \"Dataset\": \"Restaurant\", \"Number Samples\": 28, \"index\": 20, \"Samples (%)\": 0.7773459189339256, \"Samples Cumulative (%)\": 43.615}, {\"Target Count\": 8, \"Dataset\": \"Election\", \"Number Samples\": 120, \"index\": 21, \"Samples (%)\": 1.2823252831801668, \"Samples Cumulative (%)\": 28.82}, {\"Target Count\": 8, \"Dataset\": \"Restaurant\", \"Number Samples\": 56, \"index\": 23, \"Samples (%)\": 1.5546918378678511, \"Samples Cumulative (%)\": 45.169}, {\"Target Count\": 9, \"Dataset\": \"Election\", \"Number Samples\": 126, \"index\": 24, \"Samples (%)\": 1.3464415473391749, \"Samples Cumulative (%)\": 30.167}, {\"Target Count\": 9, \"Dataset\": \"Restaurant\", \"Number Samples\": 72, \"index\": 26, \"Samples (%)\": 1.9988895058300944, \"Samples Cumulative (%)\": 47.168}, {\"Target Count\": 10, \"Dataset\": \"Election\", \"Number Samples\": 60, \"index\": 27, \"Samples (%)\": 0.6411626415900834, \"Samples Cumulative (%)\": 30.808}, {\"Target Count\": 10, \"Dataset\": \"Restaurant\", \"Number Samples\": 60, \"index\": 29, \"Samples (%)\": 1.6657412548584118, \"Samples Cumulative (%)\": 48.834}, {\"Target Count\": 11, \"Dataset\": \"Election\", \"Number Samples\": 66, \"index\": 30, \"Samples (%)\": 0.7052789057490917, \"Samples Cumulative (%)\": 31.513}, {\"Target Count\": 11, \"Dataset\": \"Restaurant\", \"Number Samples\": 55, \"index\": 32, \"Samples (%)\": 1.526929483620211, \"Samples Cumulative (%)\": 50.361}, {\"Target Count\": 12, \"Dataset\": \"Election\", \"Number Samples\": 108, \"index\": 33, \"Samples (%)\": 1.15409275486215, \"Samples Cumulative (%)\": 32.667}, {\"Target Count\": 13, \"Dataset\": \"Election\", \"Number Samples\": 39, \"index\": 36, \"Samples (%)\": 0.41675571703355413, \"Samples Cumulative (%)\": 33.084}, {\"Target Count\": 14, \"Dataset\": \"Election\", \"Number Samples\": 98, \"index\": 39, \"Samples (%)\": 1.0472323145971363, \"Samples Cumulative (%)\": 34.131}, {\"Target Count\": 15, \"Dataset\": \"Election\", \"Number Samples\": 105, \"index\": 42, \"Samples (%)\": 1.1220346227826459, \"Samples Cumulative (%)\": 35.253}, {\"Target Count\": 16, \"Dataset\": \"Election\", \"Number Samples\": 80, \"index\": 44, \"Samples (%)\": 0.8548835221201111, \"Samples Cumulative (%)\": 36.108}, {\"Target Count\": 17, \"Dataset\": \"Election\", \"Number Samples\": 119, \"index\": 47, \"Samples (%)\": 1.2716392391536653, \"Samples Cumulative (%)\": 37.38}, {\"Target Count\": 18, \"Dataset\": \"Election\", \"Number Samples\": 54, \"index\": 50, \"Samples (%)\": 0.577046377431075, \"Samples Cumulative (%)\": 37.957}, {\"Target Count\": 19, \"Dataset\": \"Election\", \"Number Samples\": 76, \"index\": 53, \"Samples (%)\": 0.8121393460141056, \"Samples Cumulative (%)\": 38.769}, {\"Target Count\": 20, \"Dataset\": \"Election\", \"Number Samples\": 20, \"index\": 55, \"Samples (%)\": 0.21372088053002777, \"Samples Cumulative (%)\": 38.983}, {\"Target Count\": 21, \"Dataset\": \"Election\", \"Number Samples\": 42, \"index\": 57, \"Samples (%)\": 0.4488138491130583, \"Samples Cumulative (%)\": 39.432}, {\"Target Count\": 22, \"Dataset\": \"Election\", \"Number Samples\": 88, \"index\": 60, \"Samples (%)\": 0.9403718743321222, \"Samples Cumulative (%)\": 40.372}, {\"Target Count\": 23, \"Dataset\": \"Election\", \"Number Samples\": 92, \"index\": 62, \"Samples (%)\": 0.9831160504381278, \"Samples Cumulative (%)\": 41.355}, {\"Target Count\": 24, \"Dataset\": \"Election\", \"Number Samples\": 120, \"index\": 64, \"Samples (%)\": 1.2823252831801668, \"Samples Cumulative (%)\": 42.637}, {\"Target Count\": 25, \"Dataset\": \"Election\", \"Number Samples\": 75, \"index\": 67, \"Samples (%)\": 0.8014533019876042, \"Samples Cumulative (%)\": 43.439}, {\"Target Count\": 26, \"Dataset\": \"Election\", \"Number Samples\": 52, \"index\": 69, \"Samples (%)\": 0.5556742893780722, \"Samples Cumulative (%)\": 43.994}, {\"Target Count\": 27, \"Dataset\": \"Election\", \"Number Samples\": 81, \"index\": 71, \"Samples (%)\": 0.8655695661466125, \"Samples Cumulative (%)\": 44.86}, {\"Target Count\": 28, \"Dataset\": \"Election\", \"Number Samples\": 84, \"index\": 73, \"Samples (%)\": 0.8976276982261167, \"Samples Cumulative (%)\": 45.758}, {\"Target Count\": 30, \"Dataset\": \"Election\", \"Number Samples\": 30, \"index\": 76, \"Samples (%)\": 0.3205813207950417, \"Samples Cumulative (%)\": 46.078}, {\"Target Count\": 31, \"Dataset\": \"Election\", \"Number Samples\": 31, \"index\": 78, \"Samples (%)\": 0.33126736482154306, \"Samples Cumulative (%)\": 46.409}, {\"Target Count\": 32, \"Dataset\": \"Election\", \"Number Samples\": 32, \"index\": 80, \"Samples (%)\": 0.3419534088480444, \"Samples Cumulative (%)\": 46.751}, {\"Target Count\": 33, \"Dataset\": \"Election\", \"Number Samples\": 33, \"index\": 82, \"Samples (%)\": 0.35263945287454584, \"Samples Cumulative (%)\": 47.104}, {\"Target Count\": 34, \"Dataset\": \"Election\", \"Number Samples\": 102, \"index\": 84, \"Samples (%)\": 1.0899764907031417, \"Samples Cumulative (%)\": 48.194}, {\"Target Count\": 35, \"Dataset\": \"Election\", \"Number Samples\": 105, \"index\": 85, \"Samples (%)\": 1.1220346227826459, \"Samples Cumulative (%)\": 49.316}, {\"Target Count\": 36, \"Dataset\": \"Election\", \"Number Samples\": 72, \"index\": 88, \"Samples (%)\": 0.7693951699081001, \"Samples Cumulative (%)\": 50.085}, {\"Target Count\": 37, \"Dataset\": \"Election\", \"Number Samples\": 74, \"index\": 89, \"Samples (%)\": 0.7907672579611028, \"Samples Cumulative (%)\": 50.876}], \"data-f1186b94df38ae955b91c2f3d17fbffe\": [{\"Dataset\": \"Election\", \"Target Count\": 36, \"Number Samples\": 72, \"index\": 88, \"Samples (%)\": 0.7693951699081001, \"Samples Cumulative (%)\": 50.085}, {\"Dataset\": \"Laptop\", \"Target Count\": 5, \"Number Samples\": 60, \"index\": 13, \"Samples (%)\": 2.594033722438392, \"Samples Cumulative (%)\": 50.886}, {\"Dataset\": \"Restaurant\", \"Target Count\": 11, \"Number Samples\": 55, \"index\": 32, \"Samples (%)\": 1.526929483620211, \"Samples Cumulative (%)\": 50.361}], \"data-b3b03ad40ad88855ce628428d210c2d1\": [{\"Target Count\": 1, \"Dataset\": \"Election\", \"Number Samples\": 1276, \"index\": 0, \"Samples (%)\": 13.635392177815772, \"Samples Cumulative (%)\": 13.635}, {\"Target Count\": 1, \"Dataset\": \"Laptop\", \"Number Samples\": 692, \"index\": 1, \"Samples (%)\": 29.91785559878945, \"Samples Cumulative (%)\": 29.918}, {\"Target Count\": 1, \"Dataset\": \"Restaurant\", \"Number Samples\": 895, \"index\": 2, \"Samples (%)\": 24.84730705163798, \"Samples Cumulative (%)\": 24.847}]}};\n",
              "      var embedOpt = {\"mode\": \"vega-lite\"};\n",
              "\n",
              "      function showError(el, error){\n",
              "          el.innerHTML = ('<div class=\"error\" style=\"color:red;\">'\n",
              "                          + '<p>JavaScript Error: ' + error.message + '</p>'\n",
              "                          + \"<p>This usually means there's a typo in your chart specification. \"\n",
              "                          + \"See the javascript console for the full traceback.</p>\"\n",
              "                          + '</div>');\n",
              "          throw error;\n",
              "      }\n",
              "      const el = document.getElementById('altair-viz');\n",
              "      vegaEmbed(\"#altair-viz\", spec, embedOpt)\n",
              "        .catch(error => showError(el, error));\n",
              "    })(vegaEmbed);\n",
              "\n",
              "  </script>\n",
              "</body>\n",
              "</html>"
            ]
          },
          "metadata": {
            "tags": []
          },
          "execution_count": 9
        }
      ]
    },
    {
      "cell_type": "markdown",
      "metadata": {
        "id": "YnoqnaszPKDG",
        "colab_type": "text"
      },
      "source": [
        "As we can see from the plots above there is a large difference again between the three datasets. The Laptop dataset is made up of mainly Samples that have Targets that occur very in-frequent compared to Election and Restaurant dataset. The left plot shows this best where 50% of the dataset for the Laptop, Restaurant, and Election datasets are made up of samples with targets that have only occured at most 5, 11, and 36 times respectively.\n",
        "\n",
        "This is not surpursing giving the Target Distribution we sae before where the Election and Restaurant datasets before had some target that occur very frequently.\n",
        "\n",
        "This shows another large difference in the datasets where in the case for the Laptop dataset we have very few samples to understand the sentiment of a specific target word in comparison to the Election and Restaurant datasets where for the most frequent targets we can have over 100 samples.\n",
        "\n",
        "Lastly as we can again see in the right hand plot a massive difference between the datasets in the number of samples that only contain tagrets that occur once: 13%, 24%, and 29% for the Election, Restaurant, and Laptop respectively.\n",
        "\n",
        "Having seen a target in very few contexts can make it very hard for a model to learn the complex relationship between the Target and the associated sentiment, further more it could lead to generlisation problems where the model learns only that a Target occurs with one sentiment as it has only ever seen that target associated with that one sentiment.\n",
        "\n",
        "## Subsets that look at both the Target and Sentiment in the test datasets with respect to the training datasets\n",
        "Now knowing what the Target distribution is with respect to the targets and the data (samples) in the training data. We are going to explore subsets that look at the test datasets with respect to there associated training datasets, to see how often targets occur in the training and then the test as well as if the target occurs in the training does it occur in the test with the same sentiment.\n",
        "\n",
        "These subsets are to probe further into the datasets to see if there could be sub-samples of data that are more challenging or if a classifier performs poorly on them could explain how to improve the classifier.\n",
        "\n",
        "### Unknwon Target, Known Targets and there known or unknown associated sentiment\n",
        "**(accroyn for this subset UT&KTS which stands for Uknown Target and Known Target Sentiments)**\n",
        "\n",
        "These subset breaks the data down into 3 sub-samples:\n",
        "1. Unknown - Samples in the test data where the target has only ever appeared in the test and not the train.\n",
        "2. Unknown Sentiment Known Target - Samples in the test data where the target has appeared in both train and test but the sentiment associated to the target in the test sample has never been seen before in the training data for that target.\n",
        "3. Known Sentiment Known Target - Same as 2 but the sentiment associated to the target in the test samples has been seen before in the training data for that target.\n",
        "\n",
        "The premise of these subsets are the following:\n",
        "1. Unknown Targets (UT) - If a classifier performs well on this subset it must mean that it can generlise well to new targets, further more it shows it performs well in the Zero shot case for TDSA.\n",
        "2. Unknown Sentiment Known Target (USKT) - Performing well here shows that a classifier can generlise to new sentiments, on the flip side performing badly here can show that the classifier is overfitting to the data. A classifier that performs well here but not in the unknown case can show that it can generlise to new sentiments but not new targets.\n",
        "3. Known Sentiment Known Target (KSKT) - This is the ordinary case to some degree and the easiest.\n",
        "\n",
        "Below we extract this data out of the training and test datasets that we have and display it in Pandas DataFrame, we then further plot the data. Just for clarification number of samples are in the **test data**."
      ]
    },
    {
      "cell_type": "code",
      "metadata": {
        "id": "ktNDVBsr59bM",
        "colab_type": "code",
        "outputId": "3ef4a140-dc68-44bb-8196-ea76129b7c72",
        "colab": {
          "base_uri": "https://localhost:8080/",
          "height": 328
        }
      },
      "source": [
        "from target_extraction.error_analysis import unknown_targets, unknown_sentiment_known_target, known_sentiment_known_target\n",
        "from target_extraction.error_analysis import count_error_key_occurence\n",
        "\n",
        "subset_functions = [unknown_targets, unknown_sentiment_known_target, \n",
        "                    known_sentiment_known_target]\n",
        "known_unknown_df = get_subset_data(train_test_datasets, \n",
        "                                   subset_functions=subset_functions, \n",
        "                                   lower_target=True)\n",
        "known_unknown_df"
      ],
      "execution_count": 12,
      "outputs": [
        {
          "output_type": "execute_result",
          "data": {
            "text/html": [
              "<div>\n",
              "<style scoped>\n",
              "    .dataframe tbody tr th:only-of-type {\n",
              "        vertical-align: middle;\n",
              "    }\n",
              "\n",
              "    .dataframe tbody tr th {\n",
              "        vertical-align: top;\n",
              "    }\n",
              "\n",
              "    .dataframe thead th {\n",
              "        text-align: right;\n",
              "    }\n",
              "</style>\n",
              "<table border=\"1\" class=\"dataframe\">\n",
              "  <thead>\n",
              "    <tr style=\"text-align: right;\">\n",
              "      <th></th>\n",
              "      <th>Dataset</th>\n",
              "      <th>Number Samples</th>\n",
              "      <th>Number of Samples (%)</th>\n",
              "      <th>Data Subset</th>\n",
              "    </tr>\n",
              "  </thead>\n",
              "  <tbody>\n",
              "    <tr>\n",
              "      <th>0</th>\n",
              "      <td>Laptop</td>\n",
              "      <td>269</td>\n",
              "      <td>42.163009</td>\n",
              "      <td>Unknown Targets</td>\n",
              "    </tr>\n",
              "    <tr>\n",
              "      <th>1</th>\n",
              "      <td>Laptop</td>\n",
              "      <td>67</td>\n",
              "      <td>10.501567</td>\n",
              "      <td>Unknown Sentiment Known Target</td>\n",
              "    </tr>\n",
              "    <tr>\n",
              "      <th>2</th>\n",
              "      <td>Laptop</td>\n",
              "      <td>302</td>\n",
              "      <td>47.335423</td>\n",
              "      <td>Known Sentiment Known Target</td>\n",
              "    </tr>\n",
              "    <tr>\n",
              "      <th>3</th>\n",
              "      <td>Restaurant</td>\n",
              "      <td>352</td>\n",
              "      <td>31.428571</td>\n",
              "      <td>Unknown Targets</td>\n",
              "    </tr>\n",
              "    <tr>\n",
              "      <th>4</th>\n",
              "      <td>Restaurant</td>\n",
              "      <td>60</td>\n",
              "      <td>5.357143</td>\n",
              "      <td>Unknown Sentiment Known Target</td>\n",
              "    </tr>\n",
              "    <tr>\n",
              "      <th>5</th>\n",
              "      <td>Restaurant</td>\n",
              "      <td>708</td>\n",
              "      <td>63.214286</td>\n",
              "      <td>Known Sentiment Known Target</td>\n",
              "    </tr>\n",
              "    <tr>\n",
              "      <th>6</th>\n",
              "      <td>Election</td>\n",
              "      <td>354</td>\n",
              "      <td>13.931523</td>\n",
              "      <td>Unknown Targets</td>\n",
              "    </tr>\n",
              "    <tr>\n",
              "      <th>7</th>\n",
              "      <td>Election</td>\n",
              "      <td>94</td>\n",
              "      <td>3.699331</td>\n",
              "      <td>Unknown Sentiment Known Target</td>\n",
              "    </tr>\n",
              "    <tr>\n",
              "      <th>8</th>\n",
              "      <td>Election</td>\n",
              "      <td>2093</td>\n",
              "      <td>82.369146</td>\n",
              "      <td>Known Sentiment Known Target</td>\n",
              "    </tr>\n",
              "  </tbody>\n",
              "</table>\n",
              "</div>"
            ],
            "text/plain": [
              "      Dataset  ...                     Data Subset\n",
              "0      Laptop  ...                 Unknown Targets\n",
              "1      Laptop  ...  Unknown Sentiment Known Target\n",
              "2      Laptop  ...    Known Sentiment Known Target\n",
              "3  Restaurant  ...                 Unknown Targets\n",
              "4  Restaurant  ...  Unknown Sentiment Known Target\n",
              "5  Restaurant  ...    Known Sentiment Known Target\n",
              "6    Election  ...                 Unknown Targets\n",
              "7    Election  ...  Unknown Sentiment Known Target\n",
              "8    Election  ...    Known Sentiment Known Target\n",
              "\n",
              "[9 rows x 4 columns]"
            ]
          },
          "metadata": {
            "tags": []
          },
          "execution_count": 12
        }
      ]
    },
    {
      "cell_type": "markdown",
      "metadata": {
        "id": "KEqngfSzAWfl",
        "colab_type": "text"
      },
      "source": [
        "All of the data has now "
      ]
    },
    {
      "cell_type": "code",
      "metadata": {
        "id": "LG_GGKci-P2o",
        "colab_type": "code",
        "outputId": "3910ff56-1ce7-46d2-a479-2a20e06fe815",
        "colab": {
          "base_uri": "https://localhost:8080/",
          "height": 424
        }
      },
      "source": [
        "subset_dist_chart(known_unknown_df, 'UT&KTS in the Test data')"
      ],
      "execution_count": 0,
      "outputs": [
        {
          "output_type": "execute_result",
          "data": {
            "text/plain": [
              "alt.Chart(...)"
            ],
            "text/html": [
              "<!DOCTYPE html>\n",
              "<html>\n",
              "<head>\n",
              "  <style>\n",
              "    .vega-actions a {\n",
              "        margin-right: 12px;\n",
              "        color: #757575;\n",
              "        font-weight: normal;\n",
              "        font-size: 13px;\n",
              "    }\n",
              "    .error {\n",
              "        color: red;\n",
              "    }\n",
              "  </style>\n",
              "  <script type=\"text/javascript\" src=\"https://cdn.jsdelivr.net/npm//vega@5\"></script>\n",
              "  <script type=\"text/javascript\" src=\"https://cdn.jsdelivr.net/npm//vega-lite@3.4.0\"></script>\n",
              "  <script type=\"text/javascript\" src=\"https://cdn.jsdelivr.net/npm//vega-embed@4\"></script>\n",
              "</head>\n",
              "<body>\n",
              "  <div id=\"altair-viz\"></div>\n",
              "  <script>\n",
              "    (function(vegaEmbed) {\n",
              "      var spec = {\"config\": {\"view\": {\"width\": 400, \"height\": 300}, \"mark\": {\"tooltip\": null}}, \"data\": {\"name\": \"data-d333869a7c906ff618614b74fe65ff80\"}, \"mark\": \"bar\", \"encoding\": {\"color\": {\"type\": \"nominal\", \"field\": \"Data Subset\", \"scale\": {\"scheme\": \"redyellowblue\"}}, \"tooltip\": [{\"type\": \"quantitative\", \"field\": \"Number Samples\"}, {\"type\": \"nominal\", \"field\": \"Data Subset\"}, {\"type\": \"quantitative\", \"field\": \"Number of Samples (%)\"}], \"x\": {\"type\": \"nominal\", \"field\": \"Dataset\"}, \"y\": {\"type\": \"quantitative\", \"field\": \"Number of Samples (%)\", \"scale\": {\"domain\": [0, 100]}}}, \"title\": \"UT&KTS in the Test data\", \"width\": 100, \"$schema\": \"https://vega.github.io/schema/vega-lite/v3.4.0.json\", \"datasets\": {\"data-d333869a7c906ff618614b74fe65ff80\": [{\"Dataset\": \"Laptop\", \"Number Samples\": 269, \"Number of Samples (%)\": 42.16300940438871, \"Data Subset\": \"Unknown Targets\"}, {\"Dataset\": \"Laptop\", \"Number Samples\": 67, \"Number of Samples (%)\": 10.501567398119123, \"Data Subset\": \"Unknown Sentiment Known Target\"}, {\"Dataset\": \"Laptop\", \"Number Samples\": 302, \"Number of Samples (%)\": 47.33542319749217, \"Data Subset\": \"Known Sentiment Known Target\"}, {\"Dataset\": \"Restaurant\", \"Number Samples\": 352, \"Number of Samples (%)\": 31.428571428571427, \"Data Subset\": \"Unknown Targets\"}, {\"Dataset\": \"Restaurant\", \"Number Samples\": 60, \"Number of Samples (%)\": 5.357142857142857, \"Data Subset\": \"Unknown Sentiment Known Target\"}, {\"Dataset\": \"Restaurant\", \"Number Samples\": 708, \"Number of Samples (%)\": 63.21428571428571, \"Data Subset\": \"Known Sentiment Known Target\"}, {\"Dataset\": \"Election\", \"Number Samples\": 354, \"Number of Samples (%)\": 13.931523022432113, \"Data Subset\": \"Unknown Targets\"}, {\"Dataset\": \"Election\", \"Number Samples\": 94, \"Number of Samples (%)\": 3.699330972058245, \"Data Subset\": \"Unknown Sentiment Known Target\"}, {\"Dataset\": \"Election\", \"Number Samples\": 2093, \"Number of Samples (%)\": 82.36914600550963, \"Data Subset\": \"Known Sentiment Known Target\"}]}};\n",
              "      var embedOpt = {\"mode\": \"vega-lite\"};\n",
              "\n",
              "      function showError(el, error){\n",
              "          el.innerHTML = ('<div class=\"error\" style=\"color:red;\">'\n",
              "                          + '<p>JavaScript Error: ' + error.message + '</p>'\n",
              "                          + \"<p>This usually means there's a typo in your chart specification. \"\n",
              "                          + \"See the javascript console for the full traceback.</p>\"\n",
              "                          + '</div>');\n",
              "          throw error;\n",
              "      }\n",
              "      const el = document.getElementById('altair-viz');\n",
              "      vegaEmbed(\"#altair-viz\", spec, embedOpt)\n",
              "        .catch(error => showError(el, error));\n",
              "    })(vegaEmbed);\n",
              "\n",
              "  </script>\n",
              "</body>\n",
              "</html>"
            ]
          },
          "metadata": {
            "tags": []
          },
          "execution_count": 21
        }
      ]
    },
    {
      "cell_type": "markdown",
      "metadata": {
        "id": "72bJsS0HCCYT",
        "colab_type": "text"
      },
      "source": [
        "As we can see generally the larger datasets have more KSKT due to the training datasets covering more targets, this is best shown with the Election dataset have very few Unknown Targets (~13%). Further more it shows that the smaller datasets can be more challenging as more of the samples have UT like the Laptop dataset containing 42% of its samples as UT.\n",
        "\n",
        "### Fined Grained Target Sentiment Subsets (FGTSS)\n",
        "This is similar to the UT&KTS subsets but we break the KSKT and USKT subsets down into more fine grained subsets while keeping the UT subset. The description of this fine grain sentiment subsets:\n",
        "1. Different Sentiment (DS) - The sentiment label(s) assigned to the target word is different in the train compared to the test.\n",
        "2. Same Once (SO) - The single sentiment label assigned to the target word in the train is the same in the test.\n",
        "3. Same Multi (SM) - The multiple sentiment labels assigned to the target in the train are the same in the test.\n",
        "4. Similar (S) - At least one of the multiple sentiment labels assigned to the target word in the train are the same as in the test but not all.\n",
        "\n",
        "The premise of these subsets are the following:\n",
        "1. DS - Is a more difficult subset as it would require the classifier to make a prediction for a sentiment class never seen for that target.\n",
        "2. SO - Can be seen as a metric for Target overfitting if the classifier performs really well on this subset more so than the other.\n",
        "3. SM and S - Is the more generally and common case but the Similar subset to be more difficult as it can have cases of Targets with sentiments never seen before.\n",
        "\n",
        "These subsets relate a lot to the KSKT and USKT where the USKT are a mix of the Similar and Different Sentiment subsets and the KSKT are a max of the Similar, Same Multi and Same Once subsets."
      ]
    },
    {
      "cell_type": "code",
      "metadata": {
        "id": "RMFXUiyDEj58",
        "colab_type": "code",
        "outputId": "0eda0ca4-c845-4203-d050-edef048a860c",
        "colab": {
          "base_uri": "https://localhost:8080/",
          "height": 514
        }
      },
      "source": [
        "from target_extraction.error_analysis import same_one_sentiment, same_multi_sentiment\n",
        "from target_extraction.error_analysis import similar_sentiment, different_sentiment\n",
        "\n",
        "subset_functions = [same_one_sentiment, same_multi_sentiment, \n",
        "                    similar_sentiment, different_sentiment, unknown_targets]\n",
        "fgtss_df = get_subset_data(train_test_datasets, \n",
        "                           subset_functions=subset_functions, \n",
        "                           lower_target=True)\n",
        "fgtss_df"
      ],
      "execution_count": 13,
      "outputs": [
        {
          "output_type": "execute_result",
          "data": {
            "text/html": [
              "<div>\n",
              "<style scoped>\n",
              "    .dataframe tbody tr th:only-of-type {\n",
              "        vertical-align: middle;\n",
              "    }\n",
              "\n",
              "    .dataframe tbody tr th {\n",
              "        vertical-align: top;\n",
              "    }\n",
              "\n",
              "    .dataframe thead th {\n",
              "        text-align: right;\n",
              "    }\n",
              "</style>\n",
              "<table border=\"1\" class=\"dataframe\">\n",
              "  <thead>\n",
              "    <tr style=\"text-align: right;\">\n",
              "      <th></th>\n",
              "      <th>Dataset</th>\n",
              "      <th>Number Samples</th>\n",
              "      <th>Number of Samples (%)</th>\n",
              "      <th>Data Subset</th>\n",
              "    </tr>\n",
              "  </thead>\n",
              "  <tbody>\n",
              "    <tr>\n",
              "      <th>0</th>\n",
              "      <td>Laptop</td>\n",
              "      <td>50</td>\n",
              "      <td>7.836991</td>\n",
              "      <td>Same One Sentiment</td>\n",
              "    </tr>\n",
              "    <tr>\n",
              "      <th>1</th>\n",
              "      <td>Laptop</td>\n",
              "      <td>84</td>\n",
              "      <td>13.166144</td>\n",
              "      <td>Same Multi Sentiment</td>\n",
              "    </tr>\n",
              "    <tr>\n",
              "      <th>2</th>\n",
              "      <td>Laptop</td>\n",
              "      <td>189</td>\n",
              "      <td>29.623824</td>\n",
              "      <td>Similar Sentiment</td>\n",
              "    </tr>\n",
              "    <tr>\n",
              "      <th>3</th>\n",
              "      <td>Laptop</td>\n",
              "      <td>46</td>\n",
              "      <td>7.210031</td>\n",
              "      <td>Different Sentiment</td>\n",
              "    </tr>\n",
              "    <tr>\n",
              "      <th>4</th>\n",
              "      <td>Laptop</td>\n",
              "      <td>269</td>\n",
              "      <td>42.163009</td>\n",
              "      <td>Unknown Targets</td>\n",
              "    </tr>\n",
              "    <tr>\n",
              "      <th>5</th>\n",
              "      <td>Restaurant</td>\n",
              "      <td>45</td>\n",
              "      <td>4.017857</td>\n",
              "      <td>Same One Sentiment</td>\n",
              "    </tr>\n",
              "    <tr>\n",
              "      <th>6</th>\n",
              "      <td>Restaurant</td>\n",
              "      <td>333</td>\n",
              "      <td>29.732143</td>\n",
              "      <td>Same Multi Sentiment</td>\n",
              "    </tr>\n",
              "    <tr>\n",
              "      <th>7</th>\n",
              "      <td>Restaurant</td>\n",
              "      <td>346</td>\n",
              "      <td>30.892857</td>\n",
              "      <td>Similar Sentiment</td>\n",
              "    </tr>\n",
              "    <tr>\n",
              "      <th>8</th>\n",
              "      <td>Restaurant</td>\n",
              "      <td>44</td>\n",
              "      <td>3.928571</td>\n",
              "      <td>Different Sentiment</td>\n",
              "    </tr>\n",
              "    <tr>\n",
              "      <th>9</th>\n",
              "      <td>Restaurant</td>\n",
              "      <td>352</td>\n",
              "      <td>31.428571</td>\n",
              "      <td>Unknown Targets</td>\n",
              "    </tr>\n",
              "    <tr>\n",
              "      <th>10</th>\n",
              "      <td>Election</td>\n",
              "      <td>79</td>\n",
              "      <td>3.109012</td>\n",
              "      <td>Same One Sentiment</td>\n",
              "    </tr>\n",
              "    <tr>\n",
              "      <th>11</th>\n",
              "      <td>Election</td>\n",
              "      <td>1454</td>\n",
              "      <td>57.221566</td>\n",
              "      <td>Same Multi Sentiment</td>\n",
              "    </tr>\n",
              "    <tr>\n",
              "      <th>12</th>\n",
              "      <td>Election</td>\n",
              "      <td>592</td>\n",
              "      <td>23.297914</td>\n",
              "      <td>Similar Sentiment</td>\n",
              "    </tr>\n",
              "    <tr>\n",
              "      <th>13</th>\n",
              "      <td>Election</td>\n",
              "      <td>62</td>\n",
              "      <td>2.439984</td>\n",
              "      <td>Different Sentiment</td>\n",
              "    </tr>\n",
              "    <tr>\n",
              "      <th>14</th>\n",
              "      <td>Election</td>\n",
              "      <td>354</td>\n",
              "      <td>13.931523</td>\n",
              "      <td>Unknown Targets</td>\n",
              "    </tr>\n",
              "  </tbody>\n",
              "</table>\n",
              "</div>"
            ],
            "text/plain": [
              "       Dataset  Number Samples  Number of Samples (%)           Data Subset\n",
              "0       Laptop              50               7.836991    Same One Sentiment\n",
              "1       Laptop              84              13.166144  Same Multi Sentiment\n",
              "2       Laptop             189              29.623824     Similar Sentiment\n",
              "3       Laptop              46               7.210031   Different Sentiment\n",
              "4       Laptop             269              42.163009       Unknown Targets\n",
              "5   Restaurant              45               4.017857    Same One Sentiment\n",
              "6   Restaurant             333              29.732143  Same Multi Sentiment\n",
              "7   Restaurant             346              30.892857     Similar Sentiment\n",
              "8   Restaurant              44               3.928571   Different Sentiment\n",
              "9   Restaurant             352              31.428571       Unknown Targets\n",
              "10    Election              79               3.109012    Same One Sentiment\n",
              "11    Election            1454              57.221566  Same Multi Sentiment\n",
              "12    Election             592              23.297914     Similar Sentiment\n",
              "13    Election              62               2.439984   Different Sentiment\n",
              "14    Election             354              13.931523       Unknown Targets"
            ]
          },
          "metadata": {
            "tags": []
          },
          "execution_count": 13
        }
      ]
    },
    {
      "cell_type": "code",
      "metadata": {
        "id": "LabIe8cUFadn",
        "colab_type": "code",
        "outputId": "5c25e803-d3f5-4b09-82eb-f9e67e7a0af6",
        "colab": {
          "base_uri": "https://localhost:8080/",
          "height": 424
        }
      },
      "source": [
        "subset_dist_chart(fgtss_df, 'FGTSS in the Test data')"
      ],
      "execution_count": 0,
      "outputs": [
        {
          "output_type": "execute_result",
          "data": {
            "text/plain": [
              "alt.Chart(...)"
            ],
            "text/html": [
              "<!DOCTYPE html>\n",
              "<html>\n",
              "<head>\n",
              "  <style>\n",
              "    .vega-actions a {\n",
              "        margin-right: 12px;\n",
              "        color: #757575;\n",
              "        font-weight: normal;\n",
              "        font-size: 13px;\n",
              "    }\n",
              "    .error {\n",
              "        color: red;\n",
              "    }\n",
              "  </style>\n",
              "  <script type=\"text/javascript\" src=\"https://cdn.jsdelivr.net/npm//vega@5\"></script>\n",
              "  <script type=\"text/javascript\" src=\"https://cdn.jsdelivr.net/npm//vega-lite@3.4.0\"></script>\n",
              "  <script type=\"text/javascript\" src=\"https://cdn.jsdelivr.net/npm//vega-embed@4\"></script>\n",
              "</head>\n",
              "<body>\n",
              "  <div id=\"altair-viz\"></div>\n",
              "  <script>\n",
              "    (function(vegaEmbed) {\n",
              "      var spec = {\"config\": {\"view\": {\"width\": 400, \"height\": 300}, \"mark\": {\"tooltip\": null}}, \"data\": {\"name\": \"data-44cfff8dcb6e4073548f7c3aec9c126e\"}, \"mark\": \"bar\", \"encoding\": {\"color\": {\"type\": \"nominal\", \"field\": \"Data Subset\", \"scale\": {\"scheme\": \"redyellowblue\"}}, \"tooltip\": [{\"type\": \"quantitative\", \"field\": \"Number Samples\"}, {\"type\": \"nominal\", \"field\": \"Data Subset\"}, {\"type\": \"quantitative\", \"field\": \"Number of Samples (%)\"}], \"x\": {\"type\": \"nominal\", \"field\": \"Dataset\"}, \"y\": {\"type\": \"quantitative\", \"field\": \"Number of Samples (%)\", \"scale\": {\"domain\": [0, 100]}}}, \"title\": \"FGTSS in the Test data\", \"width\": 100, \"$schema\": \"https://vega.github.io/schema/vega-lite/v3.4.0.json\", \"datasets\": {\"data-44cfff8dcb6e4073548f7c3aec9c126e\": [{\"Dataset\": \"Laptop\", \"Number Samples\": 50, \"Number of Samples (%)\": 7.836990595611286, \"Data Subset\": \"Same One Sentiment\"}, {\"Dataset\": \"Laptop\", \"Number Samples\": 84, \"Number of Samples (%)\": 13.166144200626958, \"Data Subset\": \"Same Multi Sentiment\"}, {\"Dataset\": \"Laptop\", \"Number Samples\": 189, \"Number of Samples (%)\": 29.62382445141066, \"Data Subset\": \"Similar Sentiment\"}, {\"Dataset\": \"Laptop\", \"Number Samples\": 46, \"Number of Samples (%)\": 7.210031347962382, \"Data Subset\": \"Different Sentiment\"}, {\"Dataset\": \"Laptop\", \"Number Samples\": 269, \"Number of Samples (%)\": 42.16300940438871, \"Data Subset\": \"Unknown Targets\"}, {\"Dataset\": \"Restaurant\", \"Number Samples\": 45, \"Number of Samples (%)\": 4.017857142857143, \"Data Subset\": \"Same One Sentiment\"}, {\"Dataset\": \"Restaurant\", \"Number Samples\": 333, \"Number of Samples (%)\": 29.732142857142858, \"Data Subset\": \"Same Multi Sentiment\"}, {\"Dataset\": \"Restaurant\", \"Number Samples\": 346, \"Number of Samples (%)\": 30.892857142857146, \"Data Subset\": \"Similar Sentiment\"}, {\"Dataset\": \"Restaurant\", \"Number Samples\": 44, \"Number of Samples (%)\": 3.9285714285714284, \"Data Subset\": \"Different Sentiment\"}, {\"Dataset\": \"Restaurant\", \"Number Samples\": 352, \"Number of Samples (%)\": 31.428571428571427, \"Data Subset\": \"Unknown Targets\"}, {\"Dataset\": \"Election\", \"Number Samples\": 79, \"Number of Samples (%)\": 3.109012199921291, \"Data Subset\": \"Same One Sentiment\"}, {\"Dataset\": \"Election\", \"Number Samples\": 1454, \"Number of Samples (%)\": 57.2215663124754, \"Data Subset\": \"Same Multi Sentiment\"}, {\"Dataset\": \"Election\", \"Number Samples\": 592, \"Number of Samples (%)\": 23.297914207005118, \"Data Subset\": \"Similar Sentiment\"}, {\"Dataset\": \"Election\", \"Number Samples\": 62, \"Number of Samples (%)\": 2.4399842581660764, \"Data Subset\": \"Different Sentiment\"}, {\"Dataset\": \"Election\", \"Number Samples\": 354, \"Number of Samples (%)\": 13.931523022432113, \"Data Subset\": \"Unknown Targets\"}]}};\n",
              "      var embedOpt = {\"mode\": \"vega-lite\"};\n",
              "\n",
              "      function showError(el, error){\n",
              "          el.innerHTML = ('<div class=\"error\" style=\"color:red;\">'\n",
              "                          + '<p>JavaScript Error: ' + error.message + '</p>'\n",
              "                          + \"<p>This usually means there's a typo in your chart specification. \"\n",
              "                          + \"See the javascript console for the full traceback.</p>\"\n",
              "                          + '</div>');\n",
              "          throw error;\n",
              "      }\n",
              "      const el = document.getElementById('altair-viz');\n",
              "      vegaEmbed(\"#altair-viz\", spec, embedOpt)\n",
              "        .catch(error => showError(el, error));\n",
              "    })(vegaEmbed);\n",
              "\n",
              "  </script>\n",
              "</body>\n",
              "</html>"
            ]
          },
          "metadata": {
            "tags": []
          },
          "execution_count": 23
        }
      ]
    },
    {
      "cell_type": "markdown",
      "metadata": {
        "id": "4Hm2WhD0QkGj",
        "colab_type": "text"
      },
      "source": [
        "## Subsets based on the number of distinct sentiments in the sentence\n",
        "This is the only subset of data we are going to look at that relates to previous work. These subsets by [Wang et al, 2017](https://aclweb.org/anthology/E17-1046) called Distinct Sentiments (DS) are based on the number of distinct sentiments that are within a sentenc for example a sample would be DS 1 if the sample's text only contains one sentiment within it or DS 2 if it contains two sentiments.\n",
        "\n",
        "The premise of this is that the more distinct sentiments in the sentence that more difficult it is for the classifier as it has to disentangle the different sentiments that are associated to the different targets. Furthermore if the whole dataset is DS1 then a sentence based sentiment classifier would probably work quite well on this dataset, as it would not have to learn the target sentiment relation explictly.\n",
        "\n",
        "Below like the other subsets we retrieve the data and plot it for the: \n",
        "1. Test dataset.\n",
        "2. Train dataset.\n",
        "3. The combination of Train and Test datasets."
      ]
    },
    {
      "cell_type": "code",
      "metadata": {
        "id": "zQeJRfDBSHAt",
        "colab_type": "code",
        "colab": {
          "base_uri": "https://localhost:8080/",
          "height": 426
        },
        "outputId": "14aa0ef0-8fc8-4be5-b9ae-3520adc30990"
      },
      "source": [
        "from target_extraction.error_analysis import distinct_sentiment\n",
        "\n",
        "test_dataset_name = [(test, name) for train, test, name in train_test_datasets]\n",
        "train_and_test_name = [(TargetTextCollection.combine(train, test), name) \n",
        "                       for train, test, name in train_test_datasets]\n",
        "\n",
        "train_ds_df = get_distinct_data(train_dataset_name)\n",
        "test_ds_df = get_distinct_data(test_dataset_name)\n",
        "train_test_ds_df = get_distinct_data(train_and_test_name)\n",
        "\n",
        "train_ds_chart = subset_dist_chart(train_ds_df, \n",
        "                                   'Distinct Sentiment in the Train data')\n",
        "test_ds_chart = subset_dist_chart(test_ds_df, \n",
        "                                  'Distinct Sentiment in the Test data',\n",
        "                                  True)\n",
        "train_test_title = 'Distinct Sentiment in the combination of Train and'\\\n",
        "                   ' Test data'\n",
        "train_test_ds_chart = subset_dist_chart(train_test_ds_df, train_test_title,\n",
        "                                        True)\n",
        "\n",
        "train_ds_chart | test_ds_chart | train_test_ds_chart"
      ],
      "execution_count": 35,
      "outputs": [
        {
          "output_type": "execute_result",
          "data": {
            "text/plain": [
              "alt.HConcatChart(...)"
            ],
            "text/html": [
              "<!DOCTYPE html>\n",
              "<html>\n",
              "<head>\n",
              "  <style>\n",
              "    .vega-actions a {\n",
              "        margin-right: 12px;\n",
              "        color: #757575;\n",
              "        font-weight: normal;\n",
              "        font-size: 13px;\n",
              "    }\n",
              "    .error {\n",
              "        color: red;\n",
              "    }\n",
              "  </style>\n",
              "  <script type=\"text/javascript\" src=\"https://cdn.jsdelivr.net/npm//vega@5\"></script>\n",
              "  <script type=\"text/javascript\" src=\"https://cdn.jsdelivr.net/npm//vega-lite@3.4.0\"></script>\n",
              "  <script type=\"text/javascript\" src=\"https://cdn.jsdelivr.net/npm//vega-embed@4\"></script>\n",
              "</head>\n",
              "<body>\n",
              "  <div id=\"altair-viz\"></div>\n",
              "  <script>\n",
              "    (function(vegaEmbed) {\n",
              "      var spec = {\"config\": {\"view\": {\"width\": 400, \"height\": 300}, \"mark\": {\"tooltip\": null}}, \"hconcat\": [{\"data\": {\"name\": \"data-ff5ff4449a6cb13133515a325ed932ee\"}, \"mark\": \"bar\", \"encoding\": {\"color\": {\"type\": \"nominal\", \"field\": \"Data Subset\", \"scale\": {\"scheme\": \"redyellowblue\"}}, \"tooltip\": [{\"type\": \"quantitative\", \"field\": \"Number Samples\"}, {\"type\": \"nominal\", \"field\": \"Data Subset\"}, {\"type\": \"quantitative\", \"field\": \"Number of Samples (%)\"}], \"x\": {\"type\": \"nominal\", \"field\": \"Dataset\"}, \"y\": {\"type\": \"quantitative\", \"field\": \"Number of Samples (%)\", \"scale\": {\"domain\": [0, 100]}}}, \"title\": \"Distinct Sentiment in the Train data\", \"width\": 100}, {\"data\": {\"name\": \"data-b313cd99ed3832102d11211f262c376a\"}, \"mark\": \"bar\", \"encoding\": {\"color\": {\"type\": \"nominal\", \"field\": \"Data Subset\", \"scale\": {\"scheme\": \"redyellowblue\"}}, \"tooltip\": [{\"type\": \"quantitative\", \"field\": \"Number Samples\"}, {\"type\": \"nominal\", \"field\": \"Data Subset\"}, {\"type\": \"quantitative\", \"field\": \"Number of Samples (%)\"}], \"x\": {\"type\": \"nominal\", \"field\": \"Dataset\"}, \"y\": {\"type\": \"quantitative\", \"axis\": {\"labels\": true, \"ticks\": false, \"title\": null}, \"field\": \"Number of Samples (%)\", \"scale\": {\"domain\": [0, 100]}}}, \"title\": \"Distinct Sentiment in the Test data\", \"width\": 100}, {\"data\": {\"name\": \"data-7ef1dca2e1a4d5d9796dd626b934c39c\"}, \"mark\": \"bar\", \"encoding\": {\"color\": {\"type\": \"nominal\", \"field\": \"Data Subset\", \"scale\": {\"scheme\": \"redyellowblue\"}}, \"tooltip\": [{\"type\": \"quantitative\", \"field\": \"Number Samples\"}, {\"type\": \"nominal\", \"field\": \"Data Subset\"}, {\"type\": \"quantitative\", \"field\": \"Number of Samples (%)\"}], \"x\": {\"type\": \"nominal\", \"field\": \"Dataset\"}, \"y\": {\"type\": \"quantitative\", \"axis\": {\"labels\": true, \"ticks\": false, \"title\": null}, \"field\": \"Number of Samples (%)\", \"scale\": {\"domain\": [0, 100]}}}, \"title\": \"Distinct Sentiment in the combination of Train and Test data\", \"width\": 100}], \"$schema\": \"https://vega.github.io/schema/vega-lite/v3.4.0.json\", \"datasets\": {\"data-ff5ff4449a6cb13133515a325ed932ee\": [{\"Dataset\": \"Laptop\", \"Number Samples\": 1858, \"Number of Samples (%)\": 80.3285776048422, \"Data Subset\": \"DS 1\"}, {\"Dataset\": \"Laptop\", \"Number Samples\": 426, \"Number of Samples (%)\": 18.417639429312583, \"Data Subset\": \"DS 2\"}, {\"Dataset\": \"Laptop\", \"Number Samples\": 29, \"Number of Samples (%)\": 1.2537829658452226, \"Data Subset\": \"DS 3\"}, {\"Dataset\": \"Restaurant\", \"Number Samples\": 2662, \"Number of Samples (%)\": 73.90338700721821, \"Data Subset\": \"DS 1\"}, {\"Dataset\": \"Restaurant\", \"Number Samples\": 858, \"Number of Samples (%)\": 23.82009994447529, \"Data Subset\": \"DS 2\"}, {\"Dataset\": \"Restaurant\", \"Number Samples\": 82, \"Number of Samples (%)\": 2.2765130483064966, \"Data Subset\": \"DS 3\"}, {\"Dataset\": \"Election\", \"Number Samples\": 4131, \"Number of Samples (%)\": 44.14404787347724, \"Data Subset\": \"DS 1\"}, {\"Dataset\": \"Election\", \"Number Samples\": 4377, \"Number of Samples (%)\": 46.77281470399658, \"Data Subset\": \"DS 2\"}, {\"Dataset\": \"Election\", \"Number Samples\": 850, \"Number of Samples (%)\": 9.08313742252618, \"Data Subset\": \"DS 3\"}], \"data-b313cd99ed3832102d11211f262c376a\": [{\"Dataset\": \"Laptop\", \"Number Samples\": 535, \"Number of Samples (%)\": 83.85579937304075, \"Data Subset\": \"DS 1\"}, {\"Dataset\": \"Laptop\", \"Number Samples\": 94, \"Number of Samples (%)\": 14.733542319749215, \"Data Subset\": \"DS 2\"}, {\"Dataset\": \"Laptop\", \"Number Samples\": 9, \"Number of Samples (%)\": 1.4106583072100314, \"Data Subset\": \"DS 3\"}, {\"Dataset\": \"Restaurant\", \"Number Samples\": 892, \"Number of Samples (%)\": 79.64285714285714, \"Data Subset\": \"DS 1\"}, {\"Dataset\": \"Restaurant\", \"Number Samples\": 225, \"Number of Samples (%)\": 20.089285714285715, \"Data Subset\": \"DS 2\"}, {\"Dataset\": \"Restaurant\", \"Number Samples\": 3, \"Number of Samples (%)\": 0.26785714285714285, \"Data Subset\": \"DS 3\"}, {\"Dataset\": \"Election\", \"Number Samples\": 1164, \"Number of Samples (%)\": 45.80873671782763, \"Data Subset\": \"DS 1\"}, {\"Dataset\": \"Election\", \"Number Samples\": 1182, \"Number of Samples (%)\": 46.51711924439197, \"Data Subset\": \"DS 2\"}, {\"Dataset\": \"Election\", \"Number Samples\": 195, \"Number of Samples (%)\": 7.674144037780402, \"Data Subset\": \"DS 3\"}], \"data-7ef1dca2e1a4d5d9796dd626b934c39c\": [{\"Dataset\": \"Laptop\", \"Number Samples\": 2392, \"Number of Samples (%)\": 81.08474576271186, \"Data Subset\": \"DS 1\"}, {\"Dataset\": \"Laptop\", \"Number Samples\": 520, \"Number of Samples (%)\": 17.627118644067796, \"Data Subset\": \"DS 2\"}, {\"Dataset\": \"Laptop\", \"Number Samples\": 38, \"Number of Samples (%)\": 1.2881355932203389, \"Data Subset\": \"DS 3\"}, {\"Dataset\": \"Restaurant\", \"Number Samples\": 3554, \"Number of Samples (%)\": 75.26471833968658, \"Data Subset\": \"DS 1\"}, {\"Dataset\": \"Restaurant\", \"Number Samples\": 1083, \"Number of Samples (%)\": 22.935196950444727, \"Data Subset\": \"DS 2\"}, {\"Dataset\": \"Restaurant\", \"Number Samples\": 85, \"Number of Samples (%)\": 1.8000847098686996, \"Data Subset\": \"DS 3\"}, {\"Dataset\": \"Election\", \"Number Samples\": 5295, \"Number of Samples (%)\": 44.499537776283724, \"Data Subset\": \"DS 1\"}, {\"Dataset\": \"Election\", \"Number Samples\": 5559, \"Number of Samples (%)\": 46.71821161442138, \"Data Subset\": \"DS 2\"}, {\"Dataset\": \"Election\", \"Number Samples\": 1045, \"Number of Samples (%)\": 8.782250609294898, \"Data Subset\": \"DS 3\"}]}};\n",
              "      var embedOpt = {\"mode\": \"vega-lite\"};\n",
              "\n",
              "      function showError(el, error){\n",
              "          el.innerHTML = ('<div class=\"error\" style=\"color:red;\">'\n",
              "                          + '<p>JavaScript Error: ' + error.message + '</p>'\n",
              "                          + \"<p>This usually means there's a typo in your chart specification. \"\n",
              "                          + \"See the javascript console for the full traceback.</p>\"\n",
              "                          + '</div>');\n",
              "          throw error;\n",
              "      }\n",
              "      const el = document.getElementById('altair-viz');\n",
              "      vegaEmbed(\"#altair-viz\", spec, embedOpt)\n",
              "        .catch(error => showError(el, error));\n",
              "    })(vegaEmbed);\n",
              "\n",
              "  </script>\n",
              "</body>\n",
              "</html>"
            ]
          },
          "metadata": {
            "tags": []
          },
          "execution_count": 35
        }
      ]
    },
    {
      "cell_type": "markdown",
      "metadata": {
        "id": "LfGCO0JEFwrV",
        "colab_type": "text"
      },
      "source": [
        "As we can see only the election dataset would appear to have almost an equal split between 1 and 2 DS's but none of the three really have that many of the very difficult samples of DS 3 and again only the Election dataset does. Further more the Restaurant dataset almost has no DS 3 samples in the test dataset. However the representation of DS samples seem to be comparable in the train and test datasets for all of the datasets."
      ]
    }
  ]
}