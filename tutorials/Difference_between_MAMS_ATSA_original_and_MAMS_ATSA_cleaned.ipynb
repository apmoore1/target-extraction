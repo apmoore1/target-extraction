{
  "nbformat": 4,
  "nbformat_minor": 0,
  "metadata": {
    "colab": {
      "name": "Difference between MAMS ATSA original and MAMS ATSA cleaned.ipynb",
      "provenance": [],
      "collapsed_sections": [],
      "authorship_tag": "ABX9TyN56EjwFIuSrOXDeqevGmGD",
      "include_colab_link": true
    },
    "kernelspec": {
      "name": "python3",
      "display_name": "Python 3"
    }
  },
  "cells": [
    {
      "cell_type": "markdown",
      "metadata": {
        "id": "view-in-github",
        "colab_type": "text"
      },
      "source": [
        "<a href=\"https://colab.research.google.com/github/apmoore1/target-extraction/blob/master/tutorials/Difference_between_MAMS_ATSA_original_and_MAMS_ATSA_cleaned.ipynb\" target=\"_parent\"><img src=\"https://colab.research.google.com/assets/colab-badge.svg\" alt=\"Open In Colab\"/></a>"
      ]
    },
    {
      "cell_type": "code",
      "metadata": {
        "id": "9b6wYiOcsXso",
        "colab_type": "code",
        "colab": {}
      },
      "source": [
        "%%capture\n",
        "!pip install git+git://github.com/apmoore1/target-extraction.git@master#egg=target-extraction"
      ],
      "execution_count": 0,
      "outputs": []
    },
    {
      "cell_type": "markdown",
      "metadata": {
        "id": "Ir54IlFS0Du_",
        "colab_type": "text"
      },
      "source": [
        "# Difference between MAMS ATSA original and MAMS ATSA cleaned\n",
        "\n",
        "In this notebook we describe the subtle differences between the original MAMS ATSA from [Jiang et al. 2019](https://www.aclweb.org/anthology/D19-1654.pdf) and the cleaned version created from exploring the dataset within the Bella package. This is only for the Training split and the Validation and Test splits are have not changed from the original.\n",
        "\n",
        "Below we load both original and cleaned training sets:"
      ]
    },
    {
      "cell_type": "code",
      "metadata": {
        "id": "Iqoig0vQ0rCd",
        "colab_type": "code",
        "colab": {
          "base_uri": "https://localhost:8080/",
          "height": 51
        },
        "outputId": "ac0e4e9b-61d1-41bb-8707-11b6cdd580c9"
      },
      "source": [
        "from target_extraction.dataset_parsers import multi_aspect_multi_sentiment_atsa\n",
        "original_train = multi_aspect_multi_sentiment_atsa('train')\n",
        "original_train.name = 'MAMS Original (Train)'\n",
        "cleaned_train = multi_aspect_multi_sentiment_atsa('train', original=False)\n",
        "cleaned_train.name = 'MAMS Cleaned (Train)'"
      ],
      "execution_count": 2,
      "outputs": [
        {
          "output_type": "stream",
          "text": [
            "1641623B [00:00, 26758898.30B/s]         \n",
            "1641213B [00:00, 27689937.90B/s]         \n"
          ],
          "name": "stderr"
        }
      ]
    },
    {
      "cell_type": "markdown",
      "metadata": {
        "id": "89TLqDxK09pb",
        "colab_type": "text"
      },
      "source": [
        "After loading the datasets we report the dataset statistics below:"
      ]
    },
    {
      "cell_type": "code",
      "metadata": {
        "id": "5GWVSenU1CBB",
        "colab_type": "code",
        "colab": {
          "base_uri": "https://localhost:8080/",
          "height": 111
        },
        "outputId": "71c4f9d8-35b5-45c0-a064-328a4f50152e"
      },
      "source": [
        "from target_extraction.analysis.dataset_statistics import dataset_target_sentiment_statistics\n",
        "dataset_target_sentiment_statistics([original_train, cleaned_train],\n",
        "                                    dataframe_format=True)"
      ],
      "execution_count": 4,
      "outputs": [
        {
          "output_type": "execute_result",
          "data": {
            "text/html": [
              "<div>\n",
              "<style scoped>\n",
              "    .dataframe tbody tr th:only-of-type {\n",
              "        vertical-align: middle;\n",
              "    }\n",
              "\n",
              "    .dataframe tbody tr th {\n",
              "        vertical-align: top;\n",
              "    }\n",
              "\n",
              "    .dataframe thead th {\n",
              "        text-align: right;\n",
              "    }\n",
              "</style>\n",
              "<table border=\"1\" class=\"dataframe\">\n",
              "  <thead>\n",
              "    <tr style=\"text-align: right;\">\n",
              "      <th></th>\n",
              "      <th>Name</th>\n",
              "      <th>No. Sentences</th>\n",
              "      <th>No. Sentences(t)</th>\n",
              "      <th>No. Targets</th>\n",
              "      <th>No. Uniq Targets</th>\n",
              "      <th>ATS</th>\n",
              "      <th>ATS(t)</th>\n",
              "      <th>TL 1 %</th>\n",
              "      <th>TL 2 %</th>\n",
              "      <th>TL 3+ %</th>\n",
              "      <th>Mean Sentence Length</th>\n",
              "      <th>Mean Sentence Length(t)</th>\n",
              "      <th>POS (%)</th>\n",
              "      <th>NEU (%)</th>\n",
              "      <th>NEG (%)</th>\n",
              "    </tr>\n",
              "  </thead>\n",
              "  <tbody>\n",
              "    <tr>\n",
              "      <th>0</th>\n",
              "      <td>MAMS Original (Train)</td>\n",
              "      <td>4297</td>\n",
              "      <td>4297</td>\n",
              "      <td>11186</td>\n",
              "      <td>2410</td>\n",
              "      <td>2.6</td>\n",
              "      <td>2.6</td>\n",
              "      <td>82.15</td>\n",
              "      <td>11.56</td>\n",
              "      <td>6.29</td>\n",
              "      <td>26.27</td>\n",
              "      <td>26.27</td>\n",
              "      <td>3380 (30.22)</td>\n",
              "      <td>5042 (45.07)</td>\n",
              "      <td>2764 (24.71)</td>\n",
              "    </tr>\n",
              "    <tr>\n",
              "      <th>1</th>\n",
              "      <td>MAMS Cleaned (Train)</td>\n",
              "      <td>4297</td>\n",
              "      <td>4297</td>\n",
              "      <td>11180</td>\n",
              "      <td>2406</td>\n",
              "      <td>2.6</td>\n",
              "      <td>2.6</td>\n",
              "      <td>82.17</td>\n",
              "      <td>11.53</td>\n",
              "      <td>6.30</td>\n",
              "      <td>26.27</td>\n",
              "      <td>26.27</td>\n",
              "      <td>3379 (30.22)</td>\n",
              "      <td>5038 (45.06)</td>\n",
              "      <td>2763 (24.71)</td>\n",
              "    </tr>\n",
              "  </tbody>\n",
              "</table>\n",
              "</div>"
            ],
            "text/plain": [
              "                    Name  No. Sentences  ...       NEU (%)       NEG (%)\n",
              "0  MAMS Original (Train)           4297  ...  5042 (45.07)  2764 (24.71)\n",
              "1   MAMS Cleaned (Train)           4297  ...  5038 (45.06)  2763 (24.71)\n",
              "\n",
              "[2 rows x 15 columns]"
            ]
          },
          "metadata": {
            "tags": []
          },
          "execution_count": 4
        }
      ]
    },
    {
      "cell_type": "markdown",
      "metadata": {
        "id": "P6isEVQs1Rfy",
        "colab_type": "text"
      },
      "source": [
        "As can be seen the only difference being we have 6 fewer samples/targets.\n",
        "\n",
        "The reason for these differences is due to overlapping targets in the original dataset which can be seen below:"
      ]
    },
    {
      "cell_type": "code",
      "metadata": {
        "id": "U2BrkjQTsYOq",
        "colab_type": "code",
        "colab": {
          "base_uri": "https://localhost:8080/",
          "height": 527
        },
        "outputId": "c54bc0c8-36c6-41ea-e45a-ebe8a12d861b"
      },
      "source": [
        "from target_extraction.tokenizers import spacy_tokenizer\n",
        "original_train.tokenize(spacy_tokenizer())\n",
        "sequence_errors = original_train.sequence_labels(return_errors=True)\n",
        "\n",
        "for error in sequence_errors:\n",
        "  _id = error['text_id']\n",
        "  text = error['text']\n",
        "  targets = error['targets']\n",
        "  spans = error['spans']\n",
        "  print(f'ID of error {_id}')\n",
        "  print(f'targets {targets}')\n",
        "  print(f'target spans {spans}')\n",
        "  print(f'text {text}\\n')"
      ],
      "execution_count": 6,
      "outputs": [
        {
          "output_type": "stream",
          "text": [
            "ID of error train$1191\n",
            "targets ['beer selection', 'beer s']\n",
            "target spans [Span(start=12, end=26), Span(start=12, end=18)]\n",
            "text I liked the beer selection!\n",
            "\n",
            "ID of error train$1203\n",
            "targets ['table space', 'water', 'patrons waiting', 'table s']\n",
            "target spans [Span(start=3, end=14), Span(start=113, end=118), Span(start=147, end=162), Span(start=3, end=10)]\n",
            "text No table space and one of the angry neighbors decided to take matters into his own hands by throwing a bucket of water out his window and onto the patrons waiting for their tables.\n",
            "\n",
            "ID of error train$2385\n",
            "targets ['appetizer', 'fritas', 'spicy shrimp with coconut rice', 'coconut', 'dessert tres leches de mango with calle']\n",
            "target spans [Span(start=4, end=13), Span(start=21, end=27), Span(start=47, end=77), Span(start=65, end=72), Span(start=131, end=170)]\n",
            "text The appetizer, conch fritas was yummy; entree, spicy shrimp with coconut rice (just a hint of coconut - not overwhelming); and the dessert tres leches de mango with calle ocho cafe was unbelievable!\n",
            "\n",
            "ID of error train$2645\n",
            "targets ['quality pizza', 'pizza']\n",
            "target spans [Span(start=56, end=69), Span(start=64, end=69)]\n",
            "text What I can say is that it was definitely some very good quality pizza, no matter what area of the world/style of pizza you are used to.\n",
            "\n",
            "ID of error train$3865\n",
            "targets ['w/ red clam sauce', 'pasta', 'clam s']\n",
            "target spans [Span(start=28, end=45), Span(start=51, end=56), Span(start=35, end=41)]\n",
            "text For dinner I order linguine w/ red clam sauce, the pasta was perfect and the sauce was flavorful but the clams tasted funny so I ate around them.\n",
            "\n",
            "ID of error train$3903\n",
            "targets ['scallion pancakes', 'beet salad', 'beet s', 'majority', 'dishes', 'showcasing vegetables']\n",
            "target spans [Span(start=7, end=24), Span(start=48, end=58), Span(start=48, end=54), Span(start=84, end=92), Span(start=96, end=102), Span(start=121, end=142)]\n",
            "text Gobo's scallion pancakes are a bit dry, and the beet salad is low on beets, but the majority of dishes, especially those showcasing vegetables, are delicious in their simplicity.\n",
            "\n"
          ],
          "name": "stdout"
        }
      ]
    },
    {
      "cell_type": "markdown",
      "metadata": {
        "id": "mQ-A9eGR2N93",
        "colab_type": "text"
      },
      "source": [
        "As can be seen above for each TargetText there are two targets that overlap each other with respect to the Span of the text the target came from. e.g. in example 1 the targets are `targets ['beer selection', 'beer s']` of which it does not make sense to have two spans that cover the same target and in this case `beer s` appears to be an annotation mistake.\n",
        "\n",
        "The cleaned version removes the following targets that are believed to be annotation mistakes:\n",
        "1. ID `train$1191` removed `beer s`\n",
        "2. ID `train$1203` removed `table s`\n",
        "3. ID `train$2385` removed `coconut`\n",
        "4. ID `train$2645` removed `pizza`\n",
        "5. ID `train$3865` removed `clam s`\n",
        "6. ID `train$3903` removed `beet s`"
      ]
    },
    {
      "cell_type": "code",
      "metadata": {
        "id": "TCREeqkR2K2n",
        "colab_type": "code",
        "colab": {}
      },
      "source": [
        ""
      ],
      "execution_count": 0,
      "outputs": []
    }
  ]
}